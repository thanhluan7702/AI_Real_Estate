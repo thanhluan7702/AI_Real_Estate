{
 "cells": [
  {
   "cell_type": "code",
   "execution_count": 1,
   "id": "e4f6f13a",
   "metadata": {},
   "outputs": [],
   "source": [
    "## import library \n",
    "from selenium import webdriver\n",
    "from selenium.webdriver.common.by import By\n",
    "from selenium.webdriver.chrome.options import Options\n",
    "from bs4 import BeautifulSoup\n",
    "\n",
    "import re\n",
    "\n",
    "import json     \n",
    "import time \n",
    "from datetime import date\n",
    "import os \n",
    "import warnings\n",
    "warnings.filterwarnings('ignore')\n",
    "\n",
    "import psycopg2\n",
    "import os"
   ]
  },
  {
   "cell_type": "code",
   "execution_count": 2,
   "id": "761975fc",
   "metadata": {},
   "outputs": [],
   "source": [
    "flatform = 'batdongsan'\n",
    "today = date.today() \n",
    "name = 'huong'\n",
    "order = 0\n",
    "\n",
    "path_txt = f'd:/DUE/AI_Real_Estate/data/source/{flatform}/{today}'\n",
    "\n",
    "try:\n",
    "    os.mkdir(path_txt)\n",
    "except:\n",
    "    pass "
   ]
  },
  {
   "cell_type": "code",
   "execution_count": 3,
   "id": "87b062cf",
   "metadata": {},
   "outputs": [],
   "source": [
    "## attribute for selenium\n",
    "opt = Options()\n",
    "opt.add_argument(\"--disable-infobars\")\n",
    "opt.add_argument(\"start-maximized\")\n",
    "opt.add_argument(\"--disable-extensions\")\n",
    "opt.add_argument(\"--disable-notifications\")\n",
    "opt.add_argument(\"--disable-gpu\")\n",
    "# opt.add_argument(\"--headless\")\n",
    "opt.add_experimental_option(\"prefs\", { \\\n",
    "    \"profile.default_content_setting_values.media_stream_mic\": 1,       \n",
    "    \"profile.default_content_setting_values.media_stream_camera\": 1,\n",
    "    \"profile.default_content_setting_values.geolocation\": 1, \n",
    "    \"profile.default_content_setting_values.notifications\": 1 \n",
    "  })\n"
   ]
  },
  {
   "cell_type": "code",
   "execution_count": 4,
   "id": "e3043fae",
   "metadata": {},
   "outputs": [],
   "source": [
    "## define function \n",
    "def create_driver(): \n",
    "    driver = webdriver.Chrome(options = opt)\n",
    "    return driver\n",
    "\n",
    "def count_page(url): \n",
    "    driver = create_driver()\n",
    "    driver.get(url)\n",
    "    return int(driver.find_elements(By.CLASS_NAME, 're__pagination-number')[-1].text.replace('.', ''))\n",
    "\n",
    "def collect_item(driver, part):\n",
    "    lst_url = []\n",
    "    if part == 'du-an-bat-dong-san': \n",
    "        driver.execute_script(\"window.scrollBy(0, 100);\")\n",
    "        lst_items = driver.find_elements(By.CLASS_NAME, 'js__project-card.js__card-project-web.re__prj-card-full')\n",
    "        for item in lst_items: \n",
    "            lst_url.append(item.find_element(By.TAG_NAME, 'a').get_attribute('href'))\n",
    "    else:\n",
    "        lst_items = driver.find_element(By.ID, 'product-lists-web').find_elements(By.CLASS_NAME, 'js__product-link-for-product-id')\n",
    "        for item in lst_items: \n",
    "            lst_url.append(item.get_attribute('href'))\n",
    "    \n",
    "    return lst_url\n",
    "\n",
    "def save_html(page_source, post_id):    \n",
    "    html = BeautifulSoup(page_source, 'html5lib').find('div', class_ = 're__pr-info pr-info js__product-detail-web').prettify()\n",
    "    \n",
    "    name_txt = f'{path_txt}/{post_id}.txt'\n",
    "    with open(name_txt, \"w\", encoding = 'utf-8') as f:\n",
    "        f.write(html)\n",
    "    return\n",
    "\n",
    "def crawl_data(driver, news_type): \n",
    "    record = {}\n",
    "    \n",
    "#     post_id = driver.current_url.split('-')[-1].split('pr')[1]\n",
    "    post_id = driver.current_url.split('-')[-1]\n",
    "    post_id = re.sub(r'\\D', '', post_id)\n",
    "    \n",
    "    record['post_id'] = post_id\n",
    "    record['Loại tin'] = news_type\n",
    "    record['Tiêu đề'] = driver.find_element(By.TAG_NAME, 'h1').text.strip() \n",
    "    record['Địa chỉ'] = driver.find_element(By.CLASS_NAME, 're__pr-short-description.js__pr-address').text.strip()\n",
    "    record['Mô tả'] = driver.find_element(By.CLASS_NAME, 're__section-body.re__detail-content.js__section-body.js__pr-description.js__tracking').text.strip()\n",
    "    \n",
    "    keys = [i.text for i in driver.find_elements(By.CLASS_NAME, 're__pr-specs-content-item-title')]\n",
    "    values = [i.text for i in driver.find_elements(By.CLASS_NAME, 're__pr-specs-content-item-value')]\n",
    "    for key, value in zip(keys, values): \n",
    "        record[key.strip()] = value.strip()\n",
    "    \n",
    "    record['URL'] = driver.current_url\n",
    "    record['date'] = str(today)\n",
    "    \n",
    "    try:\n",
    "        tracking_id = \"user-listing-ldp\" \n",
    "        contact = driver.find_element(By.CSS_SELECTOR, f\"[tracking-id='{tracking_id}']\")\n",
    "        record['Liên hệ'] = contact.text.strip()\n",
    "        record['card_visit'] = contact.get_attribute(\"href\")\n",
    "    except :\n",
    "        pass\n",
    "    \n",
    "    save_html(driver.page_source, post_id)\n",
    "    \n",
    "    return record\n",
    "\n",
    "def process(news_type, part, iter = None):\n",
    "    lst_data = []\n",
    "    \n",
    "    if iter == None: \n",
    "        print('No data in crawling process!')\n",
    "        return\n",
    "    \n",
    "    for id_page in range(1,15):  #limit page  \n",
    "    # for id_page in range(1, iter):    \n",
    "        driver = create_driver()\n",
    "        url = f'https://batdongsan.com.vn/{part}-da-nang/p{id_page}'\n",
    "        print(f'Handling on page {id_page}')\n",
    "        driver.get(url)\n",
    "        lst_url = collect_item(driver, part)\n",
    "        driver.quit()\n",
    "        \n",
    "        for url in lst_url: \n",
    "            print(f'Crawling on {url}')\n",
    "            \n",
    "            bot = create_driver()\n",
    "            bot.get(url)\n",
    "            record = crawl_data(bot, news_type)\n",
    "            lst_data.append(record)\n",
    "            bot.quit()\n",
    "    return lst_data"
   ]
  },
  {
   "cell_type": "code",
   "execution_count": 5,
   "id": "3301cccc",
   "metadata": {
    "scrolled": true
   },
   "outputs": [
    {
     "name": "stdout",
     "output_type": "stream",
     "text": [
      "Crawling with Nhà đất bán type\n",
      "list index out of range\n"
     ]
    }
   ],
   "source": [
    "## crawling \n",
    "name_file = f'd:/DUE/AI_Real_Estate/data/record/{flatform}/{today}'\n",
    "exist_data = [] \n",
    "\n",
    "try:\n",
    "    os.mkdir(name_file)\n",
    "except:\n",
    "    pass \n",
    "\n",
    "exist_data = []     \n",
    "try:\n",
    "    with open(f'{name_file}/{name}_{order}.json', \"r\", encoding=\"utf-8\") as file:\n",
    "        exist_data = json.load(file)\n",
    "except FileNotFoundError:\n",
    "    pass\n",
    "\n",
    "types_news = {'Nhà đất bán' : 'nha-dat-ban', 'Nhà đất cho thuê' : 'nha-dat-cho-thue'}\n",
    "# types_news = {'Nhà đất bán' : 'nha-dat-ban'}\n",
    "\n",
    "try: \n",
    "    for type, part in types_news.items(): \n",
    "        print(f'Crawling with {type} type')\n",
    "        \n",
    "        number_of_pages = count_page(f'https://batdongsan.com.vn/{part}-da-nang/p1')\n",
    "        print(f'Have {number_of_pages} pages on website')\n",
    "        \n",
    "        exist_data += process(type, part, number_of_pages)\n",
    "except Exception as e: \n",
    "    print(e)\n",
    "    \n",
    "\n",
    "# with open(f'{name_file}/{name}_{order}.json', \"w\", encoding=\"utf-8\") as json_file:\n",
    "#     json.dump(exist_data, json_file, ensure_ascii=False, indent=4)"
   ]
  },
  {
   "cell_type": "code",
   "execution_count": 6,
   "id": "1b4c8a8c",
   "metadata": {},
   "outputs": [
    {
     "data": {
      "text/plain": [
       "[]"
      ]
     },
     "execution_count": 6,
     "metadata": {},
     "output_type": "execute_result"
    }
   ],
   "source": [
    "exist_data"
   ]
  },
  {
   "cell_type": "code",
   "execution_count": 7,
   "id": "4df24344",
   "metadata": {},
   "outputs": [],
   "source": [
    "with open(f'{name_file}/{name}_{order}.json', \"w\", encoding=\"utf-8\") as json_file:\n",
    "    json.dump(exist_data, json_file, ensure_ascii=False, indent=4)"
   ]
  },
  {
   "cell_type": "code",
   "execution_count": 8,
   "id": "bc5808b7",
   "metadata": {},
   "outputs": [],
   "source": [
    "# def connect_to_database(database, user, password, host, port):\n",
    "#     try:\n",
    "#         connection = psycopg2.connect(\n",
    "#             database=database,\n",
    "#             user=user,\n",
    "#             password=password,\n",
    "#             host=host,\n",
    "#             port=port\n",
    "#         )\n",
    "#         print(\"Connected to the database\")\n",
    "#         return connection\n",
    "#     except psycopg2.Error as e:\n",
    "#         print(f\"Error: Unable to connect to the database\\n{e}\")\n",
    "#         return None\n",
    "\n",
    "# def close_connection(connection, cursor):\n",
    "#     if connection:\n",
    "#         connection.close()\n",
    "#         print(\"Connection closed\")\n",
    "#     if cursor:\n",
    "#         cursor.close()\n",
    "        \n",
    "# def insert_data(data, conn, cursor, table_name, on_conflict = 'ON CONFLICT (post_id) DO NOTHING'):\n",
    "#     for row in data:\n",
    "#         columns = ', '.join(f'\"{col}\"' for col in row.keys())\n",
    "#         values = ', '.join(['%s'] * len(row))\n",
    "#         insert_query = f'INSERT INTO {table_name} ({columns}) VALUES ({values}) {on_conflict}'\n",
    "#         cursor.execute(insert_query, tuple(row.values()))\n",
    "\n",
    "#     conn.commit()"
   ]
  },
  {
   "cell_type": "code",
   "execution_count": 9,
   "id": "0b30cf5b",
   "metadata": {},
   "outputs": [],
   "source": [
    "# database_name = \"AI_Real_Estate\"\n",
    "# username = \"postgres\"\n",
    "# password = \"postgres01\"\n",
    "# host = \"localhost\"\n",
    "# port = 5432\n",
    "\n",
    "# conn = connect_to_database(database_name, username, password, host, port)\n",
    "# cursor = conn.cursor()"
   ]
  },
  {
   "cell_type": "code",
   "execution_count": 10,
   "id": "527e744c",
   "metadata": {},
   "outputs": [],
   "source": [
    "# insert_data(exist_data, conn, cursor, 'batdongsan')"
   ]
  },
  {
   "cell_type": "code",
   "execution_count": 11,
   "id": "b9717536",
   "metadata": {},
   "outputs": [],
   "source": [
    "# close_connection(conn, cursor)"
   ]
  },
  {
   "cell_type": "code",
   "execution_count": null,
   "id": "55491720",
   "metadata": {},
   "outputs": [],
   "source": []
  }
 ],
 "metadata": {
  "kernelspec": {
   "display_name": "Python 3",
   "language": "python",
   "name": "python3"
  },
  "language_info": {
   "codemirror_mode": {
    "name": "ipython",
    "version": 3
   },
   "file_extension": ".py",
   "mimetype": "text/x-python",
   "name": "python",
   "nbconvert_exporter": "python",
   "pygments_lexer": "ipython3",
   "version": "3.8.2"
  }
 },
 "nbformat": 4,
 "nbformat_minor": 5
}
