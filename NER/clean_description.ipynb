{
 "cells": [
  {
   "cell_type": "markdown",
   "id": "93ffe673",
   "metadata": {},
   "source": [
    "# Import library"
   ]
  },
  {
   "cell_type": "code",
   "execution_count": 110,
   "id": "74c9dab0",
   "metadata": {},
   "outputs": [],
   "source": [
    "import pandas as pd\n",
    "import re\n",
    "import numpy as np\n",
    "\n",
    "#library that contains punctuation\n",
    "import string\n",
    "string.punctuation\n",
    "import demoji\n",
    "\n",
    "import unicodedata"
   ]
  },
  {
   "cell_type": "markdown",
   "id": "42ca1bd3",
   "metadata": {},
   "source": [
    "# Import data"
   ]
  },
  {
   "cell_type": "code",
   "execution_count": 100,
   "id": "90c28d59",
   "metadata": {},
   "outputs": [],
   "source": [
    "df=pd.read_csv('data_10.csv')"
   ]
  },
  {
   "cell_type": "code",
   "execution_count": 101,
   "id": "a204412c",
   "metadata": {},
   "outputs": [
    {
     "data": {
      "text/plain": [
       "Index(['Unnamed: 0', 'Mô tả', 'text_cleaned'], dtype='object')"
      ]
     },
     "execution_count": 101,
     "metadata": {},
     "output_type": "execute_result"
    }
   ],
   "source": [
    "df.columns"
   ]
  },
  {
   "cell_type": "code",
   "execution_count": 102,
   "id": "7dd434b0",
   "metadata": {},
   "outputs": [
    {
     "data": {
      "text/plain": [
       "(100, 3)"
      ]
     },
     "execution_count": 102,
     "metadata": {},
     "output_type": "execute_result"
    }
   ],
   "source": [
    "df.shape"
   ]
  },
  {
   "cell_type": "markdown",
   "id": "b4e5d8d1",
   "metadata": {},
   "source": [
    "# Mô tả"
   ]
  },
  {
   "cell_type": "code",
   "execution_count": 111,
   "id": "7f69a63e",
   "metadata": {},
   "outputs": [],
   "source": [
    "def clean_description(text):\n",
    "    text = unicodedata.normalize('NFKC', text)\n",
    "    text = text.lower()\n",
    "    \n",
    "    text = demoji.replace(text, \" \").strip()\n",
    "    \n",
    "    pattern = re.compile(r'(\\d+)\\s*m²')\n",
    "    text = re.sub(pattern, r'\\1 m2', text)\n",
    "    \n",
    "    text = re.sub(r'[^\\w\\s.,()/*]', ' ', text).strip()\n",
    "    text=text.replace(\"*\",' * ').replace('_',' ').strip()\n",
    "    text = re.sub(r'(?<=\\S)x(?=\\S)', ' x ', text)\n",
    "    text=text.replace('\\n', ' ').strip()\n",
    "    text_leaned = re.sub(r'\\s+', ' ', text).strip()\n",
    "    return text_leaned"
   ]
  },
  {
   "cell_type": "code",
   "execution_count": 112,
   "id": "586ec3ca",
   "metadata": {},
   "outputs": [],
   "source": [
    "# text=\"\"\"📌📌 Chính chủ Gởi bán nhà 3 tầng sau lưng nhà mặt tiền Hà Huy Tập cách đường 10m. ( Ai Có Oto Thì Đậu Ngày Đêm Thoải Mái\n",
    "# 𝐂𝐇𝐔𝐘𝐄̂𝐍 𝐌𝐔𝐀 𝐁𝐀́𝐍 - 𝐂𝐇𝐎 𝐓𝐇𝐔𝐄̂ 𝐁đ𝐒 đ𝐀̀ 𝐍𝐀̆̃𝐍𝐆 - 𝐇𝐎̣̂𝐈 𝐀𝐍 - 𝐍𝐇𝐀 𝐓𝐑𝐀𝐍𝐆🔰 đ𝐀̂́𝐓 𝐁𝐈𝐄̂̉𝐍, 𝐓𝐎𝐀̀ 𝐊𝐇𝐀́𝐂𝐇 𝐒𝐀̣𝐍, 𝐓𝐎𝐀̀ 𝐂𝐀̆𝐍 𝐇𝐎̣̂ \n",
    "# quận sơn trà - ngũ hành sơn, tp đà nẵng 🔰 hỗ trợ xin giấy phép, hoàn công tài sản🔰 địa chỉ văn phòng số 48 phan liêm, \n",
    "# phường mỹ an, quận ngũ hành sơn, đà nẵng________________𝐇𝐨̛𝐧 𝐭𝐡𝐞̂́ 𝐧𝐮̛̃𝐚, 𝐕𝐚̆𝐧 𝐩𝐡𝐨̀𝐧𝐠 𝐠𝐢𝐚𝐨 𝐝𝐢̣𝐜𝐡 𝐜𝐡𝐮́𝐧𝐠 𝐭𝐨̂𝐢 𝐜𝐨̀𝐧 𝐡𝐨̛𝐧 \n",
    "# 𝟏𝟎𝟎 𝐤𝐡𝐚́𝐜𝐡 𝐬𝐚̣𝐧 𝐭𝐫𝐢𝐞̣̂𝐮 đ𝐨̂ 𝐩𝐡𝐚̂𝐧 𝐤𝐡𝐮́𝐜 𝐭𝐮̛̀ 𝟐 𝐬𝐚𝐨 đ𝐞̂́𝐧 𝟓 𝐬𝐚𝐨, 𝐭𝐚̀𝐢 𝐜𝐡𝐢́𝐧𝐡 𝐭𝐮̛̀ 𝟑𝟎 𝐭𝐲̉ đ𝐞̂́𝐧 𝟑𝟎𝟎𝟎 𝐭𝐲̉ 𝐜𝐚̂̀𝐧 𝐜𝐡𝐮𝐲𝐞̂̉𝐧 𝐧𝐡𝐮̛𝐨̛̣𝐧𝐠 𝐯𝐨̛́𝐢 𝐦𝐮̛́𝐜 𝐠𝐢𝐚́ \n",
    "# 𝐠𝐢𝐚̉𝐦 𝐬𝐚̂𝐮 𝐯𝐢̀ 𝐝𝐢̣𝐜𝐡 𝐜𝐨𝐯𝐢𝐝, 𝐩𝐡𝐚́𝐩 𝐥𝐲́ 𝐚𝐧 𝐭𝐨𝐚̀𝐧, 𝐯𝐢̣ 𝐭𝐫𝐢́ đ𝐚̆́𝐜 đ𝐢̣𝐚.𝐐𝐮𝐲́ 𝐧𝐡𝐚̀ đ𝐚̂̀𝐮 𝐭𝐮̛ 𝐡𝐚̃𝐲 𝐥𝐢𝐞̂𝐧 𝐡𝐞̣̂ 𝐯𝐨̛́𝐢 𝐭𝐨̂𝐢 𝐪𝐮𝐚 𝐒đ𝐓 𝐛𝐞̂𝐧 𝐝𝐮̛𝐨̛́𝐢 đ𝐞̂̉ đ𝐮̛𝐨̛̣𝐜 \n",
    "# 𝐤𝐞̂́𝐭 𝐧𝐨̂́𝐢 𝐭𝐡𝐮̛𝐨̛𝐧𝐠 𝐥𝐮̛𝐨̛̣𝐧𝐠 𝐥𝐚̀𝐦 𝐯𝐢𝐞̣̂𝐜 𝐯𝐨̛́𝐢 𝐜𝐡𝐮̉ đ𝐚̂̀𝐮 𝐭𝐮̛.👉🏼 𝑋𝐸𝑀 𝑇𝐻𝐸̂𝑀 𝑛ℎ𝑖𝑒̂̀𝑢 𝑘ℎ𝑎́𝑐ℎ 𝑠𝑎̣𝑛 𝑘ℎ𝑎́𝑐 𝑏𝑎̆̀𝑛𝑔 𝑐𝑎́𝑐ℎ 𝐶𝐿𝐼𝐶𝐾 𝑣𝑎̀𝑜 𝑥𝑒𝑚 𝑐𝑎́𝑐 𝑡𝑖𝑛 đ𝑎̆𝑛𝑔 \n",
    "# 𝑘ℎ𝑎́𝑐𝐵𝑖𝑒̂́𝑡 𝑜̛𝑛 𝑣𝑖̀ 𝑡ℎ𝑜̛̀𝑖 𝑔𝑖𝑎𝑛 𝑐𝑢̉𝑎 𝑞𝑢𝑦́ 𝑛ℎ𝑎̀ đ𝑎̂̀𝑢 𝑡𝑢̛.\n",
    "# +0to đậu đỗ ngoài đường 24/24\n",
    "# 📌📌Nhà công Năng gồm 2pn . 2wc. _phòng thờ ,sân phơi ,sân để xe .-đầy đủ tiện ích xung quanh....Để lại nội thất cơ bản gắn tường\n",
    "\n",
    "# -Diện tích :52m2 (15*25) (2x4) 500 m² hoặc  500m²\n",
    "# 📌📌Hướng : Đông Nam\n",
    "# 📌📌Giá:2ty550TL (Hổ trợ ngân hàng)\n",
    "# ☎️☎️*** Gặp Hưng Làm Việc \"\"\""
   ]
  },
  {
   "cell_type": "code",
   "execution_count": 113,
   "id": "91ccf302",
   "metadata": {},
   "outputs": [],
   "source": [
    "# text=clean_description(text)"
   ]
  },
  {
   "cell_type": "code",
   "execution_count": 114,
   "id": "869e0f0c",
   "metadata": {},
   "outputs": [
    {
     "data": {
      "text/plain": [
       "'chính chủ gởi bán nhà 3 tầng sau lưng nhà mặt tiền hà huy tập cách đường 10m. ( ai có oto thì đậu ngày đêm thoải mái chuyên mua bán cho thuê bđs đà nẵng hội an nha trang đất biển, toà khách sạn, toà căn hộ quận sơn trà ngũ hành sơn, tp đà nẵng hỗ trợ xin giấy phép, hoàn công tài sản địa chỉ văn phòng số 48 phan liêm, phường mỹ an, quận ngũ hành sơn, đà nẵng hơn thế nữa, văn phòng giao dịch chúng tôi còn hơn 100 khách sạn triệu đô phân khúc từ 2 sao đến 5 sao, tài chính từ 30 tỷ đến 3000 tỷ cần chuyển nhượng với mức giá giảm sâu vì dịch covid, pháp lý an toàn, vị trí đắc địa.quý nhà đầu tư hãy liên hệ với tôi qua sđt bên dưới để được kết nối thương lượng làm việc với chủ đầu tư. xem thêm nhiều khách sạn khác bằng cách click vào xem các tin đăng khácbiết ơn vì thời gian của quý nhà đầu tư. 0to đậu đỗ ngoài đường 24/24 nhà công năng gồm 2pn . 2wc. phòng thờ ,sân phơi ,sân để xe . đầy đủ tiện ích xung quanh....để lại nội thất cơ bản gắn tường diện tích 52m2 (15 * 25) (2 x 4) 500 m2 hoặc 500m2 hướng đông nam giá 2ty550tl (hổ trợ ngân hàng) * * * gặp hưng làm việc'"
      ]
     },
     "execution_count": 114,
     "metadata": {},
     "output_type": "execute_result"
    }
   ],
   "source": [
    "# text"
   ]
  },
  {
   "cell_type": "code",
   "execution_count": 107,
   "id": "0d868a73",
   "metadata": {},
   "outputs": [],
   "source": [
    "df['text_cleaned'] = df['Mô tả'].apply(clean_description)"
   ]
  },
  {
   "cell_type": "code",
   "execution_count": 108,
   "id": "e1edf07e",
   "metadata": {},
   "outputs": [
    {
     "data": {
      "text/plain": [
       "<bound method NDFrame.head of     Unnamed: 0                                              Mô tả  \\\n",
       "0            0  (p013) 🏠 bán nhà mặt tiền đường huỳnh ngọc đủ,...   \n",
       "1            1  (p010) 🏠 bán nhà mặt tiền đường trân cao vân, ...   \n",
       "2            2  (p008) một căn nhà mặt tiền đẹp tại vị trí đắc...   \n",
       "3            3  (p009) 🏠 bán nhà mặt tiền đường nguyễn nhược p...   \n",
       "4            4  bán nhà đường bình hòa 4, phường khuê trung, q...   \n",
       "..         ...                                                ...   \n",
       "95          95  hot hot hot￼nhà 2 tầng lê chân gần đỗ anh hàn9...   \n",
       "96          96  chính chủ cần bán.căn nhà mê lững.102m2. ngang...   \n",
       "97          97  bán nhà cấp bốn.gần bờ sông hàn phương nại hiê...   \n",
       "98          98  bán các khách sạn tại đà nẵng.a . đà nẵng1. kh...   \n",
       "99          99  💥bán gấp nhà 4tầng đường tống phước phổ, hòa c...   \n",
       "\n",
       "                                         text_cleaned  \n",
       "0   (p013) bán nhà mặt tiền đường huỳnh ngọc đủ, p...  \n",
       "1   (p010) bán nhà mặt tiền đường trân cao vân, ph...  \n",
       "2   (p008) một căn nhà mặt tiền đẹp tại vị trí đắc...  \n",
       "3   (p009) bán nhà mặt tiền đường nguyễn nhược phá...  \n",
       "4   bán nhà đường bình hòa 4, phường khuê trung, q...  \n",
       "..                                                ...  \n",
       "95  hot hot hot nhà 2 tầng lê chân gần đỗ anh hàn9...  \n",
       "96  chính chủ cần bán.căn nhà mê lững.102m2. ngang...  \n",
       "97  bán nhà cấp bốn.gần bờ sông hàn phương nại hiê...  \n",
       "98  bán các khách sạn tại đà nẵng.a . đà nẵng1. kh...  \n",
       "99  bán gấp nhà 4tầng đường tống phước phổ, hòa cư...  \n",
       "\n",
       "[100 rows x 3 columns]>"
      ]
     },
     "execution_count": 108,
     "metadata": {},
     "output_type": "execute_result"
    }
   ],
   "source": [
    "df.head"
   ]
  },
  {
   "cell_type": "markdown",
   "id": "234ae100",
   "metadata": {},
   "source": [
    "# Save data"
   ]
  },
  {
   "cell_type": "code",
   "execution_count": 109,
   "id": "7d30b80e",
   "metadata": {},
   "outputs": [],
   "source": [
    "# df.to_csv('data_10.csv')"
   ]
  },
  {
   "cell_type": "code",
   "execution_count": null,
   "id": "4432e7ca",
   "metadata": {},
   "outputs": [],
   "source": []
  }
 ],
 "metadata": {
  "kernelspec": {
   "display_name": "Python 3",
   "language": "python",
   "name": "python3"
  },
  "language_info": {
   "codemirror_mode": {
    "name": "ipython",
    "version": 3
   },
   "file_extension": ".py",
   "mimetype": "text/x-python",
   "name": "python",
   "nbconvert_exporter": "python",
   "pygments_lexer": "ipython3",
   "version": "3.8.2"
  }
 },
 "nbformat": 4,
 "nbformat_minor": 5
}
