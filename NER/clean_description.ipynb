{
 "cells": [
  {
   "cell_type": "markdown",
   "id": "93ffe673",
   "metadata": {},
   "source": [
    "# Import library"
   ]
  },
  {
   "cell_type": "code",
   "execution_count": 154,
   "id": "74c9dab0",
   "metadata": {},
   "outputs": [],
   "source": [
    "import pandas as pd\n",
    "import re\n",
    "import numpy as np\n",
    "\n",
    "#library that contains punctuation\n",
    "import string\n",
    "string.punctuation\n",
    "import demoji"
   ]
  },
  {
   "cell_type": "markdown",
   "id": "42ca1bd3",
   "metadata": {},
   "source": [
    "# Import data"
   ]
  },
  {
   "cell_type": "code",
   "execution_count": 155,
   "id": "90c28d59",
   "metadata": {},
   "outputs": [],
   "source": [
    "df=pd.read_csv('data_10.csv')"
   ]
  },
  {
   "cell_type": "code",
   "execution_count": 156,
   "id": "a204412c",
   "metadata": {},
   "outputs": [
    {
     "data": {
      "text/plain": [
       "Index(['Mô tả', 'text_cleaned'], dtype='object')"
      ]
     },
     "execution_count": 156,
     "metadata": {},
     "output_type": "execute_result"
    }
   ],
   "source": [
    "df.columns"
   ]
  },
  {
   "cell_type": "code",
   "execution_count": 157,
   "id": "7dd434b0",
   "metadata": {},
   "outputs": [
    {
     "data": {
      "text/plain": [
       "(100, 2)"
      ]
     },
     "execution_count": 157,
     "metadata": {},
     "output_type": "execute_result"
    }
   ],
   "source": [
    "df.shape"
   ]
  },
  {
   "cell_type": "markdown",
   "id": "b4e5d8d1",
   "metadata": {},
   "source": [
    "# Mô tả"
   ]
  },
  {
   "cell_type": "code",
   "execution_count": 158,
   "id": "7f69a63e",
   "metadata": {},
   "outputs": [],
   "source": [
    "def clean_description(text):\n",
    "    text = text.lower()\n",
    "    text = demoji.replace(text, \" \").strip()\n",
    "    text = re.sub(r'[^\\w\\s.,()/*]', ' ', text).strip()\n",
    "    text=text.replace(\"*\",' * ').replace('_',' ').strip()\n",
    "    text = re.sub(r'(?<=\\S)x(?=\\S)', ' x ', text)\n",
    "    text=text.replace('\\n', ' ').strip()\n",
    "    text_leaned = re.sub(r'\\s+', ' ', text).strip()\n",
    "    return text_leaned"
   ]
  },
  {
   "cell_type": "code",
   "execution_count": 159,
   "id": "586ec3ca",
   "metadata": {},
   "outputs": [],
   "source": [
    "# text=\"\"\"📌📌 Chính chủ Gởi bán nhà 3 tầng sau lưng nhà mặt tiền Hà Huy Tập cách đường 10m. ( Ai Có Oto Thì Đậu Ngày Đêm Thoải Mái\n",
    "\n",
    "# +0to đậu đỗ ngoài đường 24/24\n",
    "# 📌📌Nhà công Năng gồm 2pn . 2wc. _phòng thờ ,sân phơi ,sân để xe .-đầy đủ tiện ích xung quanh....Để lại nội thất cơ bản gắn tường\n",
    "\n",
    "# -Diện tích :52m2 (15*25) (2x4)\n",
    "# 📌📌Hướng : Đông Nam\n",
    "# 📌📌Giá:2ty550TL (Hổ trợ ngân hàng)\n",
    "# ☎️☎️*** Gặp Hưng Làm Việc \"\"\""
   ]
  },
  {
   "cell_type": "code",
   "execution_count": 160,
   "id": "91ccf302",
   "metadata": {},
   "outputs": [],
   "source": [
    "# text=clean_description(text)"
   ]
  },
  {
   "cell_type": "code",
   "execution_count": 161,
   "id": "869e0f0c",
   "metadata": {},
   "outputs": [],
   "source": [
    "# text"
   ]
  },
  {
   "cell_type": "code",
   "execution_count": 162,
   "id": "0d868a73",
   "metadata": {},
   "outputs": [],
   "source": [
    "df['text_cleaned'] = df['Mô tả'].apply(clean_description)"
   ]
  },
  {
   "cell_type": "code",
   "execution_count": 163,
   "id": "e1edf07e",
   "metadata": {},
   "outputs": [
    {
     "data": {
      "text/plain": [
       "<bound method NDFrame.head of                                                 Mô tả  \\\n",
       "0   (p013) 🏠 bán nhà mặt tiền đường huỳnh ngọc đủ,...   \n",
       "1   (p010) 🏠 bán nhà mặt tiền đường trân cao vân, ...   \n",
       "2   (p008) một căn nhà mặt tiền đẹp tại vị trí đắc...   \n",
       "3   (p009) 🏠 bán nhà mặt tiền đường nguyễn nhược p...   \n",
       "4   bán nhà đường bình hòa 4, phường khuê trung, q...   \n",
       "..                                                ...   \n",
       "95  hot hot hot￼nhà 2 tầng lê chân gần đỗ anh hàn9...   \n",
       "96  chính chủ cần bán.căn nhà mê lững.102m2. ngang...   \n",
       "97  bán nhà cấp bốn.gần bờ sông hàn phương nại hiê...   \n",
       "98  bán các khách sạn tại đà nẵng.a . đà nẵng1. kh...   \n",
       "99  💥bán gấp nhà 4tầng đường tống phước phổ, hòa c...   \n",
       "\n",
       "                                         text_cleaned  \n",
       "0   (p013) bán nhà mặt tiền đường huỳnh ngọc đủ, p...  \n",
       "1   (p010) bán nhà mặt tiền đường trân cao vân, ph...  \n",
       "2   (p008) một căn nhà mặt tiền đẹp tại vị trí đắc...  \n",
       "3   (p009) bán nhà mặt tiền đường nguyễn nhược phá...  \n",
       "4   bán nhà đường bình hòa 4, phường khuê trung, q...  \n",
       "..                                                ...  \n",
       "95  hot hot hot nhà 2 tầng lê chân gần đỗ anh hàn9...  \n",
       "96  chính chủ cần bán.căn nhà mê lững.102m2. ngang...  \n",
       "97  bán nhà cấp bốn.gần bờ sông hàn phương nại hiê...  \n",
       "98  bán các khách sạn tại đà nẵng.a . đà nẵng1. kh...  \n",
       "99  bán gấp nhà 4tầng đường tống phước phổ, hòa cư...  \n",
       "\n",
       "[100 rows x 2 columns]>"
      ]
     },
     "execution_count": 163,
     "metadata": {},
     "output_type": "execute_result"
    }
   ],
   "source": [
    "df.head"
   ]
  },
  {
   "cell_type": "markdown",
   "id": "234ae100",
   "metadata": {},
   "source": [
    "# Save data"
   ]
  },
  {
   "cell_type": "code",
   "execution_count": 164,
   "id": "7d30b80e",
   "metadata": {},
   "outputs": [],
   "source": [
    "df.to_csv('data_10.csv')"
   ]
  },
  {
   "cell_type": "code",
   "execution_count": null,
   "id": "4432e7ca",
   "metadata": {},
   "outputs": [],
   "source": []
  }
 ],
 "metadata": {
  "kernelspec": {
   "display_name": "Python 3",
   "language": "python",
   "name": "python3"
  },
  "language_info": {
   "codemirror_mode": {
    "name": "ipython",
    "version": 3
   },
   "file_extension": ".py",
   "mimetype": "text/x-python",
   "name": "python",
   "nbconvert_exporter": "python",
   "pygments_lexer": "ipython3",
   "version": "3.8.2"
  }
 },
 "nbformat": 4,
 "nbformat_minor": 5
}
