{
 "cells": [
  {
   "cell_type": "markdown",
   "id": "93ffe673",
   "metadata": {},
   "source": [
    "# Import library"
   ]
  },
  {
   "cell_type": "code",
   "execution_count": 23,
   "id": "74c9dab0",
   "metadata": {},
   "outputs": [],
   "source": [
    "import pandas as pd\n",
    "import re\n",
    "import numpy as np\n",
    "\n",
    "#library that contains punctuation\n",
    "import string\n",
    "string.punctuation\n",
    "import demoji\n",
    "\n",
    "import unicodedata"
   ]
  },
  {
   "cell_type": "markdown",
   "id": "42ca1bd3",
   "metadata": {},
   "source": [
    "# Import data"
   ]
  },
  {
   "cell_type": "code",
   "execution_count": 24,
   "id": "90c28d59",
   "metadata": {},
   "outputs": [],
   "source": [
    "df=pd.read_csv('data_50.csv')"
   ]
  },
  {
   "cell_type": "code",
   "execution_count": 25,
   "id": "a204412c",
   "metadata": {},
   "outputs": [
    {
     "data": {
      "text/plain": [
       "Index(['Mô tả', 'text_cleaned'], dtype='object')"
      ]
     },
     "execution_count": 25,
     "metadata": {},
     "output_type": "execute_result"
    }
   ],
   "source": [
    "df.columns"
   ]
  },
  {
   "cell_type": "code",
   "execution_count": 26,
   "id": "7dd434b0",
   "metadata": {},
   "outputs": [
    {
     "data": {
      "text/plain": [
       "(100, 2)"
      ]
     },
     "execution_count": 26,
     "metadata": {},
     "output_type": "execute_result"
    }
   ],
   "source": [
    "df.shape"
   ]
  },
  {
   "cell_type": "markdown",
   "id": "b4e5d8d1",
   "metadata": {},
   "source": [
    "# Mô tả"
   ]
  },
  {
   "cell_type": "code",
   "execution_count": 27,
   "id": "7f69a63e",
   "metadata": {},
   "outputs": [],
   "source": [
    "def clean_description(text):\n",
    "    text = unicodedata.normalize('NFKC', text)\n",
    "    text = text.lower()\n",
    "    \n",
    "    text = demoji.replace(text, \" \").strip()\n",
    "    \n",
    "    pattern = re.compile(r'(\\d+)\\s*m²')\n",
    "    text = re.sub(pattern, r'\\1 m2', text)\n",
    "    \n",
    "    text = re.sub(r'[^\\w\\s.,()/*]', ' ', text).strip()\n",
    "    text=text.replace(\"*\",' * ').replace('_',' ').strip()\n",
    "    text = re.sub(r'(?<=\\S)x(?=\\S)', ' x ', text)\n",
    "    text=text.replace('\\n', ' ').strip()\n",
    "    text_leaned = re.sub(r'\\s+', ' ', text).strip()\n",
    "    return text_leaned"
   ]
  },
  {
   "cell_type": "code",
   "execution_count": 28,
   "id": "586ec3ca",
   "metadata": {},
   "outputs": [],
   "source": [
    "# text=\"\"\"📌📌 Chính chủ Gởi bán nhà 3 tầng sau lưng nhà mặt tiền Hà Huy Tập cách đường 10m. ( Ai Có Oto Thì Đậu Ngày Đêm Thoải Mái\n",
    "# 𝐂𝐇𝐔𝐘𝐄̂𝐍 𝐌𝐔𝐀 𝐁𝐀́𝐍 - 𝐂𝐇𝐎 𝐓𝐇𝐔𝐄̂ 𝐁đ𝐒 đ𝐀̀ 𝐍𝐀̆̃𝐍𝐆 - 𝐇𝐎̣̂𝐈 𝐀𝐍 - 𝐍𝐇𝐀 𝐓𝐑𝐀𝐍𝐆🔰 đ𝐀̂́𝐓 𝐁𝐈𝐄̂̉𝐍, 𝐓𝐎𝐀̀ 𝐊𝐇𝐀́𝐂𝐇 𝐒𝐀̣𝐍, 𝐓𝐎𝐀̀ 𝐂𝐀̆𝐍 𝐇𝐎̣̂ \n",
    "# quận sơn trà - ngũ hành sơn, tp đà nẵng 🔰 hỗ trợ xin giấy phép, hoàn công tài sản🔰 địa chỉ văn phòng số 48 phan liêm, \n",
    "# phường mỹ an, quận ngũ hành sơn, đà nẵng________________𝐇𝐨̛𝐧 𝐭𝐡𝐞̂́ 𝐧𝐮̛̃𝐚, 𝐕𝐚̆𝐧 𝐩𝐡𝐨̀𝐧𝐠 𝐠𝐢𝐚𝐨 𝐝𝐢̣𝐜𝐡 𝐜𝐡𝐮́𝐧𝐠 𝐭𝐨̂𝐢 𝐜𝐨̀𝐧 𝐡𝐨̛𝐧 \n",
    "# 𝟏𝟎𝟎 𝐤𝐡𝐚́𝐜𝐡 𝐬𝐚̣𝐧 𝐭𝐫𝐢𝐞̣̂𝐮 đ𝐨̂ 𝐩𝐡𝐚̂𝐧 𝐤𝐡𝐮́𝐜 𝐭𝐮̛̀ 𝟐 𝐬𝐚𝐨 đ𝐞̂́𝐧 𝟓 𝐬𝐚𝐨, 𝐭𝐚̀𝐢 𝐜𝐡𝐢́𝐧𝐡 𝐭𝐮̛̀ 𝟑𝟎 𝐭𝐲̉ đ𝐞̂́𝐧 𝟑𝟎𝟎𝟎 𝐭𝐲̉ 𝐜𝐚̂̀𝐧 𝐜𝐡𝐮𝐲𝐞̂̉𝐧 𝐧𝐡𝐮̛𝐨̛̣𝐧𝐠 𝐯𝐨̛́𝐢 𝐦𝐮̛́𝐜 𝐠𝐢𝐚́ \n",
    "# 𝐠𝐢𝐚̉𝐦 𝐬𝐚̂𝐮 𝐯𝐢̀ 𝐝𝐢̣𝐜𝐡 𝐜𝐨𝐯𝐢𝐝, 𝐩𝐡𝐚́𝐩 𝐥𝐲́ 𝐚𝐧 𝐭𝐨𝐚̀𝐧, 𝐯𝐢̣ 𝐭𝐫𝐢́ đ𝐚̆́𝐜 đ𝐢̣𝐚.𝐐𝐮𝐲́ 𝐧𝐡𝐚̀ đ𝐚̂̀𝐮 𝐭𝐮̛ 𝐡𝐚̃𝐲 𝐥𝐢𝐞̂𝐧 𝐡𝐞̣̂ 𝐯𝐨̛́𝐢 𝐭𝐨̂𝐢 𝐪𝐮𝐚 𝐒đ𝐓 𝐛𝐞̂𝐧 𝐝𝐮̛𝐨̛́𝐢 đ𝐞̂̉ đ𝐮̛𝐨̛̣𝐜 \n",
    "# 𝐤𝐞̂́𝐭 𝐧𝐨̂́𝐢 𝐭𝐡𝐮̛𝐨̛𝐧𝐠 𝐥𝐮̛𝐨̛̣𝐧𝐠 𝐥𝐚̀𝐦 𝐯𝐢𝐞̣̂𝐜 𝐯𝐨̛́𝐢 𝐜𝐡𝐮̉ đ𝐚̂̀𝐮 𝐭𝐮̛.👉🏼 𝑋𝐸𝑀 𝑇𝐻𝐸̂𝑀 𝑛ℎ𝑖𝑒̂̀𝑢 𝑘ℎ𝑎́𝑐ℎ 𝑠𝑎̣𝑛 𝑘ℎ𝑎́𝑐 𝑏𝑎̆̀𝑛𝑔 𝑐𝑎́𝑐ℎ 𝐶𝐿𝐼𝐶𝐾 𝑣𝑎̀𝑜 𝑥𝑒𝑚 𝑐𝑎́𝑐 𝑡𝑖𝑛 đ𝑎̆𝑛𝑔 \n",
    "# 𝑘ℎ𝑎́𝑐𝐵𝑖𝑒̂́𝑡 𝑜̛𝑛 𝑣𝑖̀ 𝑡ℎ𝑜̛̀𝑖 𝑔𝑖𝑎𝑛 𝑐𝑢̉𝑎 𝑞𝑢𝑦́ 𝑛ℎ𝑎̀ đ𝑎̂̀𝑢 𝑡𝑢̛.\n",
    "# +0to đậu đỗ ngoài đường 24/24\n",
    "# 📌📌Nhà công Năng gồm 2pn . 2wc. _phòng thờ ,sân phơi ,sân để xe .-đầy đủ tiện ích xung quanh....Để lại nội thất cơ bản gắn tường\n",
    "\n",
    "# -Diện tích :52m2 (15*25) (2x4) 500 m² hoặc  500m²\n",
    "# 📌📌Hướng : Đông Nam\n",
    "# 📌📌Giá:2ty550TL (Hổ trợ ngân hàng)\n",
    "# ☎️☎️*** Gặp Hưng Làm Việc \"\"\""
   ]
  },
  {
   "cell_type": "code",
   "execution_count": 29,
   "id": "91ccf302",
   "metadata": {},
   "outputs": [],
   "source": [
    "# text=clean_description(text)"
   ]
  },
  {
   "cell_type": "code",
   "execution_count": 30,
   "id": "869e0f0c",
   "metadata": {},
   "outputs": [],
   "source": [
    "# text"
   ]
  },
  {
   "cell_type": "code",
   "execution_count": 31,
   "id": "0d868a73",
   "metadata": {},
   "outputs": [],
   "source": [
    "df['text_cleaned'] = df['Mô tả'].apply(clean_description)"
   ]
  },
  {
   "cell_type": "code",
   "execution_count": 32,
   "id": "e1edf07e",
   "metadata": {},
   "outputs": [
    {
     "data": {
      "text/plain": [
       "<bound method NDFrame.head of                                                 Mô tả  \\\n",
       "0   bán nhà đường tân thái 5, quận sơn trà.+ vị tr...   \n",
       "1   bán lô đất đường tân thái 1, p. mân thái, q. s...   \n",
       "2   bán nhà 4,5 tầng mặt tiền đường hàm nghi, vĩnh...   \n",
       "3   toà nhà 4 tầng 6 căn hộ bên cạnh chợ hoà khánh...   \n",
       "4   mở bán căn hộ cao cấp the panoma – sun cosmo r...   \n",
       "..                                                ...   \n",
       "95  ♻️ địa chỉ: mặt tiền võ nguyên giáp♻️ diện tíc...   \n",
       "96  ✅ đường ql 14b rộng 33m vỉa hè 9m✅ hướng: đông...   \n",
       "97  ✅ vị trí: gần đường 2 tháng 9, regal pavillon,...   \n",
       "98  ✅ vị trí: mt nguyễn bỉnh khiêm đường 4m vỉa hè...   \n",
       "99  💎 vị trí: mặt tiền biển, đường nguyễn tất thàn...   \n",
       "\n",
       "                                         text_cleaned  \n",
       "0   bán nhà đường tân thái 5, quận sơn trà. vị trí...  \n",
       "1   bán lô đất đường tân thái 1, p. mân thái, q. s...  \n",
       "2   bán nhà 4,5 tầng mặt tiền đường hàm nghi, vĩnh...  \n",
       "3   toà nhà 4 tầng 6 căn hộ bên cạnh chợ hoà khánh...  \n",
       "4   mở bán căn hộ cao cấp the panoma sun cosmo res...  \n",
       "..                                                ...  \n",
       "95  địa chỉ mặt tiền võ nguyên giáp diện tích 62.4...  \n",
       "96  đường ql 14b rộng 33m vỉa hè 9m hướng đông bắc...  \n",
       "97  vị trí gần đường 2 tháng 9, regal pavillon, lo...  \n",
       "98  vị trí mt nguyễn bỉnh khiêm đường 4m vỉa hè 2m...  \n",
       "99  vị trí mặt tiền biển, đường nguyễn tất thành, ...  \n",
       "\n",
       "[100 rows x 2 columns]>"
      ]
     },
     "execution_count": 32,
     "metadata": {},
     "output_type": "execute_result"
    }
   ],
   "source": [
    "df.head"
   ]
  },
  {
   "cell_type": "markdown",
   "id": "234ae100",
   "metadata": {},
   "source": [
    "# Save data"
   ]
  },
  {
   "cell_type": "code",
   "execution_count": 33,
   "id": "7d30b80e",
   "metadata": {},
   "outputs": [],
   "source": [
    "df.to_csv('data_50.csv')"
   ]
  },
  {
   "cell_type": "code",
   "execution_count": null,
   "id": "4432e7ca",
   "metadata": {},
   "outputs": [],
   "source": []
  }
 ],
 "metadata": {
  "kernelspec": {
   "display_name": "Python 3",
   "language": "python",
   "name": "python3"
  },
  "language_info": {
   "codemirror_mode": {
    "name": "ipython",
    "version": 3
   },
   "file_extension": ".py",
   "mimetype": "text/x-python",
   "name": "python",
   "nbconvert_exporter": "python",
   "pygments_lexer": "ipython3",
   "version": "3.8.2"
  }
 },
 "nbformat": 4,
 "nbformat_minor": 5
}
