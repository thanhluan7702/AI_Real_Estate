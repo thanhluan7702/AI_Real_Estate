{
 "cells": [
  {
   "cell_type": "code",
   "execution_count": 10,
   "metadata": {},
   "outputs": [],
   "source": [
    "import yaml\n",
    "import re \n",
    "import pandas as pd"
   ]
  },
  {
   "cell_type": "code",
   "execution_count": 11,
   "metadata": {},
   "outputs": [],
   "source": [
    "def LOAI_BDS_extractor(text,patterns):\n",
    "    for pattern in patterns:\n",
    "        types=pattern['type']\n",
    "        \n",
    "        for _pattern in pattern['regex']:\n",
    "            if re.search(_pattern, str(text[:100])):                 \n",
    "                return types            \n",
    "    return None "
   ]
  },
  {
   "cell_type": "code",
   "execution_count": 12,
   "metadata": {},
   "outputs": [],
   "source": [
    "def BDS_extractor_type(text,patterns):\n",
    "    for pattern in patterns: \n",
    "        types = pattern['type']\n",
    "        \n",
    "        for _pattern in pattern['regex']: \n",
    "            if re.search(_pattern, str(text)):                 \n",
    "                return types            \n",
    "    return None"
   ]
  },
  {
   "cell_type": "code",
   "execution_count": 13,
   "metadata": {},
   "outputs": [],
   "source": [
    "def BDS_extractor_value(text,patterns):\n",
    "    for pattern in patterns: \n",
    "        for _pattern in pattern['regex']: \n",
    "            match = re.search(_pattern, str(text))\n",
    "            if match:\n",
    "                return match.group().strip()            \n",
    "    return None"
   ]
  },
  {
   "cell_type": "code",
   "execution_count": 14,
   "metadata": {},
   "outputs": [],
   "source": [
    "def BDS_extractor_multivalue(text, patterns):\n",
    "    found_values = []  \n",
    "    \n",
    "    for pattern in patterns:\n",
    "        types = pattern['type']\n",
    "        \n",
    "        for _pattern in pattern['regex']:\n",
    "            match = re.search(_pattern, str(text))\n",
    "            if match:\n",
    "                found_values.append(match.group().strip())\n",
    "    \n",
    "    if found_values:\n",
    "        return found_values\n",
    "    else:\n",
    "        return None"
   ]
  },
  {
   "cell_type": "code",
   "execution_count": 15,
   "metadata": {},
   "outputs": [],
   "source": [
    "def BDS_extractor_multitype(text, patterns):\n",
    "    found_types = []  \n",
    "    \n",
    "    for pattern in patterns:\n",
    "        types = pattern['type']\n",
    "        \n",
    "        for _pattern in pattern['regex']:\n",
    "            if re.search(_pattern, str(text)):\n",
    "                found_types.append(types)\n",
    "    \n",
    "    unique_types = list(set(found_types))\n",
    "    \n",
    "    if unique_types:\n",
    "        return unique_types\n",
    "    else:\n",
    "        return None"
   ]
  },
  {
   "cell_type": "code",
   "execution_count": 16,
   "metadata": {},
   "outputs": [],
   "source": [
    "loai_patterns = yaml.safe_load(open(\"pattern/LOAI_BDS.yaml\", 'r', encoding='utf8'))['rules']\n",
    "hn_patterns =yaml.safe_load(open(\"pattern/HUONG_NHA.yaml\", 'r', encoding='utf8'))['rules']\n",
    "pl_patterns =yaml.safe_load(open(\"pattern/PHAP_LY.yaml\", 'r', encoding='utf8'))['rules']\n",
    "dt_patterns =yaml.safe_load(open(\"pattern/DIEN_TICH.yaml\", 'r', encoding='utf8'))['rules']\n",
    "gia_patterns =yaml.safe_load(open(\"pattern/GIA.yaml\", 'r', encoding='utf8'))['rules']\n",
    "pn_patterns =yaml.safe_load(open(\"pattern/SO_PHONG_NGU.yaml\", 'r', encoding='utf8'))['rules']\n",
    "tl_patterns =yaml.safe_load(open(\"pattern/SO_TOILET.yaml\", 'r', encoding='utf8'))['rules']\n",
    "kt_patterns =yaml.safe_load(open(\"pattern/KICH_THUOC.yaml\", 'r', encoding='utf8'))['rules']\n",
    "st_patterns =yaml.safe_load(open(\"pattern/SO_TANG.yaml\", 'r', encoding='utf8'))['rules']\n",
    "nt_patterns =yaml.safe_load(open(\"pattern/NOI_THAT.yaml\", 'r', encoding='utf8'))['rules']\n",
    "bien_patterns =yaml.safe_load(open(\"pattern/BIEN.yaml\", 'r', encoding='utf8'))['rules']\n",
    "an_patterns =yaml.safe_load(open(\"pattern/AN_NINH.yaml\", 'r', encoding='utf8'))['rules']\n",
    "dtri_patterns =yaml.safe_load(open(\"pattern/DAN_TRI.yaml\", 'r', encoding='utf8'))['rules']\n",
    "s_patterns =yaml.safe_load(open(\"pattern/SONG.yaml\", 'r', encoding='utf8'))['rules']\n",
    "dtn_patterns = yaml.safe_load(open(\"pattern/DUONG_TRUOC_NHA.yaml\", 'r', encoding='utf8'))['rules']\n",
    "# ti_patterns = yaml.safe_load(open(\"pattern/TIEN_ICH.yaml\", 'r', encoding='utf8'))['rules']\n",
    "# dv_patterns = yaml.safe_load(open(\"pattern/DICH_VU.yaml\", 'r', encoding='utf8'))['rules']\n",
    "sanvuon_patterns = yaml.safe_load(open(\"pattern/SAN_VUON.yaml\", 'r', encoding='utf8'))['rules']\n",
    "phongtho_patterns = yaml.safe_load(open(\"pattern/PHONG_THO.yaml\", 'r', encoding='utf8'))['rules']\n",
    "\n",
    "\n",
    "moitruongsong_patterns = yaml.safe_load(open(\"pattern/MOI_TRUONG_SONG.yaml\", 'r', encoding='utf8'))['rules']\n",
    "hinhdangnha_patterns = yaml.safe_load(open(\"pattern/HINH_DANG_NHA.yaml\", 'r', encoding='utf8'))['rules']\n",
    "kvdexe_patterns = yaml.safe_load(open(\"pattern/KV_DE_XE.yaml\", 'r', encoding='utf8'))['rules']\n",
    "hem_patterns = yaml.safe_load(open(\"pattern/LOAI_HEM.yaml\", 'r', encoding='utf8'))['rules']\n",
    "quanhuyen_patterns = yaml.safe_load(open(\"pattern/QUAN_HUYEN.yaml\", 'r', encoding='utf8'))['rules']\n",
    "sthuongbcong_patterns = yaml.safe_load(open(\"pattern/STHUONG_BCONG.yaml\", 'r', encoding='utf8'))['rules']\n",
    "thoatnuoc_patterns = yaml.safe_load(open(\"pattern/THOAT_NUOC.yaml\", 'r', encoding='utf8'))['rules']\n",
    "vitri_patterns = yaml.safe_load(open(\"pattern/VI_TRI.yaml\", 'r', encoding='utf8'))['rules']\n",
    "viahe_patterns = yaml.safe_load(open(\"pattern/VIA_HE.yaml\", 'r', encoding='utf8'))['rules']"
   ]
  },
  {
   "cell_type": "code",
   "execution_count": 17,
   "metadata": {},
   "outputs": [],
   "source": [
    "text = ''''sập hầm giảm hơn 1 tỷ. nhà 3 tầng, 3 mê, đường 7,5m, hè 4m khu vực khuê mỹ, ngũ hành sơn, đà nẵng.căn nhà mới đẹp, khu vực nam việt á, gần sông hàn, gần biển, vị trí đẹp, giá trị phát triển từng ngày, tương lai sáng lạng, nhiều tiện ích, gần trường học các cấp, nhà 3 phòng ngủ cấp độ hoàng hậu, bếp châu âu, nội thất tiền tỷ chủ để lại cho khách hữu duyên, chỉ xách valy vào ở căn nhà sạch sẽ lộng lẫy, sân để ô tô, tất cả sáng bóng, giá đã giảm sâu còn thương lượng.hãy liên hệ đi xem làm việc trực'''"
   ]
  },
  {
   "cell_type": "code",
   "execution_count": 18,
   "metadata": {},
   "outputs": [
    {
     "name": "stdout",
     "output_type": "stream",
     "text": [
      "Loại BDS:  Nhà\n",
      "Số tầng:  3 tầng\n"
     ]
    }
   ],
   "source": [
    "# # return type\n",
    "print('Loại BDS: ',LOAI_BDS_extractor(text,loai_patterns)) \n",
    "# print('Hướng nhà: ',BDS_extractor_value(text,hn_patterns))\n",
    "# print('Pháp lý: ',BDS_extractor_value(text,pl_patterns))\n",
    "# print('Nội thất: ',BDS_extractor_type(text,nt_patterns))\n",
    "# print('Vị trí so với biển: ',BDS_extractor_value(text,bien_patterns))\n",
    "# print('Vị trí so với biển_type: ',BDS_extractor_multitype(text,bien_patterns))\n",
    "# print(\"Hình dáng nhà: \", BDS_extractor_type(text, hinhdangnha_patterns))\n",
    "# print(\"Khu vực để xe: \", BDS_extractor_value(text, kvdexe_patterns))\n",
    "# print(\"Loại hẻm: \", BDS_extractor_value(text, hem_patterns))\n",
    "# print(\"Quận/Huyện: \", BDS_extractor_value(text, quanhuyen_patterns))\n",
    "# print(\"Sân thượng/ Ban công \", BDS_extractor_value(text, sthuongbcong_patterns))\n",
    "# print(\"Khả năng thoát nước: \", BDS_extractor_type(text, thoatnuoc_patterns))\n",
    "# print(\"Vị trí: \", BDS_extractor_value(text, vitri_patterns))\n",
    "# print(\"Vỉa hè: \", BDS_extractor_type(text, viahe_patterns))\n",
    "# print(\"An ninh: \", BDS_extractor_value(text, an_patterns))\n",
    "# print(\"Dân trí: \", BDS_extractor_type(text, dtri_patterns))\n",
    "# print(\"Sân vườn: \", BDS_extractor_type(text, sanvuon_patterns))\n",
    "# print(\"Phòng thờ: \", BDS_extractor_type(text, phongtho_patterns))\n",
    "# print(\"Môi trường sống: \", BDS_extractor_type(text, moitruongsong_patterns))\n",
    "# print(\"Vị trí so với sông : \", BDS_extractor_value(text, s_patterns))\n",
    "# print(\"Vị trí so với sông_type : \", BDS_extractor_type(text, s_patterns))\n",
    "# # print(\"Tiện ích : \", BDS_extractor_multivalue(text, ti_patterns))\n",
    "# # print(\"Dịch vụ : \", BDS_extractor_multivalue(text, dv_patterns))\n",
    "\n",
    "# #return value\n",
    "# print('Giá: ',BDS_extractor_value(text,gia_patterns)) \n",
    "# print('Diện tích: ',BDS_extractor_value(text,dt_patterns)) # 2*8m 180m2\n",
    "# print('Kích thước: ',BDS_extractor_value(text,kt_patterns)) # chưa cover hết\n",
    "# print('Số phòng ngủ: ',BDS_extractor_value(text,pn_patterns))\n",
    "# print('Số toilet: ',BDS_extractor_value(text,tl_patterns))\n",
    "print('Số tầng: ',BDS_extractor_value(text,st_patterns))\n",
    "# print('Đường trước nhà: ',BDS_extractor_value(text,dtn_patterns))"
   ]
  },
  {
   "cell_type": "code",
   "execution_count": null,
   "metadata": {},
   "outputs": [],
   "source": []
  }
 ],
 "metadata": {
  "kernelspec": {
   "display_name": "Python 3",
   "language": "python",
   "name": "python3"
  },
  "language_info": {
   "codemirror_mode": {
    "name": "ipython",
    "version": 3
   },
   "file_extension": ".py",
   "mimetype": "text/x-python",
   "name": "python",
   "nbconvert_exporter": "python",
   "pygments_lexer": "ipython3",
   "version": "3.8.2"
  }
 },
 "nbformat": 4,
 "nbformat_minor": 2
}
