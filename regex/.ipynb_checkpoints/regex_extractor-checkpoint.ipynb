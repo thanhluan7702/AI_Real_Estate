{
 "cells": [
  {
   "cell_type": "code",
   "execution_count": 349,
   "metadata": {},
   "outputs": [],
   "source": [
    "import yaml\n",
    "import re \n",
    "import pandas as pd"
   ]
  },
  {
   "cell_type": "code",
   "execution_count": 350,
   "metadata": {},
   "outputs": [],
   "source": [
    "def LOAI_BDS_extractor(text,patterns):\n",
    "    for pattern in patterns:\n",
    "        types=pattern['type']\n",
    "        \n",
    "        for _pattern in pattern['regex']:\n",
    "            if re.search(_pattern, str(text[:30])):                 \n",
    "                return types\n",
    "            \n",
    "    return None "
   ]
  },
  {
   "cell_type": "code",
   "execution_count": 351,
   "metadata": {},
   "outputs": [],
   "source": [
    "def BDS_extractor_type(text,patterns):\n",
    "    for pattern in patterns: \n",
    "        types = pattern['type']\n",
    "        \n",
    "        for _pattern in pattern['regex']: \n",
    "            if re.search(_pattern, str(text)):                 \n",
    "                return types            \n",
    "    return None"
   ]
  },
  {
   "cell_type": "code",
   "execution_count": 352,
   "metadata": {},
   "outputs": [],
   "source": [
    "def BDS_extractor_value(text,patterns):\n",
    "    for pattern in patterns: \n",
    "        for _pattern in pattern['regex']: \n",
    "            match = re.search(_pattern, str(text))\n",
    "            if match:\n",
    "                return match.group().strip()            \n",
    "    return None"
   ]
  },
  {
   "cell_type": "code",
   "execution_count": 353,
   "metadata": {},
   "outputs": [],
   "source": [
    "loai_patterns = yaml.safe_load(open(\"pattern/LOAI_BDS.yaml\", 'r', encoding='utf8'))['rules']\n",
    "hn_patterns =yaml.safe_load(open(\"pattern/HUONG_NHA.yaml\", 'r', encoding='utf8'))['rules']\n",
    "pl_patterns =yaml.safe_load(open(\"pattern/PHAP_LY.yaml\", 'r', encoding='utf8'))['rules']\n",
    "dt_patterns =yaml.safe_load(open(\"pattern/DIEN_TICH.yaml\", 'r', encoding='utf8'))['rules']\n",
    "gia_patterns =yaml.safe_load(open(\"pattern/GIA.yaml\", 'r', encoding='utf8'))['rules']\n",
    "pn_patterns =yaml.safe_load(open(\"pattern/SO_PHONG_NGU.yaml\", 'r', encoding='utf8'))['rules']\n",
    "tl_patterns =yaml.safe_load(open(\"pattern/SO_TOILET.yaml\", 'r', encoding='utf8'))['rules']\n",
    "kt_patterns =yaml.safe_load(open(\"pattern/KICH_THUOC.yaml\", 'r', encoding='utf8'))['rules']\n",
    "st_patterns =yaml.safe_load(open(\"pattern/SO_TANG.yaml\", 'r', encoding='utf8'))['rules']\n",
    "nt_patterns =yaml.safe_load(open(\"pattern/NOI_THAT.yaml\", 'r', encoding='utf8'))['rules']\n",
    "bien_patterns =yaml.safe_load(open(\"pattern/BIEN.yaml\", 'r', encoding='utf8'))['rules']\n",
    "\n",
    "dancu_patterns = yaml.safe_load(open(\"pattern/DAN_CU.yaml\", 'r', encoding='utf8'))['rules']\n",
    "hinhdangnha_patterns = yaml.safe_load(open(\"pattern/HINH_DANG_NHA.yaml\", 'r', encoding='utf8'))['rules']\n",
    "kvdexe_patterns = yaml.safe_load(open(\"pattern/KV_DE_XE.yaml\", 'r', encoding='utf8'))['rules']\n",
    "hem_patterns = yaml.safe_load(open(\"pattern/LOAI_HEM.yaml\", 'r', encoding='utf8'))['rules']\n",
    "phongthuy_patterns = yaml.safe_load(open(\"pattern/PHONG_THUY.yaml\", 'r', encoding='utf8'))['rules']\n",
    "quanhuyen_patterns = yaml.safe_load(open(\"pattern/QUAN_HUYEN.yaml\", 'r', encoding='utf8'))['rules']\n",
    "sthuongbcong_patterns = yaml.safe_load(open(\"pattern/STHUONG_BCONG.yaml\", 'r', encoding='utf8'))['rules']\n",
    "thoatnuoc_patterns = yaml.safe_load(open(\"pattern/THOAT_NUOC.yaml\", 'r', encoding='utf8'))['rules']\n",
    "vitri_patterns = yaml.safe_load(open(\"pattern/VI_TRI.yaml\", 'r', encoding='utf8'))['rules']\n",
    "viahe_patterns = yaml.safe_load(open(\"pattern/VIA_HE.yaml\", 'r', encoding='utf8'))['rules']"
   ]
  },
  {
   "cell_type": "code",
   "execution_count": 354,
   "metadata": {},
   "outputs": [],
   "source": [
    "text = '''chính chủ gửi bán nhà 2 tầng 2 mê mặt tiền đường nguyễn thuật hoà an cẩm lệ dt 90m2(5x18) hướng đông bắc khu vực sầm uất nhộn nhịp công năng 3pn, 2wc, phòng khách rộng rãi, bếp vị trí đẹp, nằm ngay trung tâm, trục đường song song yên thế bắc sơn. gần các đường lớn sầm uất. gần trường học các cấp, bến xe, đi bộ 2 phút tới công viên. giá bán 3ty650 có thương lượng lh'''"
   ]
  },
  {
   "cell_type": "code",
   "execution_count": 355,
   "metadata": {},
   "outputs": [
    {
     "name": "stdout",
     "output_type": "stream",
     "text": [
      "Loại BDS:  nhà\n",
      "Hướng nhà:  hướng đông bắc\n",
      "Pháp lý:  Chính chủ\n",
      "Nội thất:  None\n",
      "Vị trí so với biển:  None\n",
      "Tình trạng dân cư xung quanh:  đông đúc\n",
      "Hình dáng nhà:  None\n",
      "Khu vực để xe:  None\n",
      "Loại hẻm:  None\n",
      "Phong thủy:  None\n",
      "Quận/Huyện:  cẩm lệ\n",
      "Sân thượng/ Ban công  None\n",
      "Khả năng thoát nước:  None\n",
      "Vị trí:  mặt tiền\n",
      "Vỉa hè:  None\n",
      "Giá:  giá bán 3ty650\n",
      "Diện tích:  dt 90m2\n",
      "Kích thước:  (5x18)\n",
      "Số phòng ngủ:  3pn\n",
      "Số toilet:  2wc\n",
      "Số tầng:  2 tầng\n"
     ]
    }
   ],
   "source": [
    "# return type\n",
    "print('Loại BDS: ',LOAI_BDS_extractor(text,loai_patterns)) # dính chữ nhanh -> nhà (chưa fix được)\n",
    "print('Hướng nhà: ',BDS_extractor_type(text,hn_patterns))\n",
    "print('Pháp lý: ',BDS_extractor_type(text,pl_patterns))\n",
    "print('Nội thất: ',BDS_extractor_type(text,nt_patterns))\n",
    "print('Vị trí so với biển: ',BDS_extractor_type(text,bien_patterns))\n",
    "print(\"Tình trạng dân cư xung quanh: \", BDS_extractor_type(text, dancu_patterns))\n",
    "print(\"Hình dáng nhà: \", BDS_extractor_type(text, hinhdangnha_patterns))\n",
    "print(\"Khu vực để xe: \", BDS_extractor_value(text, kvdexe_patterns))\n",
    "print(\"Loại hẻm: \", BDS_extractor_type(text, hem_patterns))\n",
    "print(\"Phong thủy: \", BDS_extractor_type(text, phongthuy_patterns))\n",
    "print(\"Quận/Huyện: \", BDS_extractor_value(text, quanhuyen_patterns))\n",
    "print(\"Sân thượng/ Ban công \", BDS_extractor_type(text, sthuongbcong_patterns))\n",
    "print(\"Khả năng thoát nước: \", BDS_extractor_type(text, thoatnuoc_patterns))\n",
    "print(\"Vị trí: \", BDS_extractor_type(text, vitri_patterns))\n",
    "print(\"Vỉa hè: \", BDS_extractor_value(text, viahe_patterns))\n",
    "\n",
    "#return value\n",
    "print('Giá: ',BDS_extractor_value(text,gia_patterns)) # chưa cover hết\n",
    "print('Diện tích: ',BDS_extractor_value(text,dt_patterns))\n",
    "print('Kích thước: ',BDS_extractor_value(text,kt_patterns)) \n",
    "print('Số phòng ngủ: ',BDS_extractor_value(text,pn_patterns))\n",
    "print('Số toilet: ',BDS_extractor_value(text,tl_patterns))\n",
    "print('Số tầng: ',BDS_extractor_value(text,st_patterns))"
   ]
  },
  {
   "cell_type": "code",
   "execution_count": null,
   "metadata": {},
   "outputs": [],
   "source": []
  }
 ],
 "metadata": {
  "kernelspec": {
   "display_name": "Python 3",
   "language": "python",
   "name": "python3"
  },
  "language_info": {
   "codemirror_mode": {
    "name": "ipython",
    "version": 3
   },
   "file_extension": ".py",
   "mimetype": "text/x-python",
   "name": "python",
   "nbconvert_exporter": "python",
   "pygments_lexer": "ipython3",
   "version": "3.8.2"
  }
 },
 "nbformat": 4,
 "nbformat_minor": 2
}
