{
 "cells": [
  {
   "cell_type": "code",
   "execution_count": 53,
   "metadata": {},
   "outputs": [],
   "source": [
    "import yaml\n",
    "import re \n",
    "import pandas as pd"
   ]
  },
  {
   "cell_type": "code",
   "execution_count": 54,
   "metadata": {},
   "outputs": [],
   "source": [
    "def LOAI_BDS_extractor(text,patterns):\n",
    "    for pattern in patterns:\n",
    "        types=pattern['type']\n",
    "        \n",
    "        for _pattern in pattern['regex']:\n",
    "            if re.search(_pattern, str(text[:100])):                 \n",
    "                return types            \n",
    "    return None "
   ]
  },
  {
   "cell_type": "code",
   "execution_count": 55,
   "metadata": {},
   "outputs": [],
   "source": [
    "def BDS_extractor_type(text,patterns):\n",
    "    for pattern in patterns: \n",
    "        types = pattern['type']\n",
    "        \n",
    "        for _pattern in pattern['regex']: \n",
    "            if re.search(_pattern, str(text)):                 \n",
    "                return types            \n",
    "    return None"
   ]
  },
  {
   "cell_type": "code",
   "execution_count": 56,
   "metadata": {},
   "outputs": [],
   "source": [
    "def BDS_extractor_value(text,patterns):\n",
    "    for pattern in patterns: \n",
    "        for _pattern in pattern['regex']: \n",
    "            match = re.search(_pattern, str(text))\n",
    "            if match:\n",
    "                return match.group().strip()            \n",
    "    return None"
   ]
  },
  {
   "cell_type": "code",
   "execution_count": 57,
   "metadata": {},
   "outputs": [],
   "source": [
    "def BDS_extractor_multivalue(text, patterns):\n",
    "    found_values = []  \n",
    "    \n",
    "    for pattern in patterns:\n",
    "        types = pattern['type']\n",
    "        \n",
    "        for _pattern in pattern['regex']:\n",
    "            match = re.search(_pattern, str(text))\n",
    "            if match:\n",
    "                found_values.append(match.group().strip())\n",
    "    \n",
    "    if found_values:\n",
    "        return found_values\n",
    "    else:\n",
    "        return None"
   ]
  },
  {
   "cell_type": "code",
   "execution_count": 58,
   "metadata": {},
   "outputs": [],
   "source": [
    "def BDS_extractor_multitype(text, patterns):\n",
    "    found_types = []  \n",
    "    \n",
    "    for pattern in patterns:\n",
    "        types = pattern['type']\n",
    "        \n",
    "        for _pattern in pattern['regex']:\n",
    "            if re.search(_pattern, str(text)):\n",
    "                found_types.append(types)\n",
    "    \n",
    "    unique_types = list(set(found_types))\n",
    "    \n",
    "    if unique_types:\n",
    "        return unique_types\n",
    "    else:\n",
    "        return None"
   ]
  },
  {
   "cell_type": "code",
   "execution_count": 59,
   "metadata": {},
   "outputs": [],
   "source": [
    "loai_patterns = yaml.safe_load(open(\"pattern/LOAI_BDS.yaml\", 'r', encoding='utf8'))['rules']\n",
    "hn_patterns =yaml.safe_load(open(\"pattern/HUONG_NHA.yaml\", 'r', encoding='utf8'))['rules']\n",
    "pl_patterns =yaml.safe_load(open(\"pattern/PHAP_LY.yaml\", 'r', encoding='utf8'))['rules']\n",
    "dt_patterns =yaml.safe_load(open(\"pattern/DIEN_TICH.yaml\", 'r', encoding='utf8'))['rules']\n",
    "gia_patterns =yaml.safe_load(open(\"pattern/GIA.yaml\", 'r', encoding='utf8'))['rules']\n",
    "pn_patterns =yaml.safe_load(open(\"pattern/SO_PHONG_NGU.yaml\", 'r', encoding='utf8'))['rules']\n",
    "tl_patterns =yaml.safe_load(open(\"pattern/SO_TOILET.yaml\", 'r', encoding='utf8'))['rules']\n",
    "kt_patterns =yaml.safe_load(open(\"pattern/KICH_THUOC.yaml\", 'r', encoding='utf8'))['rules']\n",
    "st_patterns =yaml.safe_load(open(\"pattern/SO_TANG.yaml\", 'r', encoding='utf8'))['rules']\n",
    "nt_patterns =yaml.safe_load(open(\"pattern/NOI_THAT.yaml\", 'r', encoding='utf8'))['rules']\n",
    "bien_patterns =yaml.safe_load(open(\"pattern/BIEN.yaml\", 'r', encoding='utf8'))['rules']\n",
    "an_patterns =yaml.safe_load(open(\"pattern/AN_NINH.yaml\", 'r', encoding='utf8'))['rules']\n",
    "dtri_patterns =yaml.safe_load(open(\"pattern/DAN_TRI.yaml\", 'r', encoding='utf8'))['rules']\n",
    "s_patterns =yaml.safe_load(open(\"pattern/SONG.yaml\", 'r', encoding='utf8'))['rules']\n",
    "dtn_patterns = yaml.safe_load(open(\"pattern/DUONG_TRUOC_NHA.yaml\", 'r', encoding='utf8'))['rules']\n",
    "ti_patterns = yaml.safe_load(open(\"pattern/TIEN_ICH.yaml\", 'r', encoding='utf8'))['rules']\n",
    "dv_patterns = yaml.safe_load(open(\"pattern/DICH_VU.yaml\", 'r', encoding='utf8'))['rules']\n",
    "\n",
    "dancu_patterns = yaml.safe_load(open(\"pattern/DAN_CU.yaml\", 'r', encoding='utf8'))['rules']\n",
    "hinhdangnha_patterns = yaml.safe_load(open(\"pattern/HINH_DANG_NHA.yaml\", 'r', encoding='utf8'))['rules']\n",
    "kvdexe_patterns = yaml.safe_load(open(\"pattern/KV_DE_XE.yaml\", 'r', encoding='utf8'))['rules']\n",
    "hem_patterns = yaml.safe_load(open(\"pattern/LOAI_HEM.yaml\", 'r', encoding='utf8'))['rules']\n",
    "phongthuy_patterns = yaml.safe_load(open(\"pattern/PHONG_THUY.yaml\", 'r', encoding='utf8'))['rules']\n",
    "quanhuyen_patterns = yaml.safe_load(open(\"pattern/QUAN_HUYEN.yaml\", 'r', encoding='utf8'))['rules']\n",
    "sthuongbcong_patterns = yaml.safe_load(open(\"pattern/STHUONG_BCONG.yaml\", 'r', encoding='utf8'))['rules']\n",
    "thoatnuoc_patterns = yaml.safe_load(open(\"pattern/THOAT_NUOC.yaml\", 'r', encoding='utf8'))['rules']\n",
    "vitri_patterns = yaml.safe_load(open(\"pattern/VI_TRI.yaml\", 'r', encoding='utf8'))['rules']\n",
    "viahe_patterns = yaml.safe_load(open(\"pattern/VIA_HE.yaml\", 'r', encoding='utf8'))['rules']"
   ]
  },
  {
   "cell_type": "code",
   "execution_count": 60,
   "metadata": {},
   "outputs": [],
   "source": [
    "text = '''căn hộ mặt biển đà nẵng sở hữu vĩnh viễn vị trí mặt đường võ nguyên giáp chiết khấu 12 . sắp bàn giao. những giá trị chỉ có tại 6nature đà nẵng vị trí độc tôn, sở hữu lâu dài, giá trị truyền đời. view toàn cảnh đắt giá biển mỹ khê và sông hàn. kiệt tác kiến trúc đậm chất italy (finenco architects). quản lý vận hành chuyên nghiệp bởi savills việt nam. dịch vụ đẳng cấp cirgar lounge, bãi đậu xe định danh. csbh siêu khủng. ngân hàng hỗ trợ vay 70 . ân hạn gốc hết quý i/2023. chiết khấu lên tới 12 . miễn phí phí quản lý trong 2 năm đầu. thông tin căn hộ diện tích từ 58 121m2 (đầy đủ các loại 1 2 3 phòng ngủ và dual key). view biển sơn trà trung tâm thành phố và những cây cầu. tiện ích sky cigar lounge, hồ bơi vô cực, trung tâm thương mại, nhà hàng, gym, spa làm đẹp, sky bar.khẳng định vị thế thượng lưu trên cung đường tỷ đô.'''"
   ]
  },
  {
   "cell_type": "code",
   "execution_count": 61,
   "metadata": {},
   "outputs": [
    {
     "name": "stdout",
     "output_type": "stream",
     "text": [
      "Loại BDS:  Căn hộ\n",
      "Hướng nhà:  None\n",
      "Pháp lý:  None\n",
      "Nội thất:  None\n",
      "Vị trí so với biển:  mặt biển\n",
      "Vị trí so với biển_type:  Đối diện biển\n",
      "Tình trạng dân cư xung quanh:  None\n",
      "Hình dáng nhà:  None\n",
      "Khu vực để xe:  bãi đậu xe\n",
      "Loại hẻm:  None\n",
      "Phong thủy:  None\n",
      "Quận/Huyện:  sơn trà\n",
      "Sân thượng/ Ban công  None\n",
      "Khả năng thoát nước:  None\n",
      "Vị trí:  kiệt\n",
      "Vỉa hè:  None\n",
      "An ninh:  None\n",
      "Dân trí:  None\n",
      "Vị trí so với sông :  sông\n",
      "Vị trí so với sông_type :  Gần sông\n",
      "Tiện ích :  ['gym', 'hồ bơi']\n",
      "Dịch vụ :  ['kiến trúc', 'trung tâm thương mại']\n",
      "Giá:  None\n",
      "Diện tích:  121m2\n",
      "Kích thước:  rong 2\n",
      "Số phòng ngủ:  3 phòng ngủ\n",
      "Số toilet:  None\n",
      "Số tầng:  None\n",
      "Đường trước nhà:  None\n"
     ]
    }
   ],
   "source": [
    "# return type\n",
    "print('Loại BDS: ',LOAI_BDS_extractor(text,loai_patterns)) \n",
    "print('Hướng nhà: ',BDS_extractor_value(text,hn_patterns))\n",
    "print('Pháp lý: ',BDS_extractor_value(text,pl_patterns))\n",
    "print('Nội thất: ',BDS_extractor_type(text,nt_patterns))\n",
    "print('Vị trí so với biển: ',BDS_extractor_value(text,bien_patterns))\n",
    "print('Vị trí so với biển_type: ',BDS_extractor_type(text,bien_patterns))\n",
    "print(\"Tình trạng dân cư xung quanh: \", BDS_extractor_type(text, dancu_patterns))\n",
    "print(\"Hình dáng nhà: \", BDS_extractor_type(text, hinhdangnha_patterns))\n",
    "print(\"Khu vực để xe: \", BDS_extractor_value(text, kvdexe_patterns))\n",
    "print(\"Loại hẻm: \", BDS_extractor_value(text, hem_patterns))\n",
    "print(\"Phong thủy: \", BDS_extractor_type(text, phongthuy_patterns))\n",
    "print(\"Quận/Huyện: \", BDS_extractor_value(text, quanhuyen_patterns))\n",
    "print(\"Sân thượng/ Ban công \", BDS_extractor_value(text, sthuongbcong_patterns))\n",
    "print(\"Khả năng thoát nước: \", BDS_extractor_type(text, thoatnuoc_patterns))\n",
    "print(\"Vị trí: \", BDS_extractor_value(text, vitri_patterns))\n",
    "print(\"Vỉa hè: \", BDS_extractor_type(text, viahe_patterns))\n",
    "print(\"An ninh: \", BDS_extractor_value(text, an_patterns))\n",
    "print(\"Dân trí: \", BDS_extractor_type(text, dtri_patterns))\n",
    "print(\"Vị trí so với sông : \", BDS_extractor_value(text, s_patterns))\n",
    "print(\"Vị trí so với sông_type : \", BDS_extractor_type(text, s_patterns))\n",
    "print(\"Tiện ích : \", BDS_extractor_multivalue(text, ti_patterns))\n",
    "print(\"Dịch vụ : \", BDS_extractor_multivalue(text, dv_patterns))\n",
    "\n",
    "#return value\n",
    "print('Giá: ',BDS_extractor_value(text,gia_patterns)) \n",
    "print('Diện tích: ',BDS_extractor_value(text,dt_patterns)) # 2*8m 180m2\n",
    "print('Kích thước: ',BDS_extractor_value(text,kt_patterns)) # chưa cover hết\n",
    "print('Số phòng ngủ: ',BDS_extractor_value(text,pn_patterns))\n",
    "print('Số toilet: ',BDS_extractor_value(text,tl_patterns))\n",
    "print('Số tầng: ',BDS_extractor_value(text,st_patterns))\n",
    "print('Đường trước nhà: ',BDS_extractor_value(text,dtn_patterns))"
   ]
  },
  {
   "cell_type": "code",
   "execution_count": null,
   "metadata": {},
   "outputs": [],
   "source": []
  }
 ],
 "metadata": {
  "kernelspec": {
   "display_name": "Python 3",
   "language": "python",
   "name": "python3"
  },
  "language_info": {
   "codemirror_mode": {
    "name": "ipython",
    "version": 3
   },
   "file_extension": ".py",
   "mimetype": "text/x-python",
   "name": "python",
   "nbconvert_exporter": "python",
   "pygments_lexer": "ipython3",
   "version": "3.8.2"
  }
 },
 "nbformat": 4,
 "nbformat_minor": 2
}
