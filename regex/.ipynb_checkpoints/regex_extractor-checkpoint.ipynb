{
 "cells": [
  {
   "cell_type": "code",
   "execution_count": 129,
   "metadata": {},
   "outputs": [],
   "source": [
    "import yaml\n",
    "import re \n",
    "import pandas as pd"
   ]
  },
  {
   "cell_type": "code",
   "execution_count": 130,
   "metadata": {},
   "outputs": [],
   "source": [
    "def LOAI_BDS_extractor(text,patterns):\n",
    "    for pattern in patterns:\n",
    "        types=pattern['type']\n",
    "        \n",
    "        for _pattern in pattern['regex']:\n",
    "            if re.search(_pattern, str(text[:30])):                 \n",
    "                return types\n",
    "            \n",
    "    return None "
   ]
  },
  {
   "cell_type": "code",
   "execution_count": 131,
   "metadata": {},
   "outputs": [],
   "source": [
    "def BDS_extractor_type(text,patterns):\n",
    "    for pattern in patterns: \n",
    "        types = pattern['type']\n",
    "        \n",
    "        for _pattern in pattern['regex']: \n",
    "            if re.search(_pattern, str(text)):                 \n",
    "                return types            \n",
    "    return None"
   ]
  },
  {
   "cell_type": "code",
   "execution_count": 132,
   "metadata": {},
   "outputs": [],
   "source": [
    "def BDS_extractor_value(text,patterns):\n",
    "    for pattern in patterns: \n",
    "        for _pattern in pattern['regex']: \n",
    "            match = re.search(_pattern, str(text))\n",
    "            if match:\n",
    "                return match.group().strip()            \n",
    "    return None"
   ]
  },
  {
   "cell_type": "code",
   "execution_count": 133,
   "metadata": {},
   "outputs": [],
   "source": [
    "loai_patterns = yaml.safe_load(open(\"pattern/LOAI_BDS.yaml\", 'r', encoding='utf8'))['rules']\n",
    "hn_patterns =yaml.safe_load(open(\"pattern/HUONG_NHA.yaml\", 'r', encoding='utf8'))['rules']\n",
    "pl_patterns =yaml.safe_load(open(\"pattern/PHAP_LY.yaml\", 'r', encoding='utf8'))['rules']\n",
    "dt_patterns =yaml.safe_load(open(\"pattern/DIEN_TICH.yaml\", 'r', encoding='utf8'))['rules']\n",
    "gia_patterns =yaml.safe_load(open(\"pattern/GIA.yaml\", 'r', encoding='utf8'))['rules']\n",
    "pn_patterns =yaml.safe_load(open(\"pattern/SO_PHONG_NGU.yaml\", 'r', encoding='utf8'))['rules']\n",
    "tl_patterns =yaml.safe_load(open(\"pattern/SO_TOILET.yaml\", 'r', encoding='utf8'))['rules']\n",
    "kt_patterns =yaml.safe_load(open(\"pattern/KICH_THUOC.yaml\", 'r', encoding='utf8'))['rules']\n",
    "st_patterns =yaml.safe_load(open(\"pattern/SO_TANG.yaml\", 'r', encoding='utf8'))['rules']\n",
    "nt_patterns =yaml.safe_load(open(\"pattern/NOI_THAT.yaml\", 'r', encoding='utf8'))['rules']\n",
    "bien_patterns =yaml.safe_load(open(\"pattern/BIEN.yaml\", 'r', encoding='utf8'))['rules']\n",
    "\n",
    "dancu_patterns = yaml.safe_load(open(\"pattern/DAN_CU.yaml\", 'r', encoding='utf8'))['rules']\n",
    "hinhdangnha_patterns = yaml.safe_load(open(\"pattern/HINH_DANG_NHA.yaml\", 'r', encoding='utf8'))['rules']\n",
    "kvdexe_patterns = yaml.safe_load(open(\"pattern/KV_DE_XE.yaml\", 'r', encoding='utf8'))['rules']\n",
    "hem_patterns = yaml.safe_load(open(\"pattern/LOAI_HEM.yaml\", 'r', encoding='utf8'))['rules']\n",
    "phongthuy_patterns = yaml.safe_load(open(\"pattern/PHONG_THUY.yaml\", 'r', encoding='utf8'))['rules']\n",
    "quanhuyen_patterns = yaml.safe_load(open(\"pattern/QUAN_HUYEN.yaml\", 'r', encoding='utf8'))['rules']\n",
    "sthuongbcong_patterns = yaml.safe_load(open(\"pattern/STHUONG_BCONG.yaml\", 'r', encoding='utf8'))['rules']\n",
    "thoatnuoc_patterns = yaml.safe_load(open(\"pattern/THOAT_NUOC.yaml\", 'r', encoding='utf8'))['rules']\n",
    "vitri_patterns = yaml.safe_load(open(\"pattern/VI_TRI.yaml\", 'r', encoding='utf8'))['rules']\n",
    "viahe_patterns = yaml.safe_load(open(\"pattern/VIA_HE.yaml\", 'r', encoding='utf8'))['rules']"
   ]
  },
  {
   "cell_type": "code",
   "execution_count": 134,
   "metadata": {},
   "outputs": [],
   "source": [
    "text = '''tòa   căn hộ    cần bán diện tích le le đất hihi 250m2 đường phạm văn đồng, gần biển mỹ khê đà \n",
    "nẵng được xây cao tầng diện tích đất rong 10 dài 25m hướngnam vị trí mt \n",
    "đường phạm văn đồng, gần bãi tắm mỹ khê, công viên biển đông.đầy đủ  nội thất .2 toilet, 1pn. 3tầng.đoạn đường \n",
    "sầm uất đắc địa chạy thẳng ra biển tập trung nhiều khách sạn cao tầng, via he4m,\n",
    "nhà hàng lớn, bán gấp giá chỉ nhỉnh 4 tỷ. giáp biển mát mẻ.pháp lý rõ ràng'''"
   ]
  },
  {
   "cell_type": "code",
   "execution_count": 135,
   "metadata": {},
   "outputs": [],
   "source": [
    "# return type\n",
    "print('Loại BDS: ',LOAI_BDS_extractor(text,loai_patterns)) # dính chữ nhanh -> nhà (chưa fix được)\n",
    "print('Hướng nhà: ',BDS_extractor_type(text,hn_patterns))\n",
    "print('Pháp lý: ',BDS_extractor_type(text,pl_patterns))\n",
    "print('Nội thất: ',BDS_extractor_type(text,nt_patterns))\n",
    "print('Vị trí so với biển: ',BDS_extractor_type(text,bien_patterns))\n",
    "print(\"Tình trạng dân cư xung quanh:\", BDS_extractor_type(text, dancu_patterns))\n",
    "print(\"Hình dáng nhà\", BDS_extractor_type(text, hinhdangnha_patterns))\n",
    "print(\"Khu vực để xe\", BDS_extractor_type(text, kvdexe_patterns))\n",
    "print(\"Loại hẻm\", BDS_extractor_type(text, hem_patterns))\n",
    "print(\"Phong thủy:\", BDS_extractor_type(text, phongthuy_patterns))\n",
    "print(\"Quận/Huyện:\", BDS_extractor_type(text, quanhuyen_patterns))\n",
    "print(\"Sân thượng/ Ban công\", BDS_extractor_type(text, sthuongbcong_patterns))\n",
    "print(\"Khả năng thoát nước: \", BDS_extractor_type(text, thoatnuoc_patterns))\n",
    "print(\"Vị trí: \", BDS_extractor_type(text, vitri_patterns))\n",
    "print(\"Vỉa hè: \", BDS_extractor_type(text, viahe_patterns))\n",
    "\n",
    "#return value\n",
    "print('Giá: ',BDS_extractor_value(text,gia_patterns)) # chưa cover hết\n",
    "print('Diện tích: ',BDS_extractor_value(text,dt_patterns))\n",
    "print('Kích thước: ',BDS_extractor_value(text,kt_patterns)) \n",
    "print('Số phòng ngủ: ',BDS_extractor_value(text,pn_patterns))\n",
    "print('Số toilet: ',BDS_extractor_value(text,tl_patterns))\n",
    "print('Số tầng: ',BDS_extractor_value(text,st_patterns))"
   ]
  },
  {
   "cell_type": "code",
   "execution_count": 136,
   "metadata": {},
   "outputs": [
    {
     "ename": "TypeError",
     "evalue": "list indices must be integers or slices, not str",
     "output_type": "error",
     "traceback": [
      "\u001b[1;31m---------------------------------------------------------------------------\u001b[0m",
      "\u001b[1;31mTypeError\u001b[0m                                 Traceback (most recent call last)",
      "\u001b[1;32m<ipython-input-136-030770d7f943>\u001b[0m in \u001b[0;36m<module>\u001b[1;34m\u001b[0m\n\u001b[0;32m      3\u001b[0m \u001b[1;33m\u001b[0m\u001b[0m\n\u001b[0;32m      4\u001b[0m     \u001b[1;31m# return type\u001b[0m\u001b[1;33m\u001b[0m\u001b[1;33m\u001b[0m\u001b[1;33m\u001b[0m\u001b[0m\n\u001b[1;32m----> 5\u001b[1;33m     \u001b[0mdf\u001b[0m\u001b[1;33m[\u001b[0m\u001b[1;34m'Loại BDS'\u001b[0m\u001b[1;33m]\u001b[0m\u001b[1;33m=\u001b[0m\u001b[0mLOAI_BDS_extractor\u001b[0m\u001b[1;33m(\u001b[0m\u001b[0mdata\u001b[0m\u001b[1;33m[\u001b[0m\u001b[1;34m'text_cleaned'\u001b[0m\u001b[1;33m]\u001b[0m\u001b[1;33m,\u001b[0m\u001b[0mloai_patterns\u001b[0m\u001b[1;33m)\u001b[0m\u001b[1;33m\u001b[0m\u001b[1;33m\u001b[0m\u001b[0m\n\u001b[0m\u001b[0;32m      6\u001b[0m     \u001b[0mdf\u001b[0m\u001b[1;33m[\u001b[0m\u001b[1;34m'Hướng nhà'\u001b[0m\u001b[1;33m]\u001b[0m\u001b[1;33m=\u001b[0m\u001b[0mBDS_extractor_type\u001b[0m\u001b[1;33m(\u001b[0m\u001b[0mdata\u001b[0m\u001b[1;33m[\u001b[0m\u001b[1;34m'text_cleaned'\u001b[0m\u001b[1;33m]\u001b[0m\u001b[1;33m,\u001b[0m\u001b[0mhn_patterns\u001b[0m\u001b[1;33m)\u001b[0m\u001b[1;33m\u001b[0m\u001b[1;33m\u001b[0m\u001b[0m\n\u001b[0;32m      7\u001b[0m     \u001b[0mdf\u001b[0m\u001b[1;33m[\u001b[0m\u001b[1;34m'Pháp lý'\u001b[0m\u001b[1;33m]\u001b[0m\u001b[1;33m=\u001b[0m\u001b[0mBDS_extractor_type\u001b[0m\u001b[1;33m(\u001b[0m\u001b[0mdata\u001b[0m\u001b[1;33m[\u001b[0m\u001b[1;34m'text_cleaned'\u001b[0m\u001b[1;33m]\u001b[0m\u001b[1;33m,\u001b[0m\u001b[0mpl_patterns\u001b[0m\u001b[1;33m)\u001b[0m\u001b[1;33m\u001b[0m\u001b[1;33m\u001b[0m\u001b[0m\n",
      "\u001b[1;31mTypeError\u001b[0m: list indices must be integers or slices, not str"
     ]
    }
   ],
   "source": [
    "# for i in range(0,21):\n",
    "#     data=pd.read_csv(f'D:/DUE/AI_Real_Estate/NER/data_{i}.csv')\n",
    "\n",
    "#     # return type\n",
    "#     df['Loại BDS']=LOAI_BDS_extractor(data['text_cleaned'],loai_patterns)\n",
    "#     df['Hướng nhà']=BDS_extractor_type(data['text_cleaned'],hn_patterns)\n",
    "#     df['Pháp lý']=BDS_extractor_type(data['text_cleaned'],pl_patterns)\n",
    "#     df['Nội thất']=BDS_extractor_type(data['text_cleaned'],nt_patterns)\n",
    "#     df['Vị trí so với biển']=BDS_extractor_type(data['text_cleaned'],bien_patterns)\n",
    "#     df[\"Tình trạng dân cư xung quanh\"]= BDS_extractor_type(data['text_cleaned'], dancu_patterns)\n",
    "#     df[\"Hình dáng nhà\"]= BDS_extractor_type(data['text_cleaned'], hinhdangnha_patterns)\n",
    "#     df[\"Khu vực để xe\"]= BDS_extractor_type(data['text_cleaned'], kvdexe_patterns)\n",
    "#     df[\"Loại hẻm\"]=BDS_extractor_type(data['text_cleaned'], hem_patterns)\n",
    "#     df[\"Phong thủy\"]=BDS_extractor_type(data['text_cleaned'], phongthuy_patterns)\n",
    "#     df[\"Quận/Huyện\"]=BDS_extractor_type(data['text_cleaned'], quanhuyen_patterns)\n",
    "#     df[\"Sân thượng/ Ban công\"]=BDS_extractor_type(data['text_cleaned'], sthuongbcong_patterns)\n",
    "#     df[\"Khả năng thoát nước\"]=BDS_extractor_type(data['text_cleaned'], thoatnuoc_patterns)\n",
    "#     df[\"Vị trí\"]=BDS_extractor_type(data['text_cleaned'], vitri_patterns)\n",
    "#     df[\"Vỉa hè\"]=BDS_extractor_type(data['text_cleaned'], viahe_patterns)\n",
    "    \n",
    "#     #return value\n",
    "#     df['Giá']=BDS_extractor_value(data['text_cleaned'],gia_patterns)\n",
    "#     df['Diện tích']=BDS_extractor_value(data['text_cleaned'],dt_patterns)\n",
    "#     df['Kích thước']=BDS_extractor_value(data['text_cleaned'],kt_patterns)\n",
    "#     df['Số phòng ngủ']=BDS_extractor_value(data['text_cleaned'],pn_patterns)\n",
    "#     df['Số toilet']=BDS_extractor_value(data['text_cleaned'],tl_patterns)\n",
    "#     df['Số tầng']=BDS_extractor_value(data['text_cleaned'],st_patterns)"
   ]
  },
  {
   "cell_type": "code",
   "execution_count": null,
   "metadata": {},
   "outputs": [],
   "source": [
    "df"
   ]
  }
 ],
 "metadata": {
  "kernelspec": {
   "display_name": "Python 3",
   "language": "python",
   "name": "python3"
  },
  "language_info": {
   "codemirror_mode": {
    "name": "ipython",
    "version": 3
   },
   "file_extension": ".py",
   "mimetype": "text/x-python",
   "name": "python",
   "nbconvert_exporter": "python",
   "pygments_lexer": "ipython3",
   "version": "3.8.2"
  }
 },
 "nbformat": 4,
 "nbformat_minor": 2
}
