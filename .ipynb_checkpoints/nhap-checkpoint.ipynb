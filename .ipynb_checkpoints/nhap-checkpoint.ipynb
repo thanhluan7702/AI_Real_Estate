{
 "cells": [
  {
   "cell_type": "code",
   "execution_count": 16,
   "id": "4a5b7a17",
   "metadata": {},
   "outputs": [],
   "source": [
    "import psycopg2\n",
    "import os\n",
    "import json"
   ]
  },
  {
   "cell_type": "code",
   "execution_count": 17,
   "id": "e5fbaa69",
   "metadata": {},
   "outputs": [],
   "source": [
    "def connect_to_database(database, user, password, host, port):\n",
    "    try:\n",
    "        connection = psycopg2.connect(\n",
    "            database=database,\n",
    "            user=user,\n",
    "            password=password,\n",
    "            host=host,\n",
    "            port=port\n",
    "        )\n",
    "        print(\"Connected to the database\")\n",
    "        return connection\n",
    "    except psycopg2.Error as e:\n",
    "        print(f\"Error: Unable to connect to the database\\n{e}\")\n",
    "        return None\n",
    "\n",
    "def close_connection(connection, cursor):\n",
    "    if connection:\n",
    "        connection.close()\n",
    "        print(\"Connection closed\")\n",
    "    if cursor:\n",
    "        cursor.close()"
   ]
  },
  {
   "cell_type": "code",
   "execution_count": 18,
   "id": "c7cd68b2",
   "metadata": {},
   "outputs": [],
   "source": [
    "def create_bds_table(cursor):\n",
    "    query = '''\n",
    "    CREATE TABLE IF NOT EXISTS BDS (\n",
    "        post_id INT PRIMARY KEY,\n",
    "        \"Tên trang web\" TEXT,\n",
    "        \"Loại tin\" TEXT,\n",
    "        \"Loại BDS\" TEXT,\n",
    "        \"Tiêu đề\" TEXT,\n",
    "        \"Giá\" TEXT,\n",
    "        \"Giá/m2\" TEXT,\n",
    "        \"Diện tích\" TEXT,\n",
    "        \"Diện tích sử dụng\" TEXT,\n",
    "        \"Chiều rộng\" TEXT,\n",
    "        \"Chiều dài\" TEXT,\n",
    "        \"Hướng nhà\" TEXT, \n",
    "        \"Hướng ban công\" TEXT,\n",
    "        \"Địa chỉ\" TEXT,\n",
    "        \"Pháp lý\" TEXT,\n",
    "        \"Số phòng ngủ\" TEXT,\n",
    "        \"Số toilet\" TEXT,\n",
    "        \"Chổ để xe hơi\" TEXT,\n",
    "        \"Phòng ăn\" TEXT,\n",
    "        \"Nhà bếp\" TEXT,\n",
    "        \"Sân thượng\" TEXT,\n",
    "        \"Tầng số\" TEXT,\n",
    "        \"Số tầng\" TEXT,\n",
    "        \"Nội thất\" TEXT,\n",
    "        \"Mặt tiền\" TEXT,\n",
    "        \"Đường trước nhà\" TEXT,\n",
    "        \"Đường vào\" TEXT,           \n",
    "        \"Chính chủ\" TEXT,\n",
    "        \"Mô tả\" TEXT,\n",
    "        \"URL\" TEXT,\n",
    "        \"Tên người dùng\" TEXT,\n",
    "        \"Liên hệ\" TEXT,\n",
    "        \"Loại hình đất\" TEXT,\n",
    "        \"Loại hình nhà ở\" TEXT,\n",
    "        \"Loại hình căn hộ\" TEXT,\n",
    "        \"Loại hình văn phòng\" TEXT,\n",
    "        card_visit TEXT,\n",
    "        \"Ngày crawl\" TEXT,       \n",
    "        \"Đặc điểm nhà/đất\" TEXT,\n",
    "        \"Đặc điểm căn hộ\" TEXT,\n",
    "        \"Tên phân khu/Lô/Block/Tháp\" TEXT,\n",
    "        \"Tình trạng bất động sản\" TEXT,       \n",
    "        \"Thuộc dự án\" TEXT,\n",
    "        \"Mã căn\" TEXT,\n",
    "        \"Mã tin\" TEXT,\n",
    "        \"Mã lô\" TEXT,\n",
    "        \"Số tiền cọc\" TEXT       \n",
    "    )\n",
    "    '''\n",
    "\n",
    "    cursor.execute(query)\n",
    "    return\n"
   ]
  },
  {
   "cell_type": "code",
   "execution_count": 24,
   "id": "76c0e830",
   "metadata": {},
   "outputs": [],
   "source": [
    "file_path = 'd:/DUE/AI_Real_Estate/data/record/alonhadat/2023-10-18/huong_0.json'\n",
    "with open(file_path, 'r', encoding='utf-8') as file:\n",
    "    alonhadat = json.load(file)\n",
    "\n",
    "file_path = 'd:/DUE/AI_Real_Estate/data/record/batdongsan/2023-11-16/huong_0.json'\n",
    "with open(file_path, 'r', encoding='utf-8') as file:\n",
    "    batdongsan = json.load(file)\n",
    "\n",
    "file_path = 'd:/DUE/AI_Real_Estate/data/record/nhatot/2023-10-05/huong_0.json'\n",
    "with open(file_path, 'r', encoding='utf-8') as file:\n",
    "    nhatot = json.load(file)"
   ]
  },
  {
   "cell_type": "code",
   "execution_count": null,
   "id": "d49af79d",
   "metadata": {},
   "outputs": [],
   "source": [
    "# List of JSON files and their corresponding columns\n",
    "files_and_columns = [\n",
    "    (\"alonhadat.json\", ['post_id', 'Loại tin', 'Tiêu đề', 'Mô tả', 'Giá:', 'Diện tích:', 'Địa chỉ', 'Mã tin', 'Hướng', 'Phòng ăn', 'Đường trước nhà', 'Nhà bếp', 'Loại BDS', 'Pháp lý', 'Sân thượng', 'Chiều ngang', 'Số lầu', 'Chổ để xe hơi', 'Chiều dài', 'Số phòng ngủ', 'Chính chủ', 'URL', 'date', 'Liên hệ', 'phone']),\n",
    "    (\"batdongsan.json\", ['post_id', 'Loại tin', 'Tiêu đề', 'Địa chỉ', 'Mô tả', 'Diện tích', 'Mức giá', 'Số phòng ngủ', 'Số toilet', 'Pháp lý', 'URL', 'date', 'Liên hệ', 'card_visit']),\n",
    "    (\"nhatot.json\", ['post_id', 'Loại tin', 'Tiêu đề', 'Địa chỉ', 'Mô tả', 'Diện tích', 'Mức giá', 'Số phòng ngủ', 'Số toilet', 'Pháp lý', 'URL', 'date', 'Liên hệ', 'card_visit'])\n",
    "]\n",
    "\n",
    "# Loop through files and insert data\n",
    "for file, columns in files_and_columns:\n",
    "    with open(file, 'r', encoding='utf-8') as json_file:\n",
    "        data = json.load(json_file)\n",
    "        for item in data:\n",
    "            values = [item.get(col, '') for col in columns]\n",
    "            insert_query = f\"INSERT INTO BDS ({', '.join(['\"' + col + '\"' for col in columns])}) VALUES ({', '.join(['%s' for _ in columns])})\"\n",
    "            cursor.execute(insert_query, values)"
   ]
  },
  {
   "cell_type": "code",
   "execution_count": 25,
   "id": "71a148da",
   "metadata": {
    "scrolled": false
   },
   "outputs": [],
   "source": [
    "# file_path = 'd:/DUE/AI_Real_Estate/alonhadat.json'\n",
    "# with open(file_path, 'r', encoding='utf-8') as file:\n",
    "#     for line in file:\n",
    "#         alonhadat = json.loads(line)\n",
    "\n",
    "# file_path = 'd:/DUE/AI_Real_Estate/batdongsan.json'\n",
    "# with open(file_path, 'r', encoding='utf-8') as file:\n",
    "#     for line in file:\n",
    "#         batdongsan = json.loads(line)\n",
    "        \n",
    "# file_path = 'd:/DUE/AI_Real_Estate/nhatot.json'\n",
    "# with open(file_path, 'r', encoding='utf-8') as file:\n",
    "#     for line in file:\n",
    "#         nhatot = json.loads(line)"
   ]
  },
  {
   "cell_type": "code",
   "execution_count": 26,
   "id": "fe999061",
   "metadata": {},
   "outputs": [
    {
     "name": "stdout",
     "output_type": "stream",
     "text": [
      "Connected to the database\n"
     ]
    }
   ],
   "source": [
    "database_name = \"AI_Real_Estate\"\n",
    "username = \"postgres\"\n",
    "password = \"postgres01\"\n",
    "host = \"localhost\"\n",
    "port = 5432\n",
    "\n",
    "conn = connect_to_database(database_name, username, password, host, port)\n",
    "cursor = conn.cursor()"
   ]
  },
  {
   "cell_type": "code",
   "execution_count": 27,
   "id": "d1f66d9e",
   "metadata": {},
   "outputs": [],
   "source": [
    "create_bds_table(cursor)\n",
    "create_nhatot_table(cursor)\n",
    "create_batdongsan_table(cursor)\n",
    "create_alonhadat_table(cursor)"
   ]
  },
  {
   "cell_type": "code",
   "execution_count": 28,
   "id": "fec6642f",
   "metadata": {},
   "outputs": [
    {
     "ename": "UniqueViolation",
     "evalue": "duplicate key value violates unique constraint \"nhatot_pkey\"\nDETAIL:  Key (post_id)=(110540453) already exists.\n",
     "output_type": "error",
     "traceback": [
      "\u001b[1;31m---------------------------------------------------------------------------\u001b[0m",
      "\u001b[1;31mUniqueViolation\u001b[0m                           Traceback (most recent call last)",
      "\u001b[1;32m<ipython-input-28-8e61e25d2677>\u001b[0m in \u001b[0;36m<module>\u001b[1;34m\u001b[0m\n\u001b[1;32m----> 1\u001b[1;33m \u001b[0minsert_data\u001b[0m\u001b[1;33m(\u001b[0m\u001b[0mnhatot\u001b[0m\u001b[1;33m,\u001b[0m \u001b[0mconn\u001b[0m\u001b[1;33m,\u001b[0m \u001b[0mcursor\u001b[0m\u001b[1;33m,\u001b[0m \u001b[1;34m'nhatot'\u001b[0m\u001b[1;33m)\u001b[0m\u001b[1;33m\u001b[0m\u001b[1;33m\u001b[0m\u001b[0m\n\u001b[0m\u001b[0;32m      2\u001b[0m \u001b[0minsert_data\u001b[0m\u001b[1;33m(\u001b[0m\u001b[0mbatdongsan\u001b[0m\u001b[1;33m,\u001b[0m \u001b[0mconn\u001b[0m\u001b[1;33m,\u001b[0m \u001b[0mcursor\u001b[0m\u001b[1;33m,\u001b[0m \u001b[1;34m'batdongsan'\u001b[0m\u001b[1;33m)\u001b[0m\u001b[1;33m\u001b[0m\u001b[1;33m\u001b[0m\u001b[0m\n\u001b[0;32m      3\u001b[0m \u001b[0minsert_data\u001b[0m\u001b[1;33m(\u001b[0m\u001b[0malonhadat\u001b[0m\u001b[1;33m,\u001b[0m \u001b[0mconn\u001b[0m\u001b[1;33m,\u001b[0m \u001b[0mcursor\u001b[0m\u001b[1;33m,\u001b[0m \u001b[1;34m'alonhadat'\u001b[0m\u001b[1;33m)\u001b[0m\u001b[1;33m\u001b[0m\u001b[1;33m\u001b[0m\u001b[0m\n",
      "\u001b[1;32m<ipython-input-23-6940beba8788>\u001b[0m in \u001b[0;36minsert_data\u001b[1;34m(data, conn, cursor, table_name, on_conflict)\u001b[0m\n\u001b[0;32m      4\u001b[0m         \u001b[0mvalues\u001b[0m \u001b[1;33m=\u001b[0m \u001b[1;34m', '\u001b[0m\u001b[1;33m.\u001b[0m\u001b[0mjoin\u001b[0m\u001b[1;33m(\u001b[0m\u001b[1;33m[\u001b[0m\u001b[1;34m'%s'\u001b[0m\u001b[1;33m]\u001b[0m \u001b[1;33m*\u001b[0m \u001b[0mlen\u001b[0m\u001b[1;33m(\u001b[0m\u001b[0mrow\u001b[0m\u001b[1;33m)\u001b[0m\u001b[1;33m)\u001b[0m\u001b[1;33m\u001b[0m\u001b[1;33m\u001b[0m\u001b[0m\n\u001b[0;32m      5\u001b[0m         \u001b[0minsert_query\u001b[0m \u001b[1;33m=\u001b[0m \u001b[1;34mf'INSERT INTO {table_name} ({columns}) VALUES ({values}) {on_conflict}'\u001b[0m\u001b[1;33m\u001b[0m\u001b[1;33m\u001b[0m\u001b[0m\n\u001b[1;32m----> 6\u001b[1;33m         \u001b[0mcursor\u001b[0m\u001b[1;33m.\u001b[0m\u001b[0mexecute\u001b[0m\u001b[1;33m(\u001b[0m\u001b[0minsert_query\u001b[0m\u001b[1;33m,\u001b[0m \u001b[0mtuple\u001b[0m\u001b[1;33m(\u001b[0m\u001b[0mrow\u001b[0m\u001b[1;33m.\u001b[0m\u001b[0mvalues\u001b[0m\u001b[1;33m(\u001b[0m\u001b[1;33m)\u001b[0m\u001b[1;33m)\u001b[0m\u001b[1;33m)\u001b[0m\u001b[1;33m\u001b[0m\u001b[1;33m\u001b[0m\u001b[0m\n\u001b[0m\u001b[0;32m      7\u001b[0m \u001b[1;33m\u001b[0m\u001b[0m\n\u001b[0;32m      8\u001b[0m     \u001b[0mconn\u001b[0m\u001b[1;33m.\u001b[0m\u001b[0mcommit\u001b[0m\u001b[1;33m(\u001b[0m\u001b[1;33m)\u001b[0m\u001b[1;33m\u001b[0m\u001b[1;33m\u001b[0m\u001b[0m\n",
      "\u001b[1;31mUniqueViolation\u001b[0m: duplicate key value violates unique constraint \"nhatot_pkey\"\nDETAIL:  Key (post_id)=(110540453) already exists.\n"
     ]
    }
   ],
   "source": [
    "insert_data(nhatot, conn, cursor, 'nhatot')\n",
    "insert_data(batdongsan, conn, cursor, 'batdongsan')\n",
    "insert_data(alonhadat, conn, cursor, 'alonhadat')"
   ]
  },
  {
   "cell_type": "code",
   "execution_count": null,
   "id": "13629dcd",
   "metadata": {},
   "outputs": [],
   "source": [
    "insert_from_nhatot(cursor)\n",
    "insert_from_batdongsan(cursor)\n",
    "insert_from_alonhadat(cursor)"
   ]
  },
  {
   "cell_type": "code",
   "execution_count": null,
   "id": "f5f43ca9",
   "metadata": {},
   "outputs": [],
   "source": [
    "# close_connection(conn, cursor)"
   ]
  },
  {
   "cell_type": "code",
   "execution_count": null,
   "id": "52c31464",
   "metadata": {},
   "outputs": [],
   "source": []
  }
 ],
 "metadata": {
  "kernelspec": {
   "display_name": "Python 3",
   "language": "python",
   "name": "python3"
  },
  "language_info": {
   "codemirror_mode": {
    "name": "ipython",
    "version": 3
   },
   "file_extension": ".py",
   "mimetype": "text/x-python",
   "name": "python",
   "nbconvert_exporter": "python",
   "pygments_lexer": "ipython3",
   "version": "3.8.2"
  }
 },
 "nbformat": 4,
 "nbformat_minor": 5
}
