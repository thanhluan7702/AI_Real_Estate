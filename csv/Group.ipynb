{
 "cells": [
  {
   "cell_type": "markdown",
   "id": "93ffe673",
   "metadata": {},
   "source": [
    "# Import library"
   ]
  },
  {
   "cell_type": "code",
   "execution_count": 1,
   "id": "74c9dab0",
   "metadata": {},
   "outputs": [],
   "source": [
    "import pandas as pd\n",
    "import re\n",
    "import numpy as np\n",
    "\n",
    "#library that contains punctuation\n",
    "import string\n",
    "string.punctuation\n",
    "import demoji"
   ]
  },
  {
   "cell_type": "markdown",
   "id": "42ca1bd3",
   "metadata": {},
   "source": [
    "# Import data"
   ]
  },
  {
   "cell_type": "code",
   "execution_count": 2,
   "id": "90c28d59",
   "metadata": {},
   "outputs": [
    {
     "name": "stderr",
     "output_type": "stream",
     "text": [
      "c:\\program files\\python38\\lib\\site-packages\\IPython\\core\\interactiveshell.py:3165: DtypeWarning: Columns (33) have mixed types.Specify dtype option on import or set low_memory=False.\n",
      "  has_raised = await self.run_ast_nodes(code_ast.body, cell_name,\n"
     ]
    }
   ],
   "source": [
    "nt=pd.read_csv('nt.csv')\n",
    "bds=pd.read_csv('bds.csv')\n",
    "al=pd.read_csv('alo.csv')"
   ]
  },
  {
   "cell_type": "code",
   "execution_count": 3,
   "id": "337efed0",
   "metadata": {},
   "outputs": [
    {
     "data": {
      "text/plain": [
       "Index(['Unnamed: 0', 'post_id', 'Loại tin', 'Tiêu đề', 'Giá', 'Diện tích',\n",
       "       'Địa chỉ', 'Giá/m2', 'Pháp lý', 'Loại hình đất', 'Mô tả', 'URL',\n",
       "       'Ngày crawl', 'Tên người dùng', 'card_visit', 'Hướng nhà',\n",
       "       'Chiều ngang', 'Chiều dài', 'Đặc điểm nhà/đất', 'Số phòng ngủ',\n",
       "       'Số toilet', 'Loại hình nhà ở', 'Diện tích sử dụng', 'Tổng số tầng',\n",
       "       'Nội thất', 'Tên phân khu/Lô/Block/Tháp', 'Tình trạng bất động sản',\n",
       "       'Tầng số', 'Hướng ban công', 'Loại hình căn hộ', 'Loại hình văn phòng',\n",
       "       'Mã căn', 'Đặc điểm căn hộ', 'Mã lô', 'Số tiền cọc'],\n",
       "      dtype='object')"
      ]
     },
     "execution_count": 3,
     "metadata": {},
     "output_type": "execute_result"
    }
   ],
   "source": [
    "# nhatot\n",
    "nt.columns "
   ]
  },
  {
   "cell_type": "raw",
   "id": "fd071c35",
   "metadata": {},
   "source": [
    "Index(['Unnamed: 0', 'post_id', 'Loại tin', 'Tiêu đề', 'Giá', 'Diện tích',\n",
    "       'Địa chỉ', 'Giá/m2', 'Pháp lý', 'Loại hình đất', 'Mô tả', 'URL',\n",
    "       'Ngày crawl', 'Tên người dùng', 'card_visit', 'Hướng nhà',\n",
    "       'Chiều ngang', 'Chiều dài', 'Đặc điểm nhà/đất', 'Số phòng ngủ',\n",
    "       'Số toilet', 'Loại hình nhà ở', 'Diện tích sử dụng', 'Tổng số tầng',\n",
    "       'Nội thất', 'Tên phân khu/Lô/Block/Tháp', 'Tình trạng bất động sản',\n",
    "       'Tầng số', 'Hướng ban công', 'Loại hình căn hộ', 'Loại hình văn phòng',\n",
    "       'Mã căn', 'Đặc điểm căn hộ', 'Mã lô', 'Số tiền cọc'],\n",
    "      dtype='object')"
   ]
  },
  {
   "cell_type": "code",
   "execution_count": 4,
   "id": "ed44ad88",
   "metadata": {},
   "outputs": [
    {
     "data": {
      "text/plain": [
       "Index(['Unnamed: 0', 'post_id', 'Loại tin', 'Tiêu đề', 'Địa chỉ', 'Mô tả',\n",
       "       'Diện tích', 'Giá', 'Mặt tiền', 'Đường vào', 'Hướng nhà',\n",
       "       'Hướng ban công', 'Số tầng', 'Số phòng ngủ', 'Số toilet', 'URL',\n",
       "       'Ngày crawl', 'card_visit', 'Pháp lý', 'Nội thất', 'Giá/m2'],\n",
       "      dtype='object')"
      ]
     },
     "execution_count": 4,
     "metadata": {},
     "output_type": "execute_result"
    }
   ],
   "source": [
    "# batdongsan\n",
    "bds.columns"
   ]
  },
  {
   "cell_type": "raw",
   "id": "4f1fea94",
   "metadata": {},
   "source": [
    "Index(['Unnamed: 0', 'post_id', 'Loại tin', 'Tiêu đề', 'Địa chỉ', 'Mô tả',\n",
    "       'Diện tích', 'Giá', 'Mặt tiền', 'Đường vào', 'Hướng nhà',\n",
    "       'Hướng ban công', 'Số tầng', 'Số phòng ngủ', 'Số toilet', 'URL',\n",
    "       'Ngày crawl', 'card_visit', 'Pháp lý', 'Nội thất', 'Giá/m2'],\n",
    "      dtype='object')"
   ]
  },
  {
   "cell_type": "code",
   "execution_count": 5,
   "id": "a204412c",
   "metadata": {},
   "outputs": [
    {
     "data": {
      "text/plain": [
       "Index(['Unnamed: 0', 'post_id', 'Loại tin', 'Tiêu đề', 'Mô tả', 'Giá',\n",
       "       'Diện tích', 'Địa chỉ', 'Mã tin', 'Hướng nhà', 'Phòng ăn',\n",
       "       'Đường trước nhà', 'Nhà bếp', 'Loại BDS', 'Pháp lý', 'Sân thượng',\n",
       "       'Chiều ngang', 'Số lầu', 'Chổ để xe hơi', 'Chiều dài', 'Số phòng ngủ',\n",
       "       'Chính chủ', 'URL', 'Ngày crawl', 'Tên người dùng', 'Liên hệ',\n",
       "       'Thuộc dự án', 'Giá/m2'],\n",
       "      dtype='object')"
      ]
     },
     "execution_count": 5,
     "metadata": {},
     "output_type": "execute_result"
    }
   ],
   "source": [
    "# alonhadat\n",
    "al.columns"
   ]
  },
  {
   "cell_type": "raw",
   "id": "c0ca6e71",
   "metadata": {},
   "source": [
    "Index(['Unnamed: 0', 'post_id', 'Loại tin', 'Tiêu đề', 'Mô tả', 'Giá',\n",
    "       'Diện tích', 'Địa chỉ', 'Mã tin', 'Hướng nhà', 'Phòng ăn',\n",
    "       'Đường trước nhà', 'Nhà bếp', 'Loại BDS', 'Pháp lý', 'Sân thượng',\n",
    "       'Chiều ngang', 'Số lầu', 'Chổ để xe hơi', 'Chiều dài', 'Số phòng ngủ',\n",
    "       'Chính chủ', 'URL', 'Ngày crawl', 'Tên người dùng', 'Liên hệ',\n",
    "       'Thuộc dự án', 'Giá/m2'],\n",
    "      dtype='object')"
   ]
  },
  {
   "cell_type": "markdown",
   "id": "54dad5c7",
   "metadata": {},
   "source": [
    "# Merge data"
   ]
  },
  {
   "cell_type": "code",
   "execution_count": 6,
   "id": "9c8c13a5",
   "metadata": {},
   "outputs": [],
   "source": [
    "nt=nt.rename(columns={'Tầng số':'Số tầng'})\n",
    "# bds= bds.rename(columns={})\n",
    "al=al.rename(columns={'Số lầu':'Số tầng','Chổ để xe hơi':'Chỗ để xe hơi'})"
   ]
  },
  {
   "cell_type": "code",
   "execution_count": 7,
   "id": "7b10b56d",
   "metadata": {},
   "outputs": [],
   "source": [
    "df=pd.concat([nt,bds,al], join=\"outer\")"
   ]
  },
  {
   "cell_type": "code",
   "execution_count": 8,
   "id": "7dd434b0",
   "metadata": {},
   "outputs": [
    {
     "data": {
      "text/plain": [
       "(33590, 47)"
      ]
     },
     "execution_count": 8,
     "metadata": {},
     "output_type": "execute_result"
    }
   ],
   "source": [
    "df.shape"
   ]
  },
  {
   "cell_type": "code",
   "execution_count": 9,
   "id": "cbac9ae7",
   "metadata": {},
   "outputs": [
    {
     "data": {
      "text/plain": [
       "Index(['Unnamed: 0', 'post_id', 'Loại tin', 'Tiêu đề', 'Giá', 'Diện tích',\n",
       "       'Địa chỉ', 'Giá/m2', 'Pháp lý', 'Loại hình đất', 'Mô tả', 'URL',\n",
       "       'Ngày crawl', 'Tên người dùng', 'card_visit', 'Hướng nhà',\n",
       "       'Chiều ngang', 'Chiều dài', 'Đặc điểm nhà/đất', 'Số phòng ngủ',\n",
       "       'Số toilet', 'Loại hình nhà ở', 'Diện tích sử dụng', 'Tổng số tầng',\n",
       "       'Nội thất', 'Tên phân khu/Lô/Block/Tháp', 'Tình trạng bất động sản',\n",
       "       'Số tầng', 'Hướng ban công', 'Loại hình căn hộ', 'Loại hình văn phòng',\n",
       "       'Mã căn', 'Đặc điểm căn hộ', 'Mã lô', 'Số tiền cọc', 'Mặt tiền',\n",
       "       'Đường vào', 'Mã tin', 'Phòng ăn', 'Đường trước nhà', 'Nhà bếp',\n",
       "       'Loại BDS', 'Sân thượng', 'Chỗ để xe hơi', 'Chính chủ', 'Liên hệ',\n",
       "       'Thuộc dự án'],\n",
       "      dtype='object')"
      ]
     },
     "execution_count": 9,
     "metadata": {},
     "output_type": "execute_result"
    }
   ],
   "source": [
    "df.columns"
   ]
  },
  {
   "cell_type": "code",
   "execution_count": 10,
   "id": "a020fb0d",
   "metadata": {},
   "outputs": [],
   "source": [
    "df = df.drop(['Unnamed: 0', 'post_id','Mã căn','Mã lô', 'Mã tin'], axis=1)"
   ]
  },
  {
   "cell_type": "code",
   "execution_count": 11,
   "id": "546d5829",
   "metadata": {},
   "outputs": [
    {
     "data": {
      "text/plain": [
       "Index(['Loại tin', 'Tiêu đề', 'Giá', 'Diện tích', 'Địa chỉ', 'Giá/m2',\n",
       "       'Pháp lý', 'Loại hình đất', 'Mô tả', 'URL', 'Ngày crawl',\n",
       "       'Tên người dùng', 'card_visit', 'Hướng nhà', 'Chiều ngang', 'Chiều dài',\n",
       "       'Đặc điểm nhà/đất', 'Số phòng ngủ', 'Số toilet', 'Loại hình nhà ở',\n",
       "       'Diện tích sử dụng', 'Tổng số tầng', 'Nội thất',\n",
       "       'Tên phân khu/Lô/Block/Tháp', 'Tình trạng bất động sản', 'Số tầng',\n",
       "       'Hướng ban công', 'Loại hình căn hộ', 'Loại hình văn phòng',\n",
       "       'Đặc điểm căn hộ', 'Số tiền cọc', 'Mặt tiền', 'Đường vào', 'Phòng ăn',\n",
       "       'Đường trước nhà', 'Nhà bếp', 'Loại BDS', 'Sân thượng', 'Chỗ để xe hơi',\n",
       "       'Chính chủ', 'Liên hệ', 'Thuộc dự án'],\n",
       "      dtype='object')"
      ]
     },
     "execution_count": 11,
     "metadata": {},
     "output_type": "execute_result"
    }
   ],
   "source": [
    "df.columns"
   ]
  },
  {
   "cell_type": "code",
   "execution_count": 48,
   "id": "e0943bee",
   "metadata": {},
   "outputs": [
    {
     "data": {
      "text/plain": [
       "Loại tin                          0\n",
       "Tiêu đề                           0\n",
       "Giá                             796\n",
       "Diện tích                         1\n",
       "Địa chỉ                           0\n",
       "Giá/m2                         9038\n",
       "Pháp lý                       14002\n",
       "Loại hình đất                 30076\n",
       "Mô tả                             0\n",
       "URL                               0\n",
       "Ngày crawl                        0\n",
       "Tên người dùng                 5140\n",
       "card_visit                    11437\n",
       "Hướng nhà                     20853\n",
       "Chiều ngang                   17108\n",
       "Chiều dài                     19924\n",
       "Đặc điểm nhà/đất              30158\n",
       "Số phòng ngủ                  12081\n",
       "Số toilet                     21969\n",
       "Loại hình nhà ở               26270\n",
       "Diện tích sử dụng             30039\n",
       "Tổng số tầng                  28861\n",
       "Nội thất                      26139\n",
       "Tên phân khu/Lô/Block/Tháp    32685\n",
       "Tình trạng bất động sản       32351\n",
       "Số tầng                       23171\n",
       "Hướng ban công                31915\n",
       "Loại hình căn hộ              29734\n",
       "Loại hình văn phòng           31733\n",
       "Đặc điểm căn hộ               33413\n",
       "Số tiền cọc                   29574\n",
       "Mặt tiền                      31142\n",
       "Đường vào                     31272\n",
       "Phòng ăn                      29121\n",
       "Đường trước nhà               22804\n",
       "Nhà bếp                       29106\n",
       "Loại BDS                      22153\n",
       "Sân thượng                    29559\n",
       "Chỗ để xe hơi                 29148\n",
       "Chính chủ                     33576\n",
       "Liên hệ                       22153\n",
       "Thuộc dự án                   33136\n",
       "dtype: int64"
      ]
     },
     "execution_count": 48,
     "metadata": {},
     "output_type": "execute_result"
    }
   ],
   "source": [
    "df.isnull().sum()"
   ]
  },
  {
   "cell_type": "code",
   "execution_count": 49,
   "id": "f17189b6",
   "metadata": {},
   "outputs": [
    {
     "name": "stdout",
     "output_type": "stream",
     "text": [
      "<class 'pandas.core.frame.DataFrame'>\n",
      "Int64Index: 33590 entries, 0 to 11436\n",
      "Data columns (total 42 columns):\n",
      " #   Column                      Non-Null Count  Dtype  \n",
      "---  ------                      --------------  -----  \n",
      " 0   Loại tin                    33590 non-null  object \n",
      " 1   Tiêu đề                     33590 non-null  object \n",
      " 2   Giá                         32794 non-null  float64\n",
      " 3   Diện tích                   33589 non-null  float64\n",
      " 4   Địa chỉ                     33590 non-null  object \n",
      " 5   Giá/m2                      24552 non-null  float64\n",
      " 6   Pháp lý                     19588 non-null  object \n",
      " 7   Loại hình đất               3514 non-null   object \n",
      " 8   Mô tả                       33590 non-null  object \n",
      " 9   URL                         33590 non-null  object \n",
      " 10  Ngày crawl                  33590 non-null  object \n",
      " 11  Tên người dùng              28450 non-null  object \n",
      " 12  card_visit                  22153 non-null  object \n",
      " 13  Hướng nhà                   12737 non-null  object \n",
      " 14  Chiều ngang                 16482 non-null  float64\n",
      " 15  Chiều dài                   13666 non-null  float64\n",
      " 16  Đặc điểm nhà/đất            3432 non-null   object \n",
      " 17  Số phòng ngủ                21509 non-null  object \n",
      " 18  Số toilet                   11621 non-null  object \n",
      " 19  Loại hình nhà ở             7320 non-null   object \n",
      " 20  Diện tích sử dụng           3551 non-null   float64\n",
      " 21  Tổng số tầng                4729 non-null   float64\n",
      " 22  Nội thất                    7451 non-null   object \n",
      " 23  Tên phân khu/Lô/Block/Tháp  905 non-null    object \n",
      " 24  Tình trạng bất động sản     1239 non-null   object \n",
      " 25  Số tầng                     10419 non-null  float64\n",
      " 26  Hướng ban công              1675 non-null   object \n",
      " 27  Loại hình căn hộ            3856 non-null   object \n",
      " 28  Loại hình văn phòng         1857 non-null   object \n",
      " 29  Đặc điểm căn hộ             177 non-null    object \n",
      " 30  Số tiền cọc                 4016 non-null   float64\n",
      " 31  Mặt tiền                    2448 non-null   float64\n",
      " 32  Đường vào                   2318 non-null   float64\n",
      " 33  Phòng ăn                    4469 non-null   object \n",
      " 34  Đường trước nhà             10786 non-null  float64\n",
      " 35  Nhà bếp                     4484 non-null   object \n",
      " 36  Loại BDS                    11437 non-null  object \n",
      " 37  Sân thượng                  4031 non-null   object \n",
      " 38  Chỗ để xe hơi               4442 non-null   object \n",
      " 39  Chính chủ                   14 non-null     object \n",
      " 40  Liên hệ                     11437 non-null  object \n",
      " 41  Thuộc dự án                 454 non-null    object \n",
      "dtypes: float64(12), object(30)\n",
      "memory usage: 11.0+ MB\n"
     ]
    }
   ],
   "source": [
    "df.info()"
   ]
  },
  {
   "cell_type": "code",
   "execution_count": 50,
   "id": "69b6ec35",
   "metadata": {},
   "outputs": [
    {
     "data": {
      "text/plain": [
       "0"
      ]
     },
     "execution_count": 50,
     "metadata": {},
     "output_type": "execute_result"
    }
   ],
   "source": [
    "df.duplicated().sum()"
   ]
  },
  {
   "cell_type": "code",
   "execution_count": 51,
   "id": "ade5c492",
   "metadata": {},
   "outputs": [],
   "source": [
    "# df = df.drop_duplicates()"
   ]
  },
  {
   "cell_type": "markdown",
   "id": "b4e5d8d1",
   "metadata": {},
   "source": [
    "# Mô tả"
   ]
  },
  {
   "cell_type": "code",
   "execution_count": 52,
   "id": "7f69a63e",
   "metadata": {},
   "outputs": [],
   "source": [
    "def clean_description(text):\n",
    "    text_without_emojis = demoji.replace(text, \" \").strip()\n",
    "#     clean_text = unidecode.unidecode(text_without_emojis)    \n",
    "    return text_without_emojis"
   ]
  },
  {
   "cell_type": "code",
   "execution_count": 53,
   "id": "0d868a73",
   "metadata": {},
   "outputs": [],
   "source": [
    "df['Mô tả'] = df['Mô tả'].apply(clean_description)"
   ]
  },
  {
   "cell_type": "markdown",
   "id": "7964d7b9",
   "metadata": {},
   "source": [
    "# Quận"
   ]
  },
  {
   "cell_type": "code",
   "execution_count": 54,
   "id": "ae179d30",
   "metadata": {},
   "outputs": [],
   "source": [
    "df['Quận'] = df['Địa chỉ'].apply(lambda x: x.split(',')[-2].replace('Huyện', '').replace('Quận', '').strip())"
   ]
  },
  {
   "cell_type": "code",
   "execution_count": 55,
   "id": "3edfb789",
   "metadata": {},
   "outputs": [
    {
     "data": {
      "text/plain": [
       "array(['Hòa Vang', 'Liên Chiểu', 'Hải Châu', 'Thanh Khê', 'Ngũ Hành Sơn',\n",
       "       'Cẩm Lệ', 'Sơn Trà', 'Hoàng Sa', 'Chơn Thành',\n",
       "       'Nguyễn Phẩm  Cẩm Lệ', 'Đường số 1  Liên Chiểu'], dtype=object)"
      ]
     },
     "execution_count": 55,
     "metadata": {},
     "output_type": "execute_result"
    }
   ],
   "source": [
    "df['Quận'].unique()"
   ]
  },
  {
   "cell_type": "code",
   "execution_count": 56,
   "id": "a860b33e",
   "metadata": {},
   "outputs": [],
   "source": [
    "df['Quận'] = df['Quận'].apply(lambda x: x.replace('Nguyễn Phẩm  ', '').replace('Đường số 1  ', '').strip())"
   ]
  },
  {
   "cell_type": "markdown",
   "id": "05c387df",
   "metadata": {},
   "source": [
    "# Đường"
   ]
  },
  {
   "cell_type": "code",
   "execution_count": 57,
   "id": "5acf9941",
   "metadata": {},
   "outputs": [],
   "source": [
    "df['Đường']=df['Địa chỉ'].apply(lambda x: x.split(',')[0].strip())"
   ]
  },
  {
   "cell_type": "code",
   "execution_count": 58,
   "id": "e70bd6f6",
   "metadata": {},
   "outputs": [
    {
     "data": {
      "text/plain": [
       "array(['DT 602', '21', 'K82/H10/36', ..., 'số 20 Đường 2/9',\n",
       "       'Đường Mân Quang 9', 'Sơn Thủy Đông Phường Khuê Mỹ'], dtype=object)"
      ]
     },
     "execution_count": 58,
     "metadata": {},
     "output_type": "execute_result"
    }
   ],
   "source": [
    "df['Đường'].unique()"
   ]
  },
  {
   "cell_type": "markdown",
   "id": "4f67694c",
   "metadata": {},
   "source": [
    "# Giá trung bình (quận)"
   ]
  },
  {
   "cell_type": "code",
   "execution_count": null,
   "id": "0f402940",
   "metadata": {},
   "outputs": [],
   "source": []
  },
  {
   "cell_type": "markdown",
   "id": "c108fea7",
   "metadata": {},
   "source": [
    "# Set range price, range size"
   ]
  },
  {
   "cell_type": "code",
   "execution_count": 59,
   "id": "67e4ba00",
   "metadata": {},
   "outputs": [],
   "source": [
    "# def range_(x,Q1,Q2,Q3):\n",
    "#     rpr=x\n",
    "#     if x < Q1:\n",
    "#         rpr= 'Dưới ' + str(round(Q1))\n",
    "#     elif x< Q2:\n",
    "#         rpr= 'Từ ' + str(round(Q1)) + ' đến ' + str(round(Q2))\n",
    "#     elif x< Q3:\n",
    "#         rpr= 'Từ ' + str(round(Q2)) + ' đến ' + str(round(Q3))\n",
    "#     else:\n",
    "#         rpr= 'Trên ' + str(round(Q3))\n",
    "#     return rpr"
   ]
  },
  {
   "cell_type": "code",
   "execution_count": 60,
   "id": "60085405",
   "metadata": {},
   "outputs": [],
   "source": [
    "# df['Khoảng giá']=df['Giá'].apply(lambda x: range_(x,500000000,1000000000,5000000000))\n",
    "# df['Khoảng diện tích']=df['Diện tích (m²)'].apply(lambda x: range_(x,50,100,500))"
   ]
  },
  {
   "cell_type": "code",
   "execution_count": 61,
   "id": "b67b8d06",
   "metadata": {},
   "outputs": [
    {
     "data": {
      "text/html": [
       "<div>\n",
       "<style scoped>\n",
       "    .dataframe tbody tr th:only-of-type {\n",
       "        vertical-align: middle;\n",
       "    }\n",
       "\n",
       "    .dataframe tbody tr th {\n",
       "        vertical-align: top;\n",
       "    }\n",
       "\n",
       "    .dataframe thead th {\n",
       "        text-align: right;\n",
       "    }\n",
       "</style>\n",
       "<table border=\"1\" class=\"dataframe\">\n",
       "  <thead>\n",
       "    <tr style=\"text-align: right;\">\n",
       "      <th></th>\n",
       "      <th>Loại tin</th>\n",
       "      <th>Tiêu đề</th>\n",
       "      <th>Giá</th>\n",
       "      <th>Diện tích</th>\n",
       "      <th>Địa chỉ</th>\n",
       "      <th>Giá/m2</th>\n",
       "      <th>Pháp lý</th>\n",
       "      <th>Loại hình đất</th>\n",
       "      <th>Mô tả</th>\n",
       "      <th>URL</th>\n",
       "      <th>...</th>\n",
       "      <th>Đường trước nhà</th>\n",
       "      <th>Nhà bếp</th>\n",
       "      <th>Loại BDS</th>\n",
       "      <th>Sân thượng</th>\n",
       "      <th>Chỗ để xe hơi</th>\n",
       "      <th>Chính chủ</th>\n",
       "      <th>Liên hệ</th>\n",
       "      <th>Thuộc dự án</th>\n",
       "      <th>Quận</th>\n",
       "      <th>Đường</th>\n",
       "    </tr>\n",
       "  </thead>\n",
       "  <tbody>\n",
       "    <tr>\n",
       "      <th>0</th>\n",
       "      <td>Mua bán</td>\n",
       "      <td>Bán 4ha đất vườn sổ đỏ có sẳn trang trại nhà v...</td>\n",
       "      <td>9.500000e+09</td>\n",
       "      <td>40000.0</td>\n",
       "      <td>DT 602, Xã Hòa Ninh, Huyện Hòa Vang, Đà Nẵng</td>\n",
       "      <td>2.375000e+05</td>\n",
       "      <td>Đã có sổ</td>\n",
       "      <td>Đất nông nghiệp</td>\n",
       "      <td>Đất rộng lại giá tốt 40.000m có sẵn vườn cây ă...</td>\n",
       "      <td>https://www.nhatot.com/mua-ban-dat-huyen-hoa-v...</td>\n",
       "      <td>...</td>\n",
       "      <td>NaN</td>\n",
       "      <td>NaN</td>\n",
       "      <td>NaN</td>\n",
       "      <td>NaN</td>\n",
       "      <td>NaN</td>\n",
       "      <td>NaN</td>\n",
       "      <td>NaN</td>\n",
       "      <td>NaN</td>\n",
       "      <td>Hòa Vang</td>\n",
       "      <td>DT 602</td>\n",
       "    </tr>\n",
       "    <tr>\n",
       "      <th>1</th>\n",
       "      <td>Mua bán</td>\n",
       "      <td>Bán đất 21 Đỗ Nhuận, dt: 250m2, ngang 8m, nở h...</td>\n",
       "      <td>8.200000e+09</td>\n",
       "      <td>250.0</td>\n",
       "      <td>21, Đường Đỗ Nhuận, Phường Hòa Minh, Quận Liên...</td>\n",
       "      <td>3.280000e+07</td>\n",
       "      <td>Đã có sổ</td>\n",
       "      <td>Đất thổ cư</td>\n",
       "      <td>+ Bán đất số 21 Đỗ Nhuận, khu Trung Nghĩa, phư...</td>\n",
       "      <td>https://www.nhatot.com/mua-ban-dat-quan-lien-c...</td>\n",
       "      <td>...</td>\n",
       "      <td>NaN</td>\n",
       "      <td>NaN</td>\n",
       "      <td>NaN</td>\n",
       "      <td>NaN</td>\n",
       "      <td>NaN</td>\n",
       "      <td>NaN</td>\n",
       "      <td>NaN</td>\n",
       "      <td>NaN</td>\n",
       "      <td>Liên Chiểu</td>\n",
       "      <td>21</td>\n",
       "    </tr>\n",
       "    <tr>\n",
       "      <th>2</th>\n",
       "      <td>Mua bán</td>\n",
       "      <td>Bán nhà hẻm 3m5 Nguyễn Văn Linh, 140m2 đất, ng...</td>\n",
       "      <td>4.950000e+09</td>\n",
       "      <td>140.0</td>\n",
       "      <td>K82/H10/36, Nguyễn văn linh, Phường Nam Dương,...</td>\n",
       "      <td>3.536000e+07</td>\n",
       "      <td>Đã có sổ</td>\n",
       "      <td>NaN</td>\n",
       "      <td>Bán nhà kiệt 82 Nguyễn Văn Linh, hẻm 3m5, cách...</td>\n",
       "      <td>https://www.nhatot.com/mua-ban-nha-dat-quan-ha...</td>\n",
       "      <td>...</td>\n",
       "      <td>NaN</td>\n",
       "      <td>NaN</td>\n",
       "      <td>NaN</td>\n",
       "      <td>NaN</td>\n",
       "      <td>NaN</td>\n",
       "      <td>NaN</td>\n",
       "      <td>NaN</td>\n",
       "      <td>NaN</td>\n",
       "      <td>Hải Châu</td>\n",
       "      <td>K82/H10/36</td>\n",
       "    </tr>\n",
       "    <tr>\n",
       "      <th>3</th>\n",
       "      <td>Mua bán</td>\n",
       "      <td>Bán đất hẻm 3m 59/31 Núi Thành, 162m2, 4.25 tỷ...</td>\n",
       "      <td>4.250000e+09</td>\n",
       "      <td>162.0</td>\n",
       "      <td>Kiệt 59 Núi Thành, Phường Bình Hiên, Quận Hải ...</td>\n",
       "      <td>2.623000e+07</td>\n",
       "      <td>NaN</td>\n",
       "      <td>Đất thổ cư</td>\n",
       "      <td>Bán đất hẻm 3m số 59/31 Núi Thành, cách đường ...</td>\n",
       "      <td>https://www.nhatot.com/mua-ban-dat-quan-hai-ch...</td>\n",
       "      <td>...</td>\n",
       "      <td>NaN</td>\n",
       "      <td>NaN</td>\n",
       "      <td>NaN</td>\n",
       "      <td>NaN</td>\n",
       "      <td>NaN</td>\n",
       "      <td>NaN</td>\n",
       "      <td>NaN</td>\n",
       "      <td>NaN</td>\n",
       "      <td>Hải Châu</td>\n",
       "      <td>Kiệt 59 Núi Thành</td>\n",
       "    </tr>\n",
       "    <tr>\n",
       "      <th>4</th>\n",
       "      <td>Mua bán</td>\n",
       "      <td>Nhà 2 tầng 2 mặt kiệt ngay biển Nguyễn Tất Thà...</td>\n",
       "      <td>2.950000e+09</td>\n",
       "      <td>62.0</td>\n",
       "      <td>K1/20, Tôn Thất Đạm, Phường Xuân Hà, Quận Than...</td>\n",
       "      <td>4.758000e+07</td>\n",
       "      <td>Đã có sổ</td>\n",
       "      <td>NaN</td>\n",
       "      <td>Tôi là chính chủ cần bán nhà tại địa chỉ K1/20...</td>\n",
       "      <td>https://www.nhatot.com/mua-ban-nha-dat-quan-th...</td>\n",
       "      <td>...</td>\n",
       "      <td>NaN</td>\n",
       "      <td>NaN</td>\n",
       "      <td>NaN</td>\n",
       "      <td>NaN</td>\n",
       "      <td>NaN</td>\n",
       "      <td>NaN</td>\n",
       "      <td>NaN</td>\n",
       "      <td>NaN</td>\n",
       "      <td>Thanh Khê</td>\n",
       "      <td>K1/20</td>\n",
       "    </tr>\n",
       "    <tr>\n",
       "      <th>...</th>\n",
       "      <td>...</td>\n",
       "      <td>...</td>\n",
       "      <td>...</td>\n",
       "      <td>...</td>\n",
       "      <td>...</td>\n",
       "      <td>...</td>\n",
       "      <td>...</td>\n",
       "      <td>...</td>\n",
       "      <td>...</td>\n",
       "      <td>...</td>\n",
       "      <td>...</td>\n",
       "      <td>...</td>\n",
       "      <td>...</td>\n",
       "      <td>...</td>\n",
       "      <td>...</td>\n",
       "      <td>...</td>\n",
       "      <td>...</td>\n",
       "      <td>...</td>\n",
       "      <td>...</td>\n",
       "      <td>...</td>\n",
       "      <td>...</td>\n",
       "    </tr>\n",
       "    <tr>\n",
       "      <th>11432</th>\n",
       "      <td>Cho thuê</td>\n",
       "      <td>Cho thuê nhà góc 10m5 Phan Thao &amp; 7m5 Hoàng Đì...</td>\n",
       "      <td>2.000000e+07</td>\n",
       "      <td>180.0</td>\n",
       "      <td>Đường Phan Thao, Phường Hòa Xuân, Quận Cẩm Lệ,...</td>\n",
       "      <td>1.111111e+05</td>\n",
       "      <td>Sổ hồng/ Sổ đỏ</td>\n",
       "      <td>NaN</td>\n",
       "      <td>Cho thuê nhà lô góc 10m5 Phan Thao &amp; Hoàng Đìn...</td>\n",
       "      <td>https://alonhadat.com.vn//cho-thue-nha-goc-10m...</td>\n",
       "      <td>...</td>\n",
       "      <td>10.0</td>\n",
       "      <td>NaN</td>\n",
       "      <td>Nhà mặt tiền</td>\n",
       "      <td>NaN</td>\n",
       "      <td>NaN</td>\n",
       "      <td>NaN</td>\n",
       "      <td>0935 808 748</td>\n",
       "      <td>NaN</td>\n",
       "      <td>Cẩm Lệ</td>\n",
       "      <td>Đường Phan Thao</td>\n",
       "    </tr>\n",
       "    <tr>\n",
       "      <th>11433</th>\n",
       "      <td>Cho thuê</td>\n",
       "      <td>Cho thuê mặt  bằng mới xây 2 tầng mặt tiền đườ...</td>\n",
       "      <td>3.000000e+07</td>\n",
       "      <td>200.0</td>\n",
       "      <td>Đường 29/3, Phường Hòa Xuân, Quận Cẩm Lệ, Đà Nẵng</td>\n",
       "      <td>1.500000e+05</td>\n",
       "      <td>Sổ hồng/ Sổ đỏ</td>\n",
       "      <td>NaN</td>\n",
       "      <td>- Cần cho thuê mặt bằng kinh doanh 2 tầng 400m...</td>\n",
       "      <td>https://alonhadat.com.vn//cho-thue-mat-bang-mo...</td>\n",
       "      <td>...</td>\n",
       "      <td>7.5</td>\n",
       "      <td>NaN</td>\n",
       "      <td>Mặt bằng</td>\n",
       "      <td>NaN</td>\n",
       "      <td>NaN</td>\n",
       "      <td>NaN</td>\n",
       "      <td>0935 808 748</td>\n",
       "      <td>NaN</td>\n",
       "      <td>Cẩm Lệ</td>\n",
       "      <td>Đường 29/3</td>\n",
       "    </tr>\n",
       "    <tr>\n",
       "      <th>11434</th>\n",
       "      <td>Cho thuê</td>\n",
       "      <td>Cho thuê 400m2 lô góc 29/3 &amp; Lê Minh Trung,Hòa...</td>\n",
       "      <td>3.000000e+07</td>\n",
       "      <td>400.0</td>\n",
       "      <td>Đường 29/3, Phường Hòa Xuân, Quận Cẩm Lệ, Đà Nẵng</td>\n",
       "      <td>7.500000e+04</td>\n",
       "      <td>Sổ hồng/ Sổ đỏ</td>\n",
       "      <td>NaN</td>\n",
       "      <td>- Cho thuê lô góc  đường 29/3 &amp; lê Minh Trung,...</td>\n",
       "      <td>https://alonhadat.com.vn//cho-thue-400m2-lo-go...</td>\n",
       "      <td>...</td>\n",
       "      <td>7.5</td>\n",
       "      <td>NaN</td>\n",
       "      <td>Đất nền, liền kề, đất dự án</td>\n",
       "      <td>NaN</td>\n",
       "      <td>NaN</td>\n",
       "      <td>NaN</td>\n",
       "      <td>0935 808 748</td>\n",
       "      <td>NaN</td>\n",
       "      <td>Cẩm Lệ</td>\n",
       "      <td>Đường 29/3</td>\n",
       "    </tr>\n",
       "    <tr>\n",
       "      <th>11435</th>\n",
       "      <td>Cho thuê</td>\n",
       "      <td>Cho thuê đất lô góc đường 29/3 &amp; Thái Văn Lung...</td>\n",
       "      <td>1.000000e+07</td>\n",
       "      <td>174.0</td>\n",
       "      <td>Đường 29/3, Phường Hòa Xuân, Quận Cẩm Lệ, Đà Nẵng</td>\n",
       "      <td>5.747126e+04</td>\n",
       "      <td>Sổ hồng/ Sổ đỏ</td>\n",
       "      <td>NaN</td>\n",
       "      <td>- Cần cho thuê đất lô góc đường 29/3 &amp; Thái Vă...</td>\n",
       "      <td>https://alonhadat.com.vn//cho-thue-dat-lo-goc-...</td>\n",
       "      <td>...</td>\n",
       "      <td>7.5</td>\n",
       "      <td>NaN</td>\n",
       "      <td>Đất nền, liền kề, đất dự án</td>\n",
       "      <td>NaN</td>\n",
       "      <td>NaN</td>\n",
       "      <td>NaN</td>\n",
       "      <td>0935 808 748</td>\n",
       "      <td>NaN</td>\n",
       "      <td>Cẩm Lệ</td>\n",
       "      <td>Đường 29/3</td>\n",
       "    </tr>\n",
       "    <tr>\n",
       "      <th>11436</th>\n",
       "      <td>Cho thuê</td>\n",
       "      <td>Cho thuê 722m2 đất 3 mặt tiền Mai Chí Thọ + Th...</td>\n",
       "      <td>3.000000e+07</td>\n",
       "      <td>722.0</td>\n",
       "      <td>Đường Mai Chí Thọ, Phường Hòa Xuân, Quận Cẩm L...</td>\n",
       "      <td>4.155125e+04</td>\n",
       "      <td>Sổ hồng/ Sổ đỏ</td>\n",
       "      <td>NaN</td>\n",
       "      <td>- Cần bán 6 lô liền kề mặt tiền đường 10m5 Mai...</td>\n",
       "      <td>https://alonhadat.com.vn//cho-thue-722m2-dat-3...</td>\n",
       "      <td>...</td>\n",
       "      <td>10.0</td>\n",
       "      <td>NaN</td>\n",
       "      <td>Đất nền, liền kề, đất dự án</td>\n",
       "      <td>NaN</td>\n",
       "      <td>NaN</td>\n",
       "      <td>NaN</td>\n",
       "      <td>0935 808 748</td>\n",
       "      <td>NaN</td>\n",
       "      <td>Cẩm Lệ</td>\n",
       "      <td>Đường Mai Chí Thọ</td>\n",
       "    </tr>\n",
       "  </tbody>\n",
       "</table>\n",
       "<p>33590 rows × 44 columns</p>\n",
       "</div>"
      ],
      "text/plain": [
       "       Loại tin                                            Tiêu đề  \\\n",
       "0       Mua bán  Bán 4ha đất vườn sổ đỏ có sẳn trang trại nhà v...   \n",
       "1       Mua bán  Bán đất 21 Đỗ Nhuận, dt: 250m2, ngang 8m, nở h...   \n",
       "2       Mua bán  Bán nhà hẻm 3m5 Nguyễn Văn Linh, 140m2 đất, ng...   \n",
       "3       Mua bán  Bán đất hẻm 3m 59/31 Núi Thành, 162m2, 4.25 tỷ...   \n",
       "4       Mua bán  Nhà 2 tầng 2 mặt kiệt ngay biển Nguyễn Tất Thà...   \n",
       "...         ...                                                ...   \n",
       "11432  Cho thuê  Cho thuê nhà góc 10m5 Phan Thao & 7m5 Hoàng Đì...   \n",
       "11433  Cho thuê  Cho thuê mặt  bằng mới xây 2 tầng mặt tiền đườ...   \n",
       "11434  Cho thuê  Cho thuê 400m2 lô góc 29/3 & Lê Minh Trung,Hòa...   \n",
       "11435  Cho thuê  Cho thuê đất lô góc đường 29/3 & Thái Văn Lung...   \n",
       "11436  Cho thuê  Cho thuê 722m2 đất 3 mặt tiền Mai Chí Thọ + Th...   \n",
       "\n",
       "                Giá  Diện tích  \\\n",
       "0      9.500000e+09    40000.0   \n",
       "1      8.200000e+09      250.0   \n",
       "2      4.950000e+09      140.0   \n",
       "3      4.250000e+09      162.0   \n",
       "4      2.950000e+09       62.0   \n",
       "...             ...        ...   \n",
       "11432  2.000000e+07      180.0   \n",
       "11433  3.000000e+07      200.0   \n",
       "11434  3.000000e+07      400.0   \n",
       "11435  1.000000e+07      174.0   \n",
       "11436  3.000000e+07      722.0   \n",
       "\n",
       "                                                 Địa chỉ        Giá/m2  \\\n",
       "0           DT 602, Xã Hòa Ninh, Huyện Hòa Vang, Đà Nẵng  2.375000e+05   \n",
       "1      21, Đường Đỗ Nhuận, Phường Hòa Minh, Quận Liên...  3.280000e+07   \n",
       "2      K82/H10/36, Nguyễn văn linh, Phường Nam Dương,...  3.536000e+07   \n",
       "3      Kiệt 59 Núi Thành, Phường Bình Hiên, Quận Hải ...  2.623000e+07   \n",
       "4      K1/20, Tôn Thất Đạm, Phường Xuân Hà, Quận Than...  4.758000e+07   \n",
       "...                                                  ...           ...   \n",
       "11432  Đường Phan Thao, Phường Hòa Xuân, Quận Cẩm Lệ,...  1.111111e+05   \n",
       "11433  Đường 29/3, Phường Hòa Xuân, Quận Cẩm Lệ, Đà Nẵng  1.500000e+05   \n",
       "11434  Đường 29/3, Phường Hòa Xuân, Quận Cẩm Lệ, Đà Nẵng  7.500000e+04   \n",
       "11435  Đường 29/3, Phường Hòa Xuân, Quận Cẩm Lệ, Đà Nẵng  5.747126e+04   \n",
       "11436  Đường Mai Chí Thọ, Phường Hòa Xuân, Quận Cẩm L...  4.155125e+04   \n",
       "\n",
       "              Pháp lý    Loại hình đất  \\\n",
       "0            Đã có sổ  Đất nông nghiệp   \n",
       "1            Đã có sổ       Đất thổ cư   \n",
       "2            Đã có sổ              NaN   \n",
       "3                 NaN       Đất thổ cư   \n",
       "4            Đã có sổ              NaN   \n",
       "...               ...              ...   \n",
       "11432  Sổ hồng/ Sổ đỏ              NaN   \n",
       "11433  Sổ hồng/ Sổ đỏ              NaN   \n",
       "11434  Sổ hồng/ Sổ đỏ              NaN   \n",
       "11435  Sổ hồng/ Sổ đỏ              NaN   \n",
       "11436  Sổ hồng/ Sổ đỏ              NaN   \n",
       "\n",
       "                                                   Mô tả  \\\n",
       "0      Đất rộng lại giá tốt 40.000m có sẵn vườn cây ă...   \n",
       "1      + Bán đất số 21 Đỗ Nhuận, khu Trung Nghĩa, phư...   \n",
       "2      Bán nhà kiệt 82 Nguyễn Văn Linh, hẻm 3m5, cách...   \n",
       "3      Bán đất hẻm 3m số 59/31 Núi Thành, cách đường ...   \n",
       "4      Tôi là chính chủ cần bán nhà tại địa chỉ K1/20...   \n",
       "...                                                  ...   \n",
       "11432  Cho thuê nhà lô góc 10m5 Phan Thao & Hoàng Đìn...   \n",
       "11433  - Cần cho thuê mặt bằng kinh doanh 2 tầng 400m...   \n",
       "11434  - Cho thuê lô góc  đường 29/3 & lê Minh Trung,...   \n",
       "11435  - Cần cho thuê đất lô góc đường 29/3 & Thái Vă...   \n",
       "11436  - Cần bán 6 lô liền kề mặt tiền đường 10m5 Mai...   \n",
       "\n",
       "                                                     URL  ... Đường trước nhà  \\\n",
       "0      https://www.nhatot.com/mua-ban-dat-huyen-hoa-v...  ...             NaN   \n",
       "1      https://www.nhatot.com/mua-ban-dat-quan-lien-c...  ...             NaN   \n",
       "2      https://www.nhatot.com/mua-ban-nha-dat-quan-ha...  ...             NaN   \n",
       "3      https://www.nhatot.com/mua-ban-dat-quan-hai-ch...  ...             NaN   \n",
       "4      https://www.nhatot.com/mua-ban-nha-dat-quan-th...  ...             NaN   \n",
       "...                                                  ...  ...             ...   \n",
       "11432  https://alonhadat.com.vn//cho-thue-nha-goc-10m...  ...            10.0   \n",
       "11433  https://alonhadat.com.vn//cho-thue-mat-bang-mo...  ...             7.5   \n",
       "11434  https://alonhadat.com.vn//cho-thue-400m2-lo-go...  ...             7.5   \n",
       "11435  https://alonhadat.com.vn//cho-thue-dat-lo-goc-...  ...             7.5   \n",
       "11436  https://alonhadat.com.vn//cho-thue-722m2-dat-3...  ...            10.0   \n",
       "\n",
       "      Nhà bếp                     Loại BDS Sân thượng  Chỗ để xe hơi  \\\n",
       "0         NaN                          NaN        NaN            NaN   \n",
       "1         NaN                          NaN        NaN            NaN   \n",
       "2         NaN                          NaN        NaN            NaN   \n",
       "3         NaN                          NaN        NaN            NaN   \n",
       "4         NaN                          NaN        NaN            NaN   \n",
       "...       ...                          ...        ...            ...   \n",
       "11432     NaN                 Nhà mặt tiền        NaN            NaN   \n",
       "11433     NaN                     Mặt bằng        NaN            NaN   \n",
       "11434     NaN  Đất nền, liền kề, đất dự án        NaN            NaN   \n",
       "11435     NaN  Đất nền, liền kề, đất dự án        NaN            NaN   \n",
       "11436     NaN  Đất nền, liền kề, đất dự án        NaN            NaN   \n",
       "\n",
       "       Chính chủ       Liên hệ Thuộc dự án        Quận              Đường  \n",
       "0            NaN           NaN         NaN    Hòa Vang             DT 602  \n",
       "1            NaN           NaN         NaN  Liên Chiểu                 21  \n",
       "2            NaN           NaN         NaN    Hải Châu         K82/H10/36  \n",
       "3            NaN           NaN         NaN    Hải Châu  Kiệt 59 Núi Thành  \n",
       "4            NaN           NaN         NaN   Thanh Khê              K1/20  \n",
       "...          ...           ...         ...         ...                ...  \n",
       "11432        NaN  0935 808 748         NaN      Cẩm Lệ    Đường Phan Thao  \n",
       "11433        NaN  0935 808 748         NaN      Cẩm Lệ         Đường 29/3  \n",
       "11434        NaN  0935 808 748         NaN      Cẩm Lệ         Đường 29/3  \n",
       "11435        NaN  0935 808 748         NaN      Cẩm Lệ         Đường 29/3  \n",
       "11436        NaN  0935 808 748         NaN      Cẩm Lệ  Đường Mai Chí Thọ  \n",
       "\n",
       "[33590 rows x 44 columns]"
      ]
     },
     "execution_count": 61,
     "metadata": {},
     "output_type": "execute_result"
    }
   ],
   "source": [
    "df"
   ]
  },
  {
   "cell_type": "code",
   "execution_count": 62,
   "id": "728d864a",
   "metadata": {},
   "outputs": [
    {
     "data": {
      "text/plain": [
       "Index(['Loại tin', 'Tiêu đề', 'Giá', 'Diện tích', 'Địa chỉ', 'Giá/m2',\n",
       "       'Pháp lý', 'Loại hình đất', 'Mô tả', 'URL', 'Ngày crawl',\n",
       "       'Tên người dùng', 'card_visit', 'Hướng nhà', 'Chiều ngang', 'Chiều dài',\n",
       "       'Đặc điểm nhà/đất', 'Số phòng ngủ', 'Số toilet', 'Loại hình nhà ở',\n",
       "       'Diện tích sử dụng', 'Tổng số tầng', 'Nội thất',\n",
       "       'Tên phân khu/Lô/Block/Tháp', 'Tình trạng bất động sản', 'Số tầng',\n",
       "       'Hướng ban công', 'Loại hình căn hộ', 'Loại hình văn phòng',\n",
       "       'Đặc điểm căn hộ', 'Số tiền cọc', 'Mặt tiền', 'Đường vào', 'Phòng ăn',\n",
       "       'Đường trước nhà', 'Nhà bếp', 'Loại BDS', 'Sân thượng', 'Chỗ để xe hơi',\n",
       "       'Chính chủ', 'Liên hệ', 'Thuộc dự án', 'Quận', 'Đường'],\n",
       "      dtype='object')"
      ]
     },
     "execution_count": 62,
     "metadata": {},
     "output_type": "execute_result"
    }
   ],
   "source": [
    "df.columns"
   ]
  },
  {
   "cell_type": "code",
   "execution_count": 63,
   "id": "ff7713f6",
   "metadata": {},
   "outputs": [],
   "source": [
    "df=df[['Loại tin', 'Tiêu đề', 'Giá', 'Giá/m2', 'Diện tích', 'Chiều ngang', 'Chiều dài', 'Hướng nhà', 'Hướng ban công','Quận', 'Đường', 'Pháp lý', 'Nội thất',\n",
    "       'Số phòng ngủ', 'Số toilet', 'Số tầng', 'Tổng số tầng',  'Mặt tiền', 'Đường vào', 'Phòng ăn','Đường trước nhà', 'Nhà bếp', 'Sân thượng', 'Chỗ để xe hơi',\n",
    "       'Loại BDS', 'Loại hình đất', 'Đặc điểm nhà/đất', 'Loại hình nhà ở', 'Loại hình căn hộ', 'Đặc điểm căn hộ',  'Loại hình văn phòng',\n",
    "        'Chính chủ', 'Liên hệ',  'Ngày crawl',      \n",
    "       'Tên người dùng', 'Diện tích sử dụng','Tên phân khu/Lô/Block/Tháp', 'Tình trạng bất động sản', 'Số tiền cọc', 'Thuộc dự án',\n",
    "      'Địa chỉ','URL','card_visit', 'Mô tả']]"
   ]
  },
  {
   "cell_type": "markdown",
   "id": "234ae100",
   "metadata": {},
   "source": [
    "# Save data"
   ]
  },
  {
   "cell_type": "code",
   "execution_count": 64,
   "id": "7d30b80e",
   "metadata": {},
   "outputs": [],
   "source": [
    "df.to_excel('data.xlsx')\n",
    "df.to_csv('data.csv')"
   ]
  },
  {
   "cell_type": "code",
   "execution_count": null,
   "id": "4432e7ca",
   "metadata": {},
   "outputs": [],
   "source": []
  },
  {
   "cell_type": "code",
   "execution_count": null,
   "id": "f73d980f",
   "metadata": {},
   "outputs": [],
   "source": []
  }
 ],
 "metadata": {
  "kernelspec": {
   "display_name": "Python 3",
   "language": "python",
   "name": "python3"
  },
  "language_info": {
   "codemirror_mode": {
    "name": "ipython",
    "version": 3
   },
   "file_extension": ".py",
   "mimetype": "text/x-python",
   "name": "python",
   "nbconvert_exporter": "python",
   "pygments_lexer": "ipython3",
   "version": "3.8.2"
  }
 },
 "nbformat": 4,
 "nbformat_minor": 5
}
