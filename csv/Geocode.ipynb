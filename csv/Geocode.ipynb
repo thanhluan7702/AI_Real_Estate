{
 "cells": [
  {
   "cell_type": "code",
   "execution_count": null,
   "id": "a1e61e0f",
   "metadata": {},
   "outputs": [],
   "source": [
    "import requests"
   ]
  },
  {
   "cell_type": "code",
   "execution_count": null,
   "id": "0d9fa006",
   "metadata": {},
   "outputs": [],
   "source": [
    "API_KEY = '<Khóa API của bạn>'\n",
    "\n",
    "def getWardName(address):\n",
    "    params = {\n",
    "        'key': API_KEY,\n",
    "        'address': address.replace(' ', '+')\n",
    "    }\n",
    "\n",
    "    base_url = 'https://maps.googleapis.com/maps/api/geocode/json?'\n",
    "    response = requests.get(base_url, params=params)\n",
    "    data = response.json()\n",
    "    \n",
    "    if data['status'] == 'OK':\n",
    "        result = data['results'][0]\n",
    "        for component in result['address_components']:\n",
    "            if 'sublocality' in component['types']:\n",
    "                # Sublocality is typically equivalent to ward in many regions\n",
    "                return component['long_name']\n",
    "        # If sublocality is not found, you may need to adjust based on the structure of the API response\n",
    "        return \"Ward information not found\"\n",
    "    else:\n",
    "        return \"Geocoding failed\"\n",
    "\n",
    "# Example usage:\n",
    "address = \"1600 Amphitheatre Parkway, Mountain View, CA\"\n",
    "ward_name = getWardName(address)\n",
    "print(ward_name)\n"
   ]
  },
  {
   "cell_type": "code",
   "execution_count": null,
   "id": "e1c003b8",
   "metadata": {},
   "outputs": [],
   "source": [
    "def get_ward(address, api_key):\n",
    "    base_url = 'https://maps.googleapis.com/maps/api/geocode/json'\n",
    "    params = {\n",
    "        'address': address,\n",
    "        'key': api_key\n",
    "    }\n",
    "\n",
    "    try:\n",
    "        response = requests.get(base_url, params=params)\n",
    "        response.raise_for_status()  # Raise an exception for HTTP errors\n",
    "        data = response.json()\n",
    "\n",
    "        if data['status'] == 'OK':\n",
    "            results = data['results']\n",
    "            if results:\n",
    "                # Lặp qua các thành phố/xã/phường trong địa chỉ\n",
    "                for component in results[0]['address_components']:\n",
    "                    if 'sublocality' in component['types'] or 'ward' in component['types'] or 'locality' in component['types']:\n",
    "                        return component['long_name']\n",
    "                return \"Không tìm thấy phường hoặc xã\"\n",
    "            else:\n",
    "                return \"Không tìm thấy địa chỉ\"\n",
    "        else:\n",
    "            return f\"Lỗi khi gửi yêu cầu: {data['status']}\"\n",
    "\n",
    "    except requests.exceptions.RequestException as e:\n",
    "        return f\"Lỗi khi gửi yêu cầu: {e}\""
   ]
  },
  {
   "cell_type": "code",
   "execution_count": null,
   "id": "09df49c9",
   "metadata": {},
   "outputs": [],
   "source": [
    "# Example usage:\n",
    "address = \"Đường 29/3, Phường Hòa Xuân, Quận Cẩm Lệ, Đà Nẵng\"\n",
    "api_key = \"YOUR_GOOGLE_MAPS_API_KEY\"\n",
    "\n",
    "ward_or_commune = get_ward(address, api_key)\n",
    "print(\"Tên phường hoặc xã:\", ward_or_commune)\n"
   ]
  }
 ],
 "metadata": {
  "kernelspec": {
   "display_name": "Python 3",
   "language": "python",
   "name": "python3"
  },
  "language_info": {
   "codemirror_mode": {
    "name": "ipython",
    "version": 3
   },
   "file_extension": ".py",
   "mimetype": "text/x-python",
   "name": "python",
   "nbconvert_exporter": "python",
   "pygments_lexer": "ipython3",
   "version": "3.8.2"
  }
 },
 "nbformat": 4,
 "nbformat_minor": 5
}
