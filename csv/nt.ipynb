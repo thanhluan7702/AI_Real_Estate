{
 "cells": [
  {
   "cell_type": "markdown",
   "id": "93ffe673",
   "metadata": {},
   "source": [
    "# Import library"
   ]
  },
  {
   "cell_type": "code",
   "execution_count": 229,
   "id": "74c9dab0",
   "metadata": {},
   "outputs": [
    {
     "data": {
      "text/plain": [
       "'!\"#$%&\\'()*+,-./:;<=>?@[\\\\]^_`{|}~'"
      ]
     },
     "execution_count": 229,
     "metadata": {},
     "output_type": "execute_result"
    }
   ],
   "source": [
    "import pandas as pd\n",
    "import re\n",
    "import numpy as np\n",
    "\n",
    "#library that contains punctuation\n",
    "import string\n",
    "string.punctuation"
   ]
  },
  {
   "cell_type": "markdown",
   "id": "42ca1bd3",
   "metadata": {},
   "source": [
    "# Import data"
   ]
  },
  {
   "cell_type": "code",
   "execution_count": 230,
   "id": "90c28d59",
   "metadata": {},
   "outputs": [],
   "source": [
    "df=pd.read_csv('nhatot.csv')"
   ]
  },
  {
   "cell_type": "code",
   "execution_count": 231,
   "id": "a204412c",
   "metadata": {},
   "outputs": [
    {
     "data": {
      "text/plain": [
       "Index(['post_id', 'Loại tin', 'Tiêu đề', 'Giá', 'Diện tích', 'Địa chỉ',\n",
       "       'Giá/m2', 'Giấy tờ pháp lý', 'Loại hình đất', 'Mô tả', 'URL', 'date',\n",
       "       'Liên hệ', 'card_visit', 'Hướng cửa chính', 'Chiều ngang', 'Chiều dài',\n",
       "       'Đặc điểm nhà/đất', 'Số phòng ngủ', 'Số phòng vệ sinh',\n",
       "       'Loại hình nhà ở', 'Diện tích sử dụng', 'Tổng số tầng',\n",
       "       'Tình trạng nội thất', 'Tên phân khu/Lô/Block/Tháp',\n",
       "       'Tình trạng bất động sản', 'Tầng số', 'Hướng ban công',\n",
       "       'Loại hình căn hộ', 'Loại hình văn phòng', 'Mã căn', 'Đặc điểm căn hộ',\n",
       "       'Mã lô', 'Số tiền cọc'],\n",
       "      dtype='object')"
      ]
     },
     "execution_count": 231,
     "metadata": {},
     "output_type": "execute_result"
    }
   ],
   "source": [
    "df.columns"
   ]
  },
  {
   "cell_type": "raw",
   "id": "0afe613c",
   "metadata": {},
   "source": [
    "Index(['post_id', 'Loại tin', 'Tiêu đề', 'Giá', 'Diện tích', 'Địa chỉ',\n",
    "       'Giá/m2', 'Giấy tờ pháp lý', 'Loại hình đất', 'Mô tả', 'URL', 'date',\n",
    "       'Liên hệ', 'card_visit', 'Hướng cửa chính', 'Chiều ngang', 'Chiều dài',\n",
    "       'Đặc điểm nhà/đất', 'Số phòng ngủ', 'Số phòng vệ sinh',\n",
    "       'Loại hình nhà ở', 'Diện tích sử dụng', 'Tổng số tầng',\n",
    "       'Tình trạng nội thất', 'Tên phân khu/Lô/Block/Tháp',\n",
    "       'Tình trạng bất động sản', 'Tầng số', 'Hướng ban công',\n",
    "       'Loại hình căn hộ', 'Loại hình văn phòng', 'Mã căn', 'Đặc điểm căn hộ',\n",
    "       'Mã lô', 'Số tiền cọc'],\n",
    "      dtype='object')"
   ]
  },
  {
   "cell_type": "code",
   "execution_count": 232,
   "id": "d77b7100",
   "metadata": {},
   "outputs": [
    {
     "data": {
      "text/html": [
       "<div>\n",
       "<style scoped>\n",
       "    .dataframe tbody tr th:only-of-type {\n",
       "        vertical-align: middle;\n",
       "    }\n",
       "\n",
       "    .dataframe tbody tr th {\n",
       "        vertical-align: top;\n",
       "    }\n",
       "\n",
       "    .dataframe thead th {\n",
       "        text-align: right;\n",
       "    }\n",
       "</style>\n",
       "<table border=\"1\" class=\"dataframe\">\n",
       "  <thead>\n",
       "    <tr style=\"text-align: right;\">\n",
       "      <th></th>\n",
       "      <th>post_id</th>\n",
       "      <th>Loại tin</th>\n",
       "      <th>Tiêu đề</th>\n",
       "      <th>Giá</th>\n",
       "      <th>Diện tích</th>\n",
       "      <th>Địa chỉ</th>\n",
       "      <th>Giá/m2</th>\n",
       "      <th>Giấy tờ pháp lý</th>\n",
       "      <th>Loại hình đất</th>\n",
       "      <th>Mô tả</th>\n",
       "      <th>...</th>\n",
       "      <th>Tên phân khu/Lô/Block/Tháp</th>\n",
       "      <th>Tình trạng bất động sản</th>\n",
       "      <th>Tầng số</th>\n",
       "      <th>Hướng ban công</th>\n",
       "      <th>Loại hình căn hộ</th>\n",
       "      <th>Loại hình văn phòng</th>\n",
       "      <th>Mã căn</th>\n",
       "      <th>Đặc điểm căn hộ</th>\n",
       "      <th>Mã lô</th>\n",
       "      <th>Số tiền cọc</th>\n",
       "    </tr>\n",
       "  </thead>\n",
       "  <tbody>\n",
       "    <tr>\n",
       "      <th>0</th>\n",
       "      <td>110154174</td>\n",
       "      <td>Mua bán</td>\n",
       "      <td>Bán 4ha đất vườn sổ đỏ có sẳn trang trại nhà v...</td>\n",
       "      <td>9,5 tỷ</td>\n",
       "      <td>40000 m²</td>\n",
       "      <td>DT 602, Xã Hòa Ninh, Huyện Hòa Vang, Đà Nẵng</td>\n",
       "      <td>237.500 đ/m²</td>\n",
       "      <td>Đã có sổ</td>\n",
       "      <td>Đất nông nghiệp</td>\n",
       "      <td>💥💥💥Đất rộng lại giá tốt 40.000m có sẵn vườn câ...</td>\n",
       "      <td>...</td>\n",
       "      <td>NaN</td>\n",
       "      <td>NaN</td>\n",
       "      <td>NaN</td>\n",
       "      <td>NaN</td>\n",
       "      <td>NaN</td>\n",
       "      <td>NaN</td>\n",
       "      <td>NaN</td>\n",
       "      <td>NaN</td>\n",
       "      <td>NaN</td>\n",
       "      <td>NaN</td>\n",
       "    </tr>\n",
       "    <tr>\n",
       "      <th>1</th>\n",
       "      <td>102957944</td>\n",
       "      <td>Mua bán</td>\n",
       "      <td>Bán đất 21 Đỗ Nhuận, dt: 250m2, ngang 8m, nở h...</td>\n",
       "      <td>8,2 tỷ</td>\n",
       "      <td>250 m²</td>\n",
       "      <td>21, Đường Đỗ Nhuận, Phường Hòa Minh, Quận Liên...</td>\n",
       "      <td>32,8 triệu/m²</td>\n",
       "      <td>Đã có sổ</td>\n",
       "      <td>Đất thổ cư</td>\n",
       "      <td>+ Bán đất số 21 Đỗ Nhuận, khu Trung Nghĩa, phư...</td>\n",
       "      <td>...</td>\n",
       "      <td>NaN</td>\n",
       "      <td>NaN</td>\n",
       "      <td>NaN</td>\n",
       "      <td>NaN</td>\n",
       "      <td>NaN</td>\n",
       "      <td>NaN</td>\n",
       "      <td>NaN</td>\n",
       "      <td>NaN</td>\n",
       "      <td>NaN</td>\n",
       "      <td>NaN</td>\n",
       "    </tr>\n",
       "    <tr>\n",
       "      <th>2</th>\n",
       "      <td>108055434</td>\n",
       "      <td>Mua bán</td>\n",
       "      <td>Bán nhà hẻm 3m5 Nguyễn Văn Linh, 140m2 đất, ng...</td>\n",
       "      <td>4,95 tỷ</td>\n",
       "      <td>140 m²</td>\n",
       "      <td>K82/H10/36, Nguyễn văn linh, Phường Nam Dương,...</td>\n",
       "      <td>35,36 triệu/m²</td>\n",
       "      <td>Đã có sổ</td>\n",
       "      <td>NaN</td>\n",
       "      <td>Bán nhà kiệt 82 Nguyễn Văn Linh, hẻm 3m5, cách...</td>\n",
       "      <td>...</td>\n",
       "      <td>NaN</td>\n",
       "      <td>NaN</td>\n",
       "      <td>NaN</td>\n",
       "      <td>NaN</td>\n",
       "      <td>NaN</td>\n",
       "      <td>NaN</td>\n",
       "      <td>NaN</td>\n",
       "      <td>NaN</td>\n",
       "      <td>NaN</td>\n",
       "      <td>NaN</td>\n",
       "    </tr>\n",
       "    <tr>\n",
       "      <th>3</th>\n",
       "      <td>102942264</td>\n",
       "      <td>Mua bán</td>\n",
       "      <td>Bán đất hẻm 3m 59/31 Núi Thành, 162m2, 4.25 tỷ...</td>\n",
       "      <td>4,25 tỷ</td>\n",
       "      <td>162 m²</td>\n",
       "      <td>Kiệt 59 Núi Thành, Phường Bình Hiên, Quận Hải ...</td>\n",
       "      <td>26,23 triệu/m²</td>\n",
       "      <td>NaN</td>\n",
       "      <td>Đất thổ cư</td>\n",
       "      <td>Bán đất hẻm 3m số 59/31 Núi Thành, cách đường ...</td>\n",
       "      <td>...</td>\n",
       "      <td>NaN</td>\n",
       "      <td>NaN</td>\n",
       "      <td>NaN</td>\n",
       "      <td>NaN</td>\n",
       "      <td>NaN</td>\n",
       "      <td>NaN</td>\n",
       "      <td>NaN</td>\n",
       "      <td>NaN</td>\n",
       "      <td>NaN</td>\n",
       "      <td>NaN</td>\n",
       "    </tr>\n",
       "    <tr>\n",
       "      <th>4</th>\n",
       "      <td>110181789</td>\n",
       "      <td>Mua bán</td>\n",
       "      <td>Nhà 2 tầng 2 mặt kiệt ngay biển Nguyễn Tất Thà...</td>\n",
       "      <td>2,95 tỷ</td>\n",
       "      <td>62 m²</td>\n",
       "      <td>K1/20, Tôn Thất Đạm, Phường Xuân Hà, Quận Than...</td>\n",
       "      <td>47,58 triệu/m²</td>\n",
       "      <td>Đã có sổ</td>\n",
       "      <td>NaN</td>\n",
       "      <td>Tôi là chính chủ cần bán nhà tại địa chỉ K1/20...</td>\n",
       "      <td>...</td>\n",
       "      <td>NaN</td>\n",
       "      <td>NaN</td>\n",
       "      <td>NaN</td>\n",
       "      <td>NaN</td>\n",
       "      <td>NaN</td>\n",
       "      <td>NaN</td>\n",
       "      <td>NaN</td>\n",
       "      <td>NaN</td>\n",
       "      <td>NaN</td>\n",
       "      <td>NaN</td>\n",
       "    </tr>\n",
       "  </tbody>\n",
       "</table>\n",
       "<p>5 rows × 34 columns</p>\n",
       "</div>"
      ],
      "text/plain": [
       "     post_id Loại tin                                            Tiêu đề  \\\n",
       "0  110154174  Mua bán  Bán 4ha đất vườn sổ đỏ có sẳn trang trại nhà v...   \n",
       "1  102957944  Mua bán  Bán đất 21 Đỗ Nhuận, dt: 250m2, ngang 8m, nở h...   \n",
       "2  108055434  Mua bán  Bán nhà hẻm 3m5 Nguyễn Văn Linh, 140m2 đất, ng...   \n",
       "3  102942264  Mua bán  Bán đất hẻm 3m 59/31 Núi Thành, 162m2, 4.25 tỷ...   \n",
       "4  110181789  Mua bán  Nhà 2 tầng 2 mặt kiệt ngay biển Nguyễn Tất Thà...   \n",
       "\n",
       "       Giá  Diện tích                                            Địa chỉ  \\\n",
       "0   9,5 tỷ   40000 m²       DT 602, Xã Hòa Ninh, Huyện Hòa Vang, Đà Nẵng   \n",
       "1   8,2 tỷ     250 m²  21, Đường Đỗ Nhuận, Phường Hòa Minh, Quận Liên...   \n",
       "2  4,95 tỷ     140 m²  K82/H10/36, Nguyễn văn linh, Phường Nam Dương,...   \n",
       "3  4,25 tỷ     162 m²  Kiệt 59 Núi Thành, Phường Bình Hiên, Quận Hải ...   \n",
       "4  2,95 tỷ      62 m²  K1/20, Tôn Thất Đạm, Phường Xuân Hà, Quận Than...   \n",
       "\n",
       "            Giá/m2 Giấy tờ pháp lý     Loại hình đất  \\\n",
       "0     237.500 đ/m²        Đã có sổ   Đất nông nghiệp   \n",
       "1    32,8 triệu/m²        Đã có sổ        Đất thổ cư   \n",
       "2   35,36 triệu/m²        Đã có sổ               NaN   \n",
       "3   26,23 triệu/m²             NaN        Đất thổ cư   \n",
       "4   47,58 triệu/m²        Đã có sổ               NaN   \n",
       "\n",
       "                                               Mô tả  ...  \\\n",
       "0  💥💥💥Đất rộng lại giá tốt 40.000m có sẵn vườn câ...  ...   \n",
       "1  + Bán đất số 21 Đỗ Nhuận, khu Trung Nghĩa, phư...  ...   \n",
       "2  Bán nhà kiệt 82 Nguyễn Văn Linh, hẻm 3m5, cách...  ...   \n",
       "3  Bán đất hẻm 3m số 59/31 Núi Thành, cách đường ...  ...   \n",
       "4  Tôi là chính chủ cần bán nhà tại địa chỉ K1/20...  ...   \n",
       "\n",
       "  Tên phân khu/Lô/Block/Tháp Tình trạng bất động sản Tầng số Hướng ban công  \\\n",
       "0                        NaN                     NaN     NaN            NaN   \n",
       "1                        NaN                     NaN     NaN            NaN   \n",
       "2                        NaN                     NaN     NaN            NaN   \n",
       "3                        NaN                     NaN     NaN            NaN   \n",
       "4                        NaN                     NaN     NaN            NaN   \n",
       "\n",
       "  Loại hình căn hộ Loại hình văn phòng Mã căn Đặc điểm căn hộ Mã lô  \\\n",
       "0              NaN                 NaN    NaN             NaN   NaN   \n",
       "1              NaN                 NaN    NaN             NaN   NaN   \n",
       "2              NaN                 NaN    NaN             NaN   NaN   \n",
       "3              NaN                 NaN    NaN             NaN   NaN   \n",
       "4              NaN                 NaN    NaN             NaN   NaN   \n",
       "\n",
       "  Số tiền cọc  \n",
       "0         NaN  \n",
       "1         NaN  \n",
       "2         NaN  \n",
       "3         NaN  \n",
       "4         NaN  \n",
       "\n",
       "[5 rows x 34 columns]"
      ]
     },
     "execution_count": 232,
     "metadata": {},
     "output_type": "execute_result"
    }
   ],
   "source": [
    "df.head()"
   ]
  },
  {
   "cell_type": "code",
   "execution_count": 233,
   "id": "42f037fc",
   "metadata": {},
   "outputs": [
    {
     "name": "stdout",
     "output_type": "stream",
     "text": [
      "<class 'pandas.core.frame.DataFrame'>\n",
      "RangeIndex: 24285 entries, 0 to 24284\n",
      "Data columns (total 34 columns):\n",
      " #   Column                      Non-Null Count  Dtype  \n",
      "---  ------                      --------------  -----  \n",
      " 0   post_id                     24285 non-null  int64  \n",
      " 1   Loại tin                    24285 non-null  object \n",
      " 2   Tiêu đề                     24285 non-null  object \n",
      " 3   Giá                         24285 non-null  object \n",
      " 4   Diện tích                   24285 non-null  object \n",
      " 5   Địa chỉ                     24285 non-null  object \n",
      " 6   Giá/m2                      12394 non-null  object \n",
      " 7   Giấy tờ pháp lý             12921 non-null  object \n",
      " 8   Loại hình đất               4937 non-null   object \n",
      " 9   Mô tả                       24285 non-null  object \n",
      " 10  URL                         24285 non-null  object \n",
      " 11  date                        24285 non-null  object \n",
      " 12  Liên hệ                     24267 non-null  object \n",
      " 13  card_visit                  24285 non-null  object \n",
      " 14  Hướng cửa chính             8850 non-null   object \n",
      " 15  Chiều ngang                 10308 non-null  object \n",
      " 16  Chiều dài                   8582 non-null   object \n",
      " 17  Đặc điểm nhà/đất            4800 non-null   object \n",
      " 18  Số phòng ngủ                15915 non-null  object \n",
      " 19  Số phòng vệ sinh            13545 non-null  object \n",
      " 20  Loại hình nhà ở             10359 non-null  object \n",
      " 21  Diện tích sử dụng           5002 non-null   object \n",
      " 22  Tổng số tầng                6675 non-null   float64\n",
      " 23  Tình trạng nội thất         8406 non-null   object \n",
      " 24  Tên phân khu/Lô/Block/Tháp  1294 non-null   object \n",
      " 25  Tình trạng bất động sản     1736 non-null   object \n",
      " 26  Tầng số                     1187 non-null   float64\n",
      " 27  Hướng ban công              1071 non-null   object \n",
      " 28  Loại hình căn hộ            5556 non-null   object \n",
      " 29  Loại hình văn phòng         2665 non-null   object \n",
      " 30  Mã căn                      244 non-null    object \n",
      " 31  Đặc điểm căn hộ             243 non-null    object \n",
      " 32  Mã lô                       110 non-null    object \n",
      " 33  Số tiền cọc                 5901 non-null   object \n",
      "dtypes: float64(2), int64(1), object(31)\n",
      "memory usage: 6.3+ MB\n"
     ]
    }
   ],
   "source": [
    "df.info()"
   ]
  },
  {
   "cell_type": "code",
   "execution_count": 234,
   "id": "a1f4fa22",
   "metadata": {},
   "outputs": [
    {
     "data": {
      "text/plain": [
       "(24285, 34)"
      ]
     },
     "execution_count": 234,
     "metadata": {},
     "output_type": "execute_result"
    }
   ],
   "source": [
    "df.shape"
   ]
  },
  {
   "cell_type": "markdown",
   "id": "2e884bb1",
   "metadata": {},
   "source": [
    "# Function"
   ]
  },
  {
   "cell_type": "code",
   "execution_count": 235,
   "id": "a574bf56",
   "metadata": {},
   "outputs": [],
   "source": [
    "def replace_empty_with_nan(text):\n",
    "    return np.nan if text.strip() == '' else text"
   ]
  },
  {
   "cell_type": "markdown",
   "id": "c646e330",
   "metadata": {},
   "source": [
    "# Loại tin"
   ]
  },
  {
   "cell_type": "code",
   "execution_count": 236,
   "id": "cd733161",
   "metadata": {},
   "outputs": [
    {
     "data": {
      "text/plain": [
       "array(['Mua bán', 'Cho thuê'], dtype=object)"
      ]
     },
     "execution_count": 236,
     "metadata": {},
     "output_type": "execute_result"
    }
   ],
   "source": [
    "df['Loại tin'].unique()"
   ]
  },
  {
   "cell_type": "markdown",
   "id": "e12b7e75",
   "metadata": {},
   "source": [
    "# Diện tích"
   ]
  },
  {
   "cell_type": "code",
   "execution_count": 237,
   "id": "1cd77145",
   "metadata": {},
   "outputs": [],
   "source": [
    "# df['Diện tích'].unique()"
   ]
  },
  {
   "cell_type": "code",
   "execution_count": 238,
   "id": "801f7f54",
   "metadata": {},
   "outputs": [],
   "source": [
    "def clean_size(i):\n",
    "    if isinstance(i, str):\n",
    "        # Remove ' m²'\n",
    "        return i.replace(' m²','').replace(' m2','')\n",
    "    else:\n",
    "        return ''"
   ]
  },
  {
   "cell_type": "code",
   "execution_count": 239,
   "id": "a0aeee5e",
   "metadata": {},
   "outputs": [],
   "source": [
    "df['Diện tích'] = df['Diện tích'].apply(clean_size)"
   ]
  },
  {
   "cell_type": "code",
   "execution_count": 240,
   "id": "41d8346b",
   "metadata": {},
   "outputs": [],
   "source": [
    "df['Diện tích'] = df['Diện tích'].apply(replace_empty_with_nan)"
   ]
  },
  {
   "cell_type": "code",
   "execution_count": 241,
   "id": "89c1afbc",
   "metadata": {},
   "outputs": [],
   "source": [
    "df['Diện tích']=df['Diện tích'].astype(float)"
   ]
  },
  {
   "cell_type": "markdown",
   "id": "b94cd411",
   "metadata": {},
   "source": [
    "# Giá "
   ]
  },
  {
   "cell_type": "code",
   "execution_count": 242,
   "id": "7112f675",
   "metadata": {},
   "outputs": [
    {
     "data": {
      "text/plain": [
       "array(['9,5 tỷ', '8,2 tỷ', '4,95 tỷ', ..., '6,199999999 tỷ', '200 tỷ',\n",
       "       '1,279 tỷ'], dtype=object)"
      ]
     },
     "execution_count": 242,
     "metadata": {},
     "output_type": "execute_result"
    }
   ],
   "source": [
    "df['Giá'].unique()"
   ]
  },
  {
   "cell_type": "code",
   "execution_count": 243,
   "id": "7d8f15c1",
   "metadata": {},
   "outputs": [],
   "source": [
    "# df['Giá'][df['Loại tin']=='Mua bán'].unique()"
   ]
  },
  {
   "cell_type": "code",
   "execution_count": 244,
   "id": "8780c54f",
   "metadata": {
    "scrolled": true
   },
   "outputs": [],
   "source": [
    "# df['Giá'][df['Loại tin']=='Cho thuê'].unique()"
   ]
  },
  {
   "cell_type": "code",
   "execution_count": 245,
   "id": "d0eaa26e",
   "metadata": {},
   "outputs": [],
   "source": [
    "df['Giá'] = df['Giá'].apply(lambda x: x.replace('.','').replace(',', '.'))"
   ]
  },
  {
   "cell_type": "code",
   "execution_count": 246,
   "id": "5d6974a2",
   "metadata": {},
   "outputs": [],
   "source": [
    "def clean_price(x, dien_tich):\n",
    "    if 'đ/tháng' in x:\n",
    "        return float(x.split()[0]) \n",
    "    elif 'triệu/tháng' in x:\n",
    "        return float(x.split()[0]) * 1000000\n",
    "    elif 'tỷ/tháng' in x:\n",
    "        return float(x.split()[0]) * 1000000000\n",
    "    elif ' tỷ' in x:\n",
    "        return float(x.split()[0]) * 1000000000\n",
    "    elif ' triệu' in x:\n",
    "        return float(x.split()[0]) * 1000000\n",
    "    elif ' đ' in x:\n",
    "        return float(x.split()[0])\n",
    "    elif x == 'Thỏa thuận':\n",
    "        return None  \n",
    "    else:\n",
    "        return x"
   ]
  },
  {
   "cell_type": "code",
   "execution_count": 247,
   "id": "49f09a3c",
   "metadata": {},
   "outputs": [],
   "source": [
    "df['Giá'] = df.apply(lambda row: clean_price(row['Giá'], row['Diện tích']), axis=1)"
   ]
  },
  {
   "cell_type": "code",
   "execution_count": 248,
   "id": "aba6145d",
   "metadata": {},
   "outputs": [],
   "source": [
    "df['Giá']=df['Giá'].astype(float)"
   ]
  },
  {
   "cell_type": "markdown",
   "id": "0cdb4eb9",
   "metadata": {},
   "source": [
    "# Giá/m2"
   ]
  },
  {
   "cell_type": "code",
   "execution_count": 249,
   "id": "5d52731e",
   "metadata": {},
   "outputs": [
    {
     "data": {
      "text/plain": [
       "array([' 237.500 đ/m²', ' 32,8 triệu/m²', ' 35,36 triệu/m²', ...,\n",
       "       ' 62,57 triệu/m²', ' 58,17 triệu/m²', ' 20,08 triệu/m²'],\n",
       "      dtype=object)"
      ]
     },
     "execution_count": 249,
     "metadata": {},
     "output_type": "execute_result"
    }
   ],
   "source": [
    "df['Giá/m2'].unique()"
   ]
  },
  {
   "cell_type": "code",
   "execution_count": 250,
   "id": "f037afc6",
   "metadata": {},
   "outputs": [],
   "source": [
    "df['Giá/m2'] = df['Giá/m2'].apply(lambda x: str(x).replace('.', '').replace(',', '.').replace('m2','m²'))"
   ]
  },
  {
   "cell_type": "code",
   "execution_count": 251,
   "id": "c3f79dfb",
   "metadata": {},
   "outputs": [],
   "source": [
    "def clean_price(x):\n",
    "    if 'đ/m²' in x:\n",
    "        return float(x.split()[0]) \n",
    "    elif 'triệu/m²' in x:\n",
    "        return float(x.split()[0]) * 1000000\n",
    "    elif 'tỷ/m²' in x:\n",
    "        return float(x.split()[0]) * 1000000000\n",
    "    elif x == 'Thỏa thuận':\n",
    "        return None  \n",
    "    else:\n",
    "        return x"
   ]
  },
  {
   "cell_type": "code",
   "execution_count": 252,
   "id": "683653d1",
   "metadata": {},
   "outputs": [],
   "source": [
    "df['Giá/m2']=df['Giá/m2'].apply(clean_price)"
   ]
  },
  {
   "cell_type": "code",
   "execution_count": 253,
   "id": "6c3b1f71",
   "metadata": {},
   "outputs": [],
   "source": [
    "df['Giá/m2']=df['Giá/m2'].astype(float)"
   ]
  },
  {
   "cell_type": "markdown",
   "id": "059fdf2e",
   "metadata": {},
   "source": [
    "# Giấy tờ pháp lý"
   ]
  },
  {
   "cell_type": "code",
   "execution_count": 254,
   "id": "f11ddaeb",
   "metadata": {},
   "outputs": [
    {
     "data": {
      "text/plain": [
       "array([' Đã có sổ', nan, ' Đang chờ sổ', ' Giấy tờ khác'], dtype=object)"
      ]
     },
     "execution_count": 254,
     "metadata": {},
     "output_type": "execute_result"
    }
   ],
   "source": [
    "df['Giấy tờ pháp lý'].unique()"
   ]
  },
  {
   "cell_type": "code",
   "execution_count": 255,
   "id": "37964795",
   "metadata": {},
   "outputs": [],
   "source": [
    "df['Giấy tờ pháp lý']=df['Giấy tờ pháp lý'].str.strip()"
   ]
  },
  {
   "cell_type": "markdown",
   "id": "db70d056",
   "metadata": {},
   "source": [
    "# Loại hình đất, loại hình căn hộ, loại hình văn phòng, loại hình nhà ở"
   ]
  },
  {
   "cell_type": "code",
   "execution_count": 256,
   "id": "d9a3320a",
   "metadata": {},
   "outputs": [
    {
     "data": {
      "text/plain": [
       "array([' Đất nông nghiệp', ' Đất thổ cư', nan, ' Đất nền dự án',\n",
       "       ' Đất công nghiệp'], dtype=object)"
      ]
     },
     "execution_count": 256,
     "metadata": {},
     "output_type": "execute_result"
    }
   ],
   "source": [
    "df['Loại hình đất'].unique()"
   ]
  },
  {
   "cell_type": "code",
   "execution_count": 257,
   "id": "012df19c",
   "metadata": {},
   "outputs": [
    {
     "data": {
      "text/plain": [
       "array([nan, ' Chung cư', ' Căn hộ dịch vụ, mini', ' Duplex', ' Officetel',\n",
       "       ' Penthouse', ' Tập thể, cư xá'], dtype=object)"
      ]
     },
     "execution_count": 257,
     "metadata": {},
     "output_type": "execute_result"
    }
   ],
   "source": [
    "df['Loại hình căn hộ'].unique()"
   ]
  },
  {
   "cell_type": "code",
   "execution_count": 258,
   "id": "db6a6e41",
   "metadata": {},
   "outputs": [
    {
     "data": {
      "text/plain": [
       "array([nan, ' Mặt bằng kinh doanh', ' Shophouse', ' Văn phòng',\n",
       "       ' Officetel'], dtype=object)"
      ]
     },
     "execution_count": 258,
     "metadata": {},
     "output_type": "execute_result"
    }
   ],
   "source": [
    "df['Loại hình văn phòng'].unique()"
   ]
  },
  {
   "cell_type": "code",
   "execution_count": 259,
   "id": "3da3ebb9",
   "metadata": {},
   "outputs": [
    {
     "data": {
      "text/plain": [
       "array([nan, ' Nhà ngõ, hẻm', ' Nhà mặt phố, mặt tiền', ' Nhà biệt thự',\n",
       "       ' Nhà phố liền kề'], dtype=object)"
      ]
     },
     "execution_count": 259,
     "metadata": {},
     "output_type": "execute_result"
    }
   ],
   "source": [
    "df['Loại hình nhà ở'].unique()"
   ]
  },
  {
   "cell_type": "code",
   "execution_count": 260,
   "id": "90e66c2e",
   "metadata": {},
   "outputs": [],
   "source": [
    "df['Loại hình đất']=df['Loại hình đất'].str.strip()\n",
    "df['Loại hình căn hộ']=df['Loại hình căn hộ'].str.strip()\n",
    "df['Loại hình văn phòng']=df['Loại hình văn phòng'].str.strip()\n",
    "df['Loại hình nhà ở']=df['Loại hình nhà ở'].str.strip()"
   ]
  },
  {
   "cell_type": "markdown",
   "id": "472931e8",
   "metadata": {},
   "source": [
    "# date"
   ]
  },
  {
   "cell_type": "code",
   "execution_count": 261,
   "id": "f295cf2a",
   "metadata": {},
   "outputs": [
    {
     "data": {
      "text/plain": [
       "array(['2023-09-24', '2023-09-25', '2023-09-26', '2023-09-27',\n",
       "       '2023-10-02', '2023-10-03', '2023-10-04', '2023-10-05',\n",
       "       '2023-10-09', '2023-10-10', '2023-10-12', '2023-10-13',\n",
       "       '2023-10-14', '2023-10-17', '2023-10-18', '2023-10-19',\n",
       "       '2023-10-21', '2023-10-23', '2023-10-24', '2023-10-25',\n",
       "       '2023-10-28', '2023-10-29', '2023-10-30', '2023-10-31',\n",
       "       '2023-11-01', '2023-11-02', '2023-11-03'], dtype=object)"
      ]
     },
     "execution_count": 261,
     "metadata": {},
     "output_type": "execute_result"
    }
   ],
   "source": [
    "df['date'].unique()"
   ]
  },
  {
   "cell_type": "markdown",
   "id": "1c2b0bea",
   "metadata": {},
   "source": [
    "# Liên hệ"
   ]
  },
  {
   "cell_type": "code",
   "execution_count": 262,
   "id": "e85eafc0",
   "metadata": {},
   "outputs": [
    {
     "data": {
      "text/plain": [
       "array(['Minh Phương Phát', 'Quốc Huỳnh', 'Anh Tân', ...,\n",
       "       'Nguyễn Thị Xuân Tâm', 'Phạm Hữu Bình Định', 'Anonymous'],\n",
       "      dtype=object)"
      ]
     },
     "execution_count": 262,
     "metadata": {},
     "output_type": "execute_result"
    }
   ],
   "source": [
    "df['Liên hệ'].unique()"
   ]
  },
  {
   "cell_type": "code",
   "execution_count": 263,
   "id": "811ef6fe",
   "metadata": {},
   "outputs": [],
   "source": [
    "df['Liên hệ']=df['Liên hệ'].str.title()"
   ]
  },
  {
   "cell_type": "markdown",
   "id": "1d565bd9",
   "metadata": {},
   "source": [
    "# Hướng cửa chính, hướng ban công"
   ]
  },
  {
   "cell_type": "code",
   "execution_count": 264,
   "id": "5a2b2119",
   "metadata": {},
   "outputs": [
    {
     "data": {
      "text/plain": [
       "array([nan, ' Tây Nam', ' Tây', ' Tây Bắc', ' Đông Bắc', ' Đông Nam',\n",
       "       ' Bắc', ' Nam', ' Đông'], dtype=object)"
      ]
     },
     "execution_count": 264,
     "metadata": {},
     "output_type": "execute_result"
    }
   ],
   "source": [
    "df['Hướng cửa chính'].unique()"
   ]
  },
  {
   "cell_type": "code",
   "execution_count": 265,
   "id": "d8b6ea60",
   "metadata": {},
   "outputs": [
    {
     "data": {
      "text/plain": [
       "array([nan, ' Đông Bắc', ' Tây Bắc', ' Đông', ' Tây', ' Đông Nam',\n",
       "       ' Tây Nam', ' Bắc', ' Nam'], dtype=object)"
      ]
     },
     "execution_count": 265,
     "metadata": {},
     "output_type": "execute_result"
    }
   ],
   "source": [
    "df['Hướng ban công'].unique()"
   ]
  },
  {
   "cell_type": "code",
   "execution_count": 266,
   "id": "5a1ce8a0",
   "metadata": {},
   "outputs": [],
   "source": [
    "df['Hướng cửa chính']=df['Hướng cửa chính'].str.strip()\n",
    "df['Hướng ban công']=df['Hướng ban công'].str.strip()"
   ]
  },
  {
   "cell_type": "markdown",
   "id": "6cc713bc",
   "metadata": {},
   "source": [
    "# Chiều ngang, chiều dài, diện tích sử dụng"
   ]
  },
  {
   "cell_type": "code",
   "execution_count": 267,
   "id": "a06ab47e",
   "metadata": {},
   "outputs": [
    {
     "data": {
      "text/plain": [
       "array([nan, ' 8 m', ' 7 m', ' 6 m', ' 17 m', ' 13 m', ' 5 m', ' 4 m',\n",
       "       ' 15 m', ' 4.5 m', ' 6.2 m', ' 10 m', ' 5.5 m', ' 7.4 m',\n",
       "       ' 7.33 m', ' 7.5 m', ' 23 m', ' 6.5 m', ' 3.5 m', ' 3.43 m',\n",
       "       ' 5.97 m', ' 5.06 m', ' 24 m', ' 16 m', ' 12 m', ' 4.2 m',\n",
       "       ' 6.3 m', ' 45 m', ' 53 m', ' 25 m', ' 5.3 m', ' 5.7 m', ' 54 m',\n",
       "       ' 3 m', ' 100 m', ' 6.23 m', ' 4.8 m', ' 5.15 m', ' 44 m',\n",
       "       ' 5.2 m', ' 14 m', ' 4.1 m', ' 4.67 m', ' 5.23 m', ' 3.56 m',\n",
       "       ' 35 m', ' 5.1 m', ' 5.34 m', ' 6.7 m', ' 18 m', ' 5.08 m',\n",
       "       ' 12.1 m', ' 6.15 m', ' 3.69 m', ' 4.4 m', ' 14.8 m', ' 4.42 m',\n",
       "       ' 2 m', ' 9 m', ' 20 m', ' 22 m', ' 7.7 m', ' 18.5 m', ' 8.4 m',\n",
       "       ' 200 m', ' 15.5 m', ' 65 m', ' 70 m', ' 535 m', ' 3.8 m',\n",
       "       ' 5.65 m', ' 8.77 m', ' 5.4 m', ' 5.8 m', ' 4.74 m', ' 7.1 m',\n",
       "       ' 6.74 m', ' 38 m', ' 94 m', ' 8.2 m', ' 4.46 m', ' 17.9 m',\n",
       "       ' 17.7 m', ' 9.5 m', ' 4.9 m', ' 3.67 m', ' 12.5 m', ' 11 m',\n",
       "       ' 11.5 m', ' 9.6 m', ' 4.6 m', ' 5.9 m', ' 52 m', ' 7.8 m',\n",
       "       ' 4.3 m', ' 36 m', ' 3.2 m', ' 3.87 m', ' 4.03 m', ' 483 m',\n",
       "       ' 88 m', ' 4.17 m', ' 14.7 m', ' 9.68 m', ' 4.07 m', ' 3.3 m',\n",
       "       ' 10.6 m', ' 3.7 m', ' 5.6 m', ' 3.58 m', ' 5.44 m', ' 4.96 m',\n",
       "       ' 8.45 m', ' 15.02 m', ' 9.7 m', ' 3.6 m', ' 6.6 m', ' 6.35 m',\n",
       "       ' 450 m', ' 4.68 m', ' 5.75 m', ' 40 m', ' 5.45 m', ' 41 m',\n",
       "       ' 3.12 m', ' 3.45 m', ' 395 m', ' 33 m', ' 6.79 m', ' 5.86 m',\n",
       "       ' 3.9 m', ' 18.76 m', ' 572 m', ' 8.3 m', ' 8.28 m', ' 4.55 m',\n",
       "       ' 19 m', ' 660 m', ' 42 m', ' 8.1 m', ' 4.7 m', ' 8.7 m',\n",
       "       ' 4.82 m', ' 6.1 m', ' 8.54 m', ' 4.71 m', ' 4.15 m', ' 9.2 m',\n",
       "       ' 6.8 m', ' 4.61 m', ' 7.2 m', ' 5.05 m', ' 75 m', ' 9.8 m',\n",
       "       ' 30 m', ' 5.78 m', ' 6.07 m', ' 29 m', ' 28 m', ' 8.8 m',\n",
       "       ' 4.43 m', ' 4.78 m', ' 4.08 m', ' 562 m', ' 4.02 m', ' 4.97 m',\n",
       "       ' 16.4 m', ' 9.3 m', ' 8.9 m', ' 4.95 m', ' 4.22 m', ' 11.67 m',\n",
       "       ' 8.5 m', ' 16.5 m', ' 80 m', ' 8.6 m', ' 14.5 m', ' 11.9 m',\n",
       "       ' 7.09 m', ' 6.45 m', ' 16.6 m', ' 1240 m', ' 4.75 m', ' 13.3 m',\n",
       "       ' 4.79 m', ' 7.63 m', ' 60 m', ' 4.35 m', ' 3.66 m', ' 3.1 m',\n",
       "       ' 4.57 m', ' 5.25 m', ' 5.51 m', ' 3.4 m', ' 5.47 m', ' 47 m',\n",
       "       ' 4500 m', ' 9999 m', ' 43 m', ' 21 m', ' 480 m', ' 12.8 m',\n",
       "       ' 15.8 m', ' 377 m', ' 320 m', ' 3.64 m', ' 5.94 m', ' 27 m',\n",
       "       ' 19.5 m', ' 17.34 m', ' 2.62 m', ' 7.15 m', ' 4.66 m', ' 7.25 m',\n",
       "       ' 3.74 m', ' 4.54 m', ' 50 m', ' 4.05 m', ' 4.45 m', ' 11.65 m',\n",
       "       ' 7.37 m', ' 55 m', ' 3.29 m', ' 5.36 m', ' 2.5 m', ' 5.85 m',\n",
       "       ' 5.26 m', ' 3.85 m', ' 5.42 m', ' 17.5 m', ' 3.16 m', ' 3.52 m',\n",
       "       ' 4.84 m', ' 317 m', ' 95 m', ' 6.52 m', ' 16.3 m', ' 4.25 m',\n",
       "       ' 32 m', ' 10.1 m', ' 62 m', ' 12.52 m', ' 7.21 m', ' 10.5 m',\n",
       "       ' 5.37 m', ' 5900 m', ' 37 m', ' 4.04 m', ' 3.78 m', ' 37.5 m',\n",
       "       ' 9.75 m', ' 12.38 m', ' 6.34 m', ' 4.86 m', ' 3.73 m', ' 8.68 m',\n",
       "       ' 3.31 m', ' 68 m', ' 5.81 m', ' 6.9 m', ' 6.32 m', ' 5.56 m',\n",
       "       ' 5.64 m', ' 31 m', ' 5.16 m', ' 4.01 m', ' 4.29 m', ' 7.6 m',\n",
       "       ' 6.53 m', ' 2.75 m', ' 6.25 m', ' 7.52 m', ' 78 m', ' 8.25 m',\n",
       "       ' 147 m', ' 4.16 m', ' 11.15 m', ' 6.87 m', ' 13.5 m', ' 7.3 m',\n",
       "       ' 4.38 m', ' 5.14 m', ' 5.09 m', ' 7.01 m', ' 4.65 m', ' 4.21 m',\n",
       "       ' 4.85 m', ' 4.31 m', ' 9.34 m', ' 4.41 m', ' 4.59 m', ' 9.4 m',\n",
       "       ' 35.5 m', ' 5.32 m', ' 9.39 m', ' 4.83 m', ' 2.7 m'], dtype=object)"
      ]
     },
     "execution_count": 267,
     "metadata": {},
     "output_type": "execute_result"
    }
   ],
   "source": [
    "df['Chiều ngang'].unique()"
   ]
  },
  {
   "cell_type": "code",
   "execution_count": 268,
   "id": "32e2cf70",
   "metadata": {},
   "outputs": [
    {
     "data": {
      "text/plain": [
       "array([nan, ' 26 m', ' 20 m', ' 4 m', ' 19 m', ' 29 m', ' 16 m', ' 15 m',\n",
       "       ' 25 m', ' 20.3 m', ' 25.2 m', ' 17 m', ' 23 m', ' 10 m', ' 35 m',\n",
       "       ' 18 m', ' 12 m', ' 15.3 m', ' 21 m', ' 18.7 m', ' 30 m',\n",
       "       ' 11.51 m', ' 15.2 m', ' 7 m', ' 16.5 m', ' 14 m', ' 22 m',\n",
       "       ' 17.7 m', ' 22.5 m', ' 9 m', ' 40 m', ' 24 m', ' 11 m', ' 27 m',\n",
       "       ' 12.5 m', ' 99 m', ' 14.4 m', ' 8 m', ' 20.5 m', ' 15.51 m',\n",
       "       ' 13 m', ' 23.2 m', ' 28 m', ' 18.1 m', ' 5.1 m', ' 19.8 m',\n",
       "       ' 36 m', ' 14.8 m', ' 14.5 m', ' 10.5 m', ' 33.3 m', ' 25.5 m',\n",
       "       ' 8.6 m', ' 19.5 m', ' 11.25 m', ' 13.2 m', ' 16.7 m', ' 18.6 m',\n",
       "       ' 60 m', ' 17.18 m', ' 21.7 m', ' 21.8 m', ' 34 m', ' 57.25 m',\n",
       "       ' 8.35 m', ' 13.5 m', ' 11.1 m', ' 20.8 m', ' 6 m', ' 16.9 m',\n",
       "       ' 32 m', ' 68 m', ' 41 m', ' 24.5 m', ' 50 m', ' 200 m', ' 77 m',\n",
       "       ' 26.5 m', ' 9.16 m', ' 17.5 m', ' 13.25 m', ' 10.2 m', ' 18.5 m',\n",
       "       ' 28.2 m', ' 15.4 m', ' 32.5 m', ' 20.2 m', ' 23.5 m', ' 7.8 m',\n",
       "       ' 5.8 m', ' 19.4 m', ' 265 m', ' 11.9 m', ' 8.2 m', ' 26.7 m',\n",
       "       ' 22.4 m', ' 15.8 m', ' 10.1 m', ' 13.51 m', ' 96 m', ' 27.5 m',\n",
       "       ' 175 m', ' 118 m', ' 11.08 m', ' 48 m', ' 10.3 m', ' 42 m',\n",
       "       ' 15.5 m', ' 13.3 m', ' 16.3 m', ' 12.1 m', ' 17.25 m', ' 13.21 m',\n",
       "       ' 13.43 m', ' 24.45 m', ' 24.7 m', ' 18.75 m', ' 31 m', ' 33 m',\n",
       "       ' 25.7 m', ' 10.25 m', ' 17.54 m', ' 7.5 m', ' 19.25 m', ' 17.8 m',\n",
       "       ' 28.66 m', ' 10.04 m', ' 17.44 m', ' 11.5 m', ' 30.5 m',\n",
       "       ' 12.82 m', ' 6.5 m', ' 70 m', ' 38 m', ' 21.5 m', ' 5 m',\n",
       "       ' 16.4 m', ' 17.3 m', ' 9.5 m', ' 19.6 m', ' 10.8 m', ' 15.31 m',\n",
       "       ' 10.18 m', ' 23.8 m', ' 9.2 m', ' 5.4 m', ' 2452 m', ' 23.25 m',\n",
       "       ' 1750 m', ' 22.38 m', ' 15.7 m', ' 9.3 m', ' 23.71 m', ' 18.3 m',\n",
       "       ' 15.68 m', ' 17.9 m', ' 12.11 m', ' 64 m', ' 12.4 m', ' 125 m',\n",
       "       ' 29.4 m', ' 12.6 m', ' 17.05 m', ' 8.3 m', ' 911 m', ' 11.2 m',\n",
       "       ' 43 m', ' 44 m', ' 13.38 m', ' 7.55 m', ' 12.62 m', ' 34.73 m',\n",
       "       ' 19.1 m', ' 16.25 m', ' 4.1 m', ' 15.73 m', ' 27.6 m', ' 37 m',\n",
       "       ' 25.8 m', ' 24.9 m', ' 10.6 m', ' 16.6 m', ' 25.11 m', ' 13.1 m',\n",
       "       ' 6.9 m', ' 7.2 m', ' 65 m', ' 80 m', ' 100 m', ' 25.9 m',\n",
       "       ' 12.12 m', ' 13.93 m', ' 35.8 m', ' 18.25 m', ' 24.4 m',\n",
       "       ' 11.54 m', ' 11.3 m', ' 18.21 m', ' 13.4 m', ' 21.33 m',\n",
       "       ' 24.3 m', ' 20.7 m', ' 20.6 m', ' 15.6 m', ' 25.4 m', ' 49 m',\n",
       "       ' 3 m', ' 23.3 m', ' 45 m', ' 15.9 m', ' 18.2 m', ' 20.58 m',\n",
       "       ' 13.8 m', ' 2.6 m', ' 14.05 m', ' 39 m', ' 20.4 m', ' 13.7 m',\n",
       "       ' 6.25 m', ' 12.85 m', ' 37.5 m', ' 19.63 m', ' 180 m', ' 48000 m',\n",
       "       ' 9999 m', ' 76 m', ' 55 m', ' 21.1 m', ' 2 m', ' 1 m', ' 73 m',\n",
       "       ' 120 m', ' 20.9 m', ' 17.6 m', ' 11.27 m', ' 24.2 m', ' 6.2 m',\n",
       "       ' 6.75 m', ' 13.32 m', ' 13.53 m', ' 27.1 m', ' 27.2 m', ' 6.8 m',\n",
       "       ' 14.75 m', ' 7.47 m', ' 22.2 m', ' 40.9 m', ' 42.7 m', ' 18.8 m',\n",
       "       ' 12.9 m', ' 9.4 m', ' 15.46 m', ' 11.65 m', ' 150 m', ' 400 m',\n",
       "       ' 295 m', ' 21.54 m', ' 41.7 m', ' 78 m', ' 105 m', ' 12.42 m',\n",
       "       ' 17.63 m', ' 46 m', ' 8.7 m', ' 15.1 m', ' 240 m', ' 23.43 m',\n",
       "       ' 21.6 m', ' 28.5 m', ' 6.93 m', ' 19.44 m', ' 14.3 m', ' 51 m',\n",
       "       ' 28.6 m', ' 9.75 m', ' 23.6 m', ' 24.13 m', ' 1020 m', ' 11.22 m',\n",
       "       ' 26.4 m', ' 11.8 m', ' 1400 m', ' 1650 m', ' 14.2 m', ' 16.1 m',\n",
       "       ' 10.07 m', ' 52 m', ' 14.92 m', ' 14.25 m', ' 18.4 m', ' 21.83 m',\n",
       "       ' 22.7 m', ' 28.62 m', ' 9.14 m', ' 13.33 m', ' 16.8 m', ' 26.2 m',\n",
       "       ' 6.3 m', ' 10.4 m', ' 14.7 m', ' 31.1 m', ' 14.6 m', ' 13.19 m',\n",
       "       ' 33.33 m', ' 28.4 m', ' 6.7 m', ' 4.5 m', ' 25.6 m', ' 17.32 m',\n",
       "       ' 31.5 m', ' 12.8 m', ' 16.79 m', ' 26.25 m', ' 17.4 m', ' 9.6 m',\n",
       "       ' 21.4 m', ' 4.2 m', ' 8.5 m', ' 15.18 m', ' 14.74 m', ' 18.16 m',\n",
       "       ' 28.25 m', ' 7.6 m', ' 131 m', ' 24.8 m', ' 16.2 m', ' 20.12 m',\n",
       "       ' 30.6 m', ' 5.2 m', ' 24.44 m', ' 31.6 m', ' 24.1 m', ' 11.75 m',\n",
       "       ' 14.1 m', ' 9.76 m', ' 9.7 m', ' 17.72 m', ' 20.95 m', ' 26.33 m',\n",
       "       ' 12.2 m', ' 12.3 m', ' 11.38 m', ' 15.02 m', ' 32.8 m',\n",
       "       ' 24.24 m', ' 7.48 m', ' 26.1 m', ' 75 m', ' 13.75 m', ' 16.47 m',\n",
       "       ' 1175 m', ' 14.52 m', ' 12.55 m', ' 31.8 m'], dtype=object)"
      ]
     },
     "execution_count": 268,
     "metadata": {},
     "output_type": "execute_result"
    }
   ],
   "source": [
    "df['Chiều dài'].unique()"
   ]
  },
  {
   "cell_type": "code",
   "execution_count": 269,
   "id": "e360bf69",
   "metadata": {},
   "outputs": [
    {
     "data": {
      "text/plain": [
       "array([nan, ' 110 m²', ' 130 m²', ' 150 m²', ' 175 m²', ' 225 m²',\n",
       "       ' 180 m²', ' 545 m²', ' 280 m²', ' 170 m²', ' 61 m²', ' 116 m²',\n",
       "       ' 81 m²', ' 208 m²', ' 85 m²', ' 80 m²', ' 75 m²', ' 160 m²',\n",
       "       ' 3000 m²', ' 62 m²', ' 240 m²', ' 135 m²', ' 245 m²', ' 66 m²',\n",
       "       ' 82 m²', ' 286 m²', ' 100 m²', ' 250 m²', ' 350 m²', ' 400 m²',\n",
       "       ' 72 m²', ' 165 m²', ' 868 m²', ' 120 m²', ' 230 m²', ' 360 m²',\n",
       "       ' 210 m²', ' 200 m²', ' 106 m²', ' 50 m²', ' 44 m²', ' 500 m²',\n",
       "       ' 60 m²', ' 213 m²', ' 266 m²', ' 74.6 m²', ' 300 m²', ' 218 m²',\n",
       "       ' 64 m²', ' 420 m²', ' 226 m²', ' 108 m²', ' 222 m²', ' 115 m²',\n",
       "       ' 140 m²', ' 155 m²', ' 93.5 m²', ' 176 m²', ' 2300 m²', ' 264 m²',\n",
       "       ' 441 m²', ' 261 m²', ' 260 m²', ' 364 m²', ' 65 m²', ' 123 m²',\n",
       "       ' 54 m²', ' 126 m²', ' 90 m²', ' 70 m²', ' 114 m²', ' 145 m²',\n",
       "       ' 103 m²', ' 84 m²', ' 435 m²', ' 220 m²', ' 254 m²', ' 484 m²',\n",
       "       ' 416.9 m²', ' 202 m²', ' 51 m²', ' 197 m²', ' 87 m²', ' 69 m²',\n",
       "       ' 201 m²', ' 168 m²', ' 413 m²', ' 206 m²', ' 232 m²', ' 144 m²',\n",
       "       ' 195 m²', ' 164 m²', ' 45 m²', ' 465 m²', ' 443 m²', ' 242.6 m²',\n",
       "       ' 450 m²', ' 270 m²', ' 320 m²', ' 55 m²', ' 172 m²', ' 700 m²',\n",
       "       ' 215 m²', ' 93 m²', ' 95 m²', ' 375 m²', ' 30 m²', ' 4925 m²',\n",
       "       ' 251 m²', ' 643 m²', ' 480 m²', ' 112.3 m²', ' 40 m²', ' 411 m²',\n",
       "       ' 166 m²', ' 600 m²', ' 268 m²', ' 1000 m²', ' 92 m²', ' 94 m²',\n",
       "       ' 68 m²', ' 66.6 m²', ' 119 m²', ' 88 m²', ' 297 m²', ' 414 m²',\n",
       "       ' 238.6 m²', ' 176.4 m²', ' 163 m²', ' 54.6 m²', ' 181 m²',\n",
       "       ' 76 m²', ' 65.5 m²', ' 199 m²', ' 142 m²', ' 83.3 m²', ' 239 m²',\n",
       "       ' 299 m²', ' 183 m²', ' 190 m²', ' 12 m²', ' 485 m²', ' 850 m²',\n",
       "       ' 284 m²', ' 120.6 m²', ' 101 m²', ' 136 m²', ' 233 m²', ' 59 m²',\n",
       "       ' 52 m²', ' 113 m²', ' 102 m²', ' 75.5 m²', ' 78 m²', ' 167 m²',\n",
       "       ' 336 m²', ' 244 m²', ' 75.2 m²', ' 430 m²', ' 275 m²', ' 179 m²',\n",
       "       ' 330 m²', ' 118 m²', ' 316.7 m²', ' 125 m²', ' 243 m²', ' 380 m²',\n",
       "       ' 323 m²', ' 156 m²', ' 216 m²', ' 107 m²', ' 340 m²', ' 234 m²',\n",
       "       ' 143 m²', ' 1150 m²', ' 453 m²', ' 173 m²', ' 112 m²', ' 11 m²',\n",
       "       ' 410 m²', ' 41 m²', ' 48 m²', ' 74 m²', ' 411.7 m²', ' 184.1 m²',\n",
       "       ' 237 m²', ' 42 m²', ' 105 m²', ' 158.4 m²', ' 97 m²', ' 221.9 m²',\n",
       "       ' 84.6 m²', ' 174.6 m²', ' 252 m²', ' 290 m²', ' 525 m²',\n",
       "       ' 141 m²', ' 56.6 m²', ' 79 m²', ' 153 m²', ' 855 m²', ' 86 m²',\n",
       "       ' 345 m²', ' 178 m²', ' 43 m²', ' 171 m²', ' 51.2 m²', ' 258 m²',\n",
       "       ' 77 m²', ' 405 m²', ' 82.5 m²', ' 539 m²', ' 39.9 m²', ' 124 m²',\n",
       "       ' 402 m²', ' 195.8 m²', ' 96 m²', ' 153.2 m²', ' 459 m²',\n",
       "       ' 253 m²', ' 109 m²', ' 192 m²', ' 152 m²', ' 168.3 m²', ' 122 m²',\n",
       "       ' 517 m²', ' 322 m²', ' 292 m²', ' 293 m²', ' 127 m²', ' 276 m²',\n",
       "       ' 246 m²', ' 100.4 m²', ' 390 m²', ' 227 m²', ' 328 m²', ' 725 m²',\n",
       "       ' 154.4 m²', ' 131 m²', ' 83 m²', ' 307.6 m²', ' 378 m²',\n",
       "       ' 436 m²', ' 58 m²', ' 60.1 m²', ' 193.5 m²', ' 1050 m²',\n",
       "       ' 163.2 m²', ' 121.5 m²', ' 27 m²', ' 235 m²', ' 161.6 m²',\n",
       "       ' 285 m²', ' 53.1 m²', ' 67 m²', ' 147 m²', ' 316 m²', ' 201.6 m²',\n",
       "       ' 63 m²', ' 158 m²', ' 47.4 m²', ' 52.99 m²', ' 5 m²', ' 106.7 m²',\n",
       "       ' 148 m²', ' 91 m²', ' 32 m²', ' 80.9 m²', ' 87.4 m²', ' 188.5 m²',\n",
       "       ' 229 m²', ' 315 m²', ' 547 m²', ' 98 m²', ' 154 m²', ' 242 m²',\n",
       "       ' 199.6 m²', ' 374.2 m²', ' 56 m²', ' 68.4 m²', ' 177.4 m²',\n",
       "       ' 109.6 m²', ' 182.5 m²', ' 33 m²', ' 9999 m²', ' 187.5 m²',\n",
       "       ' 440 m²', ' 73 m²', ' 255 m²', ' 550 m²', ' 157 m²', ' 187 m²',\n",
       "       ' 540 m²', ' 25 m²', ' 800 m²', ' 650 m²', ' 139 m²', ' 198 m²',\n",
       "       ' 880 m²', ' 312 m²', ' 57 m²', ' 6000 m²', ' 780 m²', ' 223 m²',\n",
       "       ' 34 m²', ' 256 m²', ' 8 m²', ' 365 m²', ' 488 m²', ' 310 m²',\n",
       "       ' 204 m²', ' 1 m²', ' 47 m²', ' 900 m²', ' 3 m²', ' 20 m²',\n",
       "       ' 18 m²', ' 1200 m²', ' 1440 m²', ' 616 m²', ' 148.5 m²',\n",
       "       ' 1800 m²', ' 186 m²', ' 242.5 m²', ' 54.5 m²', ' 25.8 m²',\n",
       "       ' 937 m²', ' 104 m²', ' 184.3 m²', ' 295 m²', ' 458 m²',\n",
       "       ' 95.5 m²', ' 111111 m²', ' 112.7 m²', ' 205 m²', ' 214 m²',\n",
       "       ' 184 m²', ' 163.6 m²', ' 217 m²', ' 241 m²', ' 432 m²',\n",
       "       ' 85.5 m²', ' 129 m²', ' 82.4 m²', ' 282 m²', ' 1095 m²',\n",
       "       ' 196 m²', ' 122.5 m²', ' 121 m²', ' 134 m²', ' 519 m²', ' 99 m²',\n",
       "       ' 162 m²', ' 151 m²', ' 976 m²', ' 288 m²', ' 132 m²', ' 470 m²',\n",
       "       ' 1120 m²', ' 71 m²', ' 354 m²', ' 411.9 m²', ' 521 m²',\n",
       "       ' 6300 m²', ' 575 m²', ' 174 m²', ' 305 m²', ' 690 m²', ' 231 m²',\n",
       "       ' 228 m²', ' 162.8 m²', ' 247 m²', ' 279 m²', ' 660 m²', ' 177 m²',\n",
       "       ' 708 m²', ' 510 m²', ' 507 m²', ' 13323 m²', ' 407 m²', ' 24 m²',\n",
       "       ' 193 m²', ' 118.5 m²', ' 1157 m²', ' 317 m²', ' 885 m²',\n",
       "       ' 221 m²', ' 45.4 m²', ' 185 m²', ' 630 m²', ' 463 m²', ' 265 m²',\n",
       "       ' 169 m²', ' 128.5 m²', ' 224 m²', ' 520 m²', ' 376 m²', ' 309 m²',\n",
       "       ' 468 m²', ' 756 m²', ' 89.7 m²', ' 456 m²', ' 1260 m²', ' 248 m²',\n",
       "       ' 324 m²', ' 28 m²', ' 615 m²', ' 400.2 m²', ' 44.3 m²', ' 530 m²',\n",
       "       ' 830 m²', ' 85.9 m²', ' 128 m²', ' 555 m²', ' 117 m²', ' 1300 m²',\n",
       "       ' 257 m²', ' 262 m²', ' 580 m²', ' 73.5 m²', ' 1024 m²', ' 263 m²',\n",
       "       ' 1100 m²', ' 236 m²', ' 1500 m²', ' 249 m²', ' 57.4 m²',\n",
       "       ' 558 m²', ' 798 m²', ' 840 m²', ' 111 m²', ' 75.6 m²',\n",
       "       ' 214.7 m²', ' 238 m²', ' 116.3 m²', ' 223.2 m²', ' 560 m²',\n",
       "       ' 388 m²', ' 114.8 m²', ' 418 m²', ' 35 m²', ' 1400 m²',\n",
       "       ' 95.3 m²', ' 92.5 m²', ' 369 m²', ' 138 m²', ' 383 m²',\n",
       "       ' 109.7 m²'], dtype=object)"
      ]
     },
     "execution_count": 269,
     "metadata": {},
     "output_type": "execute_result"
    }
   ],
   "source": [
    "df['Diện tích sử dụng'].unique()"
   ]
  },
  {
   "cell_type": "code",
   "execution_count": 270,
   "id": "712e576a",
   "metadata": {},
   "outputs": [],
   "source": [
    "df['Chiều ngang']=df['Chiều ngang'].apply(lambda x: float(str(x).split()[0]))\n",
    "df['Chiều dài']=df['Chiều dài'].apply(lambda x: float(str(x).split()[0]))\n",
    "df['Diện tích sử dụng']=df['Diện tích sử dụng'].apply(lambda x: float(str(x).split()[0]))"
   ]
  },
  {
   "cell_type": "markdown",
   "id": "d05c3622",
   "metadata": {},
   "source": [
    "# Đặt điểm nhà/đất"
   ]
  },
  {
   "cell_type": "code",
   "execution_count": 271,
   "id": "5fae3cc4",
   "metadata": {},
   "outputs": [
    {
     "data": {
      "text/plain": [
       "array([nan, ' Mặt tiền', ' Hẻm xe hơi', ' Nở hậu', ' Hẻm xe hơi,Nở hậu',\n",
       "       ' Mặt tiền,Nở hậu', ' Hẻm xe hơi,Nở hậu,Mặt tiền',\n",
       "       ' Nở hậu,Hẻm xe hơi', ' Mặt tiền,Hẻm xe hơi,Nở hậu',\n",
       "       ' Mặt tiền,Nở hậu,Hẻm xe hơi', ' Hẻm xe hơi,Mặt tiền',\n",
       "       ' Nở hậu,Mặt tiền', ' Mặt tiền,Hẻm xe hơi',\n",
       "       ' Nở hậu,Mặt tiền,Hẻm xe hơi', ' 1', ' Hẻm xe hơi,Mặt tiền,Nở hậu',\n",
       "       ' Nở hậu,Hẻm xe hơi,Mặt tiền'], dtype=object)"
      ]
     },
     "execution_count": 271,
     "metadata": {},
     "output_type": "execute_result"
    }
   ],
   "source": [
    "df['Đặc điểm nhà/đất'].unique()"
   ]
  },
  {
   "cell_type": "code",
   "execution_count": 272,
   "id": "20d564ea",
   "metadata": {},
   "outputs": [],
   "source": [
    "df['Đặc điểm nhà/đất']=df['Đặc điểm nhà/đất'].str.strip()"
   ]
  },
  {
   "cell_type": "code",
   "execution_count": 273,
   "id": "7133167c",
   "metadata": {},
   "outputs": [],
   "source": [
    "def replace_f(text):\n",
    "    if isinstance(text, str):\n",
    "        text = text.strip().lower()\n",
    "        if ('hẻm xe hơi' in text) and ('nở hậu' in text) and ('mặt tiền' in text):\n",
    "            return 'Mặt tiền, Hẻm xe hơi, Nở hậu'\n",
    "        elif ('hẻm xe hơi' in text) and ('nở hậu' in text):\n",
    "            return 'Hẻm xe hơi, Nở hậu'\n",
    "        elif ('hẻm xe hơi' in text)  and ('mặt tiền' in text):\n",
    "            return 'Mặt tiền, Hẻm xe hơi'\n",
    "        elif ('nở hậu' in text) and ('mặt tiền' in text):\n",
    "            return 'Mặt tiền, Nở hậu'\n",
    "        elif ('hẻm xe hơi' in text):\n",
    "            return 'Hẻm xe hơi'\n",
    "        elif ('nở hậu' in text):\n",
    "            return 'Nở hậu'\n",
    "        elif ('mặt tiền' in text):\n",
    "            return 'Mặt tiền'\n",
    "        else:\n",
    "            return text\n",
    "    else:\n",
    "        return text"
   ]
  },
  {
   "cell_type": "code",
   "execution_count": 274,
   "id": "ac1a05eb",
   "metadata": {},
   "outputs": [],
   "source": [
    "df['Đặc điểm nhà/đất']=df['Đặc điểm nhà/đất'].apply(replace_f)"
   ]
  },
  {
   "cell_type": "markdown",
   "id": "28657f2e",
   "metadata": {},
   "source": [
    "# Số phòng ngủ, Số phòng vệ sinh"
   ]
  },
  {
   "cell_type": "code",
   "execution_count": 275,
   "id": "67e0e442",
   "metadata": {},
   "outputs": [
    {
     "data": {
      "text/plain": [
       "array([nan, ' 3 phòng', ' nhiều hơn 10 phòng', ' 5 phòng', ' 6 phòng',\n",
       "       ' 1 phòng', ' 2 phòng', ' 4 phòng', ' 7 phòng', ' 8 phòng',\n",
       "       ' 9 phòng', ' 10 phòng'], dtype=object)"
      ]
     },
     "execution_count": 275,
     "metadata": {},
     "output_type": "execute_result"
    }
   ],
   "source": [
    "df['Số phòng ngủ'].unique()"
   ]
  },
  {
   "cell_type": "code",
   "execution_count": 276,
   "id": "2552749f",
   "metadata": {},
   "outputs": [
    {
     "data": {
      "text/plain": [
       "array([nan, ' 3 phòng', ' 2 phòng', ' Nhiều hơn 6 phòng', ' 6 phòng',\n",
       "       ' 1 phòng', ' 4 phòng', ' 5 phòng'], dtype=object)"
      ]
     },
     "execution_count": 276,
     "metadata": {},
     "output_type": "execute_result"
    }
   ],
   "source": [
    "df['Số phòng vệ sinh'].unique()"
   ]
  },
  {
   "cell_type": "code",
   "execution_count": 277,
   "id": "3aa5365f",
   "metadata": {},
   "outputs": [],
   "source": [
    "df['Số phòng ngủ']=df['Số phòng ngủ'].astype(str)\n",
    "df['Số phòng ngủ'] = df['Số phòng ngủ'].apply(lambda x: re.search(r'\\d+', x).group() if re.search(r'\\d+', x) else None)"
   ]
  },
  {
   "cell_type": "code",
   "execution_count": 278,
   "id": "8cec843f",
   "metadata": {},
   "outputs": [],
   "source": [
    "df['Số phòng vệ sinh']=df['Số phòng vệ sinh'].astype(str)\n",
    "df['Số phòng vệ sinh'] = df['Số phòng vệ sinh'].apply(lambda x: re.search(r'\\d+', x).group() if re.search(r'\\d+', x) else None)"
   ]
  },
  {
   "cell_type": "markdown",
   "id": "bc479663",
   "metadata": {},
   "source": [
    "# Tổng số tầng, tầng số"
   ]
  },
  {
   "cell_type": "code",
   "execution_count": 279,
   "id": "c3028dbf",
   "metadata": {},
   "outputs": [
    {
     "data": {
      "text/plain": [
       "array([ nan,   2.,   3.,   1.,   4.,   5.,  10.,   6.,   8.,   7.,  14.,\n",
       "        11.,  35.,  15.,  22.,   9.,  20.,  33.,  23., 275.,  66., 153.])"
      ]
     },
     "execution_count": 279,
     "metadata": {},
     "output_type": "execute_result"
    }
   ],
   "source": [
    "df['Tổng số tầng'].unique()"
   ]
  },
  {
   "cell_type": "code",
   "execution_count": 280,
   "id": "c0b39f2c",
   "metadata": {},
   "outputs": [
    {
     "data": {
      "text/plain": [
       "array([ nan,   9.,   2.,   8.,   6.,   7.,   4.,  34.,  23.,   3.,  18.,\n",
       "        10.,  28.,  16.,  15.,  11.,  14.,   5.,  12.,  29.,  25.,   1.,\n",
       "        20.,  17.,  31.,  27.,  26.,  30.,  13.,  19.,  21.,  22.,  36.,\n",
       "        33.,  40.,  35.,  38.,  44.,  55.,  39.,  24., 810., 963.,  32.])"
      ]
     },
     "execution_count": 280,
     "metadata": {},
     "output_type": "execute_result"
    }
   ],
   "source": [
    "df['Tầng số'].unique()"
   ]
  },
  {
   "cell_type": "markdown",
   "id": "020a4001",
   "metadata": {},
   "source": [
    "# Tình trạng nội thất, tình trạng bất động sản"
   ]
  },
  {
   "cell_type": "code",
   "execution_count": 281,
   "id": "4bc6b79f",
   "metadata": {},
   "outputs": [
    {
     "data": {
      "text/plain": [
       "array([nan, ' Nội thất cao cấp', ' Nội thất đầy đủ', ' Bàn giao thô',\n",
       "       ' Nhà trống'], dtype=object)"
      ]
     },
     "execution_count": 281,
     "metadata": {},
     "output_type": "execute_result"
    }
   ],
   "source": [
    "df['Tình trạng nội thất'].unique()"
   ]
  },
  {
   "cell_type": "code",
   "execution_count": 282,
   "id": "d4f1c98c",
   "metadata": {},
   "outputs": [],
   "source": [
    "df['Tình trạng nội thất']=df['Tình trạng nội thất'].str.strip()"
   ]
  },
  {
   "cell_type": "code",
   "execution_count": 283,
   "id": "688bba41",
   "metadata": {},
   "outputs": [],
   "source": [
    "df['Tình trạng nội thất']=df['Tình trạng nội thất'].apply(lambda x: str(x).replace('Nhà trống', 'Không nội thất'))"
   ]
  },
  {
   "cell_type": "code",
   "execution_count": 284,
   "id": "8e304813",
   "metadata": {},
   "outputs": [
    {
     "data": {
      "text/plain": [
       "array([nan, ' Chưa bàn giao', ' Đã bàn giao'], dtype=object)"
      ]
     },
     "execution_count": 284,
     "metadata": {},
     "output_type": "execute_result"
    }
   ],
   "source": [
    "df['Tình trạng bất động sản'].unique()"
   ]
  },
  {
   "cell_type": "code",
   "execution_count": 285,
   "id": "fe3ed26c",
   "metadata": {},
   "outputs": [],
   "source": [
    "df['Tình trạng bất động sản']=df['Tình trạng bất động sản'].str.strip()"
   ]
  },
  {
   "cell_type": "markdown",
   "id": "6014e4b2",
   "metadata": {},
   "source": [
    "# Mã căn, mã lô"
   ]
  },
  {
   "cell_type": "code",
   "execution_count": 286,
   "id": "4ddbb422",
   "metadata": {},
   "outputs": [
    {
     "data": {
      "text/plain": [
       "array([nan, ' 205', ' 9999', ' 8888', ' 1', ' 10', ' 12', ' 38',\n",
       "       ' P2-16.13', ' V1', ' 0905271165', ' P2-07.08', ' 250', ' 05',\n",
       "       ' 2903', ' 904', ' P2-13.16', ' P2-03.12', ' 1606', ' 2105',\n",
       "       ' P2-07.12', ' 11', ' 2607', ' P103A09', ' P10515', ' 75', ' CT10',\n",
       "       ' 407', ' 140', ' 608', ' 6B06', ' 616', ' DNPlaza3beds', ' 301',\n",
       "       ' VL1', ' 03', ' 101', ' 27', ' 08', ' 02', ' 302', ' 401', ' 402',\n",
       "       ' 114', ' 24', ' ABC', ' 20', ' 06', ' 15', ' 11CT02',\n",
       "       ' 623 nguyen tat thanh', ' 4004', ' 04', ' A301', ' 202', ' 168',\n",
       "       ' 01', ' 09', ' CT10-CH01.07', ' CTO2', ' CH-07-07', ' P208-07',\n",
       "       ' 11A08', ' B3-21-11', ' 12A05', ' k218', ' 3', ' P21508', ' 4B',\n",
       "       ' P1508', ' B2.50', ' 17', ' NNC0738', ' NNC0737', ' NNC0736',\n",
       "       ' NNC0735', ' JH02', ' P210-02', ' P2-10.09', ' P2-09.08',\n",
       "       ' TN0079', ' S14', ' 68', ' 2202', ' P2-08.05', ' 58', ' P2-16.20',\n",
       "       ' 482', ' 698', ' 53', ' 14', ' P2-12B.8', ' 1596', ' P2-8.20',\n",
       "       ' 03A', ' 97', ' TN4746', ' b2', ' TN5795', ' VPNC0057', ' 6.',\n",
       "       ' 0983611388', ' P2-05.08', ' hhk', ' P2-14.08', ' BT07-A10',\n",
       "       ' P2-14-08', ' NNC0725', ' E3'], dtype=object)"
      ]
     },
     "execution_count": 286,
     "metadata": {},
     "output_type": "execute_result"
    }
   ],
   "source": [
    "df['Mã căn'].unique()"
   ]
  },
  {
   "cell_type": "code",
   "execution_count": 287,
   "id": "4d3760d8",
   "metadata": {},
   "outputs": [
    {
     "data": {
      "text/plain": [
       "array([nan, ' 1111', ' 8888', ' 27', ' 16', ' B2.124', ' B3.36',\n",
       "       ' B2.134', ' B2.41', ' 12', ' 46', ' 168', ' 38', ' 18', ' 15',\n",
       "       ' 90', ' 213', ' B2A-10', ' E', ' B1', ' 356', ' 47', ' 68',\n",
       "       ' B2.88', ' NCL', ' 32', ' 48', ' 118', ' B5-15x', ' b1-1 -38',\n",
       "       ' Can ban lo dat 5x25', ' 7', ' 33 36', ' 21 Khu B2 40', ' 53',\n",
       "       ' 34-B2.3', ' 94', ' 1x', ' 1', ' 110', ' 59', ' 120', ' 1458',\n",
       "       ' 702', ' 0983611388', ' 467', ' 15x', ' 43.42', ' 367', ' 35',\n",
       "       ' 5', ' 764', ' B2.3.3', ' 37', ' 29', ' 93', ' 115', ' 354',\n",
       "       ' K31 & 32', ' 395', ' 04', ' 1517', ' 233', ' 111', ' 79', ' 52'],\n",
       "      dtype=object)"
      ]
     },
     "execution_count": 287,
     "metadata": {},
     "output_type": "execute_result"
    }
   ],
   "source": [
    "df['Mã lô'].unique()"
   ]
  },
  {
   "cell_type": "code",
   "execution_count": 288,
   "id": "a504adb1",
   "metadata": {},
   "outputs": [],
   "source": [
    "df['Mã căn']=df['Mã căn'].str.strip()\n",
    "df['Mã lô']=df['Mã lô'].str.strip()"
   ]
  },
  {
   "cell_type": "markdown",
   "id": "e4255d6f",
   "metadata": {},
   "source": [
    "# Đặc điểm căn hộ"
   ]
  },
  {
   "cell_type": "code",
   "execution_count": 289,
   "id": "e577cc8b",
   "metadata": {},
   "outputs": [
    {
     "data": {
      "text/plain": [
       "array([nan, ' Căn góc'], dtype=object)"
      ]
     },
     "execution_count": 289,
     "metadata": {},
     "output_type": "execute_result"
    }
   ],
   "source": [
    "df['Đặc điểm căn hộ'].unique()"
   ]
  },
  {
   "cell_type": "code",
   "execution_count": 290,
   "id": "e0dd1af1",
   "metadata": {},
   "outputs": [],
   "source": [
    "df['Đặc điểm căn hộ']=df['Đặc điểm căn hộ'].str.strip()"
   ]
  },
  {
   "cell_type": "markdown",
   "id": "002bf4dc",
   "metadata": {},
   "source": [
    "# Số tiền cọc"
   ]
  },
  {
   "cell_type": "code",
   "execution_count": 291,
   "id": "a1da3040",
   "metadata": {
    "scrolled": true
   },
   "outputs": [],
   "source": [
    "# df['Số tiền cọc'].unique()"
   ]
  },
  {
   "cell_type": "code",
   "execution_count": 292,
   "id": "637c038a",
   "metadata": {},
   "outputs": [],
   "source": [
    "df['Số tiền cọc']=df['Số tiền cọc'].apply( lambda x: float(str(x).strip().replace('.','').split()[0]))"
   ]
  },
  {
   "cell_type": "markdown",
   "id": "0a747b60",
   "metadata": {},
   "source": [
    "# Mô tả"
   ]
  },
  {
   "cell_type": "code",
   "execution_count": 293,
   "id": "d1bb5b9b",
   "metadata": {},
   "outputs": [
    {
     "data": {
      "text/plain": [
       "array(['💥💥💥Đất rộng lại giá tốt 40.000m có sẵn vườn cây ăn quả, đất có sẵn nhà tiền chế kiên cố khoảng 300m2,hàng rào lưới b40, đèn năng lượng bắt quanh vườn.\\n💥💥💥Đường bê tông kiên cố\\nTường rào cổng nhà xây sẵn đất 3 mặt tiền\\n🌹🌹🌹Vị trí hoà ninh không quy hoạch\\ncách ubnd cách chợ trường học chỉ 1km,cách Bà nà hills chỉ 4km\\nDi chuyển về tttp Đà Nẵng chỉ có 15km\\nHình ảnh thực tế của lô đất\\nLH. *** Minh Phương Phát',\n",
       "       '+ Bán đất số 21 Đỗ Nhuận, khu Trung Nghĩa, phường Hòa Minh, DTĐ: 250m². Đường 5m5 lề 3m, ô tô đậu thoải mái.\\n\\n+ Khu dân cư trí thức, yên tĩnh, phù hợp để làm nhà ở.\\n\\n+ Hướng Tây Nam.\\n+ Ngân hàng hỗ trợ vay 6 tỷ.\\n\\nGiá bán: 8.2 tỷ, thương lượng.',\n",
       "       'Bán nhà kiệt 82 Nguyễn Văn Linh, hẻm 3m5, cách đường Nguyễn Văn Linh khoảng 100 m.\\nVị trí đẹp ngay trung tâm thành phố. DTĐ: 140m², Chiều ngang 7m, DTSD: 110m². Lô đất rất giá trị, rất khó tìm lô đất tương tự ở ngay trung tâm thành phố!\\n\\nNhà gồm 3PN, 3WC, nhà đẹp, sạch sẽ. Hướng chính Tây.\\n\\nGiá: 4.95 tỷ.\\nLiên hệ chính chủ A. Quốc.\\n\\nCó hoa hồng 1% cho người giới thiệu.',\n",
       "       ...,\n",
       "       '🍀CHO THUÊ CĂN STUDIO XINH XINH - NGAY HỒ XUÂN HƯƠNG🍀\\n- GẦN CẦU TIÊN SƠN, GẦN BIỂN, CHỢ BẮC MỸ AN\\nVị trí: Khuê mỹ đông 5 - Ngũ Hành Sơn \\n - Đầy đủ dụng cụ nấu ăn\\n - Máy giặt riêng\\n - Thang Máy\\n - Dọn vệ sinh 1 lần/ tuần \\n - Có chỗ đậu oto\\n - Khu vực yên tĩnh\\n- Thanh toán linh hoạt',\n",
       "       '- Vị trí: Đường 29/3 Hòa Xuân, gần đại học Kiến Trúc, Đông Á\\n- Bãi đậu xe\\n- Full nội thất\\n- Giờ giấc tự do\\n- Ở được tối đa 3 người \\n- Thanh toán linh hoạt',\n",
       "       '- Vị trí: Đường Nguyễn Thị Minh Khai, gần trục Lê Duẩn, cầu sông Hàn\\n- Bãi đậu xe\\n- Có bảo vệ 24 / 24\\n- Có camera 24 / 24\\n- Có tạp vụ dọn dẹp khu vực chung\\n- Máy giặt riêng\\n- Thang máy, wifi\\n- Thanh toán linh hoạt'],\n",
       "      dtype=object)"
      ]
     },
     "execution_count": 293,
     "metadata": {},
     "output_type": "execute_result"
    }
   ],
   "source": [
    "df['Mô tả'].unique()"
   ]
  },
  {
   "cell_type": "markdown",
   "id": "2c1c6424",
   "metadata": {},
   "source": [
    "# Rename columns"
   ]
  },
  {
   "cell_type": "code",
   "execution_count": 294,
   "id": "6065eee3",
   "metadata": {},
   "outputs": [
    {
     "data": {
      "text/plain": [
       "Index(['post_id', 'Loại tin', 'Tiêu đề', 'Giá', 'Diện tích', 'Địa chỉ',\n",
       "       'Giá/m2', 'Giấy tờ pháp lý', 'Loại hình đất', 'Mô tả', 'URL', 'date',\n",
       "       'Liên hệ', 'card_visit', 'Hướng cửa chính', 'Chiều ngang', 'Chiều dài',\n",
       "       'Đặc điểm nhà/đất', 'Số phòng ngủ', 'Số phòng vệ sinh',\n",
       "       'Loại hình nhà ở', 'Diện tích sử dụng', 'Tổng số tầng',\n",
       "       'Tình trạng nội thất', 'Tên phân khu/Lô/Block/Tháp',\n",
       "       'Tình trạng bất động sản', 'Tầng số', 'Hướng ban công',\n",
       "       'Loại hình căn hộ', 'Loại hình văn phòng', 'Mã căn', 'Đặc điểm căn hộ',\n",
       "       'Mã lô', 'Số tiền cọc'],\n",
       "      dtype='object')"
      ]
     },
     "execution_count": 294,
     "metadata": {},
     "output_type": "execute_result"
    }
   ],
   "source": [
    "df.columns"
   ]
  },
  {
   "cell_type": "code",
   "execution_count": 295,
   "id": "83fa8403",
   "metadata": {},
   "outputs": [],
   "source": [
    "df=df.rename(columns={'Giấy tờ pháp lý':'Pháp lý','Liên hệ':'Tên người dùng','date':'Ngày crawl',\n",
    "                      'Tình trạng nội thất':'Nội thất','Số phòng vệ sinh':'Số toilet','Hướng cửa chính':'Hướng nhà'})"
   ]
  },
  {
   "cell_type": "markdown",
   "id": "234ae100",
   "metadata": {},
   "source": [
    "# Save data"
   ]
  },
  {
   "cell_type": "code",
   "execution_count": 296,
   "id": "5e57bc47",
   "metadata": {},
   "outputs": [
    {
     "data": {
      "text/html": [
       "<div>\n",
       "<style scoped>\n",
       "    .dataframe tbody tr th:only-of-type {\n",
       "        vertical-align: middle;\n",
       "    }\n",
       "\n",
       "    .dataframe tbody tr th {\n",
       "        vertical-align: top;\n",
       "    }\n",
       "\n",
       "    .dataframe thead th {\n",
       "        text-align: right;\n",
       "    }\n",
       "</style>\n",
       "<table border=\"1\" class=\"dataframe\">\n",
       "  <thead>\n",
       "    <tr style=\"text-align: right;\">\n",
       "      <th></th>\n",
       "      <th>post_id</th>\n",
       "      <th>Loại tin</th>\n",
       "      <th>Tiêu đề</th>\n",
       "      <th>Giá</th>\n",
       "      <th>Diện tích</th>\n",
       "      <th>Địa chỉ</th>\n",
       "      <th>Giá/m2</th>\n",
       "      <th>Pháp lý</th>\n",
       "      <th>Loại hình đất</th>\n",
       "      <th>Mô tả</th>\n",
       "      <th>...</th>\n",
       "      <th>Tên phân khu/Lô/Block/Tháp</th>\n",
       "      <th>Tình trạng bất động sản</th>\n",
       "      <th>Tầng số</th>\n",
       "      <th>Hướng ban công</th>\n",
       "      <th>Loại hình căn hộ</th>\n",
       "      <th>Loại hình văn phòng</th>\n",
       "      <th>Mã căn</th>\n",
       "      <th>Đặc điểm căn hộ</th>\n",
       "      <th>Mã lô</th>\n",
       "      <th>Số tiền cọc</th>\n",
       "    </tr>\n",
       "  </thead>\n",
       "  <tbody>\n",
       "    <tr>\n",
       "      <th>0</th>\n",
       "      <td>110154174</td>\n",
       "      <td>Mua bán</td>\n",
       "      <td>Bán 4ha đất vườn sổ đỏ có sẳn trang trại nhà v...</td>\n",
       "      <td>9.500000e+09</td>\n",
       "      <td>40000.0</td>\n",
       "      <td>DT 602, Xã Hòa Ninh, Huyện Hòa Vang, Đà Nẵng</td>\n",
       "      <td>237500.0</td>\n",
       "      <td>Đã có sổ</td>\n",
       "      <td>Đất nông nghiệp</td>\n",
       "      <td>💥💥💥Đất rộng lại giá tốt 40.000m có sẵn vườn câ...</td>\n",
       "      <td>...</td>\n",
       "      <td>NaN</td>\n",
       "      <td>NaN</td>\n",
       "      <td>NaN</td>\n",
       "      <td>NaN</td>\n",
       "      <td>NaN</td>\n",
       "      <td>NaN</td>\n",
       "      <td>NaN</td>\n",
       "      <td>NaN</td>\n",
       "      <td>NaN</td>\n",
       "      <td>NaN</td>\n",
       "    </tr>\n",
       "    <tr>\n",
       "      <th>1</th>\n",
       "      <td>102957944</td>\n",
       "      <td>Mua bán</td>\n",
       "      <td>Bán đất 21 Đỗ Nhuận, dt: 250m2, ngang 8m, nở h...</td>\n",
       "      <td>8.200000e+09</td>\n",
       "      <td>250.0</td>\n",
       "      <td>21, Đường Đỗ Nhuận, Phường Hòa Minh, Quận Liên...</td>\n",
       "      <td>32800000.0</td>\n",
       "      <td>Đã có sổ</td>\n",
       "      <td>Đất thổ cư</td>\n",
       "      <td>+ Bán đất số 21 Đỗ Nhuận, khu Trung Nghĩa, phư...</td>\n",
       "      <td>...</td>\n",
       "      <td>NaN</td>\n",
       "      <td>NaN</td>\n",
       "      <td>NaN</td>\n",
       "      <td>NaN</td>\n",
       "      <td>NaN</td>\n",
       "      <td>NaN</td>\n",
       "      <td>NaN</td>\n",
       "      <td>NaN</td>\n",
       "      <td>NaN</td>\n",
       "      <td>NaN</td>\n",
       "    </tr>\n",
       "    <tr>\n",
       "      <th>2</th>\n",
       "      <td>108055434</td>\n",
       "      <td>Mua bán</td>\n",
       "      <td>Bán nhà hẻm 3m5 Nguyễn Văn Linh, 140m2 đất, ng...</td>\n",
       "      <td>4.950000e+09</td>\n",
       "      <td>140.0</td>\n",
       "      <td>K82/H10/36, Nguyễn văn linh, Phường Nam Dương,...</td>\n",
       "      <td>35360000.0</td>\n",
       "      <td>Đã có sổ</td>\n",
       "      <td>NaN</td>\n",
       "      <td>Bán nhà kiệt 82 Nguyễn Văn Linh, hẻm 3m5, cách...</td>\n",
       "      <td>...</td>\n",
       "      <td>NaN</td>\n",
       "      <td>NaN</td>\n",
       "      <td>NaN</td>\n",
       "      <td>NaN</td>\n",
       "      <td>NaN</td>\n",
       "      <td>NaN</td>\n",
       "      <td>NaN</td>\n",
       "      <td>NaN</td>\n",
       "      <td>NaN</td>\n",
       "      <td>NaN</td>\n",
       "    </tr>\n",
       "    <tr>\n",
       "      <th>3</th>\n",
       "      <td>102942264</td>\n",
       "      <td>Mua bán</td>\n",
       "      <td>Bán đất hẻm 3m 59/31 Núi Thành, 162m2, 4.25 tỷ...</td>\n",
       "      <td>4.250000e+09</td>\n",
       "      <td>162.0</td>\n",
       "      <td>Kiệt 59 Núi Thành, Phường Bình Hiên, Quận Hải ...</td>\n",
       "      <td>26230000.0</td>\n",
       "      <td>NaN</td>\n",
       "      <td>Đất thổ cư</td>\n",
       "      <td>Bán đất hẻm 3m số 59/31 Núi Thành, cách đường ...</td>\n",
       "      <td>...</td>\n",
       "      <td>NaN</td>\n",
       "      <td>NaN</td>\n",
       "      <td>NaN</td>\n",
       "      <td>NaN</td>\n",
       "      <td>NaN</td>\n",
       "      <td>NaN</td>\n",
       "      <td>NaN</td>\n",
       "      <td>NaN</td>\n",
       "      <td>NaN</td>\n",
       "      <td>NaN</td>\n",
       "    </tr>\n",
       "    <tr>\n",
       "      <th>4</th>\n",
       "      <td>110181789</td>\n",
       "      <td>Mua bán</td>\n",
       "      <td>Nhà 2 tầng 2 mặt kiệt ngay biển Nguyễn Tất Thà...</td>\n",
       "      <td>2.950000e+09</td>\n",
       "      <td>62.0</td>\n",
       "      <td>K1/20, Tôn Thất Đạm, Phường Xuân Hà, Quận Than...</td>\n",
       "      <td>47580000.0</td>\n",
       "      <td>Đã có sổ</td>\n",
       "      <td>NaN</td>\n",
       "      <td>Tôi là chính chủ cần bán nhà tại địa chỉ K1/20...</td>\n",
       "      <td>...</td>\n",
       "      <td>NaN</td>\n",
       "      <td>NaN</td>\n",
       "      <td>NaN</td>\n",
       "      <td>NaN</td>\n",
       "      <td>NaN</td>\n",
       "      <td>NaN</td>\n",
       "      <td>NaN</td>\n",
       "      <td>NaN</td>\n",
       "      <td>NaN</td>\n",
       "      <td>NaN</td>\n",
       "    </tr>\n",
       "    <tr>\n",
       "      <th>...</th>\n",
       "      <td>...</td>\n",
       "      <td>...</td>\n",
       "      <td>...</td>\n",
       "      <td>...</td>\n",
       "      <td>...</td>\n",
       "      <td>...</td>\n",
       "      <td>...</td>\n",
       "      <td>...</td>\n",
       "      <td>...</td>\n",
       "      <td>...</td>\n",
       "      <td>...</td>\n",
       "      <td>...</td>\n",
       "      <td>...</td>\n",
       "      <td>...</td>\n",
       "      <td>...</td>\n",
       "      <td>...</td>\n",
       "      <td>...</td>\n",
       "      <td>...</td>\n",
       "      <td>...</td>\n",
       "      <td>...</td>\n",
       "      <td>...</td>\n",
       "    </tr>\n",
       "    <tr>\n",
       "      <th>24280</th>\n",
       "      <td>111135665</td>\n",
       "      <td>Cho thuê</td>\n",
       "      <td>Cho thuê nhà 2 tầng mặt tiền nội thất cơ bản</td>\n",
       "      <td>7.000000e+06</td>\n",
       "      <td>90.0</td>\n",
       "      <td>Trần Tấn Mới, Phường Hải Châu II, Quận Hải Châ...</td>\n",
       "      <td>NaN</td>\n",
       "      <td>NaN</td>\n",
       "      <td>NaN</td>\n",
       "      <td>Cho thuê nhà mặt tiền đường 5m5 quận Hải Châu ...</td>\n",
       "      <td>...</td>\n",
       "      <td>NaN</td>\n",
       "      <td>NaN</td>\n",
       "      <td>NaN</td>\n",
       "      <td>NaN</td>\n",
       "      <td>NaN</td>\n",
       "      <td>NaN</td>\n",
       "      <td>NaN</td>\n",
       "      <td>NaN</td>\n",
       "      <td>NaN</td>\n",
       "      <td>NaN</td>\n",
       "    </tr>\n",
       "    <tr>\n",
       "      <th>24281</th>\n",
       "      <td>111286550</td>\n",
       "      <td>Cho thuê</td>\n",
       "      <td>CHO THUÊ CĂN HỘ MONARCHY B 2PN TẦNG CAO CÓ VÀ ...</td>\n",
       "      <td>1.000000e+07</td>\n",
       "      <td>80.0</td>\n",
       "      <td>An Trung 2, Phường An Hải Tây, Quận Sơn Trà, Đ...</td>\n",
       "      <td>NaN</td>\n",
       "      <td>Đang chờ sổ</td>\n",
       "      <td>NaN</td>\n",
       "      <td>Cho thuê căn hộ Monarchy B.\\n- Căn hộ 2PN full...</td>\n",
       "      <td>...</td>\n",
       "      <td>NaN</td>\n",
       "      <td>NaN</td>\n",
       "      <td>NaN</td>\n",
       "      <td>NaN</td>\n",
       "      <td>Chung cư</td>\n",
       "      <td>NaN</td>\n",
       "      <td>NaN</td>\n",
       "      <td>NaN</td>\n",
       "      <td>NaN</td>\n",
       "      <td>10000000.0</td>\n",
       "    </tr>\n",
       "    <tr>\n",
       "      <th>24282</th>\n",
       "      <td>111364385</td>\n",
       "      <td>Cho thuê</td>\n",
       "      <td>CĂN STUDIO XINH XINH - GIẶT RIÊNG - NGAY HỒ XU...</td>\n",
       "      <td>5.300000e+06</td>\n",
       "      <td>38.0</td>\n",
       "      <td>Đường Khuê Mỹ Đông 5, Phường Khuê Mỹ, Quận Ngũ...</td>\n",
       "      <td>NaN</td>\n",
       "      <td>NaN</td>\n",
       "      <td>NaN</td>\n",
       "      <td>🍀CHO THUÊ CĂN STUDIO XINH XINH - NGAY HỒ XUÂN ...</td>\n",
       "      <td>...</td>\n",
       "      <td>NaN</td>\n",
       "      <td>NaN</td>\n",
       "      <td>NaN</td>\n",
       "      <td>NaN</td>\n",
       "      <td>Căn hộ dịch vụ, mini</td>\n",
       "      <td>NaN</td>\n",
       "      <td>NaN</td>\n",
       "      <td>NaN</td>\n",
       "      <td>NaN</td>\n",
       "      <td>5300000.0</td>\n",
       "    </tr>\n",
       "    <tr>\n",
       "      <th>24283</th>\n",
       "      <td>111137370</td>\n",
       "      <td>Cho thuê</td>\n",
       "      <td>CĂN HỘ STUDIO FULL NỘI THẤT - HÒA XUÂN</td>\n",
       "      <td>3.200000e+06</td>\n",
       "      <td>25.0</td>\n",
       "      <td>29 tháng 3, Phường Hòa Xuân, Quận Cẩm Lệ, Đà Nẵng</td>\n",
       "      <td>NaN</td>\n",
       "      <td>NaN</td>\n",
       "      <td>NaN</td>\n",
       "      <td>- Vị trí: Đường 29/3 Hòa Xuân, gần đại học Kiế...</td>\n",
       "      <td>...</td>\n",
       "      <td>NaN</td>\n",
       "      <td>NaN</td>\n",
       "      <td>NaN</td>\n",
       "      <td>NaN</td>\n",
       "      <td>Căn hộ dịch vụ, mini</td>\n",
       "      <td>NaN</td>\n",
       "      <td>NaN</td>\n",
       "      <td>NaN</td>\n",
       "      <td>NaN</td>\n",
       "      <td>3200000.0</td>\n",
       "    </tr>\n",
       "    <tr>\n",
       "      <th>24284</th>\n",
       "      <td>110674866</td>\n",
       "      <td>Cho thuê</td>\n",
       "      <td>CĂN HỘ 1PN - FULL NỘI THẤT - TRUNG TÂM THÀNH PHỐ</td>\n",
       "      <td>6.200000e+06</td>\n",
       "      <td>35.0</td>\n",
       "      <td>Nguyễn Thị Minh Khai, Phường Hải Châu  I, Quận...</td>\n",
       "      <td>NaN</td>\n",
       "      <td>NaN</td>\n",
       "      <td>NaN</td>\n",
       "      <td>- Vị trí: Đường Nguyễn Thị Minh Khai, gần trục...</td>\n",
       "      <td>...</td>\n",
       "      <td>NaN</td>\n",
       "      <td>NaN</td>\n",
       "      <td>NaN</td>\n",
       "      <td>NaN</td>\n",
       "      <td>Căn hộ dịch vụ, mini</td>\n",
       "      <td>NaN</td>\n",
       "      <td>NaN</td>\n",
       "      <td>NaN</td>\n",
       "      <td>NaN</td>\n",
       "      <td>6200000.0</td>\n",
       "    </tr>\n",
       "  </tbody>\n",
       "</table>\n",
       "<p>24285 rows × 34 columns</p>\n",
       "</div>"
      ],
      "text/plain": [
       "         post_id  Loại tin                                            Tiêu đề  \\\n",
       "0      110154174   Mua bán  Bán 4ha đất vườn sổ đỏ có sẳn trang trại nhà v...   \n",
       "1      102957944   Mua bán  Bán đất 21 Đỗ Nhuận, dt: 250m2, ngang 8m, nở h...   \n",
       "2      108055434   Mua bán  Bán nhà hẻm 3m5 Nguyễn Văn Linh, 140m2 đất, ng...   \n",
       "3      102942264   Mua bán  Bán đất hẻm 3m 59/31 Núi Thành, 162m2, 4.25 tỷ...   \n",
       "4      110181789   Mua bán  Nhà 2 tầng 2 mặt kiệt ngay biển Nguyễn Tất Thà...   \n",
       "...          ...       ...                                                ...   \n",
       "24280  111135665  Cho thuê       Cho thuê nhà 2 tầng mặt tiền nội thất cơ bản   \n",
       "24281  111286550  Cho thuê  CHO THUÊ CĂN HỘ MONARCHY B 2PN TẦNG CAO CÓ VÀ ...   \n",
       "24282  111364385  Cho thuê  CĂN STUDIO XINH XINH - GIẶT RIÊNG - NGAY HỒ XU...   \n",
       "24283  111137370  Cho thuê             CĂN HỘ STUDIO FULL NỘI THẤT - HÒA XUÂN   \n",
       "24284  110674866  Cho thuê   CĂN HỘ 1PN - FULL NỘI THẤT - TRUNG TÂM THÀNH PHỐ   \n",
       "\n",
       "                Giá  Diện tích  \\\n",
       "0      9.500000e+09    40000.0   \n",
       "1      8.200000e+09      250.0   \n",
       "2      4.950000e+09      140.0   \n",
       "3      4.250000e+09      162.0   \n",
       "4      2.950000e+09       62.0   \n",
       "...             ...        ...   \n",
       "24280  7.000000e+06       90.0   \n",
       "24281  1.000000e+07       80.0   \n",
       "24282  5.300000e+06       38.0   \n",
       "24283  3.200000e+06       25.0   \n",
       "24284  6.200000e+06       35.0   \n",
       "\n",
       "                                                 Địa chỉ      Giá/m2  \\\n",
       "0           DT 602, Xã Hòa Ninh, Huyện Hòa Vang, Đà Nẵng    237500.0   \n",
       "1      21, Đường Đỗ Nhuận, Phường Hòa Minh, Quận Liên...  32800000.0   \n",
       "2      K82/H10/36, Nguyễn văn linh, Phường Nam Dương,...  35360000.0   \n",
       "3      Kiệt 59 Núi Thành, Phường Bình Hiên, Quận Hải ...  26230000.0   \n",
       "4      K1/20, Tôn Thất Đạm, Phường Xuân Hà, Quận Than...  47580000.0   \n",
       "...                                                  ...         ...   \n",
       "24280  Trần Tấn Mới, Phường Hải Châu II, Quận Hải Châ...         NaN   \n",
       "24281  An Trung 2, Phường An Hải Tây, Quận Sơn Trà, Đ...         NaN   \n",
       "24282  Đường Khuê Mỹ Đông 5, Phường Khuê Mỹ, Quận Ngũ...         NaN   \n",
       "24283  29 tháng 3, Phường Hòa Xuân, Quận Cẩm Lệ, Đà Nẵng         NaN   \n",
       "24284  Nguyễn Thị Minh Khai, Phường Hải Châu  I, Quận...         NaN   \n",
       "\n",
       "           Pháp lý    Loại hình đất  \\\n",
       "0         Đã có sổ  Đất nông nghiệp   \n",
       "1         Đã có sổ       Đất thổ cư   \n",
       "2         Đã có sổ              NaN   \n",
       "3              NaN       Đất thổ cư   \n",
       "4         Đã có sổ              NaN   \n",
       "...            ...              ...   \n",
       "24280          NaN              NaN   \n",
       "24281  Đang chờ sổ              NaN   \n",
       "24282          NaN              NaN   \n",
       "24283          NaN              NaN   \n",
       "24284          NaN              NaN   \n",
       "\n",
       "                                                   Mô tả  ...  \\\n",
       "0      💥💥💥Đất rộng lại giá tốt 40.000m có sẵn vườn câ...  ...   \n",
       "1      + Bán đất số 21 Đỗ Nhuận, khu Trung Nghĩa, phư...  ...   \n",
       "2      Bán nhà kiệt 82 Nguyễn Văn Linh, hẻm 3m5, cách...  ...   \n",
       "3      Bán đất hẻm 3m số 59/31 Núi Thành, cách đường ...  ...   \n",
       "4      Tôi là chính chủ cần bán nhà tại địa chỉ K1/20...  ...   \n",
       "...                                                  ...  ...   \n",
       "24280  Cho thuê nhà mặt tiền đường 5m5 quận Hải Châu ...  ...   \n",
       "24281  Cho thuê căn hộ Monarchy B.\\n- Căn hộ 2PN full...  ...   \n",
       "24282  🍀CHO THUÊ CĂN STUDIO XINH XINH - NGAY HỒ XUÂN ...  ...   \n",
       "24283  - Vị trí: Đường 29/3 Hòa Xuân, gần đại học Kiế...  ...   \n",
       "24284  - Vị trí: Đường Nguyễn Thị Minh Khai, gần trục...  ...   \n",
       "\n",
       "      Tên phân khu/Lô/Block/Tháp Tình trạng bất động sản Tầng số  \\\n",
       "0                            NaN                     NaN     NaN   \n",
       "1                            NaN                     NaN     NaN   \n",
       "2                            NaN                     NaN     NaN   \n",
       "3                            NaN                     NaN     NaN   \n",
       "4                            NaN                     NaN     NaN   \n",
       "...                          ...                     ...     ...   \n",
       "24280                        NaN                     NaN     NaN   \n",
       "24281                        NaN                     NaN     NaN   \n",
       "24282                        NaN                     NaN     NaN   \n",
       "24283                        NaN                     NaN     NaN   \n",
       "24284                        NaN                     NaN     NaN   \n",
       "\n",
       "      Hướng ban công      Loại hình căn hộ  Loại hình văn phòng  Mã căn  \\\n",
       "0                NaN                   NaN                  NaN     NaN   \n",
       "1                NaN                   NaN                  NaN     NaN   \n",
       "2                NaN                   NaN                  NaN     NaN   \n",
       "3                NaN                   NaN                  NaN     NaN   \n",
       "4                NaN                   NaN                  NaN     NaN   \n",
       "...              ...                   ...                  ...     ...   \n",
       "24280            NaN                   NaN                  NaN     NaN   \n",
       "24281            NaN              Chung cư                  NaN     NaN   \n",
       "24282            NaN  Căn hộ dịch vụ, mini                  NaN     NaN   \n",
       "24283            NaN  Căn hộ dịch vụ, mini                  NaN     NaN   \n",
       "24284            NaN  Căn hộ dịch vụ, mini                  NaN     NaN   \n",
       "\n",
       "      Đặc điểm căn hộ Mã lô Số tiền cọc  \n",
       "0                 NaN   NaN         NaN  \n",
       "1                 NaN   NaN         NaN  \n",
       "2                 NaN   NaN         NaN  \n",
       "3                 NaN   NaN         NaN  \n",
       "4                 NaN   NaN         NaN  \n",
       "...               ...   ...         ...  \n",
       "24280             NaN   NaN         NaN  \n",
       "24281             NaN   NaN  10000000.0  \n",
       "24282             NaN   NaN   5300000.0  \n",
       "24283             NaN   NaN   3200000.0  \n",
       "24284             NaN   NaN   6200000.0  \n",
       "\n",
       "[24285 rows x 34 columns]"
      ]
     },
     "execution_count": 296,
     "metadata": {},
     "output_type": "execute_result"
    }
   ],
   "source": [
    "df"
   ]
  },
  {
   "cell_type": "code",
   "execution_count": 297,
   "id": "7d30b80e",
   "metadata": {},
   "outputs": [],
   "source": [
    "# df.to_excel('nt.xlsx')\n",
    "# df.to_csv('nt.csv')"
   ]
  },
  {
   "cell_type": "code",
   "execution_count": null,
   "id": "f73d980f",
   "metadata": {},
   "outputs": [],
   "source": []
  }
 ],
 "metadata": {
  "kernelspec": {
   "display_name": "Python 3",
   "language": "python",
   "name": "python3"
  },
  "language_info": {
   "codemirror_mode": {
    "name": "ipython",
    "version": 3
   },
   "file_extension": ".py",
   "mimetype": "text/x-python",
   "name": "python",
   "nbconvert_exporter": "python",
   "pygments_lexer": "ipython3",
   "version": "3.8.2"
  }
 },
 "nbformat": 4,
 "nbformat_minor": 5
}
