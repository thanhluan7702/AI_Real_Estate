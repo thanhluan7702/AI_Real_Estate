{
 "cells": [
  {
   "cell_type": "markdown",
   "id": "93ffe673",
   "metadata": {},
   "source": [
    "# Import library"
   ]
  },
  {
   "cell_type": "code",
   "execution_count": 1,
   "id": "74c9dab0",
   "metadata": {},
   "outputs": [
    {
     "data": {
      "text/plain": [
       "'!\"#$%&\\'()*+,-./:;<=>?@[\\\\]^_`{|}~'"
      ]
     },
     "execution_count": 1,
     "metadata": {},
     "output_type": "execute_result"
    }
   ],
   "source": [
    "import pandas as pd\n",
    "import re\n",
    "import numpy as np\n",
    "\n",
    "#library that contains punctuation\n",
    "import string\n",
    "string.punctuation"
   ]
  },
  {
   "cell_type": "markdown",
   "id": "42ca1bd3",
   "metadata": {},
   "source": [
    "# Import data"
   ]
  },
  {
   "cell_type": "code",
   "execution_count": 2,
   "id": "90c28d59",
   "metadata": {},
   "outputs": [],
   "source": [
    "df=pd.read_csv('batdongsan.csv')"
   ]
  },
  {
   "cell_type": "code",
   "execution_count": 3,
   "id": "ed44ad88",
   "metadata": {},
   "outputs": [
    {
     "data": {
      "text/plain": [
       "Index(['post_id', 'Loại tin', 'Tiêu đề', 'Địa chỉ', 'Mô tả', 'Diện tích',\n",
       "       'Mức giá', 'Mặt tiền', 'Đường vào', 'Hướng nhà', 'Hướng ban công',\n",
       "       'Số tầng', 'Số phòng ngủ', 'Số toilet', 'URL', 'date', 'Liên hệ',\n",
       "       'card_visit', 'Pháp lý', 'Nội thất'],\n",
       "      dtype='object')"
      ]
     },
     "execution_count": 3,
     "metadata": {},
     "output_type": "execute_result"
    }
   ],
   "source": [
    "df.columns"
   ]
  },
  {
   "cell_type": "raw",
   "id": "dbc026bd",
   "metadata": {},
   "source": [
    "Index(['post_id', 'Loại tin', 'Tiêu đề', 'Địa chỉ', 'Mô tả', 'Diện tích',\n",
    "       'Mức giá', 'Mặt tiền', 'Đường vào', 'Hướng nhà', 'Hướng ban công',\n",
    "       'Số tầng', 'Số phòng ngủ', 'Số toilet', 'URL', 'date', 'Liên hệ',\n",
    "       'card_visit', 'Pháp lý', 'Nội thất'],\n",
    "      dtype='object')"
   ]
  },
  {
   "cell_type": "code",
   "execution_count": 145,
   "id": "5a57cbc9",
   "metadata": {},
   "outputs": [
    {
     "data": {
      "text/html": [
       "<div>\n",
       "<style scoped>\n",
       "    .dataframe tbody tr th:only-of-type {\n",
       "        vertical-align: middle;\n",
       "    }\n",
       "\n",
       "    .dataframe tbody tr th {\n",
       "        vertical-align: top;\n",
       "    }\n",
       "\n",
       "    .dataframe thead th {\n",
       "        text-align: right;\n",
       "    }\n",
       "</style>\n",
       "<table border=\"1\" class=\"dataframe\">\n",
       "  <thead>\n",
       "    <tr style=\"text-align: right;\">\n",
       "      <th></th>\n",
       "      <th>post_id</th>\n",
       "      <th>Loại tin</th>\n",
       "      <th>Tiêu đề</th>\n",
       "      <th>Địa chỉ</th>\n",
       "      <th>Mô tả</th>\n",
       "      <th>Diện tích</th>\n",
       "      <th>Mức giá</th>\n",
       "      <th>Mặt tiền</th>\n",
       "      <th>Đường vào</th>\n",
       "      <th>Hướng nhà</th>\n",
       "      <th>Hướng ban công</th>\n",
       "      <th>Số tầng</th>\n",
       "      <th>Số phòng ngủ</th>\n",
       "      <th>Số toilet</th>\n",
       "      <th>URL</th>\n",
       "      <th>date</th>\n",
       "      <th>Liên hệ</th>\n",
       "      <th>card_visit</th>\n",
       "      <th>Pháp lý</th>\n",
       "      <th>Nội thất</th>\n",
       "    </tr>\n",
       "  </thead>\n",
       "  <tbody>\n",
       "    <tr>\n",
       "      <th>0</th>\n",
       "      <td>37518005</td>\n",
       "      <td>Nhà đất bán</td>\n",
       "      <td>SỤP HẦM CẦN BÁN GẤP TÒA KHÁCH SẠN 32 CĂN HỘ CÓ...</td>\n",
       "      <td>Đường Khuê Mỹ Đông, Phường Khuê Mỹ, Ngũ Hành S...</td>\n",
       "      <td>Cần bán gấp tòa nhà có 32 căn hộ khu phố du lị...</td>\n",
       "      <td>175 m²</td>\n",
       "      <td>23 tỷ</td>\n",
       "      <td>10,5 m</td>\n",
       "      <td>7,5 m</td>\n",
       "      <td>Tây - Bắc</td>\n",
       "      <td>Tây - Bắc</td>\n",
       "      <td>9 tầng</td>\n",
       "      <td>32 phòng</td>\n",
       "      <td>34 phòng</td>\n",
       "      <td>https://batdongsan.com.vn/ban-nha-mat-pho-duon...</td>\n",
       "      <td>2023-09-26</td>\n",
       "      <td>NaN</td>\n",
       "      <td>http://guru.batdongsan.com.vn/p/67a88bcb3e6ed862</td>\n",
       "      <td>NaN</td>\n",
       "      <td>NaN</td>\n",
       "    </tr>\n",
       "    <tr>\n",
       "      <th>1</th>\n",
       "      <td>37711601</td>\n",
       "      <td>Nhà đất bán</td>\n",
       "      <td>Chính chủ hạ sập hầm cần bán gấp 02 lô đất liề...</td>\n",
       "      <td>Đường Quốc Lộ 14B, Xã Hòa Khương, Hòa Vang, Đà...</td>\n",
       "      <td>- Cần bán gấp 02 lô đất liền kề cùng một thửa ...</td>\n",
       "      <td>811 m²</td>\n",
       "      <td>11,3 tỷ</td>\n",
       "      <td>NaN</td>\n",
       "      <td>NaN</td>\n",
       "      <td>NaN</td>\n",
       "      <td>NaN</td>\n",
       "      <td>NaN</td>\n",
       "      <td>NaN</td>\n",
       "      <td>NaN</td>\n",
       "      <td>https://batdongsan.com.vn/ban-dat-duong-quoc-l...</td>\n",
       "      <td>2023-09-26</td>\n",
       "      <td>NaN</td>\n",
       "      <td>http://guru.batdongsan.com.vn/p/3ed7da9f9b5ceb30</td>\n",
       "      <td>NaN</td>\n",
       "      <td>NaN</td>\n",
       "    </tr>\n",
       "    <tr>\n",
       "      <th>2</th>\n",
       "      <td>38150772</td>\n",
       "      <td>Nhà đất bán</td>\n",
       "      <td>1 căn khối đế kinh doanh The Ori Garden không ...</td>\n",
       "      <td>Dự án The Ori Garden, Đường Mê Linh, Phường Hò...</td>\n",
       "      <td>Hàng ngoại giao không có nhu cầu sử dụng nhượn...</td>\n",
       "      <td>58 m²</td>\n",
       "      <td>Thỏa thuận</td>\n",
       "      <td>NaN</td>\n",
       "      <td>NaN</td>\n",
       "      <td>Tây - Nam</td>\n",
       "      <td>Tây - Nam</td>\n",
       "      <td>NaN</td>\n",
       "      <td>NaN</td>\n",
       "      <td>1 phòng</td>\n",
       "      <td>https://batdongsan.com.vn/ban-can-ho-chung-cu-...</td>\n",
       "      <td>2023-09-26</td>\n",
       "      <td>NaN</td>\n",
       "      <td>http://guru.batdongsan.com.vn/p/b0f0153e0924276d</td>\n",
       "      <td>Hợp đồng mua bán</td>\n",
       "      <td>Cơ bản</td>\n",
       "    </tr>\n",
       "    <tr>\n",
       "      <th>3</th>\n",
       "      <td>38149431</td>\n",
       "      <td>Nhà đất bán</td>\n",
       "      <td>Chính thức CĐT công bố giỏ hàng Shophouse khối...</td>\n",
       "      <td>Dự án The Ori Garden, Đường Mê Linh, Phường Hò...</td>\n",
       "      <td>Chính thức mở bán dòng Shophouse khối đế chung...</td>\n",
       "      <td>60 m²</td>\n",
       "      <td>2,45 tỷ</td>\n",
       "      <td>NaN</td>\n",
       "      <td>NaN</td>\n",
       "      <td>Đông - Bắc</td>\n",
       "      <td>Đông - Bắc</td>\n",
       "      <td>NaN</td>\n",
       "      <td>NaN</td>\n",
       "      <td>1 phòng</td>\n",
       "      <td>https://batdongsan.com.vn/ban-shophouse-nha-ph...</td>\n",
       "      <td>2023-09-26</td>\n",
       "      <td>NaN</td>\n",
       "      <td>http://guru.batdongsan.com.vn/p/b0f0153e0924276d</td>\n",
       "      <td>Sổ đỏ/ Sổ hồng</td>\n",
       "      <td>NaN</td>\n",
       "    </tr>\n",
       "    <tr>\n",
       "      <th>4</th>\n",
       "      <td>37934118</td>\n",
       "      <td>Nhà đất bán</td>\n",
       "      <td>Chính chủ - Bán nhà full nội thất TTTP Đà Nẵng...</td>\n",
       "      <td>Phường An Khê, Thanh Khê, Đà Nẵng</td>\n",
       "      <td>Với 850 triệu đồng tiền mặt là có thể sở hữu c...</td>\n",
       "      <td>105 m²</td>\n",
       "      <td>6,25 tỷ</td>\n",
       "      <td>5 m</td>\n",
       "      <td>7,5 m</td>\n",
       "      <td>Tây - Nam</td>\n",
       "      <td>Tây - Nam</td>\n",
       "      <td>3 tầng</td>\n",
       "      <td>4 phòng</td>\n",
       "      <td>4 phòng</td>\n",
       "      <td>https://batdongsan.com.vn/ban-nha-rieng-phuong...</td>\n",
       "      <td>2023-09-26</td>\n",
       "      <td>NaN</td>\n",
       "      <td>http://guru.batdongsan.com.vn/p/f071b4b64c7c473a</td>\n",
       "      <td>Sổ đỏ/ Sổ hồng.</td>\n",
       "      <td>Đầy đủ.</td>\n",
       "    </tr>\n",
       "  </tbody>\n",
       "</table>\n",
       "</div>"
      ],
      "text/plain": [
       "    post_id     Loại tin                                            Tiêu đề  \\\n",
       "0  37518005  Nhà đất bán  SỤP HẦM CẦN BÁN GẤP TÒA KHÁCH SẠN 32 CĂN HỘ CÓ...   \n",
       "1  37711601  Nhà đất bán  Chính chủ hạ sập hầm cần bán gấp 02 lô đất liề...   \n",
       "2  38150772  Nhà đất bán  1 căn khối đế kinh doanh The Ori Garden không ...   \n",
       "3  38149431  Nhà đất bán  Chính thức CĐT công bố giỏ hàng Shophouse khối...   \n",
       "4  37934118  Nhà đất bán  Chính chủ - Bán nhà full nội thất TTTP Đà Nẵng...   \n",
       "\n",
       "                                             Địa chỉ  \\\n",
       "0  Đường Khuê Mỹ Đông, Phường Khuê Mỹ, Ngũ Hành S...   \n",
       "1  Đường Quốc Lộ 14B, Xã Hòa Khương, Hòa Vang, Đà...   \n",
       "2  Dự án The Ori Garden, Đường Mê Linh, Phường Hò...   \n",
       "3  Dự án The Ori Garden, Đường Mê Linh, Phường Hò...   \n",
       "4                  Phường An Khê, Thanh Khê, Đà Nẵng   \n",
       "\n",
       "                                               Mô tả Diện tích     Mức giá  \\\n",
       "0  Cần bán gấp tòa nhà có 32 căn hộ khu phố du lị...    175 m²       23 tỷ   \n",
       "1  - Cần bán gấp 02 lô đất liền kề cùng một thửa ...    811 m²     11,3 tỷ   \n",
       "2  Hàng ngoại giao không có nhu cầu sử dụng nhượn...     58 m²  Thỏa thuận   \n",
       "3  Chính thức mở bán dòng Shophouse khối đế chung...     60 m²     2,45 tỷ   \n",
       "4  Với 850 triệu đồng tiền mặt là có thể sở hữu c...    105 m²     6,25 tỷ   \n",
       "\n",
       "  Mặt tiền Đường vào   Hướng nhà Hướng ban công Số tầng Số phòng ngủ  \\\n",
       "0   10,5 m     7,5 m   Tây - Bắc      Tây - Bắc  9 tầng     32 phòng   \n",
       "1      NaN       NaN         NaN            NaN     NaN          NaN   \n",
       "2      NaN       NaN   Tây - Nam      Tây - Nam     NaN          NaN   \n",
       "3      NaN       NaN  Đông - Bắc     Đông - Bắc     NaN          NaN   \n",
       "4      5 m     7,5 m   Tây - Nam      Tây - Nam  3 tầng      4 phòng   \n",
       "\n",
       "  Số toilet                                                URL        date  \\\n",
       "0  34 phòng  https://batdongsan.com.vn/ban-nha-mat-pho-duon...  2023-09-26   \n",
       "1       NaN  https://batdongsan.com.vn/ban-dat-duong-quoc-l...  2023-09-26   \n",
       "2   1 phòng  https://batdongsan.com.vn/ban-can-ho-chung-cu-...  2023-09-26   \n",
       "3   1 phòng  https://batdongsan.com.vn/ban-shophouse-nha-ph...  2023-09-26   \n",
       "4   4 phòng  https://batdongsan.com.vn/ban-nha-rieng-phuong...  2023-09-26   \n",
       "\n",
       "  Liên hệ                                        card_visit           Pháp lý  \\\n",
       "0     NaN  http://guru.batdongsan.com.vn/p/67a88bcb3e6ed862               NaN   \n",
       "1     NaN  http://guru.batdongsan.com.vn/p/3ed7da9f9b5ceb30               NaN   \n",
       "2     NaN  http://guru.batdongsan.com.vn/p/b0f0153e0924276d  Hợp đồng mua bán   \n",
       "3     NaN  http://guru.batdongsan.com.vn/p/b0f0153e0924276d    Sổ đỏ/ Sổ hồng   \n",
       "4     NaN  http://guru.batdongsan.com.vn/p/f071b4b64c7c473a   Sổ đỏ/ Sổ hồng.   \n",
       "\n",
       "  Nội thất  \n",
       "0      NaN  \n",
       "1      NaN  \n",
       "2   Cơ bản  \n",
       "3      NaN  \n",
       "4  Đầy đủ.  "
      ]
     },
     "execution_count": 145,
     "metadata": {},
     "output_type": "execute_result"
    }
   ],
   "source": [
    "df.head()"
   ]
  },
  {
   "cell_type": "code",
   "execution_count": 146,
   "id": "33dcc718",
   "metadata": {},
   "outputs": [
    {
     "name": "stdout",
     "output_type": "stream",
     "text": [
      "<class 'pandas.core.frame.DataFrame'>\n",
      "RangeIndex: 5122 entries, 0 to 5121\n",
      "Data columns (total 20 columns):\n",
      " #   Column          Non-Null Count  Dtype \n",
      "---  ------          --------------  ----- \n",
      " 0   post_id         5122 non-null   int64 \n",
      " 1   Loại tin        5122 non-null   object\n",
      " 2   Tiêu đề         5122 non-null   object\n",
      " 3   Địa chỉ         5122 non-null   object\n",
      " 4   Mô tả           5122 non-null   object\n",
      " 5   Diện tích       5122 non-null   object\n",
      " 6   Mức giá         5122 non-null   object\n",
      " 7   Mặt tiền        2448 non-null   object\n",
      " 8   Đường vào       2318 non-null   object\n",
      " 9   Hướng nhà       2672 non-null   object\n",
      " 10  Hướng ban công  916 non-null    object\n",
      " 11  Số tầng         1518 non-null   object\n",
      " 12  Số phòng ngủ    2254 non-null   object\n",
      " 13  Số toilet       2112 non-null   object\n",
      " 14  URL             5122 non-null   object\n",
      " 15  date            5122 non-null   object\n",
      " 16  Liên hệ         326 non-null    object\n",
      " 17  card_visit      5122 non-null   object\n",
      " 18  Pháp lý         3207 non-null   object\n",
      " 19  Nội thất        1582 non-null   object\n",
      "dtypes: int64(1), object(19)\n",
      "memory usage: 800.4+ KB\n"
     ]
    }
   ],
   "source": [
    "df.info()"
   ]
  },
  {
   "cell_type": "code",
   "execution_count": 147,
   "id": "15ab9739",
   "metadata": {},
   "outputs": [
    {
     "data": {
      "text/plain": [
       "(5122, 20)"
      ]
     },
     "execution_count": 147,
     "metadata": {},
     "output_type": "execute_result"
    }
   ],
   "source": [
    "df.shape"
   ]
  },
  {
   "cell_type": "markdown",
   "id": "30d87326",
   "metadata": {},
   "source": [
    "# Loại tin"
   ]
  },
  {
   "cell_type": "code",
   "execution_count": 148,
   "id": "a03aac3c",
   "metadata": {},
   "outputs": [
    {
     "data": {
      "text/plain": [
       "array(['Nhà đất bán', 'Nhà đất cho thuê'], dtype=object)"
      ]
     },
     "execution_count": 148,
     "metadata": {},
     "output_type": "execute_result"
    }
   ],
   "source": [
    "df['Loại tin'].unique()"
   ]
  },
  {
   "cell_type": "code",
   "execution_count": 149,
   "id": "5c34d660",
   "metadata": {},
   "outputs": [],
   "source": [
    "df['Loại tin']=df['Loại tin'].replace({'Nhà đất bán':'Mua bán','Nhà đất cho thuê':'Cho thuê'})"
   ]
  },
  {
   "cell_type": "markdown",
   "id": "abddda84",
   "metadata": {},
   "source": [
    "# Diện tích"
   ]
  },
  {
   "cell_type": "code",
   "execution_count": 150,
   "id": "f04283b7",
   "metadata": {},
   "outputs": [],
   "source": [
    "# df['Diện tích'].unique()"
   ]
  },
  {
   "cell_type": "code",
   "execution_count": 151,
   "id": "f06dc953",
   "metadata": {},
   "outputs": [],
   "source": [
    "def clean_size(i):\n",
    "    # Remove ' m²', periods, and commas\n",
    "    return i.replace(' m²', '').replace('.', '').replace(',', '.')"
   ]
  },
  {
   "cell_type": "code",
   "execution_count": 152,
   "id": "da7c2052",
   "metadata": {},
   "outputs": [],
   "source": [
    "df['Diện tích'] = df['Diện tích'].apply(clean_size)"
   ]
  },
  {
   "cell_type": "code",
   "execution_count": 153,
   "id": "f849258f",
   "metadata": {},
   "outputs": [],
   "source": [
    "df['Diện tích'] = df['Diện tích'].astype(float)"
   ]
  },
  {
   "cell_type": "markdown",
   "id": "45e45c20",
   "metadata": {},
   "source": [
    "# Mức giá"
   ]
  },
  {
   "cell_type": "code",
   "execution_count": 154,
   "id": "ff422ff6",
   "metadata": {},
   "outputs": [],
   "source": [
    "# df['Mức giá'].unique()"
   ]
  },
  {
   "cell_type": "code",
   "execution_count": 155,
   "id": "2939a7fb",
   "metadata": {},
   "outputs": [],
   "source": [
    "# df['Mức giá'][df['Loại tin']=='Cho thuê'].unique()"
   ]
  },
  {
   "cell_type": "code",
   "execution_count": 156,
   "id": "515f5742",
   "metadata": {},
   "outputs": [],
   "source": [
    "df['Mức giá'] = df['Mức giá'].apply(lambda x: x.replace(',', '.'))"
   ]
  },
  {
   "cell_type": "code",
   "execution_count": 157,
   "id": "cf8d621b",
   "metadata": {},
   "outputs": [],
   "source": [
    "def clean_price(x, dien_tich):\n",
    "    if 'triệu/m²' in x:\n",
    "        return float(x.split()[0]) * 1000000 * dien_tich\n",
    "    elif 'nghìn/m²' in x:\n",
    "        return float(x.split()[0]) * 1000 * dien_tich\n",
    "    elif 'triệu/tháng' in x:\n",
    "        return float(x.split()[0]) * 1000000\n",
    "    elif ' tỷ' in x:\n",
    "        return float(x.split()[0]) * 1000000000\n",
    "    elif ' triệu' in x:\n",
    "        return float(x.split()[0]) * 1000000\n",
    "    elif x == 'Thỏa thuận':\n",
    "        return None  \n",
    "    else:\n",
    "        return x"
   ]
  },
  {
   "cell_type": "code",
   "execution_count": 158,
   "id": "62df75af",
   "metadata": {},
   "outputs": [],
   "source": [
    "df['Mức giá'] = df.apply(lambda row: clean_price(row['Mức giá'], row['Diện tích']), axis=1)"
   ]
  },
  {
   "cell_type": "markdown",
   "id": "d3b3db07",
   "metadata": {},
   "source": [
    "# Giá/m2"
   ]
  },
  {
   "cell_type": "code",
   "execution_count": 159,
   "id": "44a50d5d",
   "metadata": {},
   "outputs": [],
   "source": [
    "df['Giá/m2']=df['Mức giá']/df['Diện tích']"
   ]
  },
  {
   "cell_type": "code",
   "execution_count": 160,
   "id": "ec8f25db",
   "metadata": {},
   "outputs": [
    {
     "data": {
      "text/plain": [
       "0       1.314286e+08\n",
       "1       1.393342e+07\n",
       "2                NaN\n",
       "3       4.083333e+07\n",
       "4       5.952381e+07\n",
       "            ...     \n",
       "5117    4.000000e+07\n",
       "5118    2.650000e+07\n",
       "5119             NaN\n",
       "5120             NaN\n",
       "5121    4.285714e+07\n",
       "Name: Giá/m2, Length: 5122, dtype: float64"
      ]
     },
     "execution_count": 160,
     "metadata": {},
     "output_type": "execute_result"
    }
   ],
   "source": [
    "df['Giá/m2']"
   ]
  },
  {
   "cell_type": "markdown",
   "id": "4cf1976c",
   "metadata": {},
   "source": [
    "# Mặt tiền, đường vào"
   ]
  },
  {
   "cell_type": "code",
   "execution_count": 161,
   "id": "673c49b7",
   "metadata": {},
   "outputs": [
    {
     "data": {
      "text/plain": [
       "array(['10,5 m', nan, '5 m', '10 m', '10,4 m', '15 m', '7,89 m', '8,17 m',\n",
       "       '3,5 m', '7 m', '6 m', '5,5 m', '9,13 m', '9 m', '4 m', '50 m',\n",
       "       '4,5 m', '37 m', '18,15 m', '45 m', '4,38 m', '8 m', '20 m',\n",
       "       '30 m', '34 m', '6,5 m', '14 m', '4,1 m', '4,2 m', '7,5 m',\n",
       "       '9,5 m', '5,6 m', '7,8 m', '12 m', '25 m', '40 m', '6,2 m',\n",
       "       '16,5 m', '4,84 m', '13,6 m', '12,5 m', '4,71 m', '9,2 m', '8,5 m',\n",
       "       '13 m', '26 m', '60 m', '7,6 m', '5,4 m', '6,8 m', '13,3 m',\n",
       "       '6,6 m', '4,7 m', '3,2 m', '8,3 m', '5,1 m', '18,3 m', '6,3 m',\n",
       "       '3,06 m', '70 m', '21 m', '1 m', '5,2 m', '535 m', '17,23 m',\n",
       "       '18 m', '6,65 m', '5,25 m', '7,71 m', '25,5 m', '4,85 m', '11 m',\n",
       "       '22 m', '9,3 m', '16 m', '10,2 m', '4,8 m', '4,9 m', '8,4 m',\n",
       "       '5,3 m', '36 m', '4,6 m', '7,4 m', '17 m', '6,7 m', '53 m',\n",
       "       '4,12 m', '80 m', '4,08 m', '6,24 m', '25,65 m', '6,85 m',\n",
       "       '11,5 m', '4,37 m', '7,2 m', '13,7 m', '17,34 m', '90 m', '3 m',\n",
       "       '7,56 m', '5,15 m', '13,77 m', '8,6 m', '35 m', '4,18 m', '500 m',\n",
       "       '4,17 m', '8,2 m', '42 m', '24,5 m', '17,5 m', '3,9 m', '9,7 m',\n",
       "       '9,6 m', '48 m', '3,52 m', '100 m', '300 m', '200 m', '4,4 m',\n",
       "       '4,35 m', '6,4 m', '11,2 m', '13,5 m', '7,7 m', '13,2 m', '32 m',\n",
       "       '8,7 m', '16,4 m', '5,54 m', '4,77 m', '24 m', '9,05 m', '20,98 m',\n",
       "       '19 m', '5,7 m'], dtype=object)"
      ]
     },
     "execution_count": 161,
     "metadata": {},
     "output_type": "execute_result"
    }
   ],
   "source": [
    "df['Mặt tiền'].unique()"
   ]
  },
  {
   "cell_type": "code",
   "execution_count": 162,
   "id": "9ea32fc0",
   "metadata": {},
   "outputs": [
    {
     "data": {
      "text/plain": [
       "array(['7,5 m', nan, '2,5 m', '15 m', '5,5 m', '48 m', '7 m', '15,5 m',\n",
       "       '18 m', '11,5 m', '4 m', '50 m', '5 m', '10,5 m', '3 m', '6 m',\n",
       "       '10 m', '30 m', '24 m', '34 m', '33 m', '20 m', '60 m', '42 m',\n",
       "       '39 m', '20,25 m', '55 m', '8 m', '4,5 m', '45 m', '25 m', '12 m',\n",
       "       '26 m', '16 m', '2,8 m', '40 m', '3,5 m', '36 m', '35 m', '23,5 m',\n",
       "       '11 m', '28 m', '32 m', '20,5 m', '175 m', '75 m', '17,5 m',\n",
       "       '21,5 m', '22 m', '13 m', '47 m', '23 m', '9 m', '44 m', '16,5 m',\n",
       "       '17 m', '9,5 m', '27 m', '37 m', '3,75 m', '14 m', '80 m', '2 m',\n",
       "       '6,5 m', '2,3 m', '2,2 m'], dtype=object)"
      ]
     },
     "execution_count": 162,
     "metadata": {},
     "output_type": "execute_result"
    }
   ],
   "source": [
    "df['Đường vào'].unique()"
   ]
  },
  {
   "cell_type": "code",
   "execution_count": 163,
   "id": "16720100",
   "metadata": {},
   "outputs": [],
   "source": [
    "df['Mặt tiền'] = df['Mặt tiền'].str.split().str[0].str.replace(',', '.').astype(float)\n",
    "df['Đường vào'] = df['Đường vào'].str.split().str[0].str.replace(',', '.').astype(float)"
   ]
  },
  {
   "cell_type": "markdown",
   "id": "cb86cb34",
   "metadata": {},
   "source": [
    "# Hướng nhà, Hướng ban công"
   ]
  },
  {
   "cell_type": "code",
   "execution_count": 164,
   "id": "93781e66",
   "metadata": {},
   "outputs": [
    {
     "data": {
      "text/plain": [
       "array(['Tây - Bắc', nan, 'Tây - Nam', 'Đông - Bắc', 'Đông - Nam', 'Tây',\n",
       "       'Nam', 'Đông', 'Bắc'], dtype=object)"
      ]
     },
     "execution_count": 164,
     "metadata": {},
     "output_type": "execute_result"
    }
   ],
   "source": [
    "df['Hướng nhà'].unique()"
   ]
  },
  {
   "cell_type": "code",
   "execution_count": 165,
   "id": "133d7e80",
   "metadata": {},
   "outputs": [
    {
     "data": {
      "text/plain": [
       "array(['Tây - Bắc', nan, 'Tây - Nam', 'Đông - Bắc', 'Đông - Nam', 'Đông',\n",
       "       'Bắc', 'Nam', 'Tây'], dtype=object)"
      ]
     },
     "execution_count": 165,
     "metadata": {},
     "output_type": "execute_result"
    }
   ],
   "source": [
    "df['Hướng ban công'].unique()"
   ]
  },
  {
   "cell_type": "code",
   "execution_count": 166,
   "id": "97c62c43",
   "metadata": {},
   "outputs": [],
   "source": [
    "def normalize(text):\n",
    "    if isinstance(text, str):\n",
    "        # Remove punctuation, extra spaces, and convert to lowercase\n",
    "        normalized_text = text.replace(' - ',' ')\n",
    "        return normalized_text\n",
    "    else:\n",
    "        return text"
   ]
  },
  {
   "cell_type": "code",
   "execution_count": 167,
   "id": "73c3a4d9",
   "metadata": {},
   "outputs": [],
   "source": [
    "df['Hướng nhà']= df['Hướng nhà'].apply(lambda x:normalize(x))\n",
    "df['Hướng ban công']= df['Hướng ban công'].apply(lambda x:normalize(x))"
   ]
  },
  {
   "cell_type": "markdown",
   "id": "1cf8f038",
   "metadata": {},
   "source": [
    "# Số tầng, số phòng ngủ, số toilet"
   ]
  },
  {
   "cell_type": "code",
   "execution_count": 168,
   "id": "ecac9ba9",
   "metadata": {},
   "outputs": [
    {
     "data": {
      "text/plain": [
       "array(['9 tầng', nan, '3 tầng', '4 tầng', '10 tầng', '11 tầng', '8 tầng',\n",
       "       '2 tầng', '19 tầng', '1 tầng', '5 tầng', '7 tầng', '6 tầng',\n",
       "       '12 tầng', '21 tầng', '17 tầng', '13 tầng', '20 tầng', '14 tầng'],\n",
       "      dtype=object)"
      ]
     },
     "execution_count": 168,
     "metadata": {},
     "output_type": "execute_result"
    }
   ],
   "source": [
    "df['Số tầng'].unique()"
   ]
  },
  {
   "cell_type": "code",
   "execution_count": 169,
   "id": "1e3f1194",
   "metadata": {},
   "outputs": [
    {
     "data": {
      "text/plain": [
       "array(['32 phòng', nan, '4 phòng', '13 phòng', '50 phòng', '1 phòng',\n",
       "       '5 phòng', '2 phòng', '3 phòng', '42 phòng', '18 phòng', '7 phòng',\n",
       "       '15 phòng', '137 phòng', '6 phòng', '51 phòng', '8 phòng',\n",
       "       '10 phòng', '9 phòng', '12 phòng', '11 phòng', '41 phòng',\n",
       "       '20 phòng', '90 phòng', '43 phòng', '16 phòng', '28 phòng',\n",
       "       '45 phòng', '48 phòng', '35 phòng', '19 phòng', '25 phòng',\n",
       "       '110 phòng', '47 phòng', '115 phòng', '14 phòng', '96 phòng',\n",
       "       '56 phòng', '55 phòng', '27 phòng', '36 phòng', '40 phòng',\n",
       "       '23 phòng', '52 phòng', '21 phòng'], dtype=object)"
      ]
     },
     "execution_count": 169,
     "metadata": {},
     "output_type": "execute_result"
    }
   ],
   "source": [
    "df['Số phòng ngủ'].unique()"
   ]
  },
  {
   "cell_type": "code",
   "execution_count": 170,
   "id": "b2199b56",
   "metadata": {},
   "outputs": [
    {
     "data": {
      "text/plain": [
       "array(['34 phòng', nan, '1 phòng', '4 phòng', '12 phòng', '52 phòng',\n",
       "       '3 phòng', '2 phòng', '50 phòng', '18 phòng', '7 phòng',\n",
       "       '14 phòng', '15 phòng', '5 phòng', '6 phòng', '53 phòng',\n",
       "       '10 phòng', '16 phòng', '8 phòng', '11 phòng', '20 phòng',\n",
       "       '90 phòng', '55 phòng', '9 phòng', '45 phòng', '36 phòng',\n",
       "       '27 phòng', '13 phòng', '58 phòng', '22 phòng', '57 phòng',\n",
       "       '17 phòng', '40 phòng', '25 phòng', '24 phòng', '21 phòng'],\n",
       "      dtype=object)"
      ]
     },
     "execution_count": 170,
     "metadata": {},
     "output_type": "execute_result"
    }
   ],
   "source": [
    "df['Số toilet'].unique()"
   ]
  },
  {
   "cell_type": "code",
   "execution_count": 171,
   "id": "ca18706b",
   "metadata": {},
   "outputs": [],
   "source": [
    "df['Số tầng'] = df['Số tầng'].apply(lambda x: int(x.split()[0]) if isinstance(x, str) else x)\n",
    "df['Số phòng ngủ'] = df['Số phòng ngủ'].apply(lambda x: int(x.split()[0]) if isinstance(x, str) else x)\n",
    "df['Số toilet'] = df['Số toilet'].apply(lambda x: int(x.split()[0]) if isinstance(x, str) else x)"
   ]
  },
  {
   "cell_type": "markdown",
   "id": "7b803de0",
   "metadata": {},
   "source": [
    "# Date"
   ]
  },
  {
   "cell_type": "code",
   "execution_count": 172,
   "id": "e68072f7",
   "metadata": {},
   "outputs": [
    {
     "data": {
      "text/plain": [
       "array(['2023-09-26', '2023-10-03', '2023-10-04', '2023-10-05',\n",
       "       '2023-10-06', '2023-10-07', '2023-10-08', '2023-10-09',\n",
       "       '2023-10-11', '2023-10-12'], dtype=object)"
      ]
     },
     "execution_count": 172,
     "metadata": {},
     "output_type": "execute_result"
    }
   ],
   "source": [
    "df['date'].unique()"
   ]
  },
  {
   "cell_type": "code",
   "execution_count": 173,
   "id": "8f89192a",
   "metadata": {},
   "outputs": [],
   "source": [
    "# df['date'] = pd.to_datetime(df['date'], format='%Y-%m-%d')"
   ]
  },
  {
   "cell_type": "markdown",
   "id": "6be97e9c",
   "metadata": {},
   "source": [
    "# Liên hệ"
   ]
  },
  {
   "cell_type": "code",
   "execution_count": 174,
   "id": "cfa9619f",
   "metadata": {},
   "outputs": [
    {
     "data": {
      "text/plain": [
       "array([nan, 'C', 'K', 'L', 'H', 'P', 'T', 'D', 'V', 'S', 'J', 'Y', 'Q',\n",
       "       'M', 'N', 'G', 'B', 'A', 'U'], dtype=object)"
      ]
     },
     "execution_count": 174,
     "metadata": {},
     "output_type": "execute_result"
    }
   ],
   "source": [
    "df['Liên hệ'].unique()"
   ]
  },
  {
   "cell_type": "code",
   "execution_count": 175,
   "id": "a3bad184",
   "metadata": {},
   "outputs": [],
   "source": [
    "del df['Liên hệ']"
   ]
  },
  {
   "cell_type": "markdown",
   "id": "cd81af20",
   "metadata": {},
   "source": [
    "# Pháp lý"
   ]
  },
  {
   "cell_type": "code",
   "execution_count": 176,
   "id": "6ddf89e1",
   "metadata": {},
   "outputs": [
    {
     "data": {
      "text/plain": [
       "array([nan, 'Hợp đồng mua bán', 'Sổ đỏ/ Sổ hồng', 'Sổ đỏ/ Sổ hồng.',\n",
       "       'Hợp đồng mua bán.', 'Sổ hồng chính chủ, sang tên trong ngày.',\n",
       "       'Sổ hồng, đã hoàn công.', 'Đang chờ sổ', 'Sổ đỏ chính chủ',\n",
       "       'Pháp lý đầy đủ', 'Sổ đỏ', 'Hợp đồng thuê nhà',\n",
       "       'HỢP ĐỒNG CHO THUÊ', 'Đầy đủ.', 'Đã có sổ đó', 'Sổ đỏ chính chủ.',\n",
       "       'Đang chờ sổ.', 'Đã có sổ.', 'Đã có sổ đỏ đầy đủ.',\n",
       "       'Sổ hồng chính chủ.', 'Đã có sổ', 'HỢp đồng thuê nhà',\n",
       "       'HỢP ĐỒNG THUÊ NHÀ', 'Có sổ', 'Có sổ.', 'Sổ hồng.', 'Đả có sổ',\n",
       "       'Đầy đủ', 'Sổ đỏ.', 'Sổ hồng', 'Sổ sẵn',\n",
       "       'Hợp đồng chuyển tiền 95%.', 'Sổ chính chủ pháp lý ok',\n",
       "       'Sổ chính chủ sđt 0905 498 *** anh an', 'Có sổ đỏ',\n",
       "       'Sổ hồng lâu dài', 'Sổ Hồng.', 'Sổ đỏ sẵn két', 'Sổ đỏ/ sổ hồng.',\n",
       "       'Sổ đỏ lâu dài', 'Sổ', 'Sổ hồng chính chủ', 'Sẵn sàng giao dịch.',\n",
       "       'Sổ hồng chính chủ, công chứng ngay', 'Đã có sổ đỏ.',\n",
       "       'Đã có sổ và sở hửu vĩnh viễn', 'Sổ đỏ lâu dài tưng căn',\n",
       "       'Đã có sổ công chứng trong ngày.', 'Giấy tờ pháp lý ok',\n",
       "       'Đã có sổ hồng', 'Đã có sổ đỏ', 'Sổ đỏ có sẵn.', 'Đả có sổ Hồng',\n",
       "       'Đã có sổ đỏ , pháp lý rõ ràng', 'ĐÃ CÓ SỔ ĐỎ VÀ SỔ ĐỎ ĐỂ TẠI NHÀ',\n",
       "       'Đã có sổ, pháp lý rõ ràng.', 'Đã có sổ , pháp lý rõ ràng',\n",
       "       'Pháp lý rõ ràng chính chủ',\n",
       "       'Sổ chính chủ đã có nhà gắn liền trên sổ.', 'Sổ chính chủ.',\n",
       "       'Sổ đỏ sẵn', 'Sổ chính chủ giấy tờ pháp lý ok',\n",
       "       'Đã có sổ đỏ cá nhân mua bán sang tên tối về kê cao gối ngủ',\n",
       "       'Đã có sổ đỏ mua bán công chứng', 'Sổ chính chủ',\n",
       "       'Đã có sổ sẳn pháp lý ok',\n",
       "       'Sổ đỏ chính chủ, pháp lý rõ ràng, thủ tục nhanh chóng',\n",
       "       'Đã có sổ hồng.', 'Sổ hồng chinha chủ, pháp lý rõ ràng',\n",
       "       'Đã có sổ hồng, pháp lý rõ ràng , thủ tục nhanh chóng',\n",
       "       'Pháp lý sạch.', 'Đã có sổ hồng, pháp lý rõ ràng.', 'Sổ Hồng',\n",
       "       'Đã có sổ - pháp lý rõ ràng.', 'Sổ đỏ chính chủ',\n",
       "       'Sổ đỏ trao tay', 'Pháp lý: Công chứng nhận luôn sổ hồng lâu dài.',\n",
       "       'Sẵn sàng giao dịch trong ngày.', 'Sổ hồng đất ở lâu dài.', 'HĐMB',\n",
       "       'Sổ hồng riêng', 'Sổ đỏ/ Sổ hồnga'], dtype=object)"
      ]
     },
     "execution_count": 176,
     "metadata": {},
     "output_type": "execute_result"
    }
   ],
   "source": [
    "df['Pháp lý'].unique()"
   ]
  },
  {
   "cell_type": "code",
   "execution_count": 177,
   "id": "23a0583a",
   "metadata": {},
   "outputs": [
    {
     "data": {
      "text/plain": [
       "array([nan, 'Hợp đồng mua bán', 'Sổ đỏ/ Sổ hồng', 'Sổ đỏ/ Sổ hồng.',\n",
       "       'Hợp đồng mua bán.', 'Sổ hồng chính chủ, sang tên trong ngày.',\n",
       "       'Sổ hồng, đã hoàn công.', 'Đang chờ sổ', 'Sổ đỏ chính chủ',\n",
       "       'Pháp lý đầy đủ', 'Sổ đỏ', 'Hợp đồng thuê nhà',\n",
       "       'HỢP ĐỒNG CHO THUÊ', 'Đầy đủ.', 'Đã có sổ đó', 'Sổ đỏ chính chủ.',\n",
       "       'Đang chờ sổ.', 'Đã có sổ.', 'Đã có sổ đỏ đầy đủ.',\n",
       "       'Sổ hồng chính chủ.', 'Đã có sổ', 'HỢp đồng thuê nhà',\n",
       "       'HỢP ĐỒNG THUÊ NHÀ', 'Có sổ', 'Có sổ.', 'Sổ hồng.', 'Đả có sổ',\n",
       "       'Đầy đủ', 'Sổ đỏ.', 'Sổ hồng', 'Sổ sẵn',\n",
       "       'Hợp đồng chuyển tiền 95%.', 'Sổ chính chủ pháp lý ok',\n",
       "       'Sổ chính chủ sđt 0905 498 *** anh an', 'Có sổ đỏ',\n",
       "       'Sổ hồng lâu dài', 'Sổ Hồng.', 'Sổ đỏ sẵn két', 'Sổ đỏ/ sổ hồng.',\n",
       "       'Sổ đỏ lâu dài', 'Sổ', 'Sổ hồng chính chủ', 'Sẵn sàng giao dịch.',\n",
       "       'Sổ hồng chính chủ, công chứng ngay', 'Đã có sổ đỏ.',\n",
       "       'Đã có sổ và sở hửu vĩnh viễn', 'Sổ đỏ lâu dài tưng căn',\n",
       "       'Đã có sổ công chứng trong ngày.', 'Giấy tờ pháp lý ok',\n",
       "       'Đã có sổ hồng', 'Đã có sổ đỏ', 'Sổ đỏ có sẵn.', 'Đả có sổ Hồng',\n",
       "       'Đã có sổ đỏ , pháp lý rõ ràng', 'ĐÃ CÓ SỔ ĐỎ VÀ SỔ ĐỎ ĐỂ TẠI NHÀ',\n",
       "       'Đã có sổ, pháp lý rõ ràng.', 'Đã có sổ , pháp lý rõ ràng',\n",
       "       'Pháp lý rõ ràng chính chủ',\n",
       "       'Sổ chính chủ đã có nhà gắn liền trên sổ.', 'Sổ chính chủ.',\n",
       "       'Sổ đỏ sẵn', 'Sổ chính chủ giấy tờ pháp lý ok',\n",
       "       'Đã có sổ đỏ cá nhân mua bán sang tên tối về kê cao gối ngủ',\n",
       "       'Đã có sổ đỏ mua bán công chứng', 'Sổ chính chủ',\n",
       "       'Đã có sổ sẳn pháp lý ok',\n",
       "       'Sổ đỏ chính chủ, pháp lý rõ ràng, thủ tục nhanh chóng',\n",
       "       'Đã có sổ hồng.', 'Sổ hồng chinha chủ, pháp lý rõ ràng',\n",
       "       'Đã có sổ hồng, pháp lý rõ ràng , thủ tục nhanh chóng',\n",
       "       'Pháp lý sạch.', 'Đã có sổ hồng, pháp lý rõ ràng.', 'Sổ Hồng',\n",
       "       'Đã có sổ - pháp lý rõ ràng.', 'Sổ đỏ chính chủ',\n",
       "       'Sổ đỏ trao tay', 'Pháp lý: Công chứng nhận luôn sổ hồng lâu dài.',\n",
       "       'Sẵn sàng giao dịch trong ngày.', 'Sổ hồng đất ở lâu dài.', 'HĐMB',\n",
       "       'Sổ hồng riêng', 'Sổ đỏ/ Sổ hồnga'], dtype=object)"
      ]
     },
     "execution_count": 177,
     "metadata": {},
     "output_type": "execute_result"
    }
   ],
   "source": [
    "df['Pháp lý'].unique()"
   ]
  },
  {
   "cell_type": "code",
   "execution_count": 178,
   "id": "ae20c1d7",
   "metadata": {},
   "outputs": [],
   "source": [
    "def remove_punctuation(text):\n",
    "    if isinstance(text, str):\n",
    "        pun = ''.join([i for i in text if i not in string.punctuation])\n",
    "        pun = pun.strip().lower()\n",
    "        pun = pun.replace('đó','đỏ')\n",
    "        return pun\n",
    "    else:\n",
    "        return text"
   ]
  },
  {
   "cell_type": "code",
   "execution_count": 179,
   "id": "8091602b",
   "metadata": {},
   "outputs": [],
   "source": [
    "df['Pháp lý']= df['Pháp lý'].apply(lambda x: remove_punctuation(x))"
   ]
  },
  {
   "cell_type": "code",
   "execution_count": 180,
   "id": "5e42b6a8",
   "metadata": {},
   "outputs": [],
   "source": [
    "def replace_pl(text):\n",
    "    if isinstance(text, str):\n",
    "        if ('sổ đỏ' in text) and ('sổ hồng' in text):\n",
    "            return 'Số hồng/ Sổ đỏ'\n",
    "        elif 'sổ đỏ' in text:\n",
    "            return 'Sổ đỏ'\n",
    "        elif 'sổ hồng' in text:\n",
    "            return 'Sổ hồng'\n",
    "        elif 'pháp lý' in text:\n",
    "            return 'Pháp lý đầy đủ'\n",
    "        elif 'đang chờ sổ' in text:\n",
    "            return 'Đang chờ sổ'\n",
    "        elif 'hợp đồng' in text:\n",
    "            return 'Hợp đồng'\n",
    "        elif 'chính chủ' in text:\n",
    "            return 'Giấy tờ chính chủ'\n",
    "        elif ('đã có sổ' in text) or ('đả có sổ' in text) or ('có sổ' in text) or ('có sẵn' in text) or ('sổ sẵn' in text) or ('sẵn sàng giao dịch' in text) or ('đầy đủ' in text):\n",
    "            return 'Đã có sổ'\n",
    "        else:\n",
    "            return text\n",
    "    return text"
   ]
  },
  {
   "cell_type": "code",
   "execution_count": 181,
   "id": "c500d2c2",
   "metadata": {},
   "outputs": [],
   "source": [
    "df['Pháp lý']=df['Pháp lý'].apply(replace_pl)"
   ]
  },
  {
   "cell_type": "markdown",
   "id": "a3ab8e53",
   "metadata": {},
   "source": [
    "# Nội thất"
   ]
  },
  {
   "cell_type": "code",
   "execution_count": 182,
   "id": "bd0f50c0",
   "metadata": {},
   "outputs": [
    {
     "data": {
      "text/plain": [
       "array([nan, 'Cơ bản', 'Đầy đủ.', 'Không nội thất', 'Đầy đủ',\n",
       "       'Không nội thất.', 'Nội thất cao cấp', 'Hoàn Thiện tầng 1.',\n",
       "       'Cơ bản.',\n",
       "       'Nội thất full, hồ bơi xịn xò, tivi lớn, tủ lạnh 2 cánh, máy nóng lạnh, sofa, tủ quần áo, giường nệm,...',\n",
       "       'Cao cấp', 'Nội thất cao cấp.', 'Nội thất cao cấp, đầy đủ.',\n",
       "       'Cao cấp.', 'Đầy đủ nội thất.', 'Cao Cấp', 'Đầy Đủ',\n",
       "       'Nội thất thiết kế hiện đại, đầy đủ', 'Nội thất đầy đủ.',\n",
       "       'Full nội thất đầy đủ', 'Cơ bản cao cấp 5 sao', 'Full nội thất.',\n",
       "       'Nội Thất Cao Cấp', 'Đầy đủ cao cấp', 'Full NT y hình.',\n",
       "       'Không bao gồm nội thất', 'Trang bị đầy đủ nội thất cao cấp.',\n",
       "       'Gỗ kền kền', 'Full',\n",
       "       'Bếp, tivi, tủ lạnh, điều hoà, máy giặt, giường nệm, salong...',\n",
       "       'Nhà đầy đủ tiện nghi: Bếp ga, máy hút mùi, tủ bếp, đồ dùng nấu ăn, tủ lạnh, điều hòa 2 chiều, máy giặt, bình nóng lạnh, sàn gỗ. Nhà vệ sinh hiện đại, rộng rãi, lịch sự, có bồn tắm, tắm nóng lạnh.',\n",
       "       'Nội thất hiện đại, cao cấp.', 'Bàn, ghế, bếp, nệm…',\n",
       "       '80% Nội thât', 'Đẹp . hiện đại . như mới', 'Full nội thất',\n",
       "       'Chủ bỏ lại toàn bộ nội thất', 'Đầy đủ đẹp.', 'Đầy đủ nội thất',\n",
       "       'Xinh - xịn - mịn', 'Nội thất cơ bản cao cấp 5 sao', 'Full.',\n",
       "       'Nội thất đầy đủ', 'Không.',\n",
       "       'Nội thất cơ bản liền tường: Sàn lót gỗ, trần thạch cao, hệ tủ bếp...',\n",
       "       'Hoàn thiện cao cấp.', 'Hoàn thiện tiêu chuẩn quốc tế.',\n",
       "       'Full nội thất liền tường', 'Hoàn thiện cơ bản.', 'Đẹp', 'Có rèm.',\n",
       "       'Cơ bản trống.', 'Xinh xắn và đầy đủ như hình.',\n",
       "       'Đầy đủ Tivi, tủ lạnh, máy giặt, bếp từ, bàn ghế sofa, bàn ghế ăn, giường nệm, điều hòa.',\n",
       "       'Điều hoà, máy giặt, tủ lạnh, bếp, bàn ghế.', 'Full ngoại thất',\n",
       "       'Hoàn thiện mặt ngoài ốp đá cao cấp toàn bộ.', 'CAO CẤP',\n",
       "       'Căn hộ đầu tiên sử dụng kính hộp 2 lớp Low E dày 24mm Nội thất liền tường cao cấp nhập khẩu từ Mỹ (Biếp từ, tủ bếp, máy hút khói, máy nóng lạnh, điều hòa âm trần, full nôi thất nhà vệ sinh,... ).',\n",
       "       'Bàn giao nội thất liền tường cao cấp như: Nhập khẩu từ Mỹ (Bếp từ, tủ bếp, máy hút khói, máy nóng lạnh, điều hòa âm trần, full nội thất nhà vệ sinh,... ).',\n",
       "       'Nhà trống thông suốt dễ cải tạo.', 'Gỗ Kền Kền',\n",
       "       'Đầy đủ nội thất 5 sao nhập khẩu quốc tế.',\n",
       "       'Nội thất sang trọng, cao cấp.', 'Hoàn thiện mặt ngoài ốp đá',\n",
       "       'Hoàn thiện mặt ngoài, bàn giao phần thô phía trong.', 'Đẹp.',\n",
       "       'Chưa có nội thất.',\n",
       "       'Trần thạch cao, đèn led, sàn lót gỗ, thiết bị vệ sinh, có tủ bếp trên - bếp dưới, cửa chống cháy, máy hút mùi, bếp từ, máy tắm nóng lạnh...',\n",
       "       'Nội thất cao cấp, thiết kế sang trọng.',\n",
       "       '2 máy lạnh, máy nóng lạnh, giường tủ, bàn ghế sofa.', 'Xịn xò',\n",
       "       'Nội thất cơ bản', 'Chuẩn vận hành 5 sao.', 'Nội thất cơ bản.',\n",
       "       'Đầy đủ nội thất cao cấp.', 'Đầy đủ công năng.', 'Full toàn bộ.',\n",
       "       'Full cơ bản.',\n",
       "       'Sofa, tivi, giường, nệm, tủ áo quần, nội thất bếp, nội thất nhà vệ sinh.',\n",
       "       'Nội thất liền tường cao cấp.', 'Cho cf Highlands thuê',\n",
       "       'Bàn giao nội thất liền tường cao cấp', 'Để lại nội thất.'],\n",
       "      dtype=object)"
      ]
     },
     "execution_count": 182,
     "metadata": {},
     "output_type": "execute_result"
    }
   ],
   "source": [
    "df['Nội thất'].unique()"
   ]
  },
  {
   "cell_type": "code",
   "execution_count": 183,
   "id": "a3876943",
   "metadata": {},
   "outputs": [],
   "source": [
    "# df['Nội thất'].unique()"
   ]
  },
  {
   "cell_type": "code",
   "execution_count": 184,
   "id": "128fedc3",
   "metadata": {},
   "outputs": [],
   "source": [
    "df['Nội thất']= df['Nội thất'].apply(lambda x: remove_punctuation(x))"
   ]
  },
  {
   "cell_type": "code",
   "execution_count": 185,
   "id": "1d986654",
   "metadata": {},
   "outputs": [],
   "source": [
    "def replace_nt(text):\n",
    "    if isinstance(text, str):\n",
    "        if 'cao cấp' in text or 'xịn' in text:\n",
    "            return 'Nội thất cao cấp'\n",
    "        elif 'đầy đủ' in text or 'full' in text:\n",
    "            return 'Nội thất đầy đủ'\n",
    "        elif 'cơ bản' in text:\n",
    "            return 'Nội thất cơ bản'\n",
    "        elif ('không' in text or 'chưa' in text) and 'nội thất' in text:\n",
    "            return 'Không nội thất'\n",
    "        elif text=='không':\n",
    "            return 'Không nội thất'\n",
    "        else:\n",
    "            return text\n",
    "    return text"
   ]
  },
  {
   "cell_type": "code",
   "execution_count": 186,
   "id": "ba419633",
   "metadata": {},
   "outputs": [],
   "source": [
    "df['Nội thất']=df['Nội thất'].apply(replace_nt)"
   ]
  },
  {
   "cell_type": "markdown",
   "id": "49a32904",
   "metadata": {},
   "source": [
    "# Mô tả"
   ]
  },
  {
   "cell_type": "code",
   "execution_count": 187,
   "id": "23d3c3e5",
   "metadata": {},
   "outputs": [
    {
     "data": {
      "text/plain": [
       "array(['Cần bán gấp tòa nhà có 32 căn hộ khu phố du lịch sầm uất Nam Hồ Xuân Hương giá 23 tỷ.\\nVị trí: Nằm trên đường rộng 7,5m vỉa hè mỗi bên 4m, cách biển 1km, cách Cầu Rồng chỉ 2,5km.\\nDiện tích: 10x17,5=175 m².\\nXây 9 tầng có 32 phòng căn hộ, có hồ bơi ở tầng 1, khu ăn uống, tất cả đầy đủ tiện nghi.\\nHướng Tây Bắc.\\nGiá bán gấp 23 tỷ.\\nLiên hệ: Sàn giao dịch BDS VRM - Đơn vị uy tín hàng đầu tại Đà Nẵng.\\nHotline:\\n0914 106 ***\\n.\\nWebsite: http://www.vrm.vn',\n",
       "       '- Cần bán gấp 02 lô đất liền kề cùng một thửa đất, tặng nhà gỗ cao cấp, đã có Giấy chứng nhận quyền sử dụng đất có đặc điểm như sau:\\n- Hai mặt tiền gồm một mặt là quốc lộ 14B hiện nay đang được cải tạo, nâng cấp, đoạn qua địa bàn thành phố Đà Nẵng, con đường lớn nhất miền trung, là con đường thương mại nối liền các tỉnh miền trung với Tây nguyên, thửa đất cần bán thuộc điểm cuối tại khoảng Km32 + 185, nằm trên địa phận xã Hòa Khương, huyện Hòa Vang, thành phố Đà Nẵng, đây là tuyến đường trục chính đô thị, cấp đô thị, vận tốc thiết kế 80km/h với quy mô 6 làn xe, phần cầu trên tuyến được tận dụng toàn bộ, mở rộng thêm để đồng bộ với bề rộng đường; tổng số cầu mở rộng dự kiến là 4 cầu, mặt tiền còn lại là con đường 5,5m nối dài thông đến quốc lộ 14A.\\n- Đã đầu tư xây dựng biệt thự đẳng cấp sống, vườn tiểu cảnh siêu vip, hồ cá koi, sân để ô tô rộng rãi thoải mái, thiết kế tối ưu, thích hợp để ở, không khí mát mẻ trong lành, không gian xanh tự nhiên, đặc biệt đất cao ráo không sợ mưa lũ. Đối với nhà đầu tư có ý định kinh doanh thì phương án đầu tư sẽ rất thuận tiện với mô hình như nhà hàng tiệc cưới, cây xăng, cà phê vườn, siêu thị mini vì khả năng đến năm 2025 toàn huyện Hòa Vang đạt tiêu chí đô thị loại IV, đủ điều kiện trở thành thị xã trực thuộc thành phố Đà Nẵng.\\n- Cách trung tâm hành chính huyện Hòa Vang 500 m, nằm trong khu dân cư đông đúc, gần trường học cấp 1,2,3, gần nhiều chợ.\\n- Cách trung tâm thành phố Đà Nẵng chỉ 7,9 km, cách đường vào cao tốc Đà Nẵng - Quảng Ngãi 2 km.\\n- Cách khu du lịch núi thần tài 4 km, cách khu du lịch Bà Nà suối mơ 7 km.\\n- Pháp lý: 02 Giấy chứng nhận QSDĐ không cầm cố thế chấp, không tranh chấp, có thể công chứng ngay.\\n- Địa chỉ: Đường Quốc Lộ 14B, xã Hòa Khương, huyện Hòa Vang, thành phố Đà Nẵng.\\n- Diện tích: 811m² (nở hậu). Ngang: 31m, dài 26.10m.\\n- Giá bán: 11,3 tỷ đồng, (13,9tr/ m²) bán đến công chứng, không thương lượng.\\n- Bán cho người có nhu cầu thực sự, miễn trung gian, liên lạc số điện thoại\\n0901 033 ***\\nhoặc 0968*155755..',\n",
       "       'Hàng ngoại giao không có nhu cầu sử dụng nhượng lại căn vip Shophouse khối đế view hồ bơi, Vị trí kinh doanh tốt, cho thuê 10 - 15tr/tháng.\\nThuộc chân đế tầng 1 của tổ hợp chung cư The Ori Garden 10 tòa với lượng dân hơn 14.000 người sầm uất bậc nhất Đà Nẵng.\\nCăn đẹp tìm chủ hữu duyên để sở hữu ngay.\\n- Nằm ngay toà thương mại đẹp nhất dự án CT10 (toà căn hộ thương mại Seaview Tower).\\n- Diện tích thông thuỷ: 58.1m².\\n- Mặt tiền kinh doanh rộng đến 7.89m.\\n- Vị trí cực kỳ thuận lợi kinh doanh; đối diện Quảng Trường, view trực tiếp hồ bơi hơn 300m², nằm ngay lối vào sảnh chờ thang máy. (Giai đoạn 1 các căn như này đang kinh doanh rất tốt).\\nBán kèm suất ưu đãi đặc biệt cho ai mua trong tháng 9 này:\\n- Chồng tiền sớm giảm giá bán 15%.\\n- Vay ngân hàng thì hỗ trợ vay 70% giá trị căn khối đế + miễn lãi gốc 2 năm (vào kinh doanh thu tiền lợi nhuận còn chưa phải đóng lãi, gốc).\\nĐể sở hữu căn ngoại giao này anh/chị có nhu cầu gọi cho tôi qua SĐT\\n0912 341 ***\\nchính chủ).\\nCám ơn đã quan tâm!',\n",
       "       ...,\n",
       "       'Chủ cần bán căn hộ cao cấp 5 sao 2PN 80m² tầng 26 view biển Mỹ Khê, cách biển chỉ 50m, pháp lý sở hữu lâu dài, full nội thất cao cấp 5 sao giá lỗ 900tr.\\n---------------\\n* Thông tin chi tiết căn hộ:\\n- Mã căn 2607.\\n- Tầng: 26.\\n- Hướng: Đông Nam.\\n- View: Biển Mỹ Khê.\\n- Bàn giao full nội thất cao cấp.\\n- Pháp lý: Sở hữu lâu dài.\\n- Đơn vị vận hành: Sheraton và Savills.\\n- Giá: 4,x tỷ.\\n---------------\\n* Công năng thiết kế 2PN:\\n- Diện tích thông thủy: 80m².\\n- 2 phòng ngủ, 2WC, phòng khách, phòng bếp, logia.\\n---------------\\n- Vị trí đắc địa với view biển Mỹ Khê, cách công viên biển Đông và bãi tắm Phạm Văn Đồng 800m.\\n* Tọa lạc tại trung tâm du lịch đắt giá nhất Đà Nẵng.\\n\\n* 1 - 5 phút đến:\\nBãi biển Mỹ Khê, bãi tắm Phạm Văn Đồng.\\nCông viên Biển Đông.\\nCầu Sông Hàn, cầu Rồng.\\n\\n* 5 - 10 phút đến:\\nTrung tâm hành chính Đà Nẵng.\\nBán đảo Sơn Trà.\\nSân bay Đà Nẵng.\\nChùa Linh Ứng, Ga Đà Nẵng.\\n\\n* 15 phút - 1 giờ đến:\\nCảng Tiên Sa.\\nHội An.\\nBà Nà Hills.\\n---------------\\nThiết kế và nội thất 5 sao cao cấp.\\nKhông gian sống thoáng đãng, ngập tràn ánh sáng tự nhiên cùng góc view tuyệt mỹ.\\nTiêu chuẩn bàn giao nội thất cao cấp nhập khẩu Châu Âu: Bosch, Hafele, Bravat, cửa gỗ An Cường.\\nLiên kề với các dịch vụ đẳng cấp quốc tế từ Four Points by Sheraton, Hilton, Fusion Suites.\\nHệ thống tiện ích hiện đại: Sảnh đón tiêu chuẩn 5 sao, bãi đỗ xe thông minh, hồ bơi, công viên, gym, coffee, Casino Club...\\n\\nSố lượng: 252 căn hộ(1PN, 2PN).\\nSố tầng: 35 tầng (2 tầng hầm, 33 tầng nổi).\\nPháp lý: Sổ hồng sở hữu lâu dài.\\n---------------\\nHotline/Zalo:\\n0961 666 ***\\nMr. Thiên) để biết thêm thông tin chi tiết. Cảm ơn anh chị đã đọc tin.',\n",
       "       'Cập nhật danh sách những lô đất lớn xây dựng cao tầng khu vực biển Sơn Trà, Đà Nẵng, gần các địa điểm nổi tiếng như Mỹ Hạnh, À La carte...\\n\\n* Khu vực Sơn Trà, Đà Nẵng:\\n1. Lô 2MT Phạm Văn Đồng 1745m² giá 2xxtr/m².\\n2. Lô biệt thự Phạm Văn Đồng, 333,6m², 2xxtr/m².\\n3. 4 lô liền kề Hoàng Sa B2.8, 107m²/ lô, tổng DT 428m², giá 2xxtr/m².\\n4. Mặt tiền Trần Hưng Đạo, 25x25m, có KS trên đất, giá 1x0 tỷ.\\n5. Mặt tiền Võ Nguyên Giáp, 600m², giá 3xxtr/m².\\n\\n* Tiện ích:\\n- Lô đất thích hợp xây khách sạn cao tầng.\\n- Trục thông biển, đường lớn. Gần biển.\\n- Khu vực nhiều khách sạn cao tầng, nhà hàng, khách du lịch đông.\\n- Giá trị thương mại cao.\\n- An ninh 24/24.\\n\\nQuý khách đang quan tâm về việc mua bán khách sạn 3 - 4* tại Đà Nẵng, nhưng thị trường nhiễu loạn thông tin, môi giới đưa giá không chính xác, khó khăn trong việc tìm hiểu về pháp lý...\\nHiện tại tôi đang có file tổng hợp thông tin chính xác về các khách sạn đang bán tại các cung đường đẹp quận Sơn Trà, Đà Nẵng như Phạm Văn Đồng, Võ Văn Kiệt, Đỗ Bá, Trần Bạch Đằng, Hà Bổng, Dương Đình Nghệ, Ngô Thì Sỹ, Nguyễn Văn Thoại... Giá trị từ 40 tỷ - 300 tỷ, cam kết hỗ trợ tất tần tật về giao dịch chuyển nhượng, xin liên hệ với tôi qua số điện thoại:\\n\\nThông tin chi tiết xin liên hệ:\\n0935 433 ***\\n- chuyên mua bán, ký gửi cho thuê đất, nhà phố, biệt thự và khách sạn.',\n",
       "       'Mở bán giai đoạn 1 phân khúc căn hộ cao cấp ngay mặt tiền sông Hàn, thành phố Đà Nẵng The Panoma.\\n- Quy mô: 2 tòa tháp căn hộ The Panoma cao 27 - 34 tầng nối bởi dãy shophouse 6 - 7 tầng và phân khu biệt thự.\\n- Chủ đầu tư: Sun Group.\\n- Cạnh cầu sông Hàn, cách bãi tắm Mỹ Khê Đà Nẵng chỉ 1km.\\n- Dành riêng 4 tầng cho tiện ích: Hồ bơi vô cực ngắm sông Hàn, trung tâm thương mại, gym, spa, sân vườn trên không, vườn thiền, yoga, kid club, sky bar,\\n- Thiết kế đọc bản tạo nên biểu tượng mới của thành phố Đà Nẵng.\\n- Diện tích: 35 đến 99m² gồm căn Studio, 1 PN + , 2 PN, 2 PN + , 3 PN.\\n- Giá bán đã gồm VAT và kinh phí bảo trì, chưa chiết khấu:\\n+ Căn studio: 1.5-2.5 tỷ.\\n+ Căn 1PN + : 2.4 3 tỷ.\\n+ Căn 2PN: 4 6 tỷ.\\n+ Căn 2 PN: 6 tỷ.\\n+ Căn 3 PN: 6 - 9 tỷ.\\n- Chiết khấu trực tiếp chủ đầu tư tới 21%.\\n- Mở bán giai đoạn 1, thanh toán dàn trải theo tiến độ. Thích hợp đầu tư từ đầu, có thể ở mang phong cách nghỉ dưỡng hoặc cho thuê giá cao.\\nNhiều quà tặng hấp dẫn khác cho những khách hàng sở hữu đầu tiên.\\nGọi ngay HOTLINE\\n0888 372 ***\\nđể nhận ưu đãi và thông tin mới nhất.\\nPhòng kinh doanh căn hộ The Panoma Đà Nẵng.'],\n",
       "      dtype=object)"
      ]
     },
     "execution_count": 187,
     "metadata": {},
     "output_type": "execute_result"
    }
   ],
   "source": [
    "df['Mô tả'].unique()"
   ]
  },
  {
   "cell_type": "markdown",
   "id": "29bcd76b",
   "metadata": {},
   "source": [
    "# Rename columns"
   ]
  },
  {
   "cell_type": "code",
   "execution_count": 188,
   "id": "50488f49",
   "metadata": {},
   "outputs": [
    {
     "data": {
      "text/plain": [
       "Index(['post_id', 'Loại tin', 'Tiêu đề', 'Địa chỉ', 'Mô tả', 'Diện tích',\n",
       "       'Mức giá', 'Mặt tiền', 'Đường vào', 'Hướng nhà', 'Hướng ban công',\n",
       "       'Số tầng', 'Số phòng ngủ', 'Số toilet', 'URL', 'date', 'card_visit',\n",
       "       'Pháp lý', 'Nội thất', 'Giá/m2'],\n",
       "      dtype='object')"
      ]
     },
     "execution_count": 188,
     "metadata": {},
     "output_type": "execute_result"
    }
   ],
   "source": [
    "df.columns"
   ]
  },
  {
   "cell_type": "code",
   "execution_count": 189,
   "id": "7b8b9dae",
   "metadata": {},
   "outputs": [],
   "source": [
    "df=df.rename(columns={'Mức giá':'Giá','date':'Ngày crawl'})"
   ]
  },
  {
   "cell_type": "markdown",
   "id": "234ae100",
   "metadata": {},
   "source": [
    "# Save data"
   ]
  },
  {
   "cell_type": "code",
   "execution_count": 190,
   "id": "f73d980f",
   "metadata": {},
   "outputs": [
    {
     "data": {
      "text/html": [
       "<div>\n",
       "<style scoped>\n",
       "    .dataframe tbody tr th:only-of-type {\n",
       "        vertical-align: middle;\n",
       "    }\n",
       "\n",
       "    .dataframe tbody tr th {\n",
       "        vertical-align: top;\n",
       "    }\n",
       "\n",
       "    .dataframe thead th {\n",
       "        text-align: right;\n",
       "    }\n",
       "</style>\n",
       "<table border=\"1\" class=\"dataframe\">\n",
       "  <thead>\n",
       "    <tr style=\"text-align: right;\">\n",
       "      <th></th>\n",
       "      <th>post_id</th>\n",
       "      <th>Loại tin</th>\n",
       "      <th>Tiêu đề</th>\n",
       "      <th>Địa chỉ</th>\n",
       "      <th>Mô tả</th>\n",
       "      <th>Diện tích</th>\n",
       "      <th>Giá</th>\n",
       "      <th>Mặt tiền</th>\n",
       "      <th>Đường vào</th>\n",
       "      <th>Hướng nhà</th>\n",
       "      <th>Hướng ban công</th>\n",
       "      <th>Số tầng</th>\n",
       "      <th>Số phòng ngủ</th>\n",
       "      <th>Số toilet</th>\n",
       "      <th>URL</th>\n",
       "      <th>Ngày crawl</th>\n",
       "      <th>card_visit</th>\n",
       "      <th>Pháp lý</th>\n",
       "      <th>Nội thất</th>\n",
       "      <th>Giá/m2</th>\n",
       "    </tr>\n",
       "  </thead>\n",
       "  <tbody>\n",
       "    <tr>\n",
       "      <th>0</th>\n",
       "      <td>37518005</td>\n",
       "      <td>Mua bán</td>\n",
       "      <td>SỤP HẦM CẦN BÁN GẤP TÒA KHÁCH SẠN 32 CĂN HỘ CÓ...</td>\n",
       "      <td>Đường Khuê Mỹ Đông, Phường Khuê Mỹ, Ngũ Hành S...</td>\n",
       "      <td>Cần bán gấp tòa nhà có 32 căn hộ khu phố du lị...</td>\n",
       "      <td>175.0</td>\n",
       "      <td>2.300000e+10</td>\n",
       "      <td>10.5</td>\n",
       "      <td>7.5</td>\n",
       "      <td>Tây Bắc</td>\n",
       "      <td>Tây Bắc</td>\n",
       "      <td>9.0</td>\n",
       "      <td>32.0</td>\n",
       "      <td>34.0</td>\n",
       "      <td>https://batdongsan.com.vn/ban-nha-mat-pho-duon...</td>\n",
       "      <td>2023-09-26</td>\n",
       "      <td>http://guru.batdongsan.com.vn/p/67a88bcb3e6ed862</td>\n",
       "      <td>NaN</td>\n",
       "      <td>NaN</td>\n",
       "      <td>1.314286e+08</td>\n",
       "    </tr>\n",
       "    <tr>\n",
       "      <th>1</th>\n",
       "      <td>37711601</td>\n",
       "      <td>Mua bán</td>\n",
       "      <td>Chính chủ hạ sập hầm cần bán gấp 02 lô đất liề...</td>\n",
       "      <td>Đường Quốc Lộ 14B, Xã Hòa Khương, Hòa Vang, Đà...</td>\n",
       "      <td>- Cần bán gấp 02 lô đất liền kề cùng một thửa ...</td>\n",
       "      <td>811.0</td>\n",
       "      <td>1.130000e+10</td>\n",
       "      <td>NaN</td>\n",
       "      <td>NaN</td>\n",
       "      <td>NaN</td>\n",
       "      <td>NaN</td>\n",
       "      <td>NaN</td>\n",
       "      <td>NaN</td>\n",
       "      <td>NaN</td>\n",
       "      <td>https://batdongsan.com.vn/ban-dat-duong-quoc-l...</td>\n",
       "      <td>2023-09-26</td>\n",
       "      <td>http://guru.batdongsan.com.vn/p/3ed7da9f9b5ceb30</td>\n",
       "      <td>NaN</td>\n",
       "      <td>NaN</td>\n",
       "      <td>1.393342e+07</td>\n",
       "    </tr>\n",
       "    <tr>\n",
       "      <th>2</th>\n",
       "      <td>38150772</td>\n",
       "      <td>Mua bán</td>\n",
       "      <td>1 căn khối đế kinh doanh The Ori Garden không ...</td>\n",
       "      <td>Dự án The Ori Garden, Đường Mê Linh, Phường Hò...</td>\n",
       "      <td>Hàng ngoại giao không có nhu cầu sử dụng nhượn...</td>\n",
       "      <td>58.0</td>\n",
       "      <td>NaN</td>\n",
       "      <td>NaN</td>\n",
       "      <td>NaN</td>\n",
       "      <td>Tây Nam</td>\n",
       "      <td>Tây Nam</td>\n",
       "      <td>NaN</td>\n",
       "      <td>NaN</td>\n",
       "      <td>1.0</td>\n",
       "      <td>https://batdongsan.com.vn/ban-can-ho-chung-cu-...</td>\n",
       "      <td>2023-09-26</td>\n",
       "      <td>http://guru.batdongsan.com.vn/p/b0f0153e0924276d</td>\n",
       "      <td>Hợp đồng</td>\n",
       "      <td>Nội thất cơ bản</td>\n",
       "      <td>NaN</td>\n",
       "    </tr>\n",
       "    <tr>\n",
       "      <th>3</th>\n",
       "      <td>38149431</td>\n",
       "      <td>Mua bán</td>\n",
       "      <td>Chính thức CĐT công bố giỏ hàng Shophouse khối...</td>\n",
       "      <td>Dự án The Ori Garden, Đường Mê Linh, Phường Hò...</td>\n",
       "      <td>Chính thức mở bán dòng Shophouse khối đế chung...</td>\n",
       "      <td>60.0</td>\n",
       "      <td>2.450000e+09</td>\n",
       "      <td>NaN</td>\n",
       "      <td>NaN</td>\n",
       "      <td>Đông Bắc</td>\n",
       "      <td>Đông Bắc</td>\n",
       "      <td>NaN</td>\n",
       "      <td>NaN</td>\n",
       "      <td>1.0</td>\n",
       "      <td>https://batdongsan.com.vn/ban-shophouse-nha-ph...</td>\n",
       "      <td>2023-09-26</td>\n",
       "      <td>http://guru.batdongsan.com.vn/p/b0f0153e0924276d</td>\n",
       "      <td>Số hồng/ Sổ đỏ</td>\n",
       "      <td>NaN</td>\n",
       "      <td>4.083333e+07</td>\n",
       "    </tr>\n",
       "    <tr>\n",
       "      <th>4</th>\n",
       "      <td>37934118</td>\n",
       "      <td>Mua bán</td>\n",
       "      <td>Chính chủ - Bán nhà full nội thất TTTP Đà Nẵng...</td>\n",
       "      <td>Phường An Khê, Thanh Khê, Đà Nẵng</td>\n",
       "      <td>Với 850 triệu đồng tiền mặt là có thể sở hữu c...</td>\n",
       "      <td>105.0</td>\n",
       "      <td>6.250000e+09</td>\n",
       "      <td>5.0</td>\n",
       "      <td>7.5</td>\n",
       "      <td>Tây Nam</td>\n",
       "      <td>Tây Nam</td>\n",
       "      <td>3.0</td>\n",
       "      <td>4.0</td>\n",
       "      <td>4.0</td>\n",
       "      <td>https://batdongsan.com.vn/ban-nha-rieng-phuong...</td>\n",
       "      <td>2023-09-26</td>\n",
       "      <td>http://guru.batdongsan.com.vn/p/f071b4b64c7c473a</td>\n",
       "      <td>Số hồng/ Sổ đỏ</td>\n",
       "      <td>Nội thất đầy đủ</td>\n",
       "      <td>5.952381e+07</td>\n",
       "    </tr>\n",
       "    <tr>\n",
       "      <th>...</th>\n",
       "      <td>...</td>\n",
       "      <td>...</td>\n",
       "      <td>...</td>\n",
       "      <td>...</td>\n",
       "      <td>...</td>\n",
       "      <td>...</td>\n",
       "      <td>...</td>\n",
       "      <td>...</td>\n",
       "      <td>...</td>\n",
       "      <td>...</td>\n",
       "      <td>...</td>\n",
       "      <td>...</td>\n",
       "      <td>...</td>\n",
       "      <td>...</td>\n",
       "      <td>...</td>\n",
       "      <td>...</td>\n",
       "      <td>...</td>\n",
       "      <td>...</td>\n",
       "      <td>...</td>\n",
       "      <td>...</td>\n",
       "    </tr>\n",
       "    <tr>\n",
       "      <th>5117</th>\n",
       "      <td>37827739</td>\n",
       "      <td>Mua bán</td>\n",
       "      <td>Bán đất đường Nguyễn Đăng Tuyển khu đầu tuyến ...</td>\n",
       "      <td>Đường Nguyễn Đăng Tuyển, Phường Thọ Quang, Sơn...</td>\n",
       "      <td>Bán đất đầu tuyến Sơn Trà - Đà Nẵng.\\nDT: 90m²...</td>\n",
       "      <td>90.0</td>\n",
       "      <td>3.600000e+09</td>\n",
       "      <td>5.0</td>\n",
       "      <td>5.5</td>\n",
       "      <td>Đông Nam</td>\n",
       "      <td>NaN</td>\n",
       "      <td>NaN</td>\n",
       "      <td>NaN</td>\n",
       "      <td>NaN</td>\n",
       "      <td>https://batdongsan.com.vn/ban-dat-duong-nguyen...</td>\n",
       "      <td>2023-10-12</td>\n",
       "      <td>https://guru.batdongsan.com.vn/p/ff4ecf6aec0b80f2</td>\n",
       "      <td>Số hồng/ Sổ đỏ</td>\n",
       "      <td>NaN</td>\n",
       "      <td>4.000000e+07</td>\n",
       "    </tr>\n",
       "    <tr>\n",
       "      <th>5118</th>\n",
       "      <td>38089060</td>\n",
       "      <td>Mua bán</td>\n",
       "      <td>Bạn đang tìm kiếm những lô đất rẻ nhất Nam Hòa...</td>\n",
       "      <td>Dự án Han River Village (Nam Hòa Xuân), Phường...</td>\n",
       "      <td>Bạn đang tìm kiếm những lô đất rẻ nhất Nam Hòa...</td>\n",
       "      <td>100.0</td>\n",
       "      <td>2.650000e+09</td>\n",
       "      <td>NaN</td>\n",
       "      <td>NaN</td>\n",
       "      <td>NaN</td>\n",
       "      <td>NaN</td>\n",
       "      <td>NaN</td>\n",
       "      <td>NaN</td>\n",
       "      <td>NaN</td>\n",
       "      <td>https://batdongsan.com.vn/ban-dat-nen-du-an-ph...</td>\n",
       "      <td>2023-10-12</td>\n",
       "      <td>https://guru.batdongsan.com.vn/p/b5b2d0d7391996c2</td>\n",
       "      <td>Số hồng/ Sổ đỏ</td>\n",
       "      <td>NaN</td>\n",
       "      <td>2.650000e+07</td>\n",
       "    </tr>\n",
       "    <tr>\n",
       "      <th>5119</th>\n",
       "      <td>38252191</td>\n",
       "      <td>Mua bán</td>\n",
       "      <td>Kẹt tiền chủ bán căn 2PN 80m2 tầng 26 view biể...</td>\n",
       "      <td>Dự án À La Carte Hotel, Đường Dương Đình Nghệ,...</td>\n",
       "      <td>Chủ cần bán căn hộ cao cấp 5 sao 2PN 80m² tầng...</td>\n",
       "      <td>80.0</td>\n",
       "      <td>NaN</td>\n",
       "      <td>NaN</td>\n",
       "      <td>NaN</td>\n",
       "      <td>NaN</td>\n",
       "      <td>Đông Nam</td>\n",
       "      <td>NaN</td>\n",
       "      <td>2.0</td>\n",
       "      <td>2.0</td>\n",
       "      <td>https://batdongsan.com.vn/ban-can-ho-chung-cu-...</td>\n",
       "      <td>2023-10-12</td>\n",
       "      <td>https://guru.batdongsan.com.vn/p/1399a3652df07c40</td>\n",
       "      <td>Số hồng/ Sổ đỏ</td>\n",
       "      <td>Nội thất đầy đủ</td>\n",
       "      <td>NaN</td>\n",
       "    </tr>\n",
       "    <tr>\n",
       "      <th>5120</th>\n",
       "      <td>36582835</td>\n",
       "      <td>Mua bán</td>\n",
       "      <td>Cập nhật danh sách những lô đất lớn xây dựng c...</td>\n",
       "      <td>Đường Võ Nguyên Giáp, Phường Phước Mỹ, Sơn Trà...</td>\n",
       "      <td>Cập nhật danh sách những lô đất lớn xây dựng c...</td>\n",
       "      <td>600.0</td>\n",
       "      <td>NaN</td>\n",
       "      <td>NaN</td>\n",
       "      <td>NaN</td>\n",
       "      <td>NaN</td>\n",
       "      <td>NaN</td>\n",
       "      <td>NaN</td>\n",
       "      <td>NaN</td>\n",
       "      <td>NaN</td>\n",
       "      <td>https://batdongsan.com.vn/ban-dat-duong-vo-ngu...</td>\n",
       "      <td>2023-10-12</td>\n",
       "      <td>https://guru.batdongsan.com.vn/p/cf7b729b12023b6a</td>\n",
       "      <td>NaN</td>\n",
       "      <td>NaN</td>\n",
       "      <td>NaN</td>\n",
       "    </tr>\n",
       "    <tr>\n",
       "      <th>5121</th>\n",
       "      <td>38303859</td>\n",
       "      <td>Mua bán</td>\n",
       "      <td>Căn hộ mặt sông Hàn cao cấp tại Đà Nẵng, gần b...</td>\n",
       "      <td>Dự án Sun Cosmo Residence, Đường Trần Thị Lý, ...</td>\n",
       "      <td>Mở bán giai đoạn 1 phân khúc căn hộ cao cấp ng...</td>\n",
       "      <td>35.0</td>\n",
       "      <td>1.500000e+09</td>\n",
       "      <td>NaN</td>\n",
       "      <td>NaN</td>\n",
       "      <td>NaN</td>\n",
       "      <td>NaN</td>\n",
       "      <td>NaN</td>\n",
       "      <td>1.0</td>\n",
       "      <td>1.0</td>\n",
       "      <td>https://batdongsan.com.vn/ban-can-ho-chung-cu-...</td>\n",
       "      <td>2023-10-12</td>\n",
       "      <td>https://guru.batdongsan.com.vn/p/a316c0e0b5a7520b</td>\n",
       "      <td>NaN</td>\n",
       "      <td>NaN</td>\n",
       "      <td>4.285714e+07</td>\n",
       "    </tr>\n",
       "  </tbody>\n",
       "</table>\n",
       "<p>5122 rows × 20 columns</p>\n",
       "</div>"
      ],
      "text/plain": [
       "       post_id Loại tin                                            Tiêu đề  \\\n",
       "0     37518005  Mua bán  SỤP HẦM CẦN BÁN GẤP TÒA KHÁCH SẠN 32 CĂN HỘ CÓ...   \n",
       "1     37711601  Mua bán  Chính chủ hạ sập hầm cần bán gấp 02 lô đất liề...   \n",
       "2     38150772  Mua bán  1 căn khối đế kinh doanh The Ori Garden không ...   \n",
       "3     38149431  Mua bán  Chính thức CĐT công bố giỏ hàng Shophouse khối...   \n",
       "4     37934118  Mua bán  Chính chủ - Bán nhà full nội thất TTTP Đà Nẵng...   \n",
       "...        ...      ...                                                ...   \n",
       "5117  37827739  Mua bán  Bán đất đường Nguyễn Đăng Tuyển khu đầu tuyến ...   \n",
       "5118  38089060  Mua bán  Bạn đang tìm kiếm những lô đất rẻ nhất Nam Hòa...   \n",
       "5119  38252191  Mua bán  Kẹt tiền chủ bán căn 2PN 80m2 tầng 26 view biể...   \n",
       "5120  36582835  Mua bán  Cập nhật danh sách những lô đất lớn xây dựng c...   \n",
       "5121  38303859  Mua bán  Căn hộ mặt sông Hàn cao cấp tại Đà Nẵng, gần b...   \n",
       "\n",
       "                                                Địa chỉ  \\\n",
       "0     Đường Khuê Mỹ Đông, Phường Khuê Mỹ, Ngũ Hành S...   \n",
       "1     Đường Quốc Lộ 14B, Xã Hòa Khương, Hòa Vang, Đà...   \n",
       "2     Dự án The Ori Garden, Đường Mê Linh, Phường Hò...   \n",
       "3     Dự án The Ori Garden, Đường Mê Linh, Phường Hò...   \n",
       "4                     Phường An Khê, Thanh Khê, Đà Nẵng   \n",
       "...                                                 ...   \n",
       "5117  Đường Nguyễn Đăng Tuyển, Phường Thọ Quang, Sơn...   \n",
       "5118  Dự án Han River Village (Nam Hòa Xuân), Phường...   \n",
       "5119  Dự án À La Carte Hotel, Đường Dương Đình Nghệ,...   \n",
       "5120  Đường Võ Nguyên Giáp, Phường Phước Mỹ, Sơn Trà...   \n",
       "5121  Dự án Sun Cosmo Residence, Đường Trần Thị Lý, ...   \n",
       "\n",
       "                                                  Mô tả  Diện tích  \\\n",
       "0     Cần bán gấp tòa nhà có 32 căn hộ khu phố du lị...      175.0   \n",
       "1     - Cần bán gấp 02 lô đất liền kề cùng một thửa ...      811.0   \n",
       "2     Hàng ngoại giao không có nhu cầu sử dụng nhượn...       58.0   \n",
       "3     Chính thức mở bán dòng Shophouse khối đế chung...       60.0   \n",
       "4     Với 850 triệu đồng tiền mặt là có thể sở hữu c...      105.0   \n",
       "...                                                 ...        ...   \n",
       "5117  Bán đất đầu tuyến Sơn Trà - Đà Nẵng.\\nDT: 90m²...       90.0   \n",
       "5118  Bạn đang tìm kiếm những lô đất rẻ nhất Nam Hòa...      100.0   \n",
       "5119  Chủ cần bán căn hộ cao cấp 5 sao 2PN 80m² tầng...       80.0   \n",
       "5120  Cập nhật danh sách những lô đất lớn xây dựng c...      600.0   \n",
       "5121  Mở bán giai đoạn 1 phân khúc căn hộ cao cấp ng...       35.0   \n",
       "\n",
       "               Giá  Mặt tiền  Đường vào Hướng nhà Hướng ban công  Số tầng  \\\n",
       "0     2.300000e+10      10.5        7.5   Tây Bắc        Tây Bắc      9.0   \n",
       "1     1.130000e+10       NaN        NaN       NaN            NaN      NaN   \n",
       "2              NaN       NaN        NaN   Tây Nam        Tây Nam      NaN   \n",
       "3     2.450000e+09       NaN        NaN  Đông Bắc       Đông Bắc      NaN   \n",
       "4     6.250000e+09       5.0        7.5   Tây Nam        Tây Nam      3.0   \n",
       "...            ...       ...        ...       ...            ...      ...   \n",
       "5117  3.600000e+09       5.0        5.5  Đông Nam            NaN      NaN   \n",
       "5118  2.650000e+09       NaN        NaN       NaN            NaN      NaN   \n",
       "5119           NaN       NaN        NaN       NaN       Đông Nam      NaN   \n",
       "5120           NaN       NaN        NaN       NaN            NaN      NaN   \n",
       "5121  1.500000e+09       NaN        NaN       NaN            NaN      NaN   \n",
       "\n",
       "      Số phòng ngủ  Số toilet  \\\n",
       "0             32.0       34.0   \n",
       "1              NaN        NaN   \n",
       "2              NaN        1.0   \n",
       "3              NaN        1.0   \n",
       "4              4.0        4.0   \n",
       "...            ...        ...   \n",
       "5117           NaN        NaN   \n",
       "5118           NaN        NaN   \n",
       "5119           2.0        2.0   \n",
       "5120           NaN        NaN   \n",
       "5121           1.0        1.0   \n",
       "\n",
       "                                                    URL  Ngày crawl  \\\n",
       "0     https://batdongsan.com.vn/ban-nha-mat-pho-duon...  2023-09-26   \n",
       "1     https://batdongsan.com.vn/ban-dat-duong-quoc-l...  2023-09-26   \n",
       "2     https://batdongsan.com.vn/ban-can-ho-chung-cu-...  2023-09-26   \n",
       "3     https://batdongsan.com.vn/ban-shophouse-nha-ph...  2023-09-26   \n",
       "4     https://batdongsan.com.vn/ban-nha-rieng-phuong...  2023-09-26   \n",
       "...                                                 ...         ...   \n",
       "5117  https://batdongsan.com.vn/ban-dat-duong-nguyen...  2023-10-12   \n",
       "5118  https://batdongsan.com.vn/ban-dat-nen-du-an-ph...  2023-10-12   \n",
       "5119  https://batdongsan.com.vn/ban-can-ho-chung-cu-...  2023-10-12   \n",
       "5120  https://batdongsan.com.vn/ban-dat-duong-vo-ngu...  2023-10-12   \n",
       "5121  https://batdongsan.com.vn/ban-can-ho-chung-cu-...  2023-10-12   \n",
       "\n",
       "                                             card_visit         Pháp lý  \\\n",
       "0      http://guru.batdongsan.com.vn/p/67a88bcb3e6ed862             NaN   \n",
       "1      http://guru.batdongsan.com.vn/p/3ed7da9f9b5ceb30             NaN   \n",
       "2      http://guru.batdongsan.com.vn/p/b0f0153e0924276d        Hợp đồng   \n",
       "3      http://guru.batdongsan.com.vn/p/b0f0153e0924276d  Số hồng/ Sổ đỏ   \n",
       "4      http://guru.batdongsan.com.vn/p/f071b4b64c7c473a  Số hồng/ Sổ đỏ   \n",
       "...                                                 ...             ...   \n",
       "5117  https://guru.batdongsan.com.vn/p/ff4ecf6aec0b80f2  Số hồng/ Sổ đỏ   \n",
       "5118  https://guru.batdongsan.com.vn/p/b5b2d0d7391996c2  Số hồng/ Sổ đỏ   \n",
       "5119  https://guru.batdongsan.com.vn/p/1399a3652df07c40  Số hồng/ Sổ đỏ   \n",
       "5120  https://guru.batdongsan.com.vn/p/cf7b729b12023b6a             NaN   \n",
       "5121  https://guru.batdongsan.com.vn/p/a316c0e0b5a7520b             NaN   \n",
       "\n",
       "             Nội thất        Giá/m2  \n",
       "0                 NaN  1.314286e+08  \n",
       "1                 NaN  1.393342e+07  \n",
       "2     Nội thất cơ bản           NaN  \n",
       "3                 NaN  4.083333e+07  \n",
       "4     Nội thất đầy đủ  5.952381e+07  \n",
       "...               ...           ...  \n",
       "5117              NaN  4.000000e+07  \n",
       "5118              NaN  2.650000e+07  \n",
       "5119  Nội thất đầy đủ           NaN  \n",
       "5120              NaN           NaN  \n",
       "5121              NaN  4.285714e+07  \n",
       "\n",
       "[5122 rows x 20 columns]"
      ]
     },
     "execution_count": 190,
     "metadata": {},
     "output_type": "execute_result"
    }
   ],
   "source": [
    "df"
   ]
  },
  {
   "cell_type": "code",
   "execution_count": 191,
   "id": "fecadff6",
   "metadata": {},
   "outputs": [],
   "source": [
    "df.to_excel('bds.xlsx')\n",
    "df.to_csv('bds.csv')"
   ]
  },
  {
   "cell_type": "code",
   "execution_count": null,
   "id": "1ef3e7f2",
   "metadata": {},
   "outputs": [],
   "source": []
  }
 ],
 "metadata": {
  "kernelspec": {
   "display_name": "Python 3",
   "language": "python",
   "name": "python3"
  },
  "language_info": {
   "codemirror_mode": {
    "name": "ipython",
    "version": 3
   },
   "file_extension": ".py",
   "mimetype": "text/x-python",
   "name": "python",
   "nbconvert_exporter": "python",
   "pygments_lexer": "ipython3",
   "version": "3.8.2"
  }
 },
 "nbformat": 4,
 "nbformat_minor": 5
}
