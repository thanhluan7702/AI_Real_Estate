{
 "cells": [
  {
   "cell_type": "markdown",
   "id": "93ffe673",
   "metadata": {},
   "source": [
    "# Import library"
   ]
  },
  {
   "cell_type": "code",
   "execution_count": 1,
   "id": "74c9dab0",
   "metadata": {},
   "outputs": [
    {
     "data": {
      "text/plain": [
       "'!\"#$%&\\'()*+,-./:;<=>?@[\\\\]^_`{|}~'"
      ]
     },
     "execution_count": 1,
     "metadata": {},
     "output_type": "execute_result"
    }
   ],
   "source": [
    "import pandas as pd\n",
    "import re\n",
    "import numpy as np\n",
    "\n",
    "#library that contains punctuation\n",
    "import string\n",
    "string.punctuation"
   ]
  },
  {
   "cell_type": "markdown",
   "id": "42ca1bd3",
   "metadata": {},
   "source": [
    "# Import data"
   ]
  },
  {
   "cell_type": "code",
   "execution_count": 2,
   "id": "90c28d59",
   "metadata": {},
   "outputs": [],
   "source": [
    "df=pd.read_csv('nhatot.csv')"
   ]
  },
  {
   "cell_type": "code",
   "execution_count": 3,
   "id": "a204412c",
   "metadata": {},
   "outputs": [
    {
     "data": {
      "text/plain": [
       "Index(['post_id', 'Loại tin', 'Tiêu đề', 'Giá', 'Diện tích', 'Địa chỉ',\n",
       "       'Giá/m2', 'Giấy tờ pháp lý', 'Loại hình đất', 'Mô tả', 'URL', 'date',\n",
       "       'Liên hệ', 'card_visit', 'Hướng cửa chính', 'Chiều ngang', 'Chiều dài',\n",
       "       'Đặc điểm nhà/đất', 'Số phòng ngủ', 'Số phòng vệ sinh',\n",
       "       'Loại hình nhà ở', 'Diện tích sử dụng', 'Tổng số tầng',\n",
       "       'Tình trạng nội thất', 'Tên phân khu/Lô/Block/Tháp',\n",
       "       'Tình trạng bất động sản', 'Tầng số', 'Hướng ban công',\n",
       "       'Loại hình căn hộ', 'Loại hình văn phòng', 'Mã căn', 'Đặc điểm căn hộ',\n",
       "       'Mã lô', 'Số tiền cọc'],\n",
       "      dtype='object')"
      ]
     },
     "execution_count": 3,
     "metadata": {},
     "output_type": "execute_result"
    }
   ],
   "source": [
    "df.columns"
   ]
  },
  {
   "cell_type": "raw",
   "id": "0afe613c",
   "metadata": {},
   "source": [
    "Index(['post_id', 'Loại tin', 'Tiêu đề', 'Giá', 'Diện tích', 'Địa chỉ',\n",
    "       'Giá/m2', 'Giấy tờ pháp lý', 'Loại hình đất', 'Mô tả', 'URL', 'date',\n",
    "       'Liên hệ', 'card_visit', 'Hướng cửa chính', 'Chiều ngang', 'Chiều dài',\n",
    "       'Đặc điểm nhà/đất', 'Số phòng ngủ', 'Số phòng vệ sinh',\n",
    "       'Loại hình nhà ở', 'Diện tích sử dụng', 'Tổng số tầng',\n",
    "       'Tình trạng nội thất', 'Tên phân khu/Lô/Block/Tháp',\n",
    "       'Tình trạng bất động sản', 'Tầng số', 'Hướng ban công',\n",
    "       'Loại hình căn hộ', 'Loại hình văn phòng', 'Mã căn', 'Đặc điểm căn hộ',\n",
    "       'Mã lô', 'Số tiền cọc'],\n",
    "      dtype='object')"
   ]
  },
  {
   "cell_type": "code",
   "execution_count": 75,
   "id": "d77b7100",
   "metadata": {},
   "outputs": [
    {
     "data": {
      "text/html": [
       "<div>\n",
       "<style scoped>\n",
       "    .dataframe tbody tr th:only-of-type {\n",
       "        vertical-align: middle;\n",
       "    }\n",
       "\n",
       "    .dataframe tbody tr th {\n",
       "        vertical-align: top;\n",
       "    }\n",
       "\n",
       "    .dataframe thead th {\n",
       "        text-align: right;\n",
       "    }\n",
       "</style>\n",
       "<table border=\"1\" class=\"dataframe\">\n",
       "  <thead>\n",
       "    <tr style=\"text-align: right;\">\n",
       "      <th></th>\n",
       "      <th>post_id</th>\n",
       "      <th>Loại tin</th>\n",
       "      <th>Tiêu đề</th>\n",
       "      <th>Giá</th>\n",
       "      <th>Diện tích</th>\n",
       "      <th>Địa chỉ</th>\n",
       "      <th>Giá/m2</th>\n",
       "      <th>Giấy tờ pháp lý</th>\n",
       "      <th>Loại hình đất</th>\n",
       "      <th>Mô tả</th>\n",
       "      <th>...</th>\n",
       "      <th>Tên phân khu/Lô/Block/Tháp</th>\n",
       "      <th>Tình trạng bất động sản</th>\n",
       "      <th>Tầng số</th>\n",
       "      <th>Hướng ban công</th>\n",
       "      <th>Loại hình căn hộ</th>\n",
       "      <th>Loại hình văn phòng</th>\n",
       "      <th>Mã căn</th>\n",
       "      <th>Đặc điểm căn hộ</th>\n",
       "      <th>Mã lô</th>\n",
       "      <th>Số tiền cọc</th>\n",
       "    </tr>\n",
       "  </thead>\n",
       "  <tbody>\n",
       "    <tr>\n",
       "      <th>0</th>\n",
       "      <td>110154174</td>\n",
       "      <td>Mua bán</td>\n",
       "      <td>Bán 4ha đất vườn sổ đỏ có sẳn trang trại nhà v...</td>\n",
       "      <td>9,5 tỷ</td>\n",
       "      <td>40000 m²</td>\n",
       "      <td>DT 602, Xã Hòa Ninh, Huyện Hòa Vang, Đà Nẵng</td>\n",
       "      <td>237.500 đ/m²</td>\n",
       "      <td>Đã có sổ</td>\n",
       "      <td>Đất nông nghiệp</td>\n",
       "      <td>💥💥💥Đất rộng lại giá tốt 40.000m có sẵn vườn câ...</td>\n",
       "      <td>...</td>\n",
       "      <td>NaN</td>\n",
       "      <td>NaN</td>\n",
       "      <td>NaN</td>\n",
       "      <td>NaN</td>\n",
       "      <td>NaN</td>\n",
       "      <td>NaN</td>\n",
       "      <td>NaN</td>\n",
       "      <td>NaN</td>\n",
       "      <td>NaN</td>\n",
       "      <td>NaN</td>\n",
       "    </tr>\n",
       "    <tr>\n",
       "      <th>1</th>\n",
       "      <td>102957944</td>\n",
       "      <td>Mua bán</td>\n",
       "      <td>Bán đất 21 Đỗ Nhuận, dt: 250m2, ngang 8m, nở h...</td>\n",
       "      <td>8,2 tỷ</td>\n",
       "      <td>250 m²</td>\n",
       "      <td>21, Đường Đỗ Nhuận, Phường Hòa Minh, Quận Liên...</td>\n",
       "      <td>32,8 triệu/m²</td>\n",
       "      <td>Đã có sổ</td>\n",
       "      <td>Đất thổ cư</td>\n",
       "      <td>+ Bán đất số 21 Đỗ Nhuận, khu Trung Nghĩa, phư...</td>\n",
       "      <td>...</td>\n",
       "      <td>NaN</td>\n",
       "      <td>NaN</td>\n",
       "      <td>NaN</td>\n",
       "      <td>NaN</td>\n",
       "      <td>NaN</td>\n",
       "      <td>NaN</td>\n",
       "      <td>NaN</td>\n",
       "      <td>NaN</td>\n",
       "      <td>NaN</td>\n",
       "      <td>NaN</td>\n",
       "    </tr>\n",
       "    <tr>\n",
       "      <th>2</th>\n",
       "      <td>108055434</td>\n",
       "      <td>Mua bán</td>\n",
       "      <td>Bán nhà hẻm 3m5 Nguyễn Văn Linh, 140m2 đất, ng...</td>\n",
       "      <td>4,95 tỷ</td>\n",
       "      <td>140 m²</td>\n",
       "      <td>K82/H10/36, Nguyễn văn linh, Phường Nam Dương,...</td>\n",
       "      <td>35,36 triệu/m²</td>\n",
       "      <td>Đã có sổ</td>\n",
       "      <td>NaN</td>\n",
       "      <td>Bán nhà kiệt 82 Nguyễn Văn Linh, hẻm 3m5, cách...</td>\n",
       "      <td>...</td>\n",
       "      <td>NaN</td>\n",
       "      <td>NaN</td>\n",
       "      <td>NaN</td>\n",
       "      <td>NaN</td>\n",
       "      <td>NaN</td>\n",
       "      <td>NaN</td>\n",
       "      <td>NaN</td>\n",
       "      <td>NaN</td>\n",
       "      <td>NaN</td>\n",
       "      <td>NaN</td>\n",
       "    </tr>\n",
       "    <tr>\n",
       "      <th>3</th>\n",
       "      <td>102942264</td>\n",
       "      <td>Mua bán</td>\n",
       "      <td>Bán đất hẻm 3m 59/31 Núi Thành, 162m2, 4.25 tỷ...</td>\n",
       "      <td>4,25 tỷ</td>\n",
       "      <td>162 m²</td>\n",
       "      <td>Kiệt 59 Núi Thành, Phường Bình Hiên, Quận Hải ...</td>\n",
       "      <td>26,23 triệu/m²</td>\n",
       "      <td>NaN</td>\n",
       "      <td>Đất thổ cư</td>\n",
       "      <td>Bán đất hẻm 3m số 59/31 Núi Thành, cách đường ...</td>\n",
       "      <td>...</td>\n",
       "      <td>NaN</td>\n",
       "      <td>NaN</td>\n",
       "      <td>NaN</td>\n",
       "      <td>NaN</td>\n",
       "      <td>NaN</td>\n",
       "      <td>NaN</td>\n",
       "      <td>NaN</td>\n",
       "      <td>NaN</td>\n",
       "      <td>NaN</td>\n",
       "      <td>NaN</td>\n",
       "    </tr>\n",
       "    <tr>\n",
       "      <th>4</th>\n",
       "      <td>110181789</td>\n",
       "      <td>Mua bán</td>\n",
       "      <td>Nhà 2 tầng 2 mặt kiệt ngay biển Nguyễn Tất Thà...</td>\n",
       "      <td>2,95 tỷ</td>\n",
       "      <td>62 m²</td>\n",
       "      <td>K1/20, Tôn Thất Đạm, Phường Xuân Hà, Quận Than...</td>\n",
       "      <td>47,58 triệu/m²</td>\n",
       "      <td>Đã có sổ</td>\n",
       "      <td>NaN</td>\n",
       "      <td>Tôi là chính chủ cần bán nhà tại địa chỉ K1/20...</td>\n",
       "      <td>...</td>\n",
       "      <td>NaN</td>\n",
       "      <td>NaN</td>\n",
       "      <td>NaN</td>\n",
       "      <td>NaN</td>\n",
       "      <td>NaN</td>\n",
       "      <td>NaN</td>\n",
       "      <td>NaN</td>\n",
       "      <td>NaN</td>\n",
       "      <td>NaN</td>\n",
       "      <td>NaN</td>\n",
       "    </tr>\n",
       "  </tbody>\n",
       "</table>\n",
       "<p>5 rows × 34 columns</p>\n",
       "</div>"
      ],
      "text/plain": [
       "     post_id Loại tin                                            Tiêu đề  \\\n",
       "0  110154174  Mua bán  Bán 4ha đất vườn sổ đỏ có sẳn trang trại nhà v...   \n",
       "1  102957944  Mua bán  Bán đất 21 Đỗ Nhuận, dt: 250m2, ngang 8m, nở h...   \n",
       "2  108055434  Mua bán  Bán nhà hẻm 3m5 Nguyễn Văn Linh, 140m2 đất, ng...   \n",
       "3  102942264  Mua bán  Bán đất hẻm 3m 59/31 Núi Thành, 162m2, 4.25 tỷ...   \n",
       "4  110181789  Mua bán  Nhà 2 tầng 2 mặt kiệt ngay biển Nguyễn Tất Thà...   \n",
       "\n",
       "       Giá  Diện tích                                            Địa chỉ  \\\n",
       "0   9,5 tỷ   40000 m²       DT 602, Xã Hòa Ninh, Huyện Hòa Vang, Đà Nẵng   \n",
       "1   8,2 tỷ     250 m²  21, Đường Đỗ Nhuận, Phường Hòa Minh, Quận Liên...   \n",
       "2  4,95 tỷ     140 m²  K82/H10/36, Nguyễn văn linh, Phường Nam Dương,...   \n",
       "3  4,25 tỷ     162 m²  Kiệt 59 Núi Thành, Phường Bình Hiên, Quận Hải ...   \n",
       "4  2,95 tỷ      62 m²  K1/20, Tôn Thất Đạm, Phường Xuân Hà, Quận Than...   \n",
       "\n",
       "            Giá/m2 Giấy tờ pháp lý     Loại hình đất  \\\n",
       "0     237.500 đ/m²        Đã có sổ   Đất nông nghiệp   \n",
       "1    32,8 triệu/m²        Đã có sổ        Đất thổ cư   \n",
       "2   35,36 triệu/m²        Đã có sổ               NaN   \n",
       "3   26,23 triệu/m²             NaN        Đất thổ cư   \n",
       "4   47,58 triệu/m²        Đã có sổ               NaN   \n",
       "\n",
       "                                               Mô tả  ...  \\\n",
       "0  💥💥💥Đất rộng lại giá tốt 40.000m có sẵn vườn câ...  ...   \n",
       "1  + Bán đất số 21 Đỗ Nhuận, khu Trung Nghĩa, phư...  ...   \n",
       "2  Bán nhà kiệt 82 Nguyễn Văn Linh, hẻm 3m5, cách...  ...   \n",
       "3  Bán đất hẻm 3m số 59/31 Núi Thành, cách đường ...  ...   \n",
       "4  Tôi là chính chủ cần bán nhà tại địa chỉ K1/20...  ...   \n",
       "\n",
       "  Tên phân khu/Lô/Block/Tháp Tình trạng bất động sản Tầng số Hướng ban công  \\\n",
       "0                        NaN                     NaN     NaN            NaN   \n",
       "1                        NaN                     NaN     NaN            NaN   \n",
       "2                        NaN                     NaN     NaN            NaN   \n",
       "3                        NaN                     NaN     NaN            NaN   \n",
       "4                        NaN                     NaN     NaN            NaN   \n",
       "\n",
       "  Loại hình căn hộ Loại hình văn phòng Mã căn Đặc điểm căn hộ Mã lô  \\\n",
       "0              NaN                 NaN    NaN             NaN   NaN   \n",
       "1              NaN                 NaN    NaN             NaN   NaN   \n",
       "2              NaN                 NaN    NaN             NaN   NaN   \n",
       "3              NaN                 NaN    NaN             NaN   NaN   \n",
       "4              NaN                 NaN    NaN             NaN   NaN   \n",
       "\n",
       "  Số tiền cọc  \n",
       "0         NaN  \n",
       "1         NaN  \n",
       "2         NaN  \n",
       "3         NaN  \n",
       "4         NaN  \n",
       "\n",
       "[5 rows x 34 columns]"
      ]
     },
     "execution_count": 75,
     "metadata": {},
     "output_type": "execute_result"
    }
   ],
   "source": [
    "df.head()"
   ]
  },
  {
   "cell_type": "code",
   "execution_count": 76,
   "id": "42f037fc",
   "metadata": {},
   "outputs": [
    {
     "name": "stdout",
     "output_type": "stream",
     "text": [
      "<class 'pandas.core.frame.DataFrame'>\n",
      "RangeIndex: 17031 entries, 0 to 17030\n",
      "Data columns (total 34 columns):\n",
      " #   Column                      Non-Null Count  Dtype  \n",
      "---  ------                      --------------  -----  \n",
      " 0   post_id                     17031 non-null  int64  \n",
      " 1   Loại tin                    17031 non-null  object \n",
      " 2   Tiêu đề                     17031 non-null  object \n",
      " 3   Giá                         17031 non-null  object \n",
      " 4   Diện tích                   17031 non-null  object \n",
      " 5   Địa chỉ                     17031 non-null  object \n",
      " 6   Giá/m2                      8790 non-null   object \n",
      " 7   Giấy tờ pháp lý             9112 non-null   object \n",
      " 8   Loại hình đất               3514 non-null   object \n",
      " 9   Mô tả                       17031 non-null  object \n",
      " 10  URL                         17031 non-null  object \n",
      " 11  date                        17031 non-null  object \n",
      " 12  Liên hệ                     17013 non-null  object \n",
      " 13  card_visit                  17031 non-null  object \n",
      " 14  Hướng cửa chính             6315 non-null   object \n",
      " 15  Chiều ngang                 7306 non-null   object \n",
      " 16  Chiều dài                   6100 non-null   object \n",
      " 17  Đặc điểm nhà/đất            3432 non-null   object \n",
      " 18  Số phòng ngủ                11176 non-null  object \n",
      " 19  Số phòng vệ sinh            9509 non-null   object \n",
      " 20  Loại hình nhà ở             7320 non-null   object \n",
      " 21  Diện tích sử dụng           3551 non-null   object \n",
      " 22  Tổng số tầng                4729 non-null   float64\n",
      " 23  Tình trạng nội thất         5869 non-null   object \n",
      " 24  Tên phân khu/Lô/Block/Tháp  905 non-null    object \n",
      " 25  Tình trạng bất động sản     1239 non-null   object \n",
      " 26  Tầng số                     850 non-null    float64\n",
      " 27  Hướng ban công              759 non-null    object \n",
      " 28  Loại hình căn hộ            3856 non-null   object \n",
      " 29  Loại hình văn phòng         1857 non-null   object \n",
      " 30  Mã căn                      167 non-null    object \n",
      " 31  Đặc điểm căn hộ             177 non-null    object \n",
      " 32  Mã lô                       67 non-null     object \n",
      " 33  Số tiền cọc                 4016 non-null   object \n",
      "dtypes: float64(2), int64(1), object(31)\n",
      "memory usage: 4.4+ MB\n"
     ]
    }
   ],
   "source": [
    "df.info()"
   ]
  },
  {
   "cell_type": "code",
   "execution_count": 77,
   "id": "a1f4fa22",
   "metadata": {},
   "outputs": [
    {
     "data": {
      "text/plain": [
       "(17031, 34)"
      ]
     },
     "execution_count": 77,
     "metadata": {},
     "output_type": "execute_result"
    }
   ],
   "source": [
    "df.shape"
   ]
  },
  {
   "cell_type": "markdown",
   "id": "2e884bb1",
   "metadata": {},
   "source": [
    "# Function"
   ]
  },
  {
   "cell_type": "code",
   "execution_count": 78,
   "id": "a574bf56",
   "metadata": {},
   "outputs": [],
   "source": [
    "def replace_empty_with_nan(text):\n",
    "    return np.nan if text.strip() == '' else text"
   ]
  },
  {
   "cell_type": "markdown",
   "id": "c646e330",
   "metadata": {},
   "source": [
    "# Loại tin"
   ]
  },
  {
   "cell_type": "code",
   "execution_count": 79,
   "id": "cd733161",
   "metadata": {},
   "outputs": [
    {
     "data": {
      "text/plain": [
       "array(['Mua bán', 'Cho thuê'], dtype=object)"
      ]
     },
     "execution_count": 79,
     "metadata": {},
     "output_type": "execute_result"
    }
   ],
   "source": [
    "df['Loại tin'].unique()"
   ]
  },
  {
   "cell_type": "markdown",
   "id": "e12b7e75",
   "metadata": {},
   "source": [
    "# Diện tích"
   ]
  },
  {
   "cell_type": "code",
   "execution_count": 80,
   "id": "1cd77145",
   "metadata": {},
   "outputs": [],
   "source": [
    "# df['Diện tích'].unique()"
   ]
  },
  {
   "cell_type": "code",
   "execution_count": 81,
   "id": "801f7f54",
   "metadata": {},
   "outputs": [],
   "source": [
    "def clean_size(i):\n",
    "    if isinstance(i, str):\n",
    "        # Remove ' m²'\n",
    "        return i.replace(' m²','').replace(' m2','')\n",
    "    else:\n",
    "        return ''"
   ]
  },
  {
   "cell_type": "code",
   "execution_count": 82,
   "id": "a0aeee5e",
   "metadata": {},
   "outputs": [],
   "source": [
    "df['Diện tích'] = df['Diện tích'].apply(clean_size)"
   ]
  },
  {
   "cell_type": "code",
   "execution_count": 83,
   "id": "41d8346b",
   "metadata": {},
   "outputs": [],
   "source": [
    "df['Diện tích'] = df['Diện tích'].apply(replace_empty_with_nan)"
   ]
  },
  {
   "cell_type": "code",
   "execution_count": 84,
   "id": "89c1afbc",
   "metadata": {},
   "outputs": [],
   "source": [
    "df['Diện tích']=df['Diện tích'].astype(float)"
   ]
  },
  {
   "cell_type": "markdown",
   "id": "b94cd411",
   "metadata": {},
   "source": [
    "# Giá "
   ]
  },
  {
   "cell_type": "code",
   "execution_count": 85,
   "id": "7112f675",
   "metadata": {},
   "outputs": [],
   "source": [
    "# df['Giá'].unique()"
   ]
  },
  {
   "cell_type": "code",
   "execution_count": 86,
   "id": "7d8f15c1",
   "metadata": {},
   "outputs": [],
   "source": [
    "# df['Giá'][df['Loại tin']=='Mua bán'].unique()"
   ]
  },
  {
   "cell_type": "code",
   "execution_count": 87,
   "id": "8780c54f",
   "metadata": {
    "scrolled": true
   },
   "outputs": [],
   "source": [
    "# df['Giá'][df['Loại tin']=='Cho thuê'].unique()"
   ]
  },
  {
   "cell_type": "code",
   "execution_count": 88,
   "id": "d0eaa26e",
   "metadata": {},
   "outputs": [],
   "source": [
    "df['Giá'] = df['Giá'].apply(lambda x: x.replace('.','').replace(',', '.'))"
   ]
  },
  {
   "cell_type": "code",
   "execution_count": 89,
   "id": "5d6974a2",
   "metadata": {},
   "outputs": [],
   "source": [
    "def clean_price(x, dien_tich):\n",
    "    if 'đ/tháng' in x:\n",
    "        return float(x.split()[0]) \n",
    "    elif 'triệu/tháng' in x:\n",
    "        return float(x.split()[0]) * 1000000\n",
    "    elif 'tỷ/tháng' in x:\n",
    "        return float(x.split()[0]) * 1000000000\n",
    "    elif ' tỷ' in x:\n",
    "        return float(x.split()[0]) * 1000000000\n",
    "    elif ' triệu' in x:\n",
    "        return float(x.split()[0]) * 1000000\n",
    "    elif ' đ' in x:\n",
    "        return float(x.split()[0])\n",
    "    elif x == 'Thỏa thuận':\n",
    "        return None  \n",
    "    else:\n",
    "        return x"
   ]
  },
  {
   "cell_type": "code",
   "execution_count": 90,
   "id": "49f09a3c",
   "metadata": {},
   "outputs": [],
   "source": [
    "df['Giá'] = df.apply(lambda row: clean_price(row['Giá'], row['Diện tích']), axis=1)"
   ]
  },
  {
   "cell_type": "code",
   "execution_count": 91,
   "id": "aba6145d",
   "metadata": {},
   "outputs": [],
   "source": [
    "df['Giá']=df['Giá'].astype(float)"
   ]
  },
  {
   "cell_type": "markdown",
   "id": "0cdb4eb9",
   "metadata": {},
   "source": [
    "# Giá/m2"
   ]
  },
  {
   "cell_type": "code",
   "execution_count": 92,
   "id": "5d52731e",
   "metadata": {},
   "outputs": [
    {
     "data": {
      "text/plain": [
       "array([' 237.500 đ/m²', ' 32,8 triệu/m²', ' 35,36 triệu/m²', ...,\n",
       "       ' 4,1 triệu/m²', ' 25,95 triệu/m²', ' 106 triệu/m²'], dtype=object)"
      ]
     },
     "execution_count": 92,
     "metadata": {},
     "output_type": "execute_result"
    }
   ],
   "source": [
    "df['Giá/m2'].unique()"
   ]
  },
  {
   "cell_type": "code",
   "execution_count": 93,
   "id": "f037afc6",
   "metadata": {},
   "outputs": [],
   "source": [
    "df['Giá/m2'] = df['Giá/m2'].apply(lambda x: str(x).replace('.', '').replace(',', '.').replace('m2','m²'))"
   ]
  },
  {
   "cell_type": "code",
   "execution_count": 94,
   "id": "c3f79dfb",
   "metadata": {},
   "outputs": [],
   "source": [
    "def clean_price(x):\n",
    "    if 'đ/m²' in x:\n",
    "        return float(x.split()[0]) \n",
    "    elif 'triệu/m²' in x:\n",
    "        return float(x.split()[0]) * 1000000\n",
    "    elif 'tỷ/m²' in x:\n",
    "        return float(x.split()[0]) * 1000000000\n",
    "    elif x == 'Thỏa thuận':\n",
    "        return None  \n",
    "    else:\n",
    "        return x"
   ]
  },
  {
   "cell_type": "code",
   "execution_count": 95,
   "id": "683653d1",
   "metadata": {},
   "outputs": [],
   "source": [
    "df['Giá/m2']=df['Giá/m2'].apply(clean_price)"
   ]
  },
  {
   "cell_type": "code",
   "execution_count": 96,
   "id": "6c3b1f71",
   "metadata": {},
   "outputs": [],
   "source": [
    "df['Giá/m2']=df['Giá/m2'].astype(float)"
   ]
  },
  {
   "cell_type": "markdown",
   "id": "059fdf2e",
   "metadata": {},
   "source": [
    "# Giấy tờ pháp lý"
   ]
  },
  {
   "cell_type": "code",
   "execution_count": 97,
   "id": "f11ddaeb",
   "metadata": {},
   "outputs": [
    {
     "data": {
      "text/plain": [
       "array([' Đã có sổ', nan, ' Đang chờ sổ', ' Giấy tờ khác'], dtype=object)"
      ]
     },
     "execution_count": 97,
     "metadata": {},
     "output_type": "execute_result"
    }
   ],
   "source": [
    "df['Giấy tờ pháp lý'].unique()"
   ]
  },
  {
   "cell_type": "code",
   "execution_count": 98,
   "id": "37964795",
   "metadata": {},
   "outputs": [],
   "source": [
    "df['Giấy tờ pháp lý']=df['Giấy tờ pháp lý'].str.strip()"
   ]
  },
  {
   "cell_type": "markdown",
   "id": "db70d056",
   "metadata": {},
   "source": [
    "# Loại hình đất, loại hình căn hộ, loại hình văn phòng, loại hình nhà ở"
   ]
  },
  {
   "cell_type": "code",
   "execution_count": 99,
   "id": "d9a3320a",
   "metadata": {},
   "outputs": [
    {
     "data": {
      "text/plain": [
       "array([' Đất nông nghiệp', ' Đất thổ cư', nan, ' Đất nền dự án',\n",
       "       ' Đất công nghiệp'], dtype=object)"
      ]
     },
     "execution_count": 99,
     "metadata": {},
     "output_type": "execute_result"
    }
   ],
   "source": [
    "df['Loại hình đất'].unique()"
   ]
  },
  {
   "cell_type": "code",
   "execution_count": 100,
   "id": "012df19c",
   "metadata": {},
   "outputs": [
    {
     "data": {
      "text/plain": [
       "array([nan, ' Chung cư', ' Căn hộ dịch vụ, mini', ' Duplex', ' Officetel',\n",
       "       ' Penthouse', ' Tập thể, cư xá'], dtype=object)"
      ]
     },
     "execution_count": 100,
     "metadata": {},
     "output_type": "execute_result"
    }
   ],
   "source": [
    "df['Loại hình căn hộ'].unique()"
   ]
  },
  {
   "cell_type": "code",
   "execution_count": 101,
   "id": "db6a6e41",
   "metadata": {},
   "outputs": [
    {
     "data": {
      "text/plain": [
       "array([nan, ' Mặt bằng kinh doanh', ' Shophouse', ' Văn phòng',\n",
       "       ' Officetel'], dtype=object)"
      ]
     },
     "execution_count": 101,
     "metadata": {},
     "output_type": "execute_result"
    }
   ],
   "source": [
    "df['Loại hình văn phòng'].unique()"
   ]
  },
  {
   "cell_type": "code",
   "execution_count": 102,
   "id": "3da3ebb9",
   "metadata": {},
   "outputs": [
    {
     "data": {
      "text/plain": [
       "array([nan, ' Nhà ngõ, hẻm', ' Nhà mặt phố, mặt tiền', ' Nhà biệt thự',\n",
       "       ' Nhà phố liền kề'], dtype=object)"
      ]
     },
     "execution_count": 102,
     "metadata": {},
     "output_type": "execute_result"
    }
   ],
   "source": [
    "df['Loại hình nhà ở'].unique()"
   ]
  },
  {
   "cell_type": "code",
   "execution_count": 103,
   "id": "90e66c2e",
   "metadata": {},
   "outputs": [],
   "source": [
    "df['Loại hình đất']=df['Loại hình đất'].str.strip()\n",
    "df['Loại hình căn hộ']=df['Loại hình căn hộ'].str.strip()\n",
    "df['Loại hình văn phòng']=df['Loại hình văn phòng'].str.strip()\n",
    "df['Loại hình nhà ở']=df['Loại hình nhà ở'].str.strip()"
   ]
  },
  {
   "cell_type": "markdown",
   "id": "472931e8",
   "metadata": {},
   "source": [
    "# date"
   ]
  },
  {
   "cell_type": "code",
   "execution_count": 104,
   "id": "f295cf2a",
   "metadata": {},
   "outputs": [
    {
     "data": {
      "text/plain": [
       "array(['2023-09-24', '2023-09-25', '2023-09-26', '2023-09-27',\n",
       "       '2023-10-02', '2023-10-03', '2023-10-04', '2023-10-05',\n",
       "       '2023-10-09', '2023-10-10', '2023-10-12', '2023-10-13'],\n",
       "      dtype=object)"
      ]
     },
     "execution_count": 104,
     "metadata": {},
     "output_type": "execute_result"
    }
   ],
   "source": [
    "df['date'].unique()"
   ]
  },
  {
   "cell_type": "markdown",
   "id": "1c2b0bea",
   "metadata": {},
   "source": [
    "# Liên hệ"
   ]
  },
  {
   "cell_type": "code",
   "execution_count": 105,
   "id": "e85eafc0",
   "metadata": {},
   "outputs": [
    {
     "data": {
      "text/plain": [
       "array(['Minh Phương Phát', 'Quốc Huỳnh', 'Anh Tân', ...,\n",
       "       'Bùi Thị Mỹ Duyên', 'Alo', 'Cho Thuê Nhà Chính Chủ'], dtype=object)"
      ]
     },
     "execution_count": 105,
     "metadata": {},
     "output_type": "execute_result"
    }
   ],
   "source": [
    "df['Liên hệ'].unique()"
   ]
  },
  {
   "cell_type": "code",
   "execution_count": 106,
   "id": "811ef6fe",
   "metadata": {},
   "outputs": [],
   "source": [
    "df['Liên hệ']=df['Liên hệ'].str.title()"
   ]
  },
  {
   "cell_type": "markdown",
   "id": "1d565bd9",
   "metadata": {},
   "source": [
    "# Hướng cửa chính, hướng ban công"
   ]
  },
  {
   "cell_type": "code",
   "execution_count": 107,
   "id": "5a2b2119",
   "metadata": {},
   "outputs": [
    {
     "data": {
      "text/plain": [
       "array([nan, ' Tây Nam', ' Tây', ' Tây Bắc', ' Đông Bắc', ' Đông Nam',\n",
       "       ' Bắc', ' Nam', ' Đông'], dtype=object)"
      ]
     },
     "execution_count": 107,
     "metadata": {},
     "output_type": "execute_result"
    }
   ],
   "source": [
    "df['Hướng cửa chính'].unique()"
   ]
  },
  {
   "cell_type": "code",
   "execution_count": 108,
   "id": "d8b6ea60",
   "metadata": {},
   "outputs": [
    {
     "data": {
      "text/plain": [
       "array([nan, ' Đông Bắc', ' Tây Bắc', ' Đông', ' Tây', ' Đông Nam',\n",
       "       ' Tây Nam', ' Bắc', ' Nam'], dtype=object)"
      ]
     },
     "execution_count": 108,
     "metadata": {},
     "output_type": "execute_result"
    }
   ],
   "source": [
    "df['Hướng ban công'].unique()"
   ]
  },
  {
   "cell_type": "code",
   "execution_count": 109,
   "id": "5a1ce8a0",
   "metadata": {},
   "outputs": [],
   "source": [
    "df['Hướng cửa chính']=df['Hướng cửa chính'].str.strip()\n",
    "df['Hướng ban công']=df['Hướng ban công'].str.strip()"
   ]
  },
  {
   "cell_type": "markdown",
   "id": "6cc713bc",
   "metadata": {},
   "source": [
    "# Chiều ngang, chiều dài, diện tích sử dụng"
   ]
  },
  {
   "cell_type": "code",
   "execution_count": 110,
   "id": "a06ab47e",
   "metadata": {},
   "outputs": [],
   "source": [
    "# df['Chiều ngang'].unique()"
   ]
  },
  {
   "cell_type": "code",
   "execution_count": 111,
   "id": "32e2cf70",
   "metadata": {},
   "outputs": [],
   "source": [
    "# df['Chiều dài'].unique()"
   ]
  },
  {
   "cell_type": "code",
   "execution_count": 112,
   "id": "e360bf69",
   "metadata": {},
   "outputs": [],
   "source": [
    "# df['Diện tích sử dụng'].unique()"
   ]
  },
  {
   "cell_type": "code",
   "execution_count": 113,
   "id": "712e576a",
   "metadata": {},
   "outputs": [],
   "source": [
    "df['Chiều ngang']=df['Chiều ngang'].apply(lambda x: float(str(x).split()[0]))\n",
    "df['Chiều dài']=df['Chiều dài'].apply(lambda x: float(str(x).split()[0]))\n",
    "df['Diện tích sử dụng']=df['Diện tích sử dụng'].apply(lambda x: float(str(x).split()[0]))"
   ]
  },
  {
   "cell_type": "markdown",
   "id": "d05c3622",
   "metadata": {},
   "source": [
    "# Đặt điểm nhà/đất"
   ]
  },
  {
   "cell_type": "code",
   "execution_count": 114,
   "id": "5fae3cc4",
   "metadata": {},
   "outputs": [
    {
     "data": {
      "text/plain": [
       "array([nan, ' Mặt tiền', ' Hẻm xe hơi', ' Nở hậu', ' Hẻm xe hơi,Nở hậu',\n",
       "       ' Mặt tiền,Nở hậu', ' Hẻm xe hơi,Nở hậu,Mặt tiền',\n",
       "       ' Nở hậu,Hẻm xe hơi', ' Mặt tiền,Hẻm xe hơi,Nở hậu',\n",
       "       ' Mặt tiền,Nở hậu,Hẻm xe hơi', ' Hẻm xe hơi,Mặt tiền',\n",
       "       ' Nở hậu,Mặt tiền', ' Mặt tiền,Hẻm xe hơi',\n",
       "       ' Nở hậu,Mặt tiền,Hẻm xe hơi', ' 1', ' Hẻm xe hơi,Mặt tiền,Nở hậu',\n",
       "       ' Nở hậu,Hẻm xe hơi,Mặt tiền'], dtype=object)"
      ]
     },
     "execution_count": 114,
     "metadata": {},
     "output_type": "execute_result"
    }
   ],
   "source": [
    "df['Đặc điểm nhà/đất'].unique()"
   ]
  },
  {
   "cell_type": "code",
   "execution_count": 115,
   "id": "20d564ea",
   "metadata": {},
   "outputs": [],
   "source": [
    "df['Đặc điểm nhà/đất']=df['Đặc điểm nhà/đất'].str.strip()"
   ]
  },
  {
   "cell_type": "code",
   "execution_count": 116,
   "id": "7133167c",
   "metadata": {},
   "outputs": [],
   "source": [
    "def replace_f(text):\n",
    "    if isinstance(text, str):\n",
    "        text = text.strip().lower()\n",
    "        if ('hẻm xe hơi' in text) and ('nở hậu' in text) and ('mặt tiền' in text):\n",
    "            return 'Mặt tiền, Hẻm xe hơi, Nở hậu'\n",
    "        elif ('hẻm xe hơi' in text) and ('nở hậu' in text):\n",
    "            return 'Hẻm xe hơi, Nở hậu'\n",
    "        elif ('hẻm xe hơi' in text)  and ('mặt tiền' in text):\n",
    "            return 'Mặt tiền, Hẻm xe hơi'\n",
    "        elif ('nở hậu' in text) and ('mặt tiền' in text):\n",
    "            return 'Mặt tiền, Nở hậu'\n",
    "        elif ('hẻm xe hơi' in text):\n",
    "            return 'Hẻm xe hơi'\n",
    "        elif ('nở hậu' in text):\n",
    "            return 'Nở hậu'\n",
    "        elif ('mặt tiền' in text):\n",
    "            return 'Mặt tiền'\n",
    "        else:\n",
    "            return text\n",
    "    else:\n",
    "        return text"
   ]
  },
  {
   "cell_type": "code",
   "execution_count": 117,
   "id": "ac1a05eb",
   "metadata": {},
   "outputs": [],
   "source": [
    "df['Đặc điểm nhà/đất']=df['Đặc điểm nhà/đất'].apply(replace_f)"
   ]
  },
  {
   "cell_type": "markdown",
   "id": "28657f2e",
   "metadata": {},
   "source": [
    "# Số phòng ngủ, Số phòng vệ sinh"
   ]
  },
  {
   "cell_type": "code",
   "execution_count": 118,
   "id": "67e0e442",
   "metadata": {},
   "outputs": [
    {
     "data": {
      "text/plain": [
       "array([nan, ' 3 phòng', ' nhiều hơn 10 phòng', ' 5 phòng', ' 6 phòng',\n",
       "       ' 1 phòng', ' 2 phòng', ' 4 phòng', ' 7 phòng', ' 8 phòng',\n",
       "       ' 9 phòng', ' 10 phòng'], dtype=object)"
      ]
     },
     "execution_count": 118,
     "metadata": {},
     "output_type": "execute_result"
    }
   ],
   "source": [
    "df['Số phòng ngủ'].unique()"
   ]
  },
  {
   "cell_type": "code",
   "execution_count": 119,
   "id": "2552749f",
   "metadata": {},
   "outputs": [
    {
     "data": {
      "text/plain": [
       "array([nan, ' 3 phòng', ' 2 phòng', ' Nhiều hơn 6 phòng', ' 6 phòng',\n",
       "       ' 1 phòng', ' 4 phòng', ' 5 phòng'], dtype=object)"
      ]
     },
     "execution_count": 119,
     "metadata": {},
     "output_type": "execute_result"
    }
   ],
   "source": [
    "df['Số phòng vệ sinh'].unique()"
   ]
  },
  {
   "cell_type": "code",
   "execution_count": 120,
   "id": "cf12fae6",
   "metadata": {},
   "outputs": [],
   "source": [
    "def replace_r(text):\n",
    "    if isinstance(text, str):\n",
    "        text = text.strip().lower()\n",
    "        if 'nhiều hơn' in text:\n",
    "            return text\n",
    "        else:\n",
    "            return text.split()[0]\n",
    "    else:\n",
    "        return text"
   ]
  },
  {
   "cell_type": "code",
   "execution_count": 121,
   "id": "674b7efa",
   "metadata": {},
   "outputs": [],
   "source": [
    "df['Số phòng ngủ']=df['Số phòng ngủ'].apply(replace_r)\n",
    "df['Số phòng vệ sinh']=df['Số phòng vệ sinh'].apply(replace_r)"
   ]
  },
  {
   "cell_type": "markdown",
   "id": "4b8674d3",
   "metadata": {},
   "source": [
    "# Tổng số tầng, tầng số"
   ]
  },
  {
   "cell_type": "code",
   "execution_count": 122,
   "id": "c3028dbf",
   "metadata": {},
   "outputs": [
    {
     "data": {
      "text/plain": [
       "array([ nan,   2.,   3.,   1.,   4.,   5.,  10.,   6.,   8.,   7.,  14.,\n",
       "        11.,  35.,  15.,  22.,   9.,  20.,  33.,  23., 275.])"
      ]
     },
     "execution_count": 122,
     "metadata": {},
     "output_type": "execute_result"
    }
   ],
   "source": [
    "df['Tổng số tầng'].unique()"
   ]
  },
  {
   "cell_type": "code",
   "execution_count": 123,
   "id": "c0b39f2c",
   "metadata": {},
   "outputs": [
    {
     "data": {
      "text/plain": [
       "array([ nan,   9.,   2.,   8.,   6.,   7.,   4.,  34.,  23.,   3.,  18.,\n",
       "        10.,  28.,  16.,  15.,  11.,  14.,   5.,  12.,  29.,  25.,   1.,\n",
       "        20.,  17.,  31.,  27.,  26.,  30.,  13.,  19.,  21.,  22.,  36.,\n",
       "        33.,  40.,  35.,  38.,  44.,  55.,  39.,  24., 810., 963.])"
      ]
     },
     "execution_count": 123,
     "metadata": {},
     "output_type": "execute_result"
    }
   ],
   "source": [
    "df['Tầng số'].unique()"
   ]
  },
  {
   "cell_type": "markdown",
   "id": "020a4001",
   "metadata": {},
   "source": [
    "# Tình trạng nội thất, tình trạng bất động sản"
   ]
  },
  {
   "cell_type": "code",
   "execution_count": 124,
   "id": "4bc6b79f",
   "metadata": {},
   "outputs": [
    {
     "data": {
      "text/plain": [
       "array([nan, ' Nội thất cao cấp', ' Nội thất đầy đủ', ' Bàn giao thô',\n",
       "       ' Nhà trống'], dtype=object)"
      ]
     },
     "execution_count": 124,
     "metadata": {},
     "output_type": "execute_result"
    }
   ],
   "source": [
    "df['Tình trạng nội thất'].unique()"
   ]
  },
  {
   "cell_type": "code",
   "execution_count": 125,
   "id": "d4f1c98c",
   "metadata": {},
   "outputs": [],
   "source": [
    "df['Tình trạng nội thất']=df['Tình trạng nội thất'].str.strip()"
   ]
  },
  {
   "cell_type": "code",
   "execution_count": 126,
   "id": "688bba41",
   "metadata": {},
   "outputs": [],
   "source": [
    "df['Tình trạng nội thất']=df['Tình trạng nội thất'].apply(lambda x: str(x).replace('Nhà trống', 'Không nội thất'))"
   ]
  },
  {
   "cell_type": "code",
   "execution_count": 127,
   "id": "8e304813",
   "metadata": {},
   "outputs": [
    {
     "data": {
      "text/plain": [
       "array([nan, ' Chưa bàn giao', ' Đã bàn giao'], dtype=object)"
      ]
     },
     "execution_count": 127,
     "metadata": {},
     "output_type": "execute_result"
    }
   ],
   "source": [
    "df['Tình trạng bất động sản'].unique()"
   ]
  },
  {
   "cell_type": "code",
   "execution_count": 128,
   "id": "fe3ed26c",
   "metadata": {},
   "outputs": [],
   "source": [
    "df['Tình trạng bất động sản']=df['Tình trạng bất động sản'].str.strip()"
   ]
  },
  {
   "cell_type": "markdown",
   "id": "6014e4b2",
   "metadata": {},
   "source": [
    "# Mã căn, mã lô"
   ]
  },
  {
   "cell_type": "code",
   "execution_count": 129,
   "id": "4ddbb422",
   "metadata": {},
   "outputs": [
    {
     "data": {
      "text/plain": [
       "array([nan, ' 205', ' 9999', ' 8888', ' 1', ' 10', ' 12', ' 38',\n",
       "       ' P2-16.13', ' V1', ' 0905271165', ' P2-07.08', ' 250', ' 05',\n",
       "       ' 2903', ' 904', ' P2-13.16', ' P2-03.12', ' 1606', ' 2105',\n",
       "       ' P2-07.12', ' 11', ' 2607', ' P103A09', ' P10515', ' 75', ' CT10',\n",
       "       ' 407', ' 140', ' 608', ' 6B06', ' 616', ' DNPlaza3beds', ' 301',\n",
       "       ' VL1', ' 03', ' 101', ' 27', ' 08', ' 02', ' 302', ' 401', ' 402',\n",
       "       ' 114', ' 24', ' ABC', ' 20', ' 06', ' 15', ' 11CT02',\n",
       "       ' 623 nguyen tat thanh', ' 4004', ' 04', ' A301', ' 202', ' 168',\n",
       "       ' 01', ' 09', ' CT10-CH01.07', ' CTO2', ' CH-07-07', ' P208-07',\n",
       "       ' 11A08', ' B3-21-11', ' 12A05', ' k218', ' 3', ' P21508', ' 4B',\n",
       "       ' P1508', ' B2.50', ' 17', ' NNC0738', ' NNC0737', ' NNC0736',\n",
       "       ' NNC0735', ' JH02', ' P210-02', ' P2-10.09', ' P2-09.08',\n",
       "       ' TN0079', ' S14'], dtype=object)"
      ]
     },
     "execution_count": 129,
     "metadata": {},
     "output_type": "execute_result"
    }
   ],
   "source": [
    "df['Mã căn'].unique()"
   ]
  },
  {
   "cell_type": "code",
   "execution_count": 130,
   "id": "4d3760d8",
   "metadata": {},
   "outputs": [
    {
     "data": {
      "text/plain": [
       "array([nan, ' 1111', ' 8888', ' 27', ' 16', ' B2.124', ' B3.36',\n",
       "       ' B2.134', ' B2.41', ' 12', ' 46', ' 168', ' 38', ' 18', ' 15',\n",
       "       ' 90', ' 213', ' B2A-10', ' E', ' B1', ' 356', ' 47', ' 68',\n",
       "       ' B2.88', ' NCL', ' 32', ' 48', ' 118', ' B5-15x', ' b1-1 -38',\n",
       "       ' Can ban lo dat 5x25', ' 7', ' 33 36', ' 21 Khu B2 40', ' 53',\n",
       "       ' 34-B2.3', ' 94', ' 1x', ' 1', ' 110', ' 59', ' 120', ' 1458',\n",
       "       ' 702', ' 0983611388', ' 467'], dtype=object)"
      ]
     },
     "execution_count": 130,
     "metadata": {},
     "output_type": "execute_result"
    }
   ],
   "source": [
    "df['Mã lô'].unique()"
   ]
  },
  {
   "cell_type": "code",
   "execution_count": 131,
   "id": "a504adb1",
   "metadata": {},
   "outputs": [],
   "source": [
    "df['Mã căn']=df['Mã căn'].str.strip()\n",
    "df['Mã lô']=df['Mã lô'].str.strip()"
   ]
  },
  {
   "cell_type": "markdown",
   "id": "e4255d6f",
   "metadata": {},
   "source": [
    "# Đặc điểm căn hộ"
   ]
  },
  {
   "cell_type": "code",
   "execution_count": 132,
   "id": "e577cc8b",
   "metadata": {},
   "outputs": [
    {
     "data": {
      "text/plain": [
       "array([nan, ' Căn góc'], dtype=object)"
      ]
     },
     "execution_count": 132,
     "metadata": {},
     "output_type": "execute_result"
    }
   ],
   "source": [
    "df['Đặc điểm căn hộ'].unique()"
   ]
  },
  {
   "cell_type": "code",
   "execution_count": 133,
   "id": "e0dd1af1",
   "metadata": {},
   "outputs": [],
   "source": [
    "df['Đặc điểm căn hộ']=df['Đặc điểm căn hộ'].str.strip()"
   ]
  },
  {
   "cell_type": "markdown",
   "id": "002bf4dc",
   "metadata": {},
   "source": [
    "# Số tiền cọc"
   ]
  },
  {
   "cell_type": "code",
   "execution_count": 134,
   "id": "a1da3040",
   "metadata": {
    "scrolled": true
   },
   "outputs": [],
   "source": [
    "# df['Số tiền cọc'].unique()"
   ]
  },
  {
   "cell_type": "code",
   "execution_count": 135,
   "id": "637c038a",
   "metadata": {},
   "outputs": [],
   "source": [
    "df['Số tiền cọc']=df['Số tiền cọc'].apply( lambda x: float(str(x).strip().replace('.','').split()[0]))"
   ]
  },
  {
   "cell_type": "markdown",
   "id": "0a747b60",
   "metadata": {},
   "source": [
    "# Mô tả"
   ]
  },
  {
   "cell_type": "code",
   "execution_count": 136,
   "id": "d1bb5b9b",
   "metadata": {},
   "outputs": [
    {
     "data": {
      "text/plain": [
       "array(['💥💥💥Đất rộng lại giá tốt 40.000m có sẵn vườn cây ăn quả, đất có sẵn nhà tiền chế kiên cố khoảng 300m2,hàng rào lưới b40, đèn năng lượng bắt quanh vườn.\\n💥💥💥Đường bê tông kiên cố\\nTường rào cổng nhà xây sẵn đất 3 mặt tiền\\n🌹🌹🌹Vị trí hoà ninh không quy hoạch\\ncách ubnd cách chợ trường học chỉ 1km,cách Bà nà hills chỉ 4km\\nDi chuyển về tttp Đà Nẵng chỉ có 15km\\nHình ảnh thực tế của lô đất\\nLH. *** Minh Phương Phát',\n",
       "       '+ Bán đất số 21 Đỗ Nhuận, khu Trung Nghĩa, phường Hòa Minh, DTĐ: 250m². Đường 5m5 lề 3m, ô tô đậu thoải mái.\\n\\n+ Khu dân cư trí thức, yên tĩnh, phù hợp để làm nhà ở.\\n\\n+ Hướng Tây Nam.\\n+ Ngân hàng hỗ trợ vay 6 tỷ.\\n\\nGiá bán: 8.2 tỷ, thương lượng.',\n",
       "       'Bán nhà kiệt 82 Nguyễn Văn Linh, hẻm 3m5, cách đường Nguyễn Văn Linh khoảng 100 m.\\nVị trí đẹp ngay trung tâm thành phố. DTĐ: 140m², Chiều ngang 7m, DTSD: 110m². Lô đất rất giá trị, rất khó tìm lô đất tương tự ở ngay trung tâm thành phố!\\n\\nNhà gồm 3PN, 3WC, nhà đẹp, sạch sẽ. Hướng chính Tây.\\n\\nGiá: 4.95 tỷ.\\nLiên hệ chính chủ A. Quốc.\\n\\nCó hoa hồng 1% cho người giới thiệu.',\n",
       "       ...,\n",
       "       '🏫𝐂𝐡𝐨 𝐓𝐡𝐮𝐞̂ 𝐍𝐡𝐚̀ 𝟑,𝟓 𝐓𝐚̂̀𝐧𝐠 𝐌𝐚̣̆𝐭 𝐓𝐢𝐞̂̀𝐧 𝐌𝐚𝐢 𝐀𝐦, p thuận phước_ 𝐇𝐚̉𝐢 𝐂𝐡𝐚̂𝐮\\n👉Đường 7m5 gần chợ Đống Đa & đường Hải Hồ. Phù hợp kinh doanh sạch sẽ\\n👉Diện tích 45m2 ( 3,3m x 14m )\\n👉Nhà 3,5 tầng sạch sẽ có điều hòa, nước nóng đầy đủ, 4 phòng ngủ, 3 toilet, bếp, phòng khách, sân thượng, sân phơi. \\n👉Nội thất như hình\\n💰Giá: 11tr /tháng',\n",
       "       '📍 CHO THUÊ NHÀ 2 MẶT TIỀN HOÀNG DIỆU NGANG 6,5M\\n. Nguyên căn 3 tầng trống suốt \\n.DT sử dụng 200 m2. Mặt tiền 6,5m\\n.Giá thuê 20 TRiệu / tháng \\n- Phù hợp kinh doanh: cà phê, shop, spa, showroom,….',\n",
       "       'CHO THUÊ NHÀ NGUYÊN CĂN MẶT TIỀN CỔNG CHỢ CẨM LỆ ,50 ĐẶNG VĂN NGỮ ,MẶT TIỀN 6M ,CHIỀU SÂU 17M ,CÓ 4 PHÒNG NGỦ , 1 PHÒNG BẾP , 2 WC,MẶT TIỀN KINH DOANH BUÔN BÁN SẦM UẤT ĐÔNG ĐÚC NHẤT KHU CHỢ CẨ LỆ .'],\n",
       "      dtype=object)"
      ]
     },
     "execution_count": 136,
     "metadata": {},
     "output_type": "execute_result"
    }
   ],
   "source": [
    "df['Mô tả'].unique()"
   ]
  },
  {
   "cell_type": "markdown",
   "id": "2c1c6424",
   "metadata": {},
   "source": [
    "# Rename columns"
   ]
  },
  {
   "cell_type": "code",
   "execution_count": 137,
   "id": "6065eee3",
   "metadata": {},
   "outputs": [
    {
     "data": {
      "text/plain": [
       "Index(['post_id', 'Loại tin', 'Tiêu đề', 'Giá', 'Diện tích', 'Địa chỉ',\n",
       "       'Giá/m2', 'Giấy tờ pháp lý', 'Loại hình đất', 'Mô tả', 'URL', 'date',\n",
       "       'Liên hệ', 'card_visit', 'Hướng cửa chính', 'Chiều ngang', 'Chiều dài',\n",
       "       'Đặc điểm nhà/đất', 'Số phòng ngủ', 'Số phòng vệ sinh',\n",
       "       'Loại hình nhà ở', 'Diện tích sử dụng', 'Tổng số tầng',\n",
       "       'Tình trạng nội thất', 'Tên phân khu/Lô/Block/Tháp',\n",
       "       'Tình trạng bất động sản', 'Tầng số', 'Hướng ban công',\n",
       "       'Loại hình căn hộ', 'Loại hình văn phòng', 'Mã căn', 'Đặc điểm căn hộ',\n",
       "       'Mã lô', 'Số tiền cọc'],\n",
       "      dtype='object')"
      ]
     },
     "execution_count": 137,
     "metadata": {},
     "output_type": "execute_result"
    }
   ],
   "source": [
    "df.columns"
   ]
  },
  {
   "cell_type": "code",
   "execution_count": 138,
   "id": "83fa8403",
   "metadata": {},
   "outputs": [],
   "source": [
    "df=df.rename(columns={'Giấy tờ pháp lý':'Pháp lý','Liên hệ':'Tên người dùng','date':'Ngày crawl',\n",
    "                      'Tình trạng nội thất':'Nội thất','Số phòng vệ sinh':'Số toilet','Hướng cửa chính':'Hướng nhà'})"
   ]
  },
  {
   "cell_type": "markdown",
   "id": "234ae100",
   "metadata": {},
   "source": [
    "# Save data"
   ]
  },
  {
   "cell_type": "code",
   "execution_count": 139,
   "id": "5e57bc47",
   "metadata": {},
   "outputs": [
    {
     "data": {
      "text/html": [
       "<div>\n",
       "<style scoped>\n",
       "    .dataframe tbody tr th:only-of-type {\n",
       "        vertical-align: middle;\n",
       "    }\n",
       "\n",
       "    .dataframe tbody tr th {\n",
       "        vertical-align: top;\n",
       "    }\n",
       "\n",
       "    .dataframe thead th {\n",
       "        text-align: right;\n",
       "    }\n",
       "</style>\n",
       "<table border=\"1\" class=\"dataframe\">\n",
       "  <thead>\n",
       "    <tr style=\"text-align: right;\">\n",
       "      <th></th>\n",
       "      <th>post_id</th>\n",
       "      <th>Loại tin</th>\n",
       "      <th>Tiêu đề</th>\n",
       "      <th>Giá</th>\n",
       "      <th>Diện tích</th>\n",
       "      <th>Địa chỉ</th>\n",
       "      <th>Giá/m2</th>\n",
       "      <th>Pháp lý</th>\n",
       "      <th>Loại hình đất</th>\n",
       "      <th>Mô tả</th>\n",
       "      <th>...</th>\n",
       "      <th>Tên phân khu/Lô/Block/Tháp</th>\n",
       "      <th>Tình trạng bất động sản</th>\n",
       "      <th>Tầng số</th>\n",
       "      <th>Hướng ban công</th>\n",
       "      <th>Loại hình căn hộ</th>\n",
       "      <th>Loại hình văn phòng</th>\n",
       "      <th>Mã căn</th>\n",
       "      <th>Đặc điểm căn hộ</th>\n",
       "      <th>Mã lô</th>\n",
       "      <th>Số tiền cọc</th>\n",
       "    </tr>\n",
       "  </thead>\n",
       "  <tbody>\n",
       "    <tr>\n",
       "      <th>0</th>\n",
       "      <td>110154174</td>\n",
       "      <td>Mua bán</td>\n",
       "      <td>Bán 4ha đất vườn sổ đỏ có sẳn trang trại nhà v...</td>\n",
       "      <td>9.500000e+09</td>\n",
       "      <td>40000.0</td>\n",
       "      <td>DT 602, Xã Hòa Ninh, Huyện Hòa Vang, Đà Nẵng</td>\n",
       "      <td>237500.0</td>\n",
       "      <td>Đã có sổ</td>\n",
       "      <td>Đất nông nghiệp</td>\n",
       "      <td>💥💥💥Đất rộng lại giá tốt 40.000m có sẵn vườn câ...</td>\n",
       "      <td>...</td>\n",
       "      <td>NaN</td>\n",
       "      <td>NaN</td>\n",
       "      <td>NaN</td>\n",
       "      <td>NaN</td>\n",
       "      <td>NaN</td>\n",
       "      <td>NaN</td>\n",
       "      <td>NaN</td>\n",
       "      <td>NaN</td>\n",
       "      <td>NaN</td>\n",
       "      <td>NaN</td>\n",
       "    </tr>\n",
       "    <tr>\n",
       "      <th>1</th>\n",
       "      <td>102957944</td>\n",
       "      <td>Mua bán</td>\n",
       "      <td>Bán đất 21 Đỗ Nhuận, dt: 250m2, ngang 8m, nở h...</td>\n",
       "      <td>8.200000e+09</td>\n",
       "      <td>250.0</td>\n",
       "      <td>21, Đường Đỗ Nhuận, Phường Hòa Minh, Quận Liên...</td>\n",
       "      <td>32800000.0</td>\n",
       "      <td>Đã có sổ</td>\n",
       "      <td>Đất thổ cư</td>\n",
       "      <td>+ Bán đất số 21 Đỗ Nhuận, khu Trung Nghĩa, phư...</td>\n",
       "      <td>...</td>\n",
       "      <td>NaN</td>\n",
       "      <td>NaN</td>\n",
       "      <td>NaN</td>\n",
       "      <td>NaN</td>\n",
       "      <td>NaN</td>\n",
       "      <td>NaN</td>\n",
       "      <td>NaN</td>\n",
       "      <td>NaN</td>\n",
       "      <td>NaN</td>\n",
       "      <td>NaN</td>\n",
       "    </tr>\n",
       "    <tr>\n",
       "      <th>2</th>\n",
       "      <td>108055434</td>\n",
       "      <td>Mua bán</td>\n",
       "      <td>Bán nhà hẻm 3m5 Nguyễn Văn Linh, 140m2 đất, ng...</td>\n",
       "      <td>4.950000e+09</td>\n",
       "      <td>140.0</td>\n",
       "      <td>K82/H10/36, Nguyễn văn linh, Phường Nam Dương,...</td>\n",
       "      <td>35360000.0</td>\n",
       "      <td>Đã có sổ</td>\n",
       "      <td>NaN</td>\n",
       "      <td>Bán nhà kiệt 82 Nguyễn Văn Linh, hẻm 3m5, cách...</td>\n",
       "      <td>...</td>\n",
       "      <td>NaN</td>\n",
       "      <td>NaN</td>\n",
       "      <td>NaN</td>\n",
       "      <td>NaN</td>\n",
       "      <td>NaN</td>\n",
       "      <td>NaN</td>\n",
       "      <td>NaN</td>\n",
       "      <td>NaN</td>\n",
       "      <td>NaN</td>\n",
       "      <td>NaN</td>\n",
       "    </tr>\n",
       "    <tr>\n",
       "      <th>3</th>\n",
       "      <td>102942264</td>\n",
       "      <td>Mua bán</td>\n",
       "      <td>Bán đất hẻm 3m 59/31 Núi Thành, 162m2, 4.25 tỷ...</td>\n",
       "      <td>4.250000e+09</td>\n",
       "      <td>162.0</td>\n",
       "      <td>Kiệt 59 Núi Thành, Phường Bình Hiên, Quận Hải ...</td>\n",
       "      <td>26230000.0</td>\n",
       "      <td>NaN</td>\n",
       "      <td>Đất thổ cư</td>\n",
       "      <td>Bán đất hẻm 3m số 59/31 Núi Thành, cách đường ...</td>\n",
       "      <td>...</td>\n",
       "      <td>NaN</td>\n",
       "      <td>NaN</td>\n",
       "      <td>NaN</td>\n",
       "      <td>NaN</td>\n",
       "      <td>NaN</td>\n",
       "      <td>NaN</td>\n",
       "      <td>NaN</td>\n",
       "      <td>NaN</td>\n",
       "      <td>NaN</td>\n",
       "      <td>NaN</td>\n",
       "    </tr>\n",
       "    <tr>\n",
       "      <th>4</th>\n",
       "      <td>110181789</td>\n",
       "      <td>Mua bán</td>\n",
       "      <td>Nhà 2 tầng 2 mặt kiệt ngay biển Nguyễn Tất Thà...</td>\n",
       "      <td>2.950000e+09</td>\n",
       "      <td>62.0</td>\n",
       "      <td>K1/20, Tôn Thất Đạm, Phường Xuân Hà, Quận Than...</td>\n",
       "      <td>47580000.0</td>\n",
       "      <td>Đã có sổ</td>\n",
       "      <td>NaN</td>\n",
       "      <td>Tôi là chính chủ cần bán nhà tại địa chỉ K1/20...</td>\n",
       "      <td>...</td>\n",
       "      <td>NaN</td>\n",
       "      <td>NaN</td>\n",
       "      <td>NaN</td>\n",
       "      <td>NaN</td>\n",
       "      <td>NaN</td>\n",
       "      <td>NaN</td>\n",
       "      <td>NaN</td>\n",
       "      <td>NaN</td>\n",
       "      <td>NaN</td>\n",
       "      <td>NaN</td>\n",
       "    </tr>\n",
       "    <tr>\n",
       "      <th>...</th>\n",
       "      <td>...</td>\n",
       "      <td>...</td>\n",
       "      <td>...</td>\n",
       "      <td>...</td>\n",
       "      <td>...</td>\n",
       "      <td>...</td>\n",
       "      <td>...</td>\n",
       "      <td>...</td>\n",
       "      <td>...</td>\n",
       "      <td>...</td>\n",
       "      <td>...</td>\n",
       "      <td>...</td>\n",
       "      <td>...</td>\n",
       "      <td>...</td>\n",
       "      <td>...</td>\n",
       "      <td>...</td>\n",
       "      <td>...</td>\n",
       "      <td>...</td>\n",
       "      <td>...</td>\n",
       "      <td>...</td>\n",
       "      <td>...</td>\n",
       "    </tr>\n",
       "    <tr>\n",
       "      <th>17026</th>\n",
       "      <td>110711513</td>\n",
       "      <td>Cho thuê</td>\n",
       "      <td>3 MB SIÊU PHẨM sàn đẹp tại đường đắc địa bậc n...</td>\n",
       "      <td>4.500000e+07</td>\n",
       "      <td>432.0</td>\n",
       "      <td>Nguyễn Văn Linh, Phường Vĩnh Trung, Quận Thanh...</td>\n",
       "      <td>NaN</td>\n",
       "      <td>NaN</td>\n",
       "      <td>NaN</td>\n",
       "      <td>MB số 1\\nDiện tích: 405m2 - 4 tầng\\nBề ngang: ...</td>\n",
       "      <td>...</td>\n",
       "      <td>NaN</td>\n",
       "      <td>NaN</td>\n",
       "      <td>NaN</td>\n",
       "      <td>NaN</td>\n",
       "      <td>NaN</td>\n",
       "      <td>Mặt bằng kinh doanh</td>\n",
       "      <td>NaN</td>\n",
       "      <td>NaN</td>\n",
       "      <td>NaN</td>\n",
       "      <td>NaN</td>\n",
       "    </tr>\n",
       "    <tr>\n",
       "      <th>17027</th>\n",
       "      <td>110711497</td>\n",
       "      <td>Cho thuê</td>\n",
       "      <td>CĂN HỘ SANG TRỌNG GẦN CẦU THUẬN PHƯỚC - SƠN TRÀ</td>\n",
       "      <td>5.000000e+06</td>\n",
       "      <td>35.0</td>\n",
       "      <td>Trần Sâm, Phường Nại Hiên Đông, Quận Sơn Trà, ...</td>\n",
       "      <td>NaN</td>\n",
       "      <td>NaN</td>\n",
       "      <td>NaN</td>\n",
       "      <td>CĂN HỘ SANG TRỌNG GẦN CẦU THUẬN PHƯỚC - SƠN TR...</td>\n",
       "      <td>...</td>\n",
       "      <td>NaN</td>\n",
       "      <td>NaN</td>\n",
       "      <td>NaN</td>\n",
       "      <td>NaN</td>\n",
       "      <td>Căn hộ dịch vụ, mini</td>\n",
       "      <td>NaN</td>\n",
       "      <td>NaN</td>\n",
       "      <td>NaN</td>\n",
       "      <td>NaN</td>\n",
       "      <td>5000000.0</td>\n",
       "    </tr>\n",
       "    <tr>\n",
       "      <th>17028</th>\n",
       "      <td>110711465</td>\n",
       "      <td>Cho thuê</td>\n",
       "      <td>NHÀ 3.5 TẦNG MT ĐƯỜNG MAI AM - CÓ NỘI THẤT - H...</td>\n",
       "      <td>1.100000e+07</td>\n",
       "      <td>135.0</td>\n",
       "      <td>Mai Am, Phường Thuận Phước, Quận Hải Châu, Đà ...</td>\n",
       "      <td>NaN</td>\n",
       "      <td>NaN</td>\n",
       "      <td>NaN</td>\n",
       "      <td>🏫𝐂𝐡𝐨 𝐓𝐡𝐮𝐞̂ 𝐍𝐡𝐚̀ 𝟑,𝟓 𝐓𝐚̂̀𝐧𝐠 𝐌𝐚̣̆𝐭 𝐓𝐢𝐞̂̀𝐧 𝐌𝐚𝐢 𝐀𝐦...</td>\n",
       "      <td>...</td>\n",
       "      <td>NaN</td>\n",
       "      <td>NaN</td>\n",
       "      <td>NaN</td>\n",
       "      <td>NaN</td>\n",
       "      <td>NaN</td>\n",
       "      <td>NaN</td>\n",
       "      <td>NaN</td>\n",
       "      <td>NaN</td>\n",
       "      <td>NaN</td>\n",
       "      <td>NaN</td>\n",
       "    </tr>\n",
       "    <tr>\n",
       "      <th>17029</th>\n",
       "      <td>110711449</td>\n",
       "      <td>Cho thuê</td>\n",
       "      <td>📍 CHO THUÊ NHÀ 2 MẶT TIỀN HOÀNG DIỆU NGANG 6,5M</td>\n",
       "      <td>2.000000e+07</td>\n",
       "      <td>200.0</td>\n",
       "      <td>Hoàng Diệu, Phường Bình Thuận, Quận Hải Châu, ...</td>\n",
       "      <td>NaN</td>\n",
       "      <td>NaN</td>\n",
       "      <td>NaN</td>\n",
       "      <td>📍 CHO THUÊ NHÀ 2 MẶT TIỀN HOÀNG DIỆU NGANG 6,5...</td>\n",
       "      <td>...</td>\n",
       "      <td>NaN</td>\n",
       "      <td>NaN</td>\n",
       "      <td>NaN</td>\n",
       "      <td>NaN</td>\n",
       "      <td>NaN</td>\n",
       "      <td>Mặt bằng kinh doanh</td>\n",
       "      <td>NaN</td>\n",
       "      <td>NaN</td>\n",
       "      <td>NaN</td>\n",
       "      <td>NaN</td>\n",
       "    </tr>\n",
       "    <tr>\n",
       "      <th>17030</th>\n",
       "      <td>110711234</td>\n",
       "      <td>Cho thuê</td>\n",
       "      <td>CHO THUÊ NHÀ NGUYÊN CĂN ,ĐỐI DIỆN CỔNG CHỢ CẨM LỆ</td>\n",
       "      <td>1.350000e+07</td>\n",
       "      <td>100.0</td>\n",
       "      <td>50, ĐẶNG VĂN NGỮ, Phường Khuê Trung, Quận Cẩm ...</td>\n",
       "      <td>NaN</td>\n",
       "      <td>Đã có sổ</td>\n",
       "      <td>NaN</td>\n",
       "      <td>CHO THUÊ NHÀ NGUYÊN CĂN MẶT TIỀN CỔNG CHỢ CẨM ...</td>\n",
       "      <td>...</td>\n",
       "      <td>NaN</td>\n",
       "      <td>NaN</td>\n",
       "      <td>NaN</td>\n",
       "      <td>NaN</td>\n",
       "      <td>NaN</td>\n",
       "      <td>NaN</td>\n",
       "      <td>NaN</td>\n",
       "      <td>NaN</td>\n",
       "      <td>NaN</td>\n",
       "      <td>13500000.0</td>\n",
       "    </tr>\n",
       "  </tbody>\n",
       "</table>\n",
       "<p>17031 rows × 34 columns</p>\n",
       "</div>"
      ],
      "text/plain": [
       "         post_id  Loại tin                                            Tiêu đề  \\\n",
       "0      110154174   Mua bán  Bán 4ha đất vườn sổ đỏ có sẳn trang trại nhà v...   \n",
       "1      102957944   Mua bán  Bán đất 21 Đỗ Nhuận, dt: 250m2, ngang 8m, nở h...   \n",
       "2      108055434   Mua bán  Bán nhà hẻm 3m5 Nguyễn Văn Linh, 140m2 đất, ng...   \n",
       "3      102942264   Mua bán  Bán đất hẻm 3m 59/31 Núi Thành, 162m2, 4.25 tỷ...   \n",
       "4      110181789   Mua bán  Nhà 2 tầng 2 mặt kiệt ngay biển Nguyễn Tất Thà...   \n",
       "...          ...       ...                                                ...   \n",
       "17026  110711513  Cho thuê  3 MB SIÊU PHẨM sàn đẹp tại đường đắc địa bậc n...   \n",
       "17027  110711497  Cho thuê    CĂN HỘ SANG TRỌNG GẦN CẦU THUẬN PHƯỚC - SƠN TRÀ   \n",
       "17028  110711465  Cho thuê  NHÀ 3.5 TẦNG MT ĐƯỜNG MAI AM - CÓ NỘI THẤT - H...   \n",
       "17029  110711449  Cho thuê    📍 CHO THUÊ NHÀ 2 MẶT TIỀN HOÀNG DIỆU NGANG 6,5M   \n",
       "17030  110711234  Cho thuê  CHO THUÊ NHÀ NGUYÊN CĂN ,ĐỐI DIỆN CỔNG CHỢ CẨM LỆ   \n",
       "\n",
       "                Giá  Diện tích  \\\n",
       "0      9.500000e+09    40000.0   \n",
       "1      8.200000e+09      250.0   \n",
       "2      4.950000e+09      140.0   \n",
       "3      4.250000e+09      162.0   \n",
       "4      2.950000e+09       62.0   \n",
       "...             ...        ...   \n",
       "17026  4.500000e+07      432.0   \n",
       "17027  5.000000e+06       35.0   \n",
       "17028  1.100000e+07      135.0   \n",
       "17029  2.000000e+07      200.0   \n",
       "17030  1.350000e+07      100.0   \n",
       "\n",
       "                                                 Địa chỉ      Giá/m2  \\\n",
       "0           DT 602, Xã Hòa Ninh, Huyện Hòa Vang, Đà Nẵng    237500.0   \n",
       "1      21, Đường Đỗ Nhuận, Phường Hòa Minh, Quận Liên...  32800000.0   \n",
       "2      K82/H10/36, Nguyễn văn linh, Phường Nam Dương,...  35360000.0   \n",
       "3      Kiệt 59 Núi Thành, Phường Bình Hiên, Quận Hải ...  26230000.0   \n",
       "4      K1/20, Tôn Thất Đạm, Phường Xuân Hà, Quận Than...  47580000.0   \n",
       "...                                                  ...         ...   \n",
       "17026  Nguyễn Văn Linh, Phường Vĩnh Trung, Quận Thanh...         NaN   \n",
       "17027  Trần Sâm, Phường Nại Hiên Đông, Quận Sơn Trà, ...         NaN   \n",
       "17028  Mai Am, Phường Thuận Phước, Quận Hải Châu, Đà ...         NaN   \n",
       "17029  Hoàng Diệu, Phường Bình Thuận, Quận Hải Châu, ...         NaN   \n",
       "17030  50, ĐẶNG VĂN NGỮ, Phường Khuê Trung, Quận Cẩm ...         NaN   \n",
       "\n",
       "        Pháp lý    Loại hình đất  \\\n",
       "0      Đã có sổ  Đất nông nghiệp   \n",
       "1      Đã có sổ       Đất thổ cư   \n",
       "2      Đã có sổ              NaN   \n",
       "3           NaN       Đất thổ cư   \n",
       "4      Đã có sổ              NaN   \n",
       "...         ...              ...   \n",
       "17026       NaN              NaN   \n",
       "17027       NaN              NaN   \n",
       "17028       NaN              NaN   \n",
       "17029       NaN              NaN   \n",
       "17030  Đã có sổ              NaN   \n",
       "\n",
       "                                                   Mô tả  ...  \\\n",
       "0      💥💥💥Đất rộng lại giá tốt 40.000m có sẵn vườn câ...  ...   \n",
       "1      + Bán đất số 21 Đỗ Nhuận, khu Trung Nghĩa, phư...  ...   \n",
       "2      Bán nhà kiệt 82 Nguyễn Văn Linh, hẻm 3m5, cách...  ...   \n",
       "3      Bán đất hẻm 3m số 59/31 Núi Thành, cách đường ...  ...   \n",
       "4      Tôi là chính chủ cần bán nhà tại địa chỉ K1/20...  ...   \n",
       "...                                                  ...  ...   \n",
       "17026  MB số 1\\nDiện tích: 405m2 - 4 tầng\\nBề ngang: ...  ...   \n",
       "17027  CĂN HỘ SANG TRỌNG GẦN CẦU THUẬN PHƯỚC - SƠN TR...  ...   \n",
       "17028  🏫𝐂𝐡𝐨 𝐓𝐡𝐮𝐞̂ 𝐍𝐡𝐚̀ 𝟑,𝟓 𝐓𝐚̂̀𝐧𝐠 𝐌𝐚̣̆𝐭 𝐓𝐢𝐞̂̀𝐧 𝐌𝐚𝐢 𝐀𝐦...  ...   \n",
       "17029  📍 CHO THUÊ NHÀ 2 MẶT TIỀN HOÀNG DIỆU NGANG 6,5...  ...   \n",
       "17030  CHO THUÊ NHÀ NGUYÊN CĂN MẶT TIỀN CỔNG CHỢ CẨM ...  ...   \n",
       "\n",
       "      Tên phân khu/Lô/Block/Tháp Tình trạng bất động sản Tầng số  \\\n",
       "0                            NaN                     NaN     NaN   \n",
       "1                            NaN                     NaN     NaN   \n",
       "2                            NaN                     NaN     NaN   \n",
       "3                            NaN                     NaN     NaN   \n",
       "4                            NaN                     NaN     NaN   \n",
       "...                          ...                     ...     ...   \n",
       "17026                        NaN                     NaN     NaN   \n",
       "17027                        NaN                     NaN     NaN   \n",
       "17028                        NaN                     NaN     NaN   \n",
       "17029                        NaN                     NaN     NaN   \n",
       "17030                        NaN                     NaN     NaN   \n",
       "\n",
       "      Hướng ban công      Loại hình căn hộ  Loại hình văn phòng  Mã căn  \\\n",
       "0                NaN                   NaN                  NaN     NaN   \n",
       "1                NaN                   NaN                  NaN     NaN   \n",
       "2                NaN                   NaN                  NaN     NaN   \n",
       "3                NaN                   NaN                  NaN     NaN   \n",
       "4                NaN                   NaN                  NaN     NaN   \n",
       "...              ...                   ...                  ...     ...   \n",
       "17026            NaN                   NaN  Mặt bằng kinh doanh     NaN   \n",
       "17027            NaN  Căn hộ dịch vụ, mini                  NaN     NaN   \n",
       "17028            NaN                   NaN                  NaN     NaN   \n",
       "17029            NaN                   NaN  Mặt bằng kinh doanh     NaN   \n",
       "17030            NaN                   NaN                  NaN     NaN   \n",
       "\n",
       "      Đặc điểm căn hộ Mã lô Số tiền cọc  \n",
       "0                 NaN   NaN         NaN  \n",
       "1                 NaN   NaN         NaN  \n",
       "2                 NaN   NaN         NaN  \n",
       "3                 NaN   NaN         NaN  \n",
       "4                 NaN   NaN         NaN  \n",
       "...               ...   ...         ...  \n",
       "17026             NaN   NaN         NaN  \n",
       "17027             NaN   NaN   5000000.0  \n",
       "17028             NaN   NaN         NaN  \n",
       "17029             NaN   NaN         NaN  \n",
       "17030             NaN   NaN  13500000.0  \n",
       "\n",
       "[17031 rows x 34 columns]"
      ]
     },
     "execution_count": 139,
     "metadata": {},
     "output_type": "execute_result"
    }
   ],
   "source": [
    "df"
   ]
  },
  {
   "cell_type": "code",
   "execution_count": 140,
   "id": "7d30b80e",
   "metadata": {},
   "outputs": [],
   "source": [
    "df.to_excel('nt.xlsx')\n",
    "df.to_csv('nt.csv')"
   ]
  },
  {
   "cell_type": "code",
   "execution_count": null,
   "id": "f73d980f",
   "metadata": {},
   "outputs": [],
   "source": []
  }
 ],
 "metadata": {
  "kernelspec": {
   "display_name": "Python 3",
   "language": "python",
   "name": "python3"
  },
  "language_info": {
   "codemirror_mode": {
    "name": "ipython",
    "version": 3
   },
   "file_extension": ".py",
   "mimetype": "text/x-python",
   "name": "python",
   "nbconvert_exporter": "python",
   "pygments_lexer": "ipython3",
   "version": "3.8.2"
  }
 },
 "nbformat": 4,
 "nbformat_minor": 5
}
